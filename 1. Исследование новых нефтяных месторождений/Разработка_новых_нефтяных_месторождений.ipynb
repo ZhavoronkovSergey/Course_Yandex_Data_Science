{
  "nbformat": 4,
  "nbformat_minor": 0,
  "metadata": {
    "colab": {
      "name": "Разработка новых нефтяных месторождений.ipynb",
      "provenance": [],
      "toc_visible": true
    },
    "kernelspec": {
      "name": "python3",
      "display_name": "Python 3"
    }
  },
  "cells": [
    {
      "cell_type": "markdown",
      "metadata": {
        "id": "AhHdAgkcpTly"
      },
      "source": [
        "# Описание проекта\r\n",
        "\r\n",
        "Допустим, вы работаете в добывающей компании «ГлавРосГосНефть». Нужно решить, где бурить новую скважину.\r\n",
        "\r\n",
        "Вам предоставлены пробы нефти в трёх регионах: в каждом 10 000 месторождений, где измерили качество нефти и объём её запасов. Постройте модель машинного обучения, которая поможет определить регион, где добыча принесёт наибольшую прибыль. Проанализируйте возможную прибыль и риски техникой Bootstrap.\r\n",
        "\r\n",
        "*Шаги для выбора локации:*\r\n",
        "\r\n",
        "* В избранном регионе ищут месторождения, для каждого определяют значения признаков;\r\n",
        "* Строят модель и оценивают объём запасов;\r\n",
        "* Выбирают месторождения с самым высокими оценками значений. Количество месторождений зависит от бюджета компании и стоимости разработки одной скважины;\r\n",
        "* Прибыль равна суммарной прибыли отобранных месторождений.\r\n",
        "\r\n",
        "*Условия задачи:*\r\n",
        "\r\n",
        "* Для обучения модели подходит только линейная регрессия (остальные — недостаточно предсказуемые).\r\n",
        "* При разведке региона исследуют 500 точек, из которых выбирают 200 лучших для расчёта прибыли.\r\n",
        "* Бюджет на разработку скважин в регионе — 10 млрд рублей, стоимость бурения одной скважины — 50 млн рублей\r\n",
        "* Один баррель сырья приносит 450 рублей дохода. Доход с каждой единицы продукта составляет 450 тыс. рублей, поскольку объём указан в тысячах баррелей.\r\n",
        "* После оценки рисков нужно оставить лишь те регионы, в которых вероятность убытков меньше 2.5%. Среди них выбирают регион с наибольшей средней прибылью.\r\n",
        "\r\n",
        "Данные синтетические: детали контрактов и характеристики месторождений не разглашаются."
      ]
    },
    {
      "cell_type": "markdown",
      "metadata": {
        "id": "_C7D05JDp3Nu"
      },
      "source": [
        "# 1. Загрузка и подготовка данных"
      ]
    },
    {
      "cell_type": "code",
      "metadata": {
        "id": "cd3_2c2YjX8u"
      },
      "source": [
        "import pandas as pd\r\n",
        "import matplotlib as plt\r\n",
        "import numpy as np\r\n",
        "import seaborn as sns\r\n",
        "from sklearn.model_selection import train_test_split\r\n",
        "from sklearn.linear_model import LinearRegression\r\n",
        "from sklearn.metrics import mean_squared_error\r\n",
        "from sklearn.metrics import mean_absolute_error\r\n",
        "from numpy.random import RandomState\r\n",
        "from scipy import stats as st\r\n",
        "import warnings\r\n",
        "state = RandomState(12345)\r\n",
        "warnings.filterwarnings('ignore')\r\n",
        "pd.set_option('display.max_columns', 500)\r\n",
        "pd.options.mode.chained_assignment = None"
      ],
      "execution_count": 64,
      "outputs": []
    },
    {
      "cell_type": "code",
      "metadata": {
        "id": "9quTDBr8pU6C"
      },
      "source": [
        "geo_0 = pd.read_csv('geo_data_0.csv')\r\n",
        "geo_1 = pd.read_csv('geo_data_1.csv')\r\n",
        "geo_2 = pd.read_csv('geo_data_2.csv')"
      ],
      "execution_count": 65,
      "outputs": []
    },
    {
      "cell_type": "code",
      "metadata": {
        "id": "gmPEzzZJpU2h"
      },
      "source": [
        "def df_info(df):\r\n",
        "  print(df.info())\r\n",
        "  display(df.head())\r\n",
        "  display(df.describe())\r\n",
        "  print(\"Уникальные значения:\")\r\n",
        "  print(df.nunique())\r\n",
        "  print('\\nПропущенные значения:')\r\n",
        "  print(df.isna().sum())\r\n",
        "  print('Дубликаты', df.duplicated().sum())"
      ],
      "execution_count": 66,
      "outputs": []
    },
    {
      "cell_type": "code",
      "metadata": {
        "colab": {
          "base_uri": "https://localhost:8080/",
          "height": 1000
        },
        "id": "5oHPFqispUvZ",
        "outputId": "4f3cd27d-5d3e-46b3-ea85-5f4017919ced"
      },
      "source": [
        "df_info(geo_0)"
      ],
      "execution_count": 67,
      "outputs": [
        {
          "output_type": "stream",
          "text": [
            "<class 'pandas.core.frame.DataFrame'>\n",
            "RangeIndex: 100000 entries, 0 to 99999\n",
            "Data columns (total 6 columns):\n",
            " #   Column      Non-Null Count   Dtype  \n",
            "---  ------      --------------   -----  \n",
            " 0   Unnamed: 0  100000 non-null  int64  \n",
            " 1   id          100000 non-null  object \n",
            " 2   f0          100000 non-null  float64\n",
            " 3   f1          100000 non-null  float64\n",
            " 4   f2          100000 non-null  float64\n",
            " 5   product     100000 non-null  float64\n",
            "dtypes: float64(4), int64(1), object(1)\n",
            "memory usage: 4.6+ MB\n",
            "None\n"
          ],
          "name": "stdout"
        },
        {
          "output_type": "display_data",
          "data": {
            "text/html": [
              "<div>\n",
              "<style scoped>\n",
              "    .dataframe tbody tr th:only-of-type {\n",
              "        vertical-align: middle;\n",
              "    }\n",
              "\n",
              "    .dataframe tbody tr th {\n",
              "        vertical-align: top;\n",
              "    }\n",
              "\n",
              "    .dataframe thead th {\n",
              "        text-align: right;\n",
              "    }\n",
              "</style>\n",
              "<table border=\"1\" class=\"dataframe\">\n",
              "  <thead>\n",
              "    <tr style=\"text-align: right;\">\n",
              "      <th></th>\n",
              "      <th>Unnamed: 0</th>\n",
              "      <th>id</th>\n",
              "      <th>f0</th>\n",
              "      <th>f1</th>\n",
              "      <th>f2</th>\n",
              "      <th>product</th>\n",
              "    </tr>\n",
              "  </thead>\n",
              "  <tbody>\n",
              "    <tr>\n",
              "      <th>0</th>\n",
              "      <td>0</td>\n",
              "      <td>txEyH</td>\n",
              "      <td>0.705745</td>\n",
              "      <td>-0.497823</td>\n",
              "      <td>1.221170</td>\n",
              "      <td>105.280062</td>\n",
              "    </tr>\n",
              "    <tr>\n",
              "      <th>1</th>\n",
              "      <td>1</td>\n",
              "      <td>2acmU</td>\n",
              "      <td>1.334711</td>\n",
              "      <td>-0.340164</td>\n",
              "      <td>4.365080</td>\n",
              "      <td>73.037750</td>\n",
              "    </tr>\n",
              "    <tr>\n",
              "      <th>2</th>\n",
              "      <td>2</td>\n",
              "      <td>409Wp</td>\n",
              "      <td>1.022732</td>\n",
              "      <td>0.151990</td>\n",
              "      <td>1.419926</td>\n",
              "      <td>85.265647</td>\n",
              "    </tr>\n",
              "    <tr>\n",
              "      <th>3</th>\n",
              "      <td>3</td>\n",
              "      <td>iJLyR</td>\n",
              "      <td>-0.032172</td>\n",
              "      <td>0.139033</td>\n",
              "      <td>2.978566</td>\n",
              "      <td>168.620776</td>\n",
              "    </tr>\n",
              "    <tr>\n",
              "      <th>4</th>\n",
              "      <td>4</td>\n",
              "      <td>Xdl7t</td>\n",
              "      <td>1.988431</td>\n",
              "      <td>0.155413</td>\n",
              "      <td>4.751769</td>\n",
              "      <td>154.036647</td>\n",
              "    </tr>\n",
              "  </tbody>\n",
              "</table>\n",
              "</div>"
            ],
            "text/plain": [
              "   Unnamed: 0     id        f0        f1        f2     product\n",
              "0           0  txEyH  0.705745 -0.497823  1.221170  105.280062\n",
              "1           1  2acmU  1.334711 -0.340164  4.365080   73.037750\n",
              "2           2  409Wp  1.022732  0.151990  1.419926   85.265647\n",
              "3           3  iJLyR -0.032172  0.139033  2.978566  168.620776\n",
              "4           4  Xdl7t  1.988431  0.155413  4.751769  154.036647"
            ]
          },
          "metadata": {
            "tags": []
          }
        },
        {
          "output_type": "display_data",
          "data": {
            "text/html": [
              "<div>\n",
              "<style scoped>\n",
              "    .dataframe tbody tr th:only-of-type {\n",
              "        vertical-align: middle;\n",
              "    }\n",
              "\n",
              "    .dataframe tbody tr th {\n",
              "        vertical-align: top;\n",
              "    }\n",
              "\n",
              "    .dataframe thead th {\n",
              "        text-align: right;\n",
              "    }\n",
              "</style>\n",
              "<table border=\"1\" class=\"dataframe\">\n",
              "  <thead>\n",
              "    <tr style=\"text-align: right;\">\n",
              "      <th></th>\n",
              "      <th>Unnamed: 0</th>\n",
              "      <th>f0</th>\n",
              "      <th>f1</th>\n",
              "      <th>f2</th>\n",
              "      <th>product</th>\n",
              "    </tr>\n",
              "  </thead>\n",
              "  <tbody>\n",
              "    <tr>\n",
              "      <th>count</th>\n",
              "      <td>100000.000000</td>\n",
              "      <td>100000.000000</td>\n",
              "      <td>100000.000000</td>\n",
              "      <td>100000.000000</td>\n",
              "      <td>100000.000000</td>\n",
              "    </tr>\n",
              "    <tr>\n",
              "      <th>mean</th>\n",
              "      <td>49999.500000</td>\n",
              "      <td>0.500419</td>\n",
              "      <td>0.250143</td>\n",
              "      <td>2.502647</td>\n",
              "      <td>92.500000</td>\n",
              "    </tr>\n",
              "    <tr>\n",
              "      <th>std</th>\n",
              "      <td>28867.657797</td>\n",
              "      <td>0.871832</td>\n",
              "      <td>0.504433</td>\n",
              "      <td>3.248248</td>\n",
              "      <td>44.288691</td>\n",
              "    </tr>\n",
              "    <tr>\n",
              "      <th>min</th>\n",
              "      <td>0.000000</td>\n",
              "      <td>-1.408605</td>\n",
              "      <td>-0.848218</td>\n",
              "      <td>-12.088328</td>\n",
              "      <td>0.000000</td>\n",
              "    </tr>\n",
              "    <tr>\n",
              "      <th>25%</th>\n",
              "      <td>24999.750000</td>\n",
              "      <td>-0.072580</td>\n",
              "      <td>-0.200881</td>\n",
              "      <td>0.287748</td>\n",
              "      <td>56.497507</td>\n",
              "    </tr>\n",
              "    <tr>\n",
              "      <th>50%</th>\n",
              "      <td>49999.500000</td>\n",
              "      <td>0.502360</td>\n",
              "      <td>0.250252</td>\n",
              "      <td>2.515969</td>\n",
              "      <td>91.849972</td>\n",
              "    </tr>\n",
              "    <tr>\n",
              "      <th>75%</th>\n",
              "      <td>74999.250000</td>\n",
              "      <td>1.073581</td>\n",
              "      <td>0.700646</td>\n",
              "      <td>4.715088</td>\n",
              "      <td>128.564089</td>\n",
              "    </tr>\n",
              "    <tr>\n",
              "      <th>max</th>\n",
              "      <td>99999.000000</td>\n",
              "      <td>2.362331</td>\n",
              "      <td>1.343769</td>\n",
              "      <td>16.003790</td>\n",
              "      <td>185.364347</td>\n",
              "    </tr>\n",
              "  </tbody>\n",
              "</table>\n",
              "</div>"
            ],
            "text/plain": [
              "          Unnamed: 0             f0             f1             f2  \\\n",
              "count  100000.000000  100000.000000  100000.000000  100000.000000   \n",
              "mean    49999.500000       0.500419       0.250143       2.502647   \n",
              "std     28867.657797       0.871832       0.504433       3.248248   \n",
              "min         0.000000      -1.408605      -0.848218     -12.088328   \n",
              "25%     24999.750000      -0.072580      -0.200881       0.287748   \n",
              "50%     49999.500000       0.502360       0.250252       2.515969   \n",
              "75%     74999.250000       1.073581       0.700646       4.715088   \n",
              "max     99999.000000       2.362331       1.343769      16.003790   \n",
              "\n",
              "             product  \n",
              "count  100000.000000  \n",
              "mean       92.500000  \n",
              "std        44.288691  \n",
              "min         0.000000  \n",
              "25%        56.497507  \n",
              "50%        91.849972  \n",
              "75%       128.564089  \n",
              "max       185.364347  "
            ]
          },
          "metadata": {
            "tags": []
          }
        },
        {
          "output_type": "stream",
          "text": [
            "Уникальные значения:\n",
            "Unnamed: 0    100000\n",
            "id             99990\n",
            "f0            100000\n",
            "f1            100000\n",
            "f2            100000\n",
            "product       100000\n",
            "dtype: int64\n",
            "\n",
            "Пропущенные значения:\n",
            "Unnamed: 0    0\n",
            "id            0\n",
            "f0            0\n",
            "f1            0\n",
            "f2            0\n",
            "product       0\n",
            "dtype: int64\n",
            "Дубликаты 0\n"
          ],
          "name": "stdout"
        }
      ]
    },
    {
      "cell_type": "code",
      "metadata": {
        "colab": {
          "base_uri": "https://localhost:8080/",
          "height": 1000
        },
        "id": "81KZuZ3ZpUsK",
        "outputId": "f2e339e0-ac78-457a-a302-db80d006524a"
      },
      "source": [
        "df_info(geo_1)"
      ],
      "execution_count": 68,
      "outputs": [
        {
          "output_type": "stream",
          "text": [
            "<class 'pandas.core.frame.DataFrame'>\n",
            "RangeIndex: 100000 entries, 0 to 99999\n",
            "Data columns (total 6 columns):\n",
            " #   Column      Non-Null Count   Dtype  \n",
            "---  ------      --------------   -----  \n",
            " 0   Unnamed: 0  100000 non-null  int64  \n",
            " 1   id          100000 non-null  object \n",
            " 2   f0          100000 non-null  float64\n",
            " 3   f1          100000 non-null  float64\n",
            " 4   f2          100000 non-null  float64\n",
            " 5   product     100000 non-null  float64\n",
            "dtypes: float64(4), int64(1), object(1)\n",
            "memory usage: 4.6+ MB\n",
            "None\n"
          ],
          "name": "stdout"
        },
        {
          "output_type": "display_data",
          "data": {
            "text/html": [
              "<div>\n",
              "<style scoped>\n",
              "    .dataframe tbody tr th:only-of-type {\n",
              "        vertical-align: middle;\n",
              "    }\n",
              "\n",
              "    .dataframe tbody tr th {\n",
              "        vertical-align: top;\n",
              "    }\n",
              "\n",
              "    .dataframe thead th {\n",
              "        text-align: right;\n",
              "    }\n",
              "</style>\n",
              "<table border=\"1\" class=\"dataframe\">\n",
              "  <thead>\n",
              "    <tr style=\"text-align: right;\">\n",
              "      <th></th>\n",
              "      <th>Unnamed: 0</th>\n",
              "      <th>id</th>\n",
              "      <th>f0</th>\n",
              "      <th>f1</th>\n",
              "      <th>f2</th>\n",
              "      <th>product</th>\n",
              "    </tr>\n",
              "  </thead>\n",
              "  <tbody>\n",
              "    <tr>\n",
              "      <th>0</th>\n",
              "      <td>0</td>\n",
              "      <td>kBEdx</td>\n",
              "      <td>-15.001348</td>\n",
              "      <td>-8.276000</td>\n",
              "      <td>-0.005876</td>\n",
              "      <td>3.179103</td>\n",
              "    </tr>\n",
              "    <tr>\n",
              "      <th>1</th>\n",
              "      <td>1</td>\n",
              "      <td>62mP7</td>\n",
              "      <td>14.272088</td>\n",
              "      <td>-3.475083</td>\n",
              "      <td>0.999183</td>\n",
              "      <td>26.953261</td>\n",
              "    </tr>\n",
              "    <tr>\n",
              "      <th>2</th>\n",
              "      <td>2</td>\n",
              "      <td>vyE1P</td>\n",
              "      <td>6.263187</td>\n",
              "      <td>-5.948386</td>\n",
              "      <td>5.001160</td>\n",
              "      <td>134.766305</td>\n",
              "    </tr>\n",
              "    <tr>\n",
              "      <th>3</th>\n",
              "      <td>3</td>\n",
              "      <td>KcrkZ</td>\n",
              "      <td>-13.081196</td>\n",
              "      <td>-11.506057</td>\n",
              "      <td>4.999415</td>\n",
              "      <td>137.945408</td>\n",
              "    </tr>\n",
              "    <tr>\n",
              "      <th>4</th>\n",
              "      <td>4</td>\n",
              "      <td>AHL4O</td>\n",
              "      <td>12.702195</td>\n",
              "      <td>-8.147433</td>\n",
              "      <td>5.004363</td>\n",
              "      <td>134.766305</td>\n",
              "    </tr>\n",
              "  </tbody>\n",
              "</table>\n",
              "</div>"
            ],
            "text/plain": [
              "   Unnamed: 0     id         f0         f1        f2     product\n",
              "0           0  kBEdx -15.001348  -8.276000 -0.005876    3.179103\n",
              "1           1  62mP7  14.272088  -3.475083  0.999183   26.953261\n",
              "2           2  vyE1P   6.263187  -5.948386  5.001160  134.766305\n",
              "3           3  KcrkZ -13.081196 -11.506057  4.999415  137.945408\n",
              "4           4  AHL4O  12.702195  -8.147433  5.004363  134.766305"
            ]
          },
          "metadata": {
            "tags": []
          }
        },
        {
          "output_type": "display_data",
          "data": {
            "text/html": [
              "<div>\n",
              "<style scoped>\n",
              "    .dataframe tbody tr th:only-of-type {\n",
              "        vertical-align: middle;\n",
              "    }\n",
              "\n",
              "    .dataframe tbody tr th {\n",
              "        vertical-align: top;\n",
              "    }\n",
              "\n",
              "    .dataframe thead th {\n",
              "        text-align: right;\n",
              "    }\n",
              "</style>\n",
              "<table border=\"1\" class=\"dataframe\">\n",
              "  <thead>\n",
              "    <tr style=\"text-align: right;\">\n",
              "      <th></th>\n",
              "      <th>Unnamed: 0</th>\n",
              "      <th>f0</th>\n",
              "      <th>f1</th>\n",
              "      <th>f2</th>\n",
              "      <th>product</th>\n",
              "    </tr>\n",
              "  </thead>\n",
              "  <tbody>\n",
              "    <tr>\n",
              "      <th>count</th>\n",
              "      <td>100000.000000</td>\n",
              "      <td>100000.000000</td>\n",
              "      <td>100000.000000</td>\n",
              "      <td>100000.000000</td>\n",
              "      <td>100000.000000</td>\n",
              "    </tr>\n",
              "    <tr>\n",
              "      <th>mean</th>\n",
              "      <td>49999.500000</td>\n",
              "      <td>1.141296</td>\n",
              "      <td>-4.796579</td>\n",
              "      <td>2.494541</td>\n",
              "      <td>68.825000</td>\n",
              "    </tr>\n",
              "    <tr>\n",
              "      <th>std</th>\n",
              "      <td>28867.657797</td>\n",
              "      <td>8.965932</td>\n",
              "      <td>5.119872</td>\n",
              "      <td>1.703572</td>\n",
              "      <td>45.944423</td>\n",
              "    </tr>\n",
              "    <tr>\n",
              "      <th>min</th>\n",
              "      <td>0.000000</td>\n",
              "      <td>-31.609576</td>\n",
              "      <td>-26.358598</td>\n",
              "      <td>-0.018144</td>\n",
              "      <td>0.000000</td>\n",
              "    </tr>\n",
              "    <tr>\n",
              "      <th>25%</th>\n",
              "      <td>24999.750000</td>\n",
              "      <td>-6.298551</td>\n",
              "      <td>-8.267985</td>\n",
              "      <td>1.000021</td>\n",
              "      <td>26.953261</td>\n",
              "    </tr>\n",
              "    <tr>\n",
              "      <th>50%</th>\n",
              "      <td>49999.500000</td>\n",
              "      <td>1.153055</td>\n",
              "      <td>-4.813172</td>\n",
              "      <td>2.011479</td>\n",
              "      <td>57.085625</td>\n",
              "    </tr>\n",
              "    <tr>\n",
              "      <th>75%</th>\n",
              "      <td>74999.250000</td>\n",
              "      <td>8.621015</td>\n",
              "      <td>-1.332816</td>\n",
              "      <td>3.999904</td>\n",
              "      <td>107.813044</td>\n",
              "    </tr>\n",
              "    <tr>\n",
              "      <th>max</th>\n",
              "      <td>99999.000000</td>\n",
              "      <td>29.421755</td>\n",
              "      <td>18.734063</td>\n",
              "      <td>5.019721</td>\n",
              "      <td>137.945408</td>\n",
              "    </tr>\n",
              "  </tbody>\n",
              "</table>\n",
              "</div>"
            ],
            "text/plain": [
              "          Unnamed: 0             f0             f1             f2  \\\n",
              "count  100000.000000  100000.000000  100000.000000  100000.000000   \n",
              "mean    49999.500000       1.141296      -4.796579       2.494541   \n",
              "std     28867.657797       8.965932       5.119872       1.703572   \n",
              "min         0.000000     -31.609576     -26.358598      -0.018144   \n",
              "25%     24999.750000      -6.298551      -8.267985       1.000021   \n",
              "50%     49999.500000       1.153055      -4.813172       2.011479   \n",
              "75%     74999.250000       8.621015      -1.332816       3.999904   \n",
              "max     99999.000000      29.421755      18.734063       5.019721   \n",
              "\n",
              "             product  \n",
              "count  100000.000000  \n",
              "mean       68.825000  \n",
              "std        45.944423  \n",
              "min         0.000000  \n",
              "25%        26.953261  \n",
              "50%        57.085625  \n",
              "75%       107.813044  \n",
              "max       137.945408  "
            ]
          },
          "metadata": {
            "tags": []
          }
        },
        {
          "output_type": "stream",
          "text": [
            "Уникальные значения:\n",
            "Unnamed: 0    100000\n",
            "id             99996\n",
            "f0            100000\n",
            "f1            100000\n",
            "f2            100000\n",
            "product           12\n",
            "dtype: int64\n",
            "\n",
            "Пропущенные значения:\n",
            "Unnamed: 0    0\n",
            "id            0\n",
            "f0            0\n",
            "f1            0\n",
            "f2            0\n",
            "product       0\n",
            "dtype: int64\n",
            "Дубликаты 0\n"
          ],
          "name": "stdout"
        }
      ]
    },
    {
      "cell_type": "code",
      "metadata": {
        "colab": {
          "base_uri": "https://localhost:8080/",
          "height": 1000
        },
        "id": "3eXlctrwpUpD",
        "outputId": "1f21f99e-f2a2-41dd-973e-e4e79a79649a"
      },
      "source": [
        "df_info(geo_2)"
      ],
      "execution_count": 69,
      "outputs": [
        {
          "output_type": "stream",
          "text": [
            "<class 'pandas.core.frame.DataFrame'>\n",
            "RangeIndex: 100000 entries, 0 to 99999\n",
            "Data columns (total 6 columns):\n",
            " #   Column      Non-Null Count   Dtype  \n",
            "---  ------      --------------   -----  \n",
            " 0   Unnamed: 0  100000 non-null  int64  \n",
            " 1   id          100000 non-null  object \n",
            " 2   f0          100000 non-null  float64\n",
            " 3   f1          100000 non-null  float64\n",
            " 4   f2          100000 non-null  float64\n",
            " 5   product     100000 non-null  float64\n",
            "dtypes: float64(4), int64(1), object(1)\n",
            "memory usage: 4.6+ MB\n",
            "None\n"
          ],
          "name": "stdout"
        },
        {
          "output_type": "display_data",
          "data": {
            "text/html": [
              "<div>\n",
              "<style scoped>\n",
              "    .dataframe tbody tr th:only-of-type {\n",
              "        vertical-align: middle;\n",
              "    }\n",
              "\n",
              "    .dataframe tbody tr th {\n",
              "        vertical-align: top;\n",
              "    }\n",
              "\n",
              "    .dataframe thead th {\n",
              "        text-align: right;\n",
              "    }\n",
              "</style>\n",
              "<table border=\"1\" class=\"dataframe\">\n",
              "  <thead>\n",
              "    <tr style=\"text-align: right;\">\n",
              "      <th></th>\n",
              "      <th>Unnamed: 0</th>\n",
              "      <th>id</th>\n",
              "      <th>f0</th>\n",
              "      <th>f1</th>\n",
              "      <th>f2</th>\n",
              "      <th>product</th>\n",
              "    </tr>\n",
              "  </thead>\n",
              "  <tbody>\n",
              "    <tr>\n",
              "      <th>0</th>\n",
              "      <td>0</td>\n",
              "      <td>fwXo0</td>\n",
              "      <td>-1.146987</td>\n",
              "      <td>0.963328</td>\n",
              "      <td>-0.828965</td>\n",
              "      <td>27.758673</td>\n",
              "    </tr>\n",
              "    <tr>\n",
              "      <th>1</th>\n",
              "      <td>1</td>\n",
              "      <td>WJtFt</td>\n",
              "      <td>0.262778</td>\n",
              "      <td>0.269839</td>\n",
              "      <td>-2.530187</td>\n",
              "      <td>56.069697</td>\n",
              "    </tr>\n",
              "    <tr>\n",
              "      <th>2</th>\n",
              "      <td>2</td>\n",
              "      <td>ovLUW</td>\n",
              "      <td>0.194587</td>\n",
              "      <td>0.289035</td>\n",
              "      <td>-5.586433</td>\n",
              "      <td>62.871910</td>\n",
              "    </tr>\n",
              "    <tr>\n",
              "      <th>3</th>\n",
              "      <td>3</td>\n",
              "      <td>q6cA6</td>\n",
              "      <td>2.236060</td>\n",
              "      <td>-0.553760</td>\n",
              "      <td>0.930038</td>\n",
              "      <td>114.572842</td>\n",
              "    </tr>\n",
              "    <tr>\n",
              "      <th>4</th>\n",
              "      <td>4</td>\n",
              "      <td>WPMUX</td>\n",
              "      <td>-0.515993</td>\n",
              "      <td>1.716266</td>\n",
              "      <td>5.899011</td>\n",
              "      <td>149.600746</td>\n",
              "    </tr>\n",
              "  </tbody>\n",
              "</table>\n",
              "</div>"
            ],
            "text/plain": [
              "   Unnamed: 0     id        f0        f1        f2     product\n",
              "0           0  fwXo0 -1.146987  0.963328 -0.828965   27.758673\n",
              "1           1  WJtFt  0.262778  0.269839 -2.530187   56.069697\n",
              "2           2  ovLUW  0.194587  0.289035 -5.586433   62.871910\n",
              "3           3  q6cA6  2.236060 -0.553760  0.930038  114.572842\n",
              "4           4  WPMUX -0.515993  1.716266  5.899011  149.600746"
            ]
          },
          "metadata": {
            "tags": []
          }
        },
        {
          "output_type": "display_data",
          "data": {
            "text/html": [
              "<div>\n",
              "<style scoped>\n",
              "    .dataframe tbody tr th:only-of-type {\n",
              "        vertical-align: middle;\n",
              "    }\n",
              "\n",
              "    .dataframe tbody tr th {\n",
              "        vertical-align: top;\n",
              "    }\n",
              "\n",
              "    .dataframe thead th {\n",
              "        text-align: right;\n",
              "    }\n",
              "</style>\n",
              "<table border=\"1\" class=\"dataframe\">\n",
              "  <thead>\n",
              "    <tr style=\"text-align: right;\">\n",
              "      <th></th>\n",
              "      <th>Unnamed: 0</th>\n",
              "      <th>f0</th>\n",
              "      <th>f1</th>\n",
              "      <th>f2</th>\n",
              "      <th>product</th>\n",
              "    </tr>\n",
              "  </thead>\n",
              "  <tbody>\n",
              "    <tr>\n",
              "      <th>count</th>\n",
              "      <td>100000.000000</td>\n",
              "      <td>100000.000000</td>\n",
              "      <td>100000.000000</td>\n",
              "      <td>100000.000000</td>\n",
              "      <td>100000.000000</td>\n",
              "    </tr>\n",
              "    <tr>\n",
              "      <th>mean</th>\n",
              "      <td>49999.500000</td>\n",
              "      <td>0.002023</td>\n",
              "      <td>-0.002081</td>\n",
              "      <td>2.495128</td>\n",
              "      <td>95.000000</td>\n",
              "    </tr>\n",
              "    <tr>\n",
              "      <th>std</th>\n",
              "      <td>28867.657797</td>\n",
              "      <td>1.732045</td>\n",
              "      <td>1.730417</td>\n",
              "      <td>3.473445</td>\n",
              "      <td>44.749921</td>\n",
              "    </tr>\n",
              "    <tr>\n",
              "      <th>min</th>\n",
              "      <td>0.000000</td>\n",
              "      <td>-8.760004</td>\n",
              "      <td>-7.084020</td>\n",
              "      <td>-11.970335</td>\n",
              "      <td>0.000000</td>\n",
              "    </tr>\n",
              "    <tr>\n",
              "      <th>25%</th>\n",
              "      <td>24999.750000</td>\n",
              "      <td>-1.162288</td>\n",
              "      <td>-1.174820</td>\n",
              "      <td>0.130359</td>\n",
              "      <td>59.450441</td>\n",
              "    </tr>\n",
              "    <tr>\n",
              "      <th>50%</th>\n",
              "      <td>49999.500000</td>\n",
              "      <td>0.009424</td>\n",
              "      <td>-0.009482</td>\n",
              "      <td>2.484236</td>\n",
              "      <td>94.925613</td>\n",
              "    </tr>\n",
              "    <tr>\n",
              "      <th>75%</th>\n",
              "      <td>74999.250000</td>\n",
              "      <td>1.158535</td>\n",
              "      <td>1.163678</td>\n",
              "      <td>4.858794</td>\n",
              "      <td>130.595027</td>\n",
              "    </tr>\n",
              "    <tr>\n",
              "      <th>max</th>\n",
              "      <td>99999.000000</td>\n",
              "      <td>7.238262</td>\n",
              "      <td>7.844801</td>\n",
              "      <td>16.739402</td>\n",
              "      <td>190.029838</td>\n",
              "    </tr>\n",
              "  </tbody>\n",
              "</table>\n",
              "</div>"
            ],
            "text/plain": [
              "          Unnamed: 0             f0             f1             f2  \\\n",
              "count  100000.000000  100000.000000  100000.000000  100000.000000   \n",
              "mean    49999.500000       0.002023      -0.002081       2.495128   \n",
              "std     28867.657797       1.732045       1.730417       3.473445   \n",
              "min         0.000000      -8.760004      -7.084020     -11.970335   \n",
              "25%     24999.750000      -1.162288      -1.174820       0.130359   \n",
              "50%     49999.500000       0.009424      -0.009482       2.484236   \n",
              "75%     74999.250000       1.158535       1.163678       4.858794   \n",
              "max     99999.000000       7.238262       7.844801      16.739402   \n",
              "\n",
              "             product  \n",
              "count  100000.000000  \n",
              "mean       95.000000  \n",
              "std        44.749921  \n",
              "min         0.000000  \n",
              "25%        59.450441  \n",
              "50%        94.925613  \n",
              "75%       130.595027  \n",
              "max       190.029838  "
            ]
          },
          "metadata": {
            "tags": []
          }
        },
        {
          "output_type": "stream",
          "text": [
            "Уникальные значения:\n",
            "Unnamed: 0    100000\n",
            "id             99996\n",
            "f0            100000\n",
            "f1            100000\n",
            "f2            100000\n",
            "product       100000\n",
            "dtype: int64\n",
            "\n",
            "Пропущенные значения:\n",
            "Unnamed: 0    0\n",
            "id            0\n",
            "f0            0\n",
            "f1            0\n",
            "f2            0\n",
            "product       0\n",
            "dtype: int64\n",
            "Дубликаты 0\n"
          ],
          "name": "stdout"
        }
      ]
    },
    {
      "cell_type": "markdown",
      "metadata": {
        "id": "du5tKr-7ud1d"
      },
      "source": [
        "**Вывод:**\r\n",
        "\r\n",
        "* Все датасеты хорошо подготовлены, все типы данных указаны правильно, дубликатов не имеется. В каждом по 100 000 наблюдений.\r\n",
        "* Признак F2 очень сильно коррелирует с product\r\n",
        "* Имеются повторяющиеся значения в столбцах ID, видимо пробы брались несколько раз в одной и той же скважине.\r\n",
        "* У второго датасета уникальных значений в product всего 12. Наша будущая модель может слишком хорошо прогнозировать. Посмотрим..."
      ]
    },
    {
      "cell_type": "markdown",
      "metadata": {
        "id": "rIdX6NOSTa5_"
      },
      "source": [
        "# 2. Обучение и проверка модели\r\n"
      ]
    },
    {
      "cell_type": "code",
      "metadata": {
        "id": "FLv2R2WqpUix"
      },
      "source": [
        "RMSE_list = []\r\n",
        "predictions_list = []\r\n",
        "score_list = []\r\n",
        "MAE_list = []\r\n",
        "target = []\r\n",
        "predictions_df = pd.DataFrame()\r\n",
        "target_df = pd.DataFrame()\r\n",
        "\r\n",
        "for i,j in zip([geo_0,geo_1,geo_2],range(3)):\r\n",
        "    X = i.drop(['product','id'], axis=1)\r\n",
        "    y = i['product']\r\n",
        "    X_train, X_valid, y_train, y_valid = train_test_split(\r\n",
        "        X, y, random_state=12345, test_size=0.25) \r\n",
        "    \r\n",
        "    lr = LinearRegression(n_jobs = -1).fit(X_train, y_train)\r\n",
        "    \r\n",
        "    predictions = lr.predict(X_valid)\r\n",
        "    predictions_list.append(predictions.mean())\r\n",
        "\r\n",
        "    rmse = np.sqrt(mean_squared_error(predictions, y_valid))\r\n",
        "    RMSE_list.append(rmse)\r\n",
        "    \r\n",
        "    mae = mean_absolute_error(predictions, y_valid)\r\n",
        "    MAE_list.append(mae)\r\n",
        "\r\n",
        "    score_list.append(lr.score(X_train, y_train))\r\n",
        "\r\n",
        "    stock_mean = i['product'].mean()\r\n",
        "    target.append(stock_mean)\r\n",
        "\r\n",
        "    target_df[j] = y_valid\r\n",
        "    predictions_df[j] = predictions"
      ],
      "execution_count": 70,
      "outputs": []
    },
    {
      "cell_type": "code",
      "metadata": {
        "colab": {
          "base_uri": "https://localhost:8080/",
          "height": 197
        },
        "id": "A809hmU5pUgF",
        "outputId": "e1b5ffd3-535c-42dc-88b1-1212c41ff762"
      },
      "source": [
        "#Создадим таблицу с имеющимися листами, чтобы сравнить результаты\r\n",
        "target_df = target_df.reset_index(drop=True)\r\n",
        "scorelist = pd.DataFrame(\r\n",
        "    data=[predictions_list, RMSE_list, score_list, MAE_list, target], \r\n",
        "    index=['Ср. запас сырья, тыс. баралей', 'RMSE', 'SCORE', 'MAE', 'Target'], \r\n",
        "    columns=['region 0','region 1','region 2'])\r\n",
        "scorelist"
      ],
      "execution_count": 71,
      "outputs": [
        {
          "output_type": "execute_result",
          "data": {
            "text/html": [
              "<div>\n",
              "<style scoped>\n",
              "    .dataframe tbody tr th:only-of-type {\n",
              "        vertical-align: middle;\n",
              "    }\n",
              "\n",
              "    .dataframe tbody tr th {\n",
              "        vertical-align: top;\n",
              "    }\n",
              "\n",
              "    .dataframe thead th {\n",
              "        text-align: right;\n",
              "    }\n",
              "</style>\n",
              "<table border=\"1\" class=\"dataframe\">\n",
              "  <thead>\n",
              "    <tr style=\"text-align: right;\">\n",
              "      <th></th>\n",
              "      <th>region 0</th>\n",
              "      <th>region 1</th>\n",
              "      <th>region 2</th>\n",
              "    </tr>\n",
              "  </thead>\n",
              "  <tbody>\n",
              "    <tr>\n",
              "      <th>Ср. запас сырья, тыс. баралей</th>\n",
              "      <td>92.592442</td>\n",
              "      <td>68.728500</td>\n",
              "      <td>94.965228</td>\n",
              "    </tr>\n",
              "    <tr>\n",
              "      <th>RMSE</th>\n",
              "      <td>37.579492</td>\n",
              "      <td>0.893066</td>\n",
              "      <td>40.030038</td>\n",
              "    </tr>\n",
              "    <tr>\n",
              "      <th>SCORE</th>\n",
              "      <td>0.274239</td>\n",
              "      <td>0.999625</td>\n",
              "      <td>0.196615</td>\n",
              "    </tr>\n",
              "    <tr>\n",
              "      <th>MAE</th>\n",
              "      <td>30.919652</td>\n",
              "      <td>0.718710</td>\n",
              "      <td>32.793091</td>\n",
              "    </tr>\n",
              "    <tr>\n",
              "      <th>Target</th>\n",
              "      <td>92.500000</td>\n",
              "      <td>68.825000</td>\n",
              "      <td>95.000000</td>\n",
              "    </tr>\n",
              "  </tbody>\n",
              "</table>\n",
              "</div>"
            ],
            "text/plain": [
              "                                region 0   region 1   region 2\n",
              "Ср. запас сырья, тыс. баралей  92.592442  68.728500  94.965228\n",
              "RMSE                           37.579492   0.893066  40.030038\n",
              "SCORE                           0.274239   0.999625   0.196615\n",
              "MAE                            30.919652   0.718710  32.793091\n",
              "Target                         92.500000  68.825000  95.000000"
            ]
          },
          "metadata": {
            "tags": []
          },
          "execution_count": 71
        }
      ]
    },
    {
      "cell_type": "markdown",
      "metadata": {
        "id": "S6K_g1weCEne"
      },
      "source": [
        "**Вывод**\r\n",
        "\r\n",
        "На данном этапе было произведено обучение линейной регрессии на данных трех регионов. В ходе обучения и проверки на валидационной выборке в каждом регионе были выявлени следующие особености:\r\n",
        "\r\n",
        "1. Лучшие показатели модели в Регионе 1 (RMSE = 0.894, MAE = 0.721)\r\n",
        "2. Модель в Регионе 0 и 2 показала приблизительно одинаковые результаты (RMSE = 37.9 и 40.1, соответственно что лучше значений RMSE для постоянного предсказания среднего таргета по Регионам = 44.67 и 44,66, соответственно)\r\n",
        "3. Средние запасы сырья в месторождениях по регионам (0,1,2) = 92.5 тыс; 68.8 тыс и 95 тыс баррелей соответственно.\r\n",
        "\r\n",
        "Несмотря на высокое качество предсказаний модели в Регионе 1, напрашивется гипотеза, что лучше сразу отбросить разработку Региона 1, поскольку средний объем нефти в месторождениях в нем меньше на ~25 тыс баррелей. Получается, что в бОльшем количестве случаев мы сможем выкачать меньше нефти и заработать меньше, чем разведав месторожожения в Регионах 0 или 2.\r\n",
        "\r\n",
        "Однако (этот пункт я дописал уже в конце исследования) - очень качество модели говорит об обратном - добыча в регионах 0 и 2 может быть гораздо \"рандомнее\", а вот регион 1 мы предсказываем стабильно хорошо.\r\n",
        "\r\n",
        "Переходим к подсчету возможной прибыли."
      ]
    },
    {
      "cell_type": "markdown",
      "metadata": {
        "id": "pO-NySyjYbBt"
      },
      "source": [
        "# 3. Подготовка к расчёту прибыли"
      ]
    },
    {
      "cell_type": "markdown",
      "metadata": {
        "id": "hxtfMWISYcvS"
      },
      "source": [
        "**Ключевые метрики для рассчетов**"
      ]
    },
    {
      "cell_type": "code",
      "metadata": {
        "id": "VuVtR_RspUdS"
      },
      "source": [
        "BUDGET = 10000000000      #бюджет на разработку месторождений, руб\r\n",
        "DRILLING_COST = 50000000  #стоимость бурения одного месторождения, руб\r\n",
        "BARREL_PROFIT = 450      #прибыль от реализации 1 барреля добытой нефти\r\n",
        "BARREL_PROFIT_UNIT = 450000   #Доход с каждой единицы продукта 450 000 рублей\r\n",
        "\r\n",
        "TOTAL_WELLS = 500         #количество месторождений, исследуемых при разведке региона\r\n",
        "TOTAL_WELLS_BEST = 200 "
      ],
      "execution_count": 72,
      "outputs": []
    },
    {
      "cell_type": "markdown",
      "metadata": {
        "id": "M-wkBhKiYxq-"
      },
      "source": [
        "**Дополнительные метрики для рассчетов**\r\n",
        "\r\n",
        "Рассчитаем максимальное количемтво скважин, разработка которых укладывается в бюджет"
      ]
    },
    {
      "cell_type": "code",
      "metadata": {
        "id": "AQ4IFBWgpUaJ",
        "colab": {
          "base_uri": "https://localhost:8080/"
        },
        "outputId": "42ef2686-aec4-4195-a19c-82b012d1e195"
      },
      "source": [
        "real_wells = int(BUDGET / DRILLING_COST)\r\n",
        "\r\n",
        "print('Максимально возможное количество пробуренных скважин = {:}'.format(real_wells))"
      ],
      "execution_count": 73,
      "outputs": [
        {
          "output_type": "stream",
          "text": [
            "Максимально возможное количество пробуренных скважин = 200\n"
          ],
          "name": "stdout"
        }
      ]
    },
    {
      "cell_type": "markdown",
      "metadata": {
        "id": "q-0RS-OZZ2SM"
      },
      "source": [
        "На текущий момент можно выдвинуть гипотезу о том, что разработка Регионов 0 и 2 выглядит более перспективной, так как и средние значения и распределения запасов нефти имеют лучшие значения, чем в Регионе 1."
      ]
    },
    {
      "cell_type": "code",
      "metadata": {
        "id": "7goSGWXRpUXn",
        "colab": {
          "base_uri": "https://localhost:8080/"
        },
        "outputId": "1a162faf-f28c-4bc5-e478-142d43615c11"
      },
      "source": [
        "drilling_zero_point = np.round(DRILLING_COST / BARREL_PROFIT_UNIT) \r\n",
        "\r\n",
        "print('Точка безубыточности одной скважнины = {:} тыс. добытых баррелей нефти'.format(drilling_zero_point))"
      ],
      "execution_count": 74,
      "outputs": [
        {
          "output_type": "stream",
          "text": [
            "Точка безубыточности одной скважнины = 111.0 тыс. добытых баррелей нефти\n"
          ],
          "name": "stdout"
        }
      ]
    },
    {
      "cell_type": "code",
      "metadata": {
        "id": "G4wTo8cdpUUw"
      },
      "source": [
        "regions = [geo_0, geo_1, geo_2]"
      ],
      "execution_count": 75,
      "outputs": []
    },
    {
      "cell_type": "code",
      "metadata": {
        "id": "7FlzHy-bpURp",
        "colab": {
          "base_uri": "https://localhost:8080/"
        },
        "outputId": "3d5c3610-f710-41fa-da7c-cb5d19a9ed10"
      },
      "source": [
        "for i in range(len(regions)):\r\n",
        "    print('Вероятность неокупить разрабатываемую скважину в Регионе', i, '=',\r\n",
        "          len(regions[i].query('product < 111')) / len(regions[i]) * 100,'%')"
      ],
      "execution_count": 76,
      "outputs": [
        {
          "output_type": "stream",
          "text": [
            "Вероятность неокупить разрабатываемую скважину в Регионе 0 = 63.324000000000005 %\n",
            "Вероятность неокупить разрабатываемую скважину в Регионе 1 = 83.463 %\n",
            "Вероятность неокупить разрабатываемую скважину в Регионе 2 = 61.722 %\n"
          ],
          "name": "stdout"
        }
      ]
    },
    {
      "cell_type": "markdown",
      "metadata": {
        "id": "SBJmbmCxDZss"
      },
      "source": [
        "**Вывод**\r\n",
        "\r\n",
        "Можно отметить, что для безубыточной разработки новой скважины необходимо переработать как минимум 112 единиц продукта. На прошлом этапе проекта выяснили, что предсказания объема нефти во всех регионах гораздо меньше этого объема."
      ]
    },
    {
      "cell_type": "markdown",
      "metadata": {
        "id": "9n_TQbx0DivL"
      },
      "source": [
        "# 4. Расчёт прибыли и рисков"
      ]
    },
    {
      "cell_type": "markdown",
      "metadata": {
        "id": "jIS6WhNFDoQ7"
      },
      "source": [
        "На этом этапе проекта:\r\n",
        "\r\n",
        "* напишем функцию для расчёта прибыли по выбранным скважинам и предсказаниям модели\r\n",
        "* посчитаем риски и прибыль для каждого региона.\r\n",
        "\r\n",
        "Напишем функцию для расчета прибыли."
      ]
    },
    {
      "cell_type": "code",
      "metadata": {
        "id": "tkHH2WrDzwr3"
      },
      "source": [
        "def revenue(target, probabilities, count):\r\n",
        "    \r\n",
        "    '''\r\n",
        "    Функция принимает 3 аргумента:\r\n",
        "    - target (истинные значения целевого признака)\r\n",
        "    - probabilities (предсказания)\r\n",
        "    - count (количество скважин)\r\n",
        "    \r\n",
        "    Функция рассчитывает и возвращает прибыль\r\n",
        "    '''\r\n",
        "    \r\n",
        "    probs_sorted = probabilities.sort_values(ascending=False)\r\n",
        "    selected = target[probs_sorted.index][:count]\r\n",
        "    return (BARREL_PROFIT_UNIT * selected.sum() - (BUDGET))"
      ],
      "execution_count": 77,
      "outputs": []
    },
    {
      "cell_type": "markdown",
      "metadata": {
        "id": "ox_XImYCH7yf"
      },
      "source": [
        "В цикле применим технику Bootstrap и посчитаем прибыль и риски для каждого из регионов:\r\n",
        "\r\n",
        "* применим технику Bootstrap с 1000 выборок, чтобы найти распределение прибыли\r\n",
        "* найдем среднюю прибыль, 95%-й доверительный интервал и риск убытков.\r\n",
        "\r\n",
        "Результат сохраним в переменной bootstrap_results."
      ]
    },
    {
      "cell_type": "code",
      "metadata": {
        "colab": {
          "base_uri": "https://localhost:8080/",
          "height": 197
        },
        "id": "JLD7N2wrMkc5",
        "outputId": "927d511e-2a2a-41d5-d060-3aef002494eb"
      },
      "source": [
        "scorelist"
      ],
      "execution_count": 78,
      "outputs": [
        {
          "output_type": "execute_result",
          "data": {
            "text/html": [
              "<div>\n",
              "<style scoped>\n",
              "    .dataframe tbody tr th:only-of-type {\n",
              "        vertical-align: middle;\n",
              "    }\n",
              "\n",
              "    .dataframe tbody tr th {\n",
              "        vertical-align: top;\n",
              "    }\n",
              "\n",
              "    .dataframe thead th {\n",
              "        text-align: right;\n",
              "    }\n",
              "</style>\n",
              "<table border=\"1\" class=\"dataframe\">\n",
              "  <thead>\n",
              "    <tr style=\"text-align: right;\">\n",
              "      <th></th>\n",
              "      <th>region 0</th>\n",
              "      <th>region 1</th>\n",
              "      <th>region 2</th>\n",
              "    </tr>\n",
              "  </thead>\n",
              "  <tbody>\n",
              "    <tr>\n",
              "      <th>Ср. запас сырья, тыс. баралей</th>\n",
              "      <td>92.592442</td>\n",
              "      <td>68.728500</td>\n",
              "      <td>94.965228</td>\n",
              "    </tr>\n",
              "    <tr>\n",
              "      <th>RMSE</th>\n",
              "      <td>37.579492</td>\n",
              "      <td>0.893066</td>\n",
              "      <td>40.030038</td>\n",
              "    </tr>\n",
              "    <tr>\n",
              "      <th>SCORE</th>\n",
              "      <td>0.274239</td>\n",
              "      <td>0.999625</td>\n",
              "      <td>0.196615</td>\n",
              "    </tr>\n",
              "    <tr>\n",
              "      <th>MAE</th>\n",
              "      <td>30.919652</td>\n",
              "      <td>0.718710</td>\n",
              "      <td>32.793091</td>\n",
              "    </tr>\n",
              "    <tr>\n",
              "      <th>Target</th>\n",
              "      <td>92.500000</td>\n",
              "      <td>68.825000</td>\n",
              "      <td>95.000000</td>\n",
              "    </tr>\n",
              "  </tbody>\n",
              "</table>\n",
              "</div>"
            ],
            "text/plain": [
              "                                region 0   region 1   region 2\n",
              "Ср. запас сырья, тыс. баралей  92.592442  68.728500  94.965228\n",
              "RMSE                           37.579492   0.893066  40.030038\n",
              "SCORE                           0.274239   0.999625   0.196615\n",
              "MAE                            30.919652   0.718710  32.793091\n",
              "Target                         92.500000  68.825000  95.000000"
            ]
          },
          "metadata": {
            "tags": []
          },
          "execution_count": 78
        }
      ]
    },
    {
      "cell_type": "code",
      "metadata": {
        "colab": {
          "base_uri": "https://localhost:8080/"
        },
        "id": "qZ360muGzwGf",
        "outputId": "f733c1cb-1004-4694-daf0-2b32e26f0756"
      },
      "source": [
        "#Техникой bootstrap посчитаем среднюю прибыль , 95% доверительный интервал и риск убытков для первого региона\r\n",
        "import scipy as sp\r\n",
        "import scipy.stats\r\n",
        "\r\n",
        "revenues = []\r\n",
        "\r\n",
        "for i in range(1000):\r\n",
        "    target_subsample = target_df[0].sample(n=500, replace=True, random_state=state)\r\n",
        "    probs_subsample = predictions_df[0][target_subsample.index]\r\n",
        "    revenues.append(revenue(target_subsample, probs_subsample, 200))\r\n",
        "\r\n",
        "revenues = pd.Series(revenues)\r\n",
        "lower = revenues.quantile(0.025)\r\n",
        "mean = revenues.mean()\r\n",
        "risks = (revenues < 0).mean()* 100\r\n",
        "print(\"Средняя прибыль:\", mean/10**9)\r\n",
        "print(\"2.5%-квантиль:\", lower/10**9)\r\n",
        "print(\"Риск: {}\".format(risks))\r\n",
        "final_revenues = []\r\n",
        "confidence_interval = (revenues.quantile(0.025), revenues.quantile(0.975))\r\n",
        "print('95% доверительный интервал: ', confidence_interval)\r\n",
        "final_revenues.append(('region 1', mean/10**9, lower/10**9, confidence_interval, risks))"
      ],
      "execution_count": 79,
      "outputs": [
        {
          "output_type": "stream",
          "text": [
            "Средняя прибыль: 0.4257228605856449\n",
            "2.5%-квантиль: -0.10209009483793653\n",
            "Риск: 6.1\n",
            "95% доверительный интервал:  (-102090094.83793654, 947976353.358369)\n"
          ],
          "name": "stdout"
        }
      ]
    },
    {
      "cell_type": "code",
      "metadata": {
        "colab": {
          "base_uri": "https://localhost:8080/"
        },
        "id": "rRAGzj9azv9X",
        "outputId": "d242e673-d499-4b96-dab6-4b124d6bee3a"
      },
      "source": [
        "#Техникой bootstrap посчитаем среднюю прибыль , 95% доверительный интервал и риск убытков для второго региона\r\n",
        "revenues = []\r\n",
        "\r\n",
        "for i in range(1000):\r\n",
        "    target_subsample = target_df[1].sample(n=500, replace=True, random_state=state)\r\n",
        "    probs_subsample = predictions_df[1][target_subsample.index]\r\n",
        "    revenues.append(revenue(target_subsample, probs_subsample, 200))\r\n",
        "\r\n",
        "revenues = pd.Series(revenues)\r\n",
        "lower = revenues.quantile(0.025)\r\n",
        "mean = revenues.mean()\r\n",
        "risks = (revenues < 0).mean()* 100\r\n",
        "print(\"Средняя прибыль:\", mean/10**9)\r\n",
        "print(\"2.5%-квантиль:\", lower/10**9)\r\n",
        "print(\"Риск: {}\".format(risks))\r\n",
        "confidence_interval = (revenues.quantile(0.025), revenues.quantile(0.975))\r\n",
        "\r\n",
        "print('95% доверительный интервал: ', confidence_interval)\r\n",
        "final_revenues.append(('region 2', mean/10**9, lower/10**9, confidence_interval, risks))"
      ],
      "execution_count": 80,
      "outputs": [
        {
          "output_type": "stream",
          "text": [
            "Средняя прибыль: 0.5182637854858122\n",
            "2.5%-квантиль: 0.1281232314330863\n",
            "Риск: 0.3\n",
            "95% доверительный интервал:  (128123231.43308629, 953612982.0669085)\n"
          ],
          "name": "stdout"
        }
      ]
    },
    {
      "cell_type": "code",
      "metadata": {
        "colab": {
          "base_uri": "https://localhost:8080/"
        },
        "id": "XqI4piVDzv3Y",
        "outputId": "b84e1bf3-9536-4ce1-a477-9c12b269b925"
      },
      "source": [
        "#Техникой bootstrap посчитаем среднюю прибыль , 95% доверительный интервал и риск убытков для третьего региона\r\n",
        "revenues = []\r\n",
        "total_wells = 500\r\n",
        "profit_wells = 200\r\n",
        "\r\n",
        "for i in range(1000):\r\n",
        "    target_subsample = target_df[2].sample(n=total_wells,replace=True, random_state=state)\r\n",
        "    probs_subsample = predictions_df[2][target_subsample.index]\r\n",
        "    revenues.append(revenue(target_subsample, probs_subsample, profit_wells))\r\n",
        "\r\n",
        "revenues = pd.Series(revenues)\r\n",
        "lower = revenues.quantile(0.025)\r\n",
        "mean = revenues.mean()\r\n",
        "risks = (revenues < 0).mean()* 100\r\n",
        "#interval = interval = st.t.interval(0.95, len(revenues)-1, revenues.mean()/10**9, revenues.sem()/10**9)\r\n",
        "print(\"Средняя прибыль:\", mean/10**9)\r\n",
        "print(\"2.5%-квантиль:\", lower/10**9)\r\n",
        "confidence_interval = (revenues.quantile(0.025), revenues.quantile(0.975))\r\n",
        "print('95% доверительный интервал: ', confidence_interval)\r\n",
        "print(\"Риск:\", (revenues < 0).mean()* 100, '%')\r\n",
        "final_revenues.append(('region 3', mean/10**9, lower/10**9, confidence_interval, risks))"
      ],
      "execution_count": 81,
      "outputs": [
        {
          "output_type": "stream",
          "text": [
            "Средняя прибыль: 0.42020761709581467\n",
            "2.5%-квантиль: -0.11585260916000956\n",
            "95% доверительный интервал:  (-115852609.16000956, 979365842.7441177)\n",
            "Риск: 6.2 %\n"
          ],
          "name": "stdout"
        }
      ]
    },
    {
      "cell_type": "code",
      "metadata": {
        "colab": {
          "base_uri": "https://localhost:8080/",
          "height": 88
        },
        "id": "ciRZijK9zvzh",
        "outputId": "2122accf-e7dc-4353-b48a-79509f88ad4b"
      },
      "source": [
        "#Выведем все результаты в одной таблице для сравнения.\r\n",
        "report_df = pd.DataFrame(final_revenues, columns=['Region', 'Mean Revenue', 'Quantile 2.5%', 'Interval 95%', 'Risks %'])\r\n",
        "cm = sns.light_palette(\"green\", as_cmap=True)\r\n",
        "s = report_df.style.background_gradient(cmap=cm)\r\n",
        "s"
      ],
      "execution_count": 82,
      "outputs": [
        {
          "output_type": "execute_result",
          "data": {
            "text/html": [
              "<style  type=\"text/css\" >\n",
              "#T_686f2678_7ced_11eb_8ac2_0242ac1c0002row0_col1,#T_686f2678_7ced_11eb_8ac2_0242ac1c0002row0_col2{\n",
              "            background-color:  #deedde;\n",
              "            color:  #000000;\n",
              "        }#T_686f2678_7ced_11eb_8ac2_0242ac1c0002row0_col4{\n",
              "            background-color:  #048204;\n",
              "            color:  #f1f1f1;\n",
              "        }#T_686f2678_7ced_11eb_8ac2_0242ac1c0002row1_col1,#T_686f2678_7ced_11eb_8ac2_0242ac1c0002row1_col2,#T_686f2678_7ced_11eb_8ac2_0242ac1c0002row2_col4{\n",
              "            background-color:  #008000;\n",
              "            color:  #f1f1f1;\n",
              "        }#T_686f2678_7ced_11eb_8ac2_0242ac1c0002row1_col4,#T_686f2678_7ced_11eb_8ac2_0242ac1c0002row2_col1,#T_686f2678_7ced_11eb_8ac2_0242ac1c0002row2_col2{\n",
              "            background-color:  #ebf3eb;\n",
              "            color:  #000000;\n",
              "        }</style><table id=\"T_686f2678_7ced_11eb_8ac2_0242ac1c0002\" ><thead>    <tr>        <th class=\"blank level0\" ></th>        <th class=\"col_heading level0 col0\" >Region</th>        <th class=\"col_heading level0 col1\" >Mean Revenue</th>        <th class=\"col_heading level0 col2\" >Quantile 2.5%</th>        <th class=\"col_heading level0 col3\" >Interval 95%</th>        <th class=\"col_heading level0 col4\" >Risks %</th>    </tr></thead><tbody>\n",
              "                <tr>\n",
              "                        <th id=\"T_686f2678_7ced_11eb_8ac2_0242ac1c0002level0_row0\" class=\"row_heading level0 row0\" >0</th>\n",
              "                        <td id=\"T_686f2678_7ced_11eb_8ac2_0242ac1c0002row0_col0\" class=\"data row0 col0\" >region 1</td>\n",
              "                        <td id=\"T_686f2678_7ced_11eb_8ac2_0242ac1c0002row0_col1\" class=\"data row0 col1\" >0.425723</td>\n",
              "                        <td id=\"T_686f2678_7ced_11eb_8ac2_0242ac1c0002row0_col2\" class=\"data row0 col2\" >-0.102090</td>\n",
              "                        <td id=\"T_686f2678_7ced_11eb_8ac2_0242ac1c0002row0_col3\" class=\"data row0 col3\" >(-102090094.83793654, 947976353.358369)</td>\n",
              "                        <td id=\"T_686f2678_7ced_11eb_8ac2_0242ac1c0002row0_col4\" class=\"data row0 col4\" >6.100000</td>\n",
              "            </tr>\n",
              "            <tr>\n",
              "                        <th id=\"T_686f2678_7ced_11eb_8ac2_0242ac1c0002level0_row1\" class=\"row_heading level0 row1\" >1</th>\n",
              "                        <td id=\"T_686f2678_7ced_11eb_8ac2_0242ac1c0002row1_col0\" class=\"data row1 col0\" >region 2</td>\n",
              "                        <td id=\"T_686f2678_7ced_11eb_8ac2_0242ac1c0002row1_col1\" class=\"data row1 col1\" >0.518264</td>\n",
              "                        <td id=\"T_686f2678_7ced_11eb_8ac2_0242ac1c0002row1_col2\" class=\"data row1 col2\" >0.128123</td>\n",
              "                        <td id=\"T_686f2678_7ced_11eb_8ac2_0242ac1c0002row1_col3\" class=\"data row1 col3\" >(128123231.43308629, 953612982.0669085)</td>\n",
              "                        <td id=\"T_686f2678_7ced_11eb_8ac2_0242ac1c0002row1_col4\" class=\"data row1 col4\" >0.300000</td>\n",
              "            </tr>\n",
              "            <tr>\n",
              "                        <th id=\"T_686f2678_7ced_11eb_8ac2_0242ac1c0002level0_row2\" class=\"row_heading level0 row2\" >2</th>\n",
              "                        <td id=\"T_686f2678_7ced_11eb_8ac2_0242ac1c0002row2_col0\" class=\"data row2 col0\" >region 3</td>\n",
              "                        <td id=\"T_686f2678_7ced_11eb_8ac2_0242ac1c0002row2_col1\" class=\"data row2 col1\" >0.420208</td>\n",
              "                        <td id=\"T_686f2678_7ced_11eb_8ac2_0242ac1c0002row2_col2\" class=\"data row2 col2\" >-0.115853</td>\n",
              "                        <td id=\"T_686f2678_7ced_11eb_8ac2_0242ac1c0002row2_col3\" class=\"data row2 col3\" >(-115852609.16000956, 979365842.7441177)</td>\n",
              "                        <td id=\"T_686f2678_7ced_11eb_8ac2_0242ac1c0002row2_col4\" class=\"data row2 col4\" >6.200000</td>\n",
              "            </tr>\n",
              "    </tbody></table>"
            ],
            "text/plain": [
              "<pandas.io.formats.style.Styler at 0x7efe27a6ced0>"
            ]
          },
          "metadata": {
            "tags": []
          },
          "execution_count": 82
        }
      ]
    },
    {
      "cell_type": "markdown",
      "metadata": {
        "id": "45flOn3AbddI"
      },
      "source": [
        "\r\n",
        "**Вывод:**\r\n",
        "\r\n",
        "* Второй регион показывает хорошие результаты. Но так как мы знаем, что второй регион слишком рискованный, слишком странные у него данные - мы не можем его выбрать.\r\n",
        "* Поэтому для бурения будет лучше выбрать первый регион. Но учитывая оценки прогнозирования, я бы вообще не принимал никаких серьезных решений на основе полученных результатов."
      ]
    },
    {
      "cell_type": "markdown",
      "metadata": {
        "id": "cSOwKOq6b1ti"
      },
      "source": [
        ""
      ]
    },
    {
      "cell_type": "markdown",
      "metadata": {
        "id": "SUD7WoP7b1mA"
      },
      "source": [
        "\r\n",
        "# Общий вывод:\r\n",
        "\r\n",
        "* Мы получили три датасета - три разные региона для прогнозирования объема сырья и прибыли. Все датасеты были хорошо подготовлены, не имелось никаких дубликатов, пустых значений. Но второй датасет оказался сильно отличимым от других, у него в столбце product были лишь 12 уникальных значений. Что позволило нашей модели хорошо делать прогнозы по второму региону ,поэтому нам нельзя использовать эту модель и сам регион. Слишком рискованно.\r\n",
        "\r\n",
        "* Исходя из всех результатов моделей мы получили такие результаты:\r\n",
        "\r\n",
        "  * Регион 1: RMSE : 37.5 ; Score 0.27\r\n",
        "  * Регион 2: RMSE : 0.89 ; Score 0.99\r\n",
        "  * Регион 3: RMSE : 40.02 ; Score 0.19\r\n",
        "\r\n",
        "* Провели расчет прибыли и пришли к выводу, что минимальный объем сырья должен составлять 111 тыс барелей. Наши средние показатели трех регионов не доходят до минимального порога.\r\n",
        "\r\n",
        "Исходя из всех полученных данных: второй регион имеет наибольшие шансы на получение прибыли. Но учитывая тот факт, что все модели показали ужасные результаты, и из худшего мы выбрали наибольшее лучший, я бы не советовал использовать эти данные для принятия окончательных решений.\r\n"
      ]
    },
    {
      "cell_type": "code",
      "metadata": {
        "id": "8yb2RkIfzvwI"
      },
      "source": [
        ""
      ],
      "execution_count": 80,
      "outputs": []
    }
  ]
}