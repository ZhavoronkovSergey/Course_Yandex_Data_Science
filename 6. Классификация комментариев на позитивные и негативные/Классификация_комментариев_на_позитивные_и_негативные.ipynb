{
  "nbformat": 4,
  "nbformat_minor": 0,
  "metadata": {
    "accelerator": "GPU",
    "colab": {
      "name": " Классификация комментариев на позитивные и негативные.ipynb",
      "provenance": []
    },
    "kernelspec": {
      "display_name": "Python 3",
      "name": "python3"
    },
    "language_info": {
      "name": "python"
    }
  },
  "cells": [
    {
      "cell_type": "markdown",
      "metadata": {
        "id": "hWqosaXVaybw"
      },
      "source": [
        "Интернет-магазин «Викишоп» запускает новый сервис. Теперь пользователи могут редактировать и дополнять описания товаров, как в вики-сообществах. То есть клиенты предлагают свои правки и комментируют изменения других. Магазину нужен инструмент, который будет искать токсичные комментарии и отправлять их на модерацию.\n",
        "\n",
        "Обучите модель классифицировать комментарии на позитивные и негативные. В вашем распоряжении набор данных с разметкой о токсичности.\n",
        "\n",
        "Постройте модель со значением метрики качества F1 не меньше 0.75.\n",
        "\n",
        "**Инструкция по выполнению проекта**\n",
        "1. Загрузите и подготовьте данные.\n",
        "2. Обучите разные модели.\n",
        "3. Сделайте выводы.\n",
        "\n",
        "**Описание данных**\n",
        "\n",
        "Данные находятся в файле toxic_comments.csv. Столбец text в нём содержит текст комментария, а toxic — целевой признак."
      ]
    },
    {
      "cell_type": "code",
      "metadata": {
        "colab": {
          "base_uri": "https://localhost:8080/"
        },
        "id": "eHWeBeNxagva",
        "outputId": "ef07dc2a-daf1-4e55-e5b8-0543efcd3960"
      },
      "source": [
        "!pip install catboost\n",
        "!pip install transformers\n"
      ],
      "execution_count": 1,
      "outputs": [
        {
          "output_type": "stream",
          "text": [
            "Requirement already satisfied: catboost in /usr/local/lib/python3.7/dist-packages (0.25.1)\n",
            "Requirement already satisfied: graphviz in /usr/local/lib/python3.7/dist-packages (from catboost) (0.10.1)\n",
            "Requirement already satisfied: scipy in /usr/local/lib/python3.7/dist-packages (from catboost) (1.4.1)\n",
            "Requirement already satisfied: plotly in /usr/local/lib/python3.7/dist-packages (from catboost) (4.4.1)\n",
            "Requirement already satisfied: numpy>=1.16.0 in /usr/local/lib/python3.7/dist-packages (from catboost) (1.19.5)\n",
            "Requirement already satisfied: pandas>=0.24.0 in /usr/local/lib/python3.7/dist-packages (from catboost) (1.1.5)\n",
            "Requirement already satisfied: matplotlib in /usr/local/lib/python3.7/dist-packages (from catboost) (3.2.2)\n",
            "Requirement already satisfied: six in /usr/local/lib/python3.7/dist-packages (from catboost) (1.15.0)\n",
            "Requirement already satisfied: retrying>=1.3.3 in /usr/local/lib/python3.7/dist-packages (from plotly->catboost) (1.3.3)\n",
            "Requirement already satisfied: pytz>=2017.2 in /usr/local/lib/python3.7/dist-packages (from pandas>=0.24.0->catboost) (2018.9)\n",
            "Requirement already satisfied: python-dateutil>=2.7.3 in /usr/local/lib/python3.7/dist-packages (from pandas>=0.24.0->catboost) (2.8.1)\n",
            "Requirement already satisfied: cycler>=0.10 in /usr/local/lib/python3.7/dist-packages (from matplotlib->catboost) (0.10.0)\n",
            "Requirement already satisfied: kiwisolver>=1.0.1 in /usr/local/lib/python3.7/dist-packages (from matplotlib->catboost) (1.3.1)\n",
            "Requirement already satisfied: pyparsing!=2.0.4,!=2.1.2,!=2.1.6,>=2.0.1 in /usr/local/lib/python3.7/dist-packages (from matplotlib->catboost) (2.4.7)\n",
            "Requirement already satisfied: transformers in /usr/local/lib/python3.7/dist-packages (4.4.2)\n",
            "Requirement already satisfied: tqdm>=4.27 in /usr/local/lib/python3.7/dist-packages (from transformers) (4.41.1)\n",
            "Requirement already satisfied: numpy>=1.17 in /usr/local/lib/python3.7/dist-packages (from transformers) (1.19.5)\n",
            "Requirement already satisfied: filelock in /usr/local/lib/python3.7/dist-packages (from transformers) (3.0.12)\n",
            "Requirement already satisfied: importlib-metadata; python_version < \"3.8\" in /usr/local/lib/python3.7/dist-packages (from transformers) (3.8.1)\n",
            "Requirement already satisfied: regex!=2019.12.17 in /usr/local/lib/python3.7/dist-packages (from transformers) (2019.12.20)\n",
            "Requirement already satisfied: sacremoses in /usr/local/lib/python3.7/dist-packages (from transformers) (0.0.44)\n",
            "Requirement already satisfied: tokenizers<0.11,>=0.10.1 in /usr/local/lib/python3.7/dist-packages (from transformers) (0.10.2)\n",
            "Requirement already satisfied: requests in /usr/local/lib/python3.7/dist-packages (from transformers) (2.23.0)\n",
            "Requirement already satisfied: packaging in /usr/local/lib/python3.7/dist-packages (from transformers) (20.9)\n",
            "Requirement already satisfied: zipp>=0.5 in /usr/local/lib/python3.7/dist-packages (from importlib-metadata; python_version < \"3.8\"->transformers) (3.4.1)\n",
            "Requirement already satisfied: typing-extensions>=3.6.4; python_version < \"3.8\" in /usr/local/lib/python3.7/dist-packages (from importlib-metadata; python_version < \"3.8\"->transformers) (3.7.4.3)\n",
            "Requirement already satisfied: six in /usr/local/lib/python3.7/dist-packages (from sacremoses->transformers) (1.15.0)\n",
            "Requirement already satisfied: click in /usr/local/lib/python3.7/dist-packages (from sacremoses->transformers) (7.1.2)\n",
            "Requirement already satisfied: joblib in /usr/local/lib/python3.7/dist-packages (from sacremoses->transformers) (1.0.1)\n",
            "Requirement already satisfied: idna<3,>=2.5 in /usr/local/lib/python3.7/dist-packages (from requests->transformers) (2.10)\n",
            "Requirement already satisfied: chardet<4,>=3.0.2 in /usr/local/lib/python3.7/dist-packages (from requests->transformers) (3.0.4)\n",
            "Requirement already satisfied: urllib3!=1.25.0,!=1.25.1,<1.26,>=1.21.1 in /usr/local/lib/python3.7/dist-packages (from requests->transformers) (1.24.3)\n",
            "Requirement already satisfied: certifi>=2017.4.17 in /usr/local/lib/python3.7/dist-packages (from requests->transformers) (2020.12.5)\n",
            "Requirement already satisfied: pyparsing>=2.0.2 in /usr/local/lib/python3.7/dist-packages (from packaging->transformers) (2.4.7)\n"
          ],
          "name": "stdout"
        }
      ]
    },
    {
      "cell_type": "code",
      "metadata": {
        "colab": {
          "base_uri": "https://localhost:8080/"
        },
        "id": "xViNDBaubI_o",
        "outputId": "d18905c5-d27b-47d3-9b55-6876a87b0de7"
      },
      "source": [
        "import numpy as np\n",
        "import pandas as pd \n",
        "import IPython\n",
        "from IPython.display import display\n",
        "import re\n",
        "import warnings\n",
        "warnings.simplefilter('ignore')\n",
        "\n",
        "import matplotlib.pyplot as plt\n",
        "import seaborn as sns\n",
        "\n",
        "from sklearn.model_selection import train_test_split, GridSearchCV, cross_val_score\n",
        "from sklearn.metrics import accuracy_score, f1_score, classification_report, confusion_matrix\n",
        "\n",
        "from tqdm import notebook\n",
        "import torch\n",
        "import transformers\n",
        "\n",
        "import nltk\n",
        "nltk.download('wordnet')\n",
        "from nltk.corpus import wordnet\n",
        "from nltk.stem import WordNetLemmatizer\n",
        "from sklearn.feature_extraction.text import CountVectorizer, TfidfVectorizer\n",
        "nltk.download('stopwords')\n",
        "from nltk.corpus import stopwords\n",
        "\n",
        "from sklearn.dummy import DummyClassifier\n",
        "from sklearn.linear_model import LogisticRegression, SGDClassifier\n",
        "from sklearn.svm import SVC, LinearSVC\n",
        "from catboost import CatBoostClassifier"
      ],
      "execution_count": 2,
      "outputs": [
        {
          "output_type": "stream",
          "text": [
            "[nltk_data] Downloading package wordnet to /root/nltk_data...\n",
            "[nltk_data]   Package wordnet is already up-to-date!\n",
            "[nltk_data] Downloading package stopwords to /root/nltk_data...\n",
            "[nltk_data]   Package stopwords is already up-to-date!\n"
          ],
          "name": "stdout"
        }
      ]
    },
    {
      "cell_type": "code",
      "metadata": {
        "colab": {
          "base_uri": "https://localhost:8080/",
          "height": 197
        },
        "id": "PLPwrHDUbI8t",
        "outputId": "82611f98-8694-4f07-b529-012294b10b9b"
      },
      "source": [
        "comments = pd.read_csv('toxic_comments.csv', index_col=0)\n",
        "comments.head()"
      ],
      "execution_count": 3,
      "outputs": [
        {
          "output_type": "execute_result",
          "data": {
            "text/html": [
              "<div>\n",
              "<style scoped>\n",
              "    .dataframe tbody tr th:only-of-type {\n",
              "        vertical-align: middle;\n",
              "    }\n",
              "\n",
              "    .dataframe tbody tr th {\n",
              "        vertical-align: top;\n",
              "    }\n",
              "\n",
              "    .dataframe thead th {\n",
              "        text-align: right;\n",
              "    }\n",
              "</style>\n",
              "<table border=\"1\" class=\"dataframe\">\n",
              "  <thead>\n",
              "    <tr style=\"text-align: right;\">\n",
              "      <th></th>\n",
              "      <th>text</th>\n",
              "      <th>toxic</th>\n",
              "    </tr>\n",
              "  </thead>\n",
              "  <tbody>\n",
              "    <tr>\n",
              "      <th>0</th>\n",
              "      <td>Explanation\\nWhy the edits made under my usern...</td>\n",
              "      <td>0</td>\n",
              "    </tr>\n",
              "    <tr>\n",
              "      <th>1</th>\n",
              "      <td>D'aww! He matches this background colour I'm s...</td>\n",
              "      <td>0</td>\n",
              "    </tr>\n",
              "    <tr>\n",
              "      <th>2</th>\n",
              "      <td>Hey man, I'm really not trying to edit war. It...</td>\n",
              "      <td>0</td>\n",
              "    </tr>\n",
              "    <tr>\n",
              "      <th>3</th>\n",
              "      <td>\"\\nMore\\nI can't make any real suggestions on ...</td>\n",
              "      <td>0</td>\n",
              "    </tr>\n",
              "    <tr>\n",
              "      <th>4</th>\n",
              "      <td>You, sir, are my hero. Any chance you remember...</td>\n",
              "      <td>0</td>\n",
              "    </tr>\n",
              "  </tbody>\n",
              "</table>\n",
              "</div>"
            ],
            "text/plain": [
              "                                                text  toxic\n",
              "0  Explanation\\nWhy the edits made under my usern...      0\n",
              "1  D'aww! He matches this background colour I'm s...      0\n",
              "2  Hey man, I'm really not trying to edit war. It...      0\n",
              "3  \"\\nMore\\nI can't make any real suggestions on ...      0\n",
              "4  You, sir, are my hero. Any chance you remember...      0"
            ]
          },
          "metadata": {
            "tags": []
          },
          "execution_count": 3
        }
      ]
    },
    {
      "cell_type": "code",
      "metadata": {
        "colab": {
          "base_uri": "https://localhost:8080/"
        },
        "id": "C0Ux8CzkbI5g",
        "outputId": "f4e2a42c-bc86-447c-caa5-961ee6fd14ba"
      },
      "source": [
        "comments.info()"
      ],
      "execution_count": 4,
      "outputs": [
        {
          "output_type": "stream",
          "text": [
            "<class 'pandas.core.frame.DataFrame'>\n",
            "Int64Index: 159571 entries, 0 to 159570\n",
            "Data columns (total 2 columns):\n",
            " #   Column  Non-Null Count   Dtype \n",
            "---  ------  --------------   ----- \n",
            " 0   text    159571 non-null  object\n",
            " 1   toxic   159571 non-null  int64 \n",
            "dtypes: int64(1), object(1)\n",
            "memory usage: 3.7+ MB\n"
          ],
          "name": "stdout"
        }
      ]
    },
    {
      "cell_type": "markdown",
      "metadata": {
        "id": "3jrfx9DobRMG"
      },
      "source": [
        "В представленном датасете 159571 строк и 2 столбца. Текст сырой, его необходимо будет очистить и ламметизировать. Пропущенных значений нет. Целевым признаком является ['toxic']-оценка токсичности в комментарии ['text']"
      ]
    },
    {
      "cell_type": "code",
      "metadata": {
        "colab": {
          "base_uri": "https://localhost:8080/",
          "height": 401
        },
        "id": "BfvYE0v_bI29",
        "outputId": "62e3c202-3059-447b-f554-4b5a9d225144"
      },
      "source": [
        "# Смотрю как распределен целевой признак\n",
        "temp = pd.DataFrame(comments['toxic'].value_counts())\n",
        "name = pd.Series(['non_toxic', 'toxic'], name='name')\n",
        "temp = temp.join(name)\n",
        "\n",
        "fig, ax = plt.subplots(figsize=(8,6))\n",
        "ax.vlines(x=temp.name, ymin=0, ymax=temp['toxic'], color='dimgrey', alpha=0.85, linewidth=2)\n",
        "ax.scatter(x=temp.name, y=temp['toxic'], s=75, color='firebrick', alpha=0.85)\n",
        "\n",
        "for row in temp.itertuples():\n",
        "    ax.text(row.Index, row.toxic+3000, s=row.toxic, \n",
        "            horizontalalignment= 'center', verticalalignment='bottom', fontsize=10)\n",
        "\n",
        "ax.set_title('Сравнение количества токсичных и обычных комментариев', size=15, y=(1.02))\n",
        "ax.set_ylabel('Комментарии')\n",
        "ax.set_ylim(0, 160000)\n",
        "\n",
        "plt.tight_layout\n",
        "plt.show()\n"
      ],
      "execution_count": 5,
      "outputs": [
        {
          "output_type": "display_data",
          "data": {
            "image/png": "[encoded data removed]",
            "text/plain": [
              "<Figure size 576x432 with 1 Axes>"
            ]
          },
          "metadata": {
            "tags": [],
            "needs_background": "light"
          }
        }
      ]
    },
    {
      "cell_type": "markdown",
      "metadata": {
        "id": "DsQnKsx9bWFI"
      },
      "source": [
        "\"Спокойных\" комментариев ~ в 9 раз больше, чем токсичных. Классы несбалансированы.\n",
        "\n",
        "Переходим к обработке текста.\n",
        "\n",
        "**Токенизация и лемматизация**\n",
        "\n",
        "Создаем корпус, разбиваем его на токены, проводим очистку, лемматизацию и создание tf-idf матриц."
      ]
    },
    {
      "cell_type": "code",
      "metadata": {
        "colab": {
          "base_uri": "https://localhost:8080/"
        },
        "id": "K0iufcDDbI03",
        "outputId": "1435661e-2bac-4d83-8bc5-a26dbc02d3d2"
      },
      "source": [
        "text = comments['text'].values\n",
        "text"
      ],
      "execution_count": 6,
      "outputs": [
        {
          "output_type": "execute_result",
          "data": {
            "text/plain": [
              "array([\"Explanation\\nWhy the edits made under my username Hardcore Metallica Fan were reverted? They weren't vandalisms, just closure on some GAs after I voted at New York Dolls FAC. And please don't remove the template from the talk page since I'm retired now.89.205.38.27\",\n",
              "       \"D'aww! He matches this background colour I'm seemingly stuck with. Thanks.  (talk) 21:51, January 11, 2016 (UTC)\",\n",
              "       \"Hey man, I'm really not trying to edit war. It's just that this guy is constantly removing relevant information and talking to me through edits instead of my talk page. He seems to care more about the formatting than the actual info.\",\n",
              "       ...,\n",
              "       'Spitzer \\n\\nUmm, theres no actual article for prostitution ring.  - Crunch Captain.',\n",
              "       'And it looks like it was actually you who put on the speedy to have the first version deleted now that I look at it.',\n",
              "       '\"\\nAnd ... I really don\\'t think you understand.  I came here and my idea was bad right away.  What kind of community goes \"\"you have bad ideas\"\" go away, instead of helping rewrite them.   \"'],\n",
              "      dtype=object)"
            ]
          },
          "metadata": {
            "tags": []
          },
          "execution_count": 6
        }
      ]
    },
    {
      "cell_type": "code",
      "metadata": {
        "colab": {
          "base_uri": "https://localhost:8080/"
        },
        "id": "d5_dSFHRbIxg",
        "outputId": "aa446f30-66cb-4279-f9d0-0848a9dd7aad"
      },
      "source": [
        "%%time\n",
        "documents = []\n",
        "\n",
        "stemmer = WordNetLemmatizer()\n",
        "\n",
        "for sen in range(0, len(text)):\n",
        "    # Удаляем все специальные символы\n",
        "    document = re.sub(r'\\W', ' ', str(text[sen]))\n",
        "    \n",
        "    # Удаляем единичные символы\n",
        "    document = re.sub(r'\\s+[a-zA-Z]\\s+', ' ', document)\n",
        "    \n",
        "    # Удаляем единычные символы из начала строки\n",
        "    document = re.sub(r'\\^[a-zA-Z]\\s+', ' ', document) \n",
        "    \n",
        "    # Заменяем несколько пробелов на один\n",
        "    document = re.sub(r'\\s+', ' ', document, flags=re.I)\n",
        "    \n",
        "    # Удаляем 'b'\n",
        "    document = re.sub(r'^b\\s+', '', document)\n",
        "    \n",
        "    # Переводим заглавные буквы в строчные\n",
        "    document = document.lower()\n",
        "    \n",
        "    # Лемматизация\n",
        "    document = document.split()\n",
        "    document = [stemmer.lemmatize(word) for word in document]\n",
        "    document = ' '.join(document)\n",
        "    \n",
        "    documents.append(document)"
      ],
      "execution_count": 7,
      "outputs": [
        {
          "output_type": "stream",
          "text": [
            "CPU times: user 42.8 s, sys: 239 ms, total: 43 s\n",
            "Wall time: 43 s\n"
          ],
          "name": "stdout"
        }
      ]
    },
    {
      "cell_type": "code",
      "metadata": {
        "colab": {
          "base_uri": "https://localhost:8080/"
        },
        "id": "ACFUJN7AbIvJ",
        "outputId": "20017547-89d3-4a04-d503-5e7dac74f16b"
      },
      "source": [
        "documents[:3]"
      ],
      "execution_count": 8,
      "outputs": [
        {
          "output_type": "execute_result",
          "data": {
            "text/plain": [
              "['explanation why the edits made under my username hardcore metallica fan were reverted they weren vandalism just closure on some gas after voted at new york doll fac and please don remove the template from the talk page since m retired now 89 205 38 27',\n",
              " 'd aww he match this background colour m seemingly stuck with thanks talk 21 51 january 11 2016 utc',\n",
              " 'hey man m really not trying to edit war it just that this guy is constantly removing relevant information and talking to me through edits instead of my talk page he seems to care more about the formatting than the actual info']"
            ]
          },
          "metadata": {
            "tags": []
          },
          "execution_count": 8
        }
      ]
    },
    {
      "cell_type": "code",
      "metadata": {
        "colab": {
          "base_uri": "https://localhost:8080/"
        },
        "id": "hrPMaFKpbIsF",
        "outputId": "16d3c07b-8b08-4e56-bdb3-52f326f9c895"
      },
      "source": [
        "lemmas = pd.Series(documents, name='lemmas')\n",
        "lemmas.head()"
      ],
      "execution_count": 9,
      "outputs": [
        {
          "output_type": "execute_result",
          "data": {
            "text/plain": [
              "0    explanation why the edits made under my userna...\n",
              "1    d aww he match this background colour m seemin...\n",
              "2    hey man m really not trying to edit war it jus...\n",
              "3    more can make any real suggestion on improveme...\n",
              "4    you sir are my hero any chance you remember wh...\n",
              "Name: lemmas, dtype: object"
            ]
          },
          "metadata": {
            "tags": []
          },
          "execution_count": 9
        }
      ]
    },
    {
      "cell_type": "code",
      "metadata": {
        "colab": {
          "base_uri": "https://localhost:8080/",
          "height": 406
        },
        "id": "hOi9wh24bIpj",
        "outputId": "cd17dcbb-2794-48f9-f548-3a0cdee7cd83"
      },
      "source": [
        "comments = pd.concat([comments, lemmas], axis=1)\n",
        "comments"
      ],
      "execution_count": 10,
      "outputs": [
        {
          "output_type": "execute_result",
          "data": {
            "text/html": [
              "<div>\n",
              "<style scoped>\n",
              "    .dataframe tbody tr th:only-of-type {\n",
              "        vertical-align: middle;\n",
              "    }\n",
              "\n",
              "    .dataframe tbody tr th {\n",
              "        vertical-align: top;\n",
              "    }\n",
              "\n",
              "    .dataframe thead th {\n",
              "        text-align: right;\n",
              "    }\n",
              "</style>\n",
              "<table border=\"1\" class=\"dataframe\">\n",
              "  <thead>\n",
              "    <tr style=\"text-align: right;\">\n",
              "      <th></th>\n",
              "      <th>text</th>\n",
              "      <th>toxic</th>\n",
              "      <th>lemmas</th>\n",
              "    </tr>\n",
              "  </thead>\n",
              "  <tbody>\n",
              "    <tr>\n",
              "      <th>0</th>\n",
              "      <td>Explanation\\nWhy the edits made under my usern...</td>\n",
              "      <td>0</td>\n",
              "      <td>explanation why the edits made under my userna...</td>\n",
              "    </tr>\n",
              "    <tr>\n",
              "      <th>1</th>\n",
              "      <td>D'aww! He matches this background colour I'm s...</td>\n",
              "      <td>0</td>\n",
              "      <td>d aww he match this background colour m seemin...</td>\n",
              "    </tr>\n",
              "    <tr>\n",
              "      <th>2</th>\n",
              "      <td>Hey man, I'm really not trying to edit war. It...</td>\n",
              "      <td>0</td>\n",
              "      <td>hey man m really not trying to edit war it jus...</td>\n",
              "    </tr>\n",
              "    <tr>\n",
              "      <th>3</th>\n",
              "      <td>\"\\nMore\\nI can't make any real suggestions on ...</td>\n",
              "      <td>0</td>\n",
              "      <td>more can make any real suggestion on improveme...</td>\n",
              "    </tr>\n",
              "    <tr>\n",
              "      <th>4</th>\n",
              "      <td>You, sir, are my hero. Any chance you remember...</td>\n",
              "      <td>0</td>\n",
              "      <td>you sir are my hero any chance you remember wh...</td>\n",
              "    </tr>\n",
              "    <tr>\n",
              "      <th>...</th>\n",
              "      <td>...</td>\n",
              "      <td>...</td>\n",
              "      <td>...</td>\n",
              "    </tr>\n",
              "    <tr>\n",
              "      <th>159566</th>\n",
              "      <td>\":::::And for the second time of asking, when ...</td>\n",
              "      <td>0</td>\n",
              "      <td>and for the second time of asking when your vi...</td>\n",
              "    </tr>\n",
              "    <tr>\n",
              "      <th>159567</th>\n",
              "      <td>You should be ashamed of yourself \\n\\nThat is ...</td>\n",
              "      <td>0</td>\n",
              "      <td>you should be ashamed of yourself that is horr...</td>\n",
              "    </tr>\n",
              "    <tr>\n",
              "      <th>159568</th>\n",
              "      <td>Spitzer \\n\\nUmm, theres no actual article for ...</td>\n",
              "      <td>0</td>\n",
              "      <td>spitzer umm there no actual article for prosti...</td>\n",
              "    </tr>\n",
              "    <tr>\n",
              "      <th>159569</th>\n",
              "      <td>And it looks like it was actually you who put ...</td>\n",
              "      <td>0</td>\n",
              "      <td>and it look like it wa actually you who put on...</td>\n",
              "    </tr>\n",
              "    <tr>\n",
              "      <th>159570</th>\n",
              "      <td>\"\\nAnd ... I really don't think you understand...</td>\n",
              "      <td>0</td>\n",
              "      <td>and really don think you understand came here ...</td>\n",
              "    </tr>\n",
              "  </tbody>\n",
              "</table>\n",
              "<p>159571 rows × 3 columns</p>\n",
              "</div>"
            ],
            "text/plain": [
              "                                                     text  ...                                             lemmas\n",
              "0       Explanation\\nWhy the edits made under my usern...  ...  explanation why the edits made under my userna...\n",
              "1       D'aww! He matches this background colour I'm s...  ...  d aww he match this background colour m seemin...\n",
              "2       Hey man, I'm really not trying to edit war. It...  ...  hey man m really not trying to edit war it jus...\n",
              "3       \"\\nMore\\nI can't make any real suggestions on ...  ...  more can make any real suggestion on improveme...\n",
              "4       You, sir, are my hero. Any chance you remember...  ...  you sir are my hero any chance you remember wh...\n",
              "...                                                   ...  ...                                                ...\n",
              "159566  \":::::And for the second time of asking, when ...  ...  and for the second time of asking when your vi...\n",
              "159567  You should be ashamed of yourself \\n\\nThat is ...  ...  you should be ashamed of yourself that is horr...\n",
              "159568  Spitzer \\n\\nUmm, theres no actual article for ...  ...  spitzer umm there no actual article for prosti...\n",
              "159569  And it looks like it was actually you who put ...  ...  and it look like it wa actually you who put on...\n",
              "159570  \"\\nAnd ... I really don't think you understand...  ...  and really don think you understand came here ...\n",
              "\n",
              "[159571 rows x 3 columns]"
            ]
          },
          "metadata": {
            "tags": []
          },
          "execution_count": 10
        }
      ]
    },
    {
      "cell_type": "code",
      "metadata": {
        "id": "p1_piaBubIm5"
      },
      "source": [
        "X = comments['lemmas']\n",
        "y = comments['toxic']"
      ],
      "execution_count": 11,
      "outputs": []
    },
    {
      "cell_type": "markdown",
      "metadata": {
        "id": "g1eFEUQGbpv3"
      },
      "source": [
        "*Устанавливаем единый random_state для всего проекта, разбиваем сет на подвыборки в пропорции 60/20/20.*"
      ]
    },
    {
      "cell_type": "code",
      "metadata": {
        "id": "uoMVJVtqbIj5"
      },
      "source": [
        "RND_ST = 42"
      ],
      "execution_count": 12,
      "outputs": []
    },
    {
      "cell_type": "code",
      "metadata": {
        "id": "h4yHs2BGbIhQ"
      },
      "source": [
        "X_train, X_sub, y_train, y_sub = train_test_split(X, y, test_size=0.4, random_state=RND_ST)\n",
        "X_valid, X_test,  y_valid, y_test = train_test_split(X_sub, y_sub, test_size=0.5, random_state=RND_ST)"
      ],
      "execution_count": 13,
      "outputs": []
    },
    {
      "cell_type": "code",
      "metadata": {
        "colab": {
          "base_uri": "https://localhost:8080/"
        },
        "id": "4lAonjsobIee",
        "outputId": "b58b41c2-e3af-4e5e-c90a-5448a3006920"
      },
      "source": [
        "X_train.shape, X_valid.shape, X_test.shape"
      ],
      "execution_count": 14,
      "outputs": [
        {
          "output_type": "execute_result",
          "data": {
            "text/plain": [
              "((95742,), (31914,), (31915,))"
            ]
          },
          "metadata": {
            "tags": []
          },
          "execution_count": 14
        }
      ]
    },
    {
      "cell_type": "code",
      "metadata": {
        "colab": {
          "base_uri": "https://localhost:8080/"
        },
        "id": "kqTCj_jmbwVy",
        "outputId": "aa666b28-d494-479f-fa38-064c717561ed"
      },
      "source": [
        "tfidfconverter = TfidfVectorizer(max_features=6000, \n",
        "                                 min_df=5, max_df=0.7, \n",
        "                                 stop_words=stopwords.words('english'))\n",
        "\n",
        "tfidfconverter.fit(X_train)"
      ],
      "execution_count": 15,
      "outputs": [
        {
          "output_type": "execute_result",
          "data": {
            "text/plain": [
              "TfidfVectorizer(analyzer='word', binary=False, decode_error='strict',\n",
              "                dtype=<class 'numpy.float64'>, encoding='utf-8',\n",
              "                input='content', lowercase=True, max_df=0.7, max_features=6000,\n",
              "                min_df=5, ngram_range=(1, 1), norm='l2', preprocessor=None,\n",
              "                smooth_idf=True,\n",
              "                stop_words=['i', 'me', 'my', 'myself', 'we', 'our', 'ours',\n",
              "                            'ourselves', 'you', \"you're\", \"you've\", \"you'll\",\n",
              "                            \"you'd\", 'your', 'yours', 'yourself', 'yourselves',\n",
              "                            'he', 'him', 'his', 'himself', 'she', \"she's\",\n",
              "                            'her', 'hers', 'herself', 'it', \"it's\", 'its',\n",
              "                            'itself', ...],\n",
              "                strip_accents=None, sublinear_tf=False,\n",
              "                token_pattern='(?u)\\\\b\\\\w\\\\w+\\\\b', tokenizer=None, use_idf=True,\n",
              "                vocabulary=None)"
            ]
          },
          "metadata": {
            "tags": []
          },
          "execution_count": 15
        }
      ]
    },
    {
      "cell_type": "markdown",
      "metadata": {
        "id": "qoiDmSskbzZO"
      },
      "source": [
        "Конвертируем все выборки в матрицы."
      ]
    },
    {
      "cell_type": "code",
      "metadata": {
        "id": "QELDtIAabwRW"
      },
      "source": [
        "X_train_tf = tfidfconverter.transform(X_train)\n",
        "X_valid_tf = tfidfconverter.transform(X_valid)\n",
        "X_test_tf = tfidfconverter.transform(X_test)"
      ],
      "execution_count": 16,
      "outputs": []
    },
    {
      "cell_type": "code",
      "metadata": {
        "colab": {
          "base_uri": "https://localhost:8080/"
        },
        "id": "uA_0lMcZbwPg",
        "outputId": "30f4883d-5466-45ff-f681-39f7c34a67ff"
      },
      "source": [
        "X_train_tf"
      ],
      "execution_count": 17,
      "outputs": [
        {
          "output_type": "execute_result",
          "data": {
            "text/plain": [
              "<95742x6000 sparse matrix of type '<class 'numpy.float64'>'\n",
              "\twith 2284469 stored elements in Compressed Sparse Row format>"
            ]
          },
          "metadata": {
            "tags": []
          },
          "execution_count": 17
        }
      ]
    },
    {
      "cell_type": "markdown",
      "metadata": {
        "id": "cXjwJEeOb4Uu"
      },
      "source": [
        "**Вывод**\n",
        "\n",
        "На данном этапе произведен анализ данных и предобработка текста в читаемый моделями вид.\n",
        "\n",
        "В исходном датасете содержаться ~160 тысяч комментариев, десятая часть которых являются токсичными. Пропусков не обнаружено.\n",
        "\n",
        "Предобработка была произведена библиотекой nltk и трансформером TfidfVectorizer\n",
        "\n",
        "На следующем шаге будет произведен тест работы моделей на подготовленных данных."
      ]
    },
    {
      "cell_type": "markdown",
      "metadata": {
        "id": "yWwp6OdCb7od"
      },
      "source": [
        "## Обучение и тестирование моделей"
      ]
    },
    {
      "cell_type": "markdown",
      "metadata": {
        "id": "8JXYxhAYb-kG"
      },
      "source": [
        "В тестировании будем использовать в основном линейные модели, как самые быстрые и удобные при работе с текстом.\n",
        "\n",
        "Создадим таблицу, в которую будем вносить полученные значения метрики f1."
      ]
    },
    {
      "cell_type": "code",
      "metadata": {
        "colab": {
          "base_uri": "https://localhost:8080/",
          "height": 137
        },
        "id": "4fTMfndRbwLi",
        "outputId": "1c3019d2-6059-418a-b5e7-c302c1830197"
      },
      "source": [
        "res = {\n",
        "    'name_model':pd.Series(['LogReg','LinSVM','SGD']),\n",
        "    'f1_val_nltk':pd.Series([]),\n",
        "    'f1_val_bert':pd.Series([]),\n",
        "    'f1_test_nltk':pd.Series([]),\n",
        "    'f1_test_bert':pd.Series([]),\n",
        "}\n",
        "result = pd.DataFrame(res)\n",
        "result"
      ],
      "execution_count": 18,
      "outputs": [
        {
          "output_type": "execute_result",
          "data": {
            "text/html": [
              "<div>\n",
              "<style scoped>\n",
              "    .dataframe tbody tr th:only-of-type {\n",
              "        vertical-align: middle;\n",
              "    }\n",
              "\n",
              "    .dataframe tbody tr th {\n",
              "        vertical-align: top;\n",
              "    }\n",
              "\n",
              "    .dataframe thead th {\n",
              "        text-align: right;\n",
              "    }\n",
              "</style>\n",
              "<table border=\"1\" class=\"dataframe\">\n",
              "  <thead>\n",
              "    <tr style=\"text-align: right;\">\n",
              "      <th></th>\n",
              "      <th>name_model</th>\n",
              "      <th>f1_val_nltk</th>\n",
              "      <th>f1_val_bert</th>\n",
              "      <th>f1_test_nltk</th>\n",
              "      <th>f1_test_bert</th>\n",
              "    </tr>\n",
              "  </thead>\n",
              "  <tbody>\n",
              "    <tr>\n",
              "      <th>0</th>\n",
              "      <td>LogReg</td>\n",
              "      <td>NaN</td>\n",
              "      <td>NaN</td>\n",
              "      <td>NaN</td>\n",
              "      <td>NaN</td>\n",
              "    </tr>\n",
              "    <tr>\n",
              "      <th>1</th>\n",
              "      <td>LinSVM</td>\n",
              "      <td>NaN</td>\n",
              "      <td>NaN</td>\n",
              "      <td>NaN</td>\n",
              "      <td>NaN</td>\n",
              "    </tr>\n",
              "    <tr>\n",
              "      <th>2</th>\n",
              "      <td>SGD</td>\n",
              "      <td>NaN</td>\n",
              "      <td>NaN</td>\n",
              "      <td>NaN</td>\n",
              "      <td>NaN</td>\n",
              "    </tr>\n",
              "  </tbody>\n",
              "</table>\n",
              "</div>"
            ],
            "text/plain": [
              "  name_model  f1_val_nltk  f1_val_bert  f1_test_nltk  f1_test_bert\n",
              "0     LogReg          NaN          NaN           NaN           NaN\n",
              "1     LinSVM          NaN          NaN           NaN           NaN\n",
              "2        SGD          NaN          NaN           NaN           NaN"
            ]
          },
          "metadata": {
            "tags": []
          },
          "execution_count": 18
        }
      ]
    },
    {
      "cell_type": "markdown",
      "metadata": {
        "id": "3YG2UsrOcDxF"
      },
      "source": [
        "**Logistic Regression**\n",
        "\n",
        "Как обычно, подбираем параметры через GridSearch."
      ]
    },
    {
      "cell_type": "code",
      "metadata": {
        "id": "cuvNp2HHbwIf"
      },
      "source": [
        "def grid_search(model, params, features, target):\n",
        "    \n",
        "    search = GridSearchCV(model, params, verbose=1, cv=5, scoring='f1', n_jobs=-1)\n",
        "    search.fit(features, target)\n",
        "    \n",
        "    print(search.best_score_)\n",
        "    print(search.best_params_)"
      ],
      "execution_count": 19,
      "outputs": []
    },
    {
      "cell_type": "markdown",
      "metadata": {
        "id": "kZsH74H_cHub"
      },
      "source": [
        "Создадим функицю, которая будет выводить f1-score и матрицу ошибок обученной модели на новых данный."
      ]
    },
    {
      "cell_type": "code",
      "metadata": {
        "id": "kUyzEnR3bwGr"
      },
      "source": [
        "def model_report(fitted_model, feature, target):\n",
        "\n",
        "    pred = fitted_model.predict(feature)\n",
        "    conf_matrix = confusion_matrix(target, pred)\n",
        "    \n",
        "    print('f1_score = {:.3}'.format(f1_score(target, pred)))\n",
        "    \n",
        "    plt.figure(figsize=(4,4))\n",
        "    sns.heatmap(conf_matrix,annot=True,cmap=\"Blues\",fmt=\"d\",cbar=False)\n",
        "    plt.title('Confusion matrix');"
      ],
      "execution_count": 20,
      "outputs": []
    },
    {
      "cell_type": "markdown",
      "metadata": {
        "id": "nkHbv1LQcMqg"
      },
      "source": [
        "Возвращаемся к логистической регрессии."
      ]
    },
    {
      "cell_type": "code",
      "metadata": {
        "id": "v0ER_DAIbwCe"
      },
      "source": [
        "lr = LogisticRegression(random_state=RND_ST)\n",
        "\n",
        "lr_params = dict(C = [0.1,1,10,100], \n",
        "                 tol = [1e-03, 1e-04, 1e-05])"
      ],
      "execution_count": 21,
      "outputs": []
    },
    {
      "cell_type": "code",
      "metadata": {
        "colab": {
          "base_uri": "https://localhost:8080/"
        },
        "id": "wirXp_xCbwAK",
        "outputId": "5148b89a-c6b7-45d3-a2e2-cce56bb83205"
      },
      "source": [
        "grid_search(lr, lr_params, X_train_tf, y_train)"
      ],
      "execution_count": 22,
      "outputs": [
        {
          "output_type": "stream",
          "text": [
            "Fitting 5 folds for each of 12 candidates, totalling 60 fits\n"
          ],
          "name": "stdout"
        },
        {
          "output_type": "stream",
          "text": [
            "[Parallel(n_jobs=-1)]: Using backend LokyBackend with 2 concurrent workers.\n",
            "[Parallel(n_jobs=-1)]: Done  46 tasks      | elapsed:   34.3s\n",
            "[Parallel(n_jobs=-1)]: Done  60 out of  60 | elapsed:   47.6s finished\n"
          ],
          "name": "stderr"
        },
        {
          "output_type": "stream",
          "text": [
            "0.7605246575024063\n",
            "{'C': 10, 'tol': 0.001}\n"
          ],
          "name": "stdout"
        }
      ]
    },
    {
      "cell_type": "code",
      "metadata": {
        "id": "PwHBcXtdbv8-"
      },
      "source": [
        "lr_final = LogisticRegression(C=10, tol=0.0001)\n",
        "\n",
        "lr_final.fit(X_train_tf, y_train);"
      ],
      "execution_count": 23,
      "outputs": []
    },
    {
      "cell_type": "markdown",
      "metadata": {
        "id": "NxMMQEYlcWjl"
      },
      "source": [
        "Проверяем на трейне и смотрим, что на валидационной выборке.\n"
      ]
    },
    {
      "cell_type": "code",
      "metadata": {
        "colab": {
          "base_uri": "https://localhost:8080/"
        },
        "id": "vE7Xl714bv6c",
        "outputId": "f9434700-87fd-4a28-d5a0-7f30a314dc01"
      },
      "source": [
        "f1_score(y_train, lr_final.predict(X_train_tf))"
      ],
      "execution_count": 24,
      "outputs": [
        {
          "output_type": "execute_result",
          "data": {
            "text/plain": [
              "0.8236972775526511"
            ]
          },
          "metadata": {
            "tags": []
          },
          "execution_count": 24
        }
      ]
    },
    {
      "cell_type": "code",
      "metadata": {
        "colab": {
          "base_uri": "https://localhost:8080/",
          "height": 298
        },
        "id": "R_bOiyjYbv4Q",
        "outputId": "d0bbc754-9626-45cb-c4ad-4d07212ffdf1"
      },
      "source": [
        "model_report(lr_final, X_valid_tf, y_valid)"
      ],
      "execution_count": 25,
      "outputs": [
        {
          "output_type": "stream",
          "text": [
            "f1_score = 0.765\n"
          ],
          "name": "stdout"
        },
        {
          "output_type": "display_data",
          "data": {
            "image/png": "[encoded data removed]",
            "text/plain": [
              "<Figure size 288x288 with 1 Axes>"
            ]
          },
          "metadata": {
            "tags": [],
            "needs_background": "light"
          }
        }
      ]
    },
    {
      "cell_type": "markdown",
      "metadata": {
        "id": "pzmqz2L5cdKd"
      },
      "source": [
        "\"Проходной\" балл на валидационном сете, однако, заметно достаточно большое количество ложно-положительных предсказаний модели."
      ]
    },
    {
      "cell_type": "code",
      "metadata": {
        "id": "CDg7k3FGbv0W"
      },
      "source": [
        "result.loc[0, 'f1_val_nltk'] = 0.765"
      ],
      "execution_count": 26,
      "outputs": []
    },
    {
      "cell_type": "markdown",
      "metadata": {
        "id": "4qa5zri4cjBc"
      },
      "source": [
        "**Линейный опорный вектор**"
      ]
    },
    {
      "cell_type": "code",
      "metadata": {
        "id": "86BZVTx5bvxd"
      },
      "source": [
        "svm = LinearSVC(random_state = RND_ST)\n",
        "\n",
        "svm_params = dict(C=[0.1,1,10,100],\n",
        "                  max_iter=[1000,2000])"
      ],
      "execution_count": 27,
      "outputs": []
    },
    {
      "cell_type": "code",
      "metadata": {
        "id": "jI__zTpwcf1u"
      },
      "source": [
        "svm_final = LinearSVC(C=1, max_iter=1000, random_state=RND_ST)\n",
        "\n",
        "svm_final.fit(X_train_tf, y_train);"
      ],
      "execution_count": 28,
      "outputs": []
    },
    {
      "cell_type": "code",
      "metadata": {
        "colab": {
          "base_uri": "https://localhost:8080/"
        },
        "id": "n0UR9w8scfzO",
        "outputId": "9ba05bc0-32dd-44bb-d46b-07ac800c670f"
      },
      "source": [
        "f1_score(y_train, svm_final.predict(X_train_tf))"
      ],
      "execution_count": 29,
      "outputs": [
        {
          "output_type": "execute_result",
          "data": {
            "text/plain": [
              "0.8200403109703426"
            ]
          },
          "metadata": {
            "tags": []
          },
          "execution_count": 29
        }
      ]
    },
    {
      "cell_type": "code",
      "metadata": {
        "colab": {
          "base_uri": "https://localhost:8080/",
          "height": 298
        },
        "id": "b9aZJ4sfcfxu",
        "outputId": "6802f43f-71ec-4436-f728-720b9c0a4421"
      },
      "source": [
        "model_report(svm_final, X_valid_tf, y_valid)"
      ],
      "execution_count": 30,
      "outputs": [
        {
          "output_type": "stream",
          "text": [
            "f1_score = 0.767\n"
          ],
          "name": "stdout"
        },
        {
          "output_type": "display_data",
          "data": {
            "image/png": "[encoded data removed]",
            "text/plain": [
              "<Figure size 288x288 with 1 Axes>"
            ]
          },
          "metadata": {
            "tags": [],
            "needs_background": "light"
          }
        }
      ]
    },
    {
      "cell_type": "markdown",
      "metadata": {
        "id": "TltwR2oCcr3Z"
      },
      "source": [
        "Слегка улучшили количество ложно-отрицательных ответов, при этом, незначительно увеличелось количество ложно-положительных. На 1 сотую улучшилась общая метрика f1."
      ]
    },
    {
      "cell_type": "code",
      "metadata": {
        "colab": {
          "base_uri": "https://localhost:8080/",
          "height": 137
        },
        "id": "RTvYBVv6cfwS",
        "outputId": "5d47aa7a-a092-4669-856f-172fc192ed8c"
      },
      "source": [
        "result.loc[1, 'f1_val_nltk'] = 0.767\n",
        "result"
      ],
      "execution_count": 31,
      "outputs": [
        {
          "output_type": "execute_result",
          "data": {
            "text/html": [
              "<div>\n",
              "<style scoped>\n",
              "    .dataframe tbody tr th:only-of-type {\n",
              "        vertical-align: middle;\n",
              "    }\n",
              "\n",
              "    .dataframe tbody tr th {\n",
              "        vertical-align: top;\n",
              "    }\n",
              "\n",
              "    .dataframe thead th {\n",
              "        text-align: right;\n",
              "    }\n",
              "</style>\n",
              "<table border=\"1\" class=\"dataframe\">\n",
              "  <thead>\n",
              "    <tr style=\"text-align: right;\">\n",
              "      <th></th>\n",
              "      <th>name_model</th>\n",
              "      <th>f1_val_nltk</th>\n",
              "      <th>f1_val_bert</th>\n",
              "      <th>f1_test_nltk</th>\n",
              "      <th>f1_test_bert</th>\n",
              "    </tr>\n",
              "  </thead>\n",
              "  <tbody>\n",
              "    <tr>\n",
              "      <th>0</th>\n",
              "      <td>LogReg</td>\n",
              "      <td>0.765</td>\n",
              "      <td>NaN</td>\n",
              "      <td>NaN</td>\n",
              "      <td>NaN</td>\n",
              "    </tr>\n",
              "    <tr>\n",
              "      <th>1</th>\n",
              "      <td>LinSVM</td>\n",
              "      <td>0.767</td>\n",
              "      <td>NaN</td>\n",
              "      <td>NaN</td>\n",
              "      <td>NaN</td>\n",
              "    </tr>\n",
              "    <tr>\n",
              "      <th>2</th>\n",
              "      <td>SGD</td>\n",
              "      <td>NaN</td>\n",
              "      <td>NaN</td>\n",
              "      <td>NaN</td>\n",
              "      <td>NaN</td>\n",
              "    </tr>\n",
              "  </tbody>\n",
              "</table>\n",
              "</div>"
            ],
            "text/plain": [
              "  name_model  f1_val_nltk  f1_val_bert  f1_test_nltk  f1_test_bert\n",
              "0     LogReg        0.765          NaN           NaN           NaN\n",
              "1     LinSVM        0.767          NaN           NaN           NaN\n",
              "2        SGD          NaN          NaN           NaN           NaN"
            ]
          },
          "metadata": {
            "tags": []
          },
          "execution_count": 31
        }
      ]
    },
    {
      "cell_type": "markdown",
      "metadata": {
        "id": "aV3KgByGczjl"
      },
      "source": [
        "**Stochastic Gradient Descent Classifier**"
      ]
    },
    {
      "cell_type": "code",
      "metadata": {
        "id": "iR-bNyxVcfqN"
      },
      "source": [
        "sgd = SGDClassifier(random_state=RND_ST)\n",
        "\n",
        "sgd_params = dict(alpha=[1e-04, 1e-05, 1e-06],\n",
        "                  penalty=['l1','l2'])"
      ],
      "execution_count": 32,
      "outputs": []
    },
    {
      "cell_type": "code",
      "metadata": {
        "colab": {
          "base_uri": "https://localhost:8080/"
        },
        "id": "bybhITzVcfoe",
        "outputId": "7a5146ab-6500-4652-84bb-5db1c7341679"
      },
      "source": [
        "grid_search(sgd, sgd_params, X_train_tf, y_train)"
      ],
      "execution_count": 33,
      "outputs": [
        {
          "output_type": "stream",
          "text": [
            "Fitting 5 folds for each of 6 candidates, totalling 30 fits\n"
          ],
          "name": "stdout"
        },
        {
          "output_type": "stream",
          "text": [
            "[Parallel(n_jobs=-1)]: Using backend LokyBackend with 2 concurrent workers.\n",
            "[Parallel(n_jobs=-1)]: Done  30 out of  30 | elapsed:    7.1s finished\n"
          ],
          "name": "stderr"
        },
        {
          "output_type": "stream",
          "text": [
            "0.7678489539887451\n",
            "{'alpha': 1e-05, 'penalty': 'l1'}\n"
          ],
          "name": "stdout"
        }
      ]
    },
    {
      "cell_type": "code",
      "metadata": {
        "id": "3m8bRK1kcfnF"
      },
      "source": [
        "sgd_final = SGDClassifier(alpha=1e-05, penalty='l1', random_state=RND_ST)\n",
        "\n",
        "sgd_final.fit(X_train_tf, y_train);"
      ],
      "execution_count": 34,
      "outputs": []
    },
    {
      "cell_type": "code",
      "metadata": {
        "colab": {
          "base_uri": "https://localhost:8080/"
        },
        "id": "Y2l4IpXzcfhn",
        "outputId": "eb676b95-9cfe-4d39-cb92-f9846940b87b"
      },
      "source": [
        "f1_score(y_train, sgd_final.predict(X_train_tf))"
      ],
      "execution_count": 35,
      "outputs": [
        {
          "output_type": "execute_result",
          "data": {
            "text/plain": [
              "0.7920826764757402"
            ]
          },
          "metadata": {
            "tags": []
          },
          "execution_count": 35
        }
      ]
    },
    {
      "cell_type": "code",
      "metadata": {
        "colab": {
          "base_uri": "https://localhost:8080/",
          "height": 298
        },
        "id": "kiyERfnEcfgO",
        "outputId": "fff6b6e0-0682-407c-b8c0-94a4b9308d68"
      },
      "source": [
        "model_report(sgd_final, X_valid_tf, y_valid)"
      ],
      "execution_count": 36,
      "outputs": [
        {
          "output_type": "stream",
          "text": [
            "f1_score = 0.771\n"
          ],
          "name": "stdout"
        },
        {
          "output_type": "display_data",
          "data": {
            "image/png": "[encoded data removed]",
            "text/plain": [
              "<Figure size 288x288 with 1 Axes>"
            ]
          },
          "metadata": {
            "tags": [],
            "needs_background": "light"
          }
        }
      ]
    },
    {
      "cell_type": "markdown",
      "metadata": {
        "id": "MFKyfBZcc_ev"
      },
      "source": [
        "f1 удалось увеличить на 0,1 пункта за счет снижения ложно-отрицательных ответов и небольшого снижения ложно-положительных."
      ]
    },
    {
      "cell_type": "code",
      "metadata": {
        "colab": {
          "base_uri": "https://localhost:8080/",
          "height": 137
        },
        "id": "3zUl4VK2cfew",
        "outputId": "add218b9-8b77-42be-c93d-7d1292e561c2"
      },
      "source": [
        "result.loc[2, 'f1_val_nltk'] = 0.771\n",
        "result"
      ],
      "execution_count": 37,
      "outputs": [
        {
          "output_type": "execute_result",
          "data": {
            "text/html": [
              "<div>\n",
              "<style scoped>\n",
              "    .dataframe tbody tr th:only-of-type {\n",
              "        vertical-align: middle;\n",
              "    }\n",
              "\n",
              "    .dataframe tbody tr th {\n",
              "        vertical-align: top;\n",
              "    }\n",
              "\n",
              "    .dataframe thead th {\n",
              "        text-align: right;\n",
              "    }\n",
              "</style>\n",
              "<table border=\"1\" class=\"dataframe\">\n",
              "  <thead>\n",
              "    <tr style=\"text-align: right;\">\n",
              "      <th></th>\n",
              "      <th>name_model</th>\n",
              "      <th>f1_val_nltk</th>\n",
              "      <th>f1_val_bert</th>\n",
              "      <th>f1_test_nltk</th>\n",
              "      <th>f1_test_bert</th>\n",
              "    </tr>\n",
              "  </thead>\n",
              "  <tbody>\n",
              "    <tr>\n",
              "      <th>0</th>\n",
              "      <td>LogReg</td>\n",
              "      <td>0.765</td>\n",
              "      <td>NaN</td>\n",
              "      <td>NaN</td>\n",
              "      <td>NaN</td>\n",
              "    </tr>\n",
              "    <tr>\n",
              "      <th>1</th>\n",
              "      <td>LinSVM</td>\n",
              "      <td>0.767</td>\n",
              "      <td>NaN</td>\n",
              "      <td>NaN</td>\n",
              "      <td>NaN</td>\n",
              "    </tr>\n",
              "    <tr>\n",
              "      <th>2</th>\n",
              "      <td>SGD</td>\n",
              "      <td>0.771</td>\n",
              "      <td>NaN</td>\n",
              "      <td>NaN</td>\n",
              "      <td>NaN</td>\n",
              "    </tr>\n",
              "  </tbody>\n",
              "</table>\n",
              "</div>"
            ],
            "text/plain": [
              "  name_model  f1_val_nltk  f1_val_bert  f1_test_nltk  f1_test_bert\n",
              "0     LogReg        0.765          NaN           NaN           NaN\n",
              "1     LinSVM        0.767          NaN           NaN           NaN\n",
              "2        SGD        0.771          NaN           NaN           NaN"
            ]
          },
          "metadata": {
            "tags": []
          },
          "execution_count": 37
        }
      ]
    },
    {
      "cell_type": "markdown",
      "metadata": {
        "id": "YDWcajGHdXOD"
      },
      "source": [
        "## Тестирование моделей"
      ]
    },
    {
      "cell_type": "code",
      "metadata": {
        "id": "Y64zF9zndaa-",
        "colab": {
          "base_uri": "https://localhost:8080/",
          "height": 298
        },
        "outputId": "2983d9f2-5ccd-403a-cab3-475e3ea5d221"
      },
      "source": [
        "model_report(lr_final, X_test_tf, y_test)"
      ],
      "execution_count": 38,
      "outputs": [
        {
          "output_type": "stream",
          "text": [
            "f1_score = 0.766\n"
          ],
          "name": "stdout"
        },
        {
          "output_type": "display_data",
          "data": {
            "image/png": "[encoded data removed]",
            "text/plain": [
              "<Figure size 288x288 with 1 Axes>"
            ]
          },
          "metadata": {
            "tags": [],
            "needs_background": "light"
          }
        }
      ]
    },
    {
      "cell_type": "code",
      "metadata": {
        "id": "vQvGqSyQdaY4"
      },
      "source": [
        "result.loc[0, 'f1_test_nltk'] = 0.764"
      ],
      "execution_count": 39,
      "outputs": []
    },
    {
      "cell_type": "code",
      "metadata": {
        "id": "tAbOI2GcdaXI",
        "colab": {
          "base_uri": "https://localhost:8080/",
          "height": 298
        },
        "outputId": "9daa9a18-ae88-4906-85ea-022502108fbb"
      },
      "source": [
        "model_report(svm_final, X_test_tf, y_test)"
      ],
      "execution_count": 40,
      "outputs": [
        {
          "output_type": "stream",
          "text": [
            "f1_score = 0.769\n"
          ],
          "name": "stdout"
        },
        {
          "output_type": "display_data",
          "data": {
            "image/png": "[encoded data removed]",
            "text/plain": [
              "<Figure size 288x288 with 1 Axes>"
            ]
          },
          "metadata": {
            "tags": [],
            "needs_background": "light"
          }
        }
      ]
    },
    {
      "cell_type": "code",
      "metadata": {
        "id": "hm7IWzL6daVW"
      },
      "source": [
        "result.loc[1, 'f1_test_nltk'] = 0.769"
      ],
      "execution_count": 41,
      "outputs": []
    },
    {
      "cell_type": "code",
      "metadata": {
        "id": "ECM2cnJYdaTo",
        "colab": {
          "base_uri": "https://localhost:8080/",
          "height": 298
        },
        "outputId": "cf514799-83ee-45ce-f5af-6c2836a254f8"
      },
      "source": [
        "model_report(sgd_final, X_test_tf, y_test)"
      ],
      "execution_count": 42,
      "outputs": [
        {
          "output_type": "stream",
          "text": [
            "f1_score = 0.777\n"
          ],
          "name": "stdout"
        },
        {
          "output_type": "display_data",
          "data": {
            "image/png": "[encoded data removed]",
            "text/plain": [
              "<Figure size 288x288 with 1 Axes>"
            ]
          },
          "metadata": {
            "tags": [],
            "needs_background": "light"
          }
        }
      ]
    },
    {
      "cell_type": "code",
      "metadata": {
        "id": "At0ebdkcdaSC"
      },
      "source": [
        "result.loc[2, 'f1_test_nltk'] = 0.791"
      ],
      "execution_count": 43,
      "outputs": []
    },
    {
      "cell_type": "code",
      "metadata": {
        "id": "PkCJi3lAdkMc",
        "colab": {
          "base_uri": "https://localhost:8080/",
          "height": 137
        },
        "outputId": "ad92805d-1376-4670-94ae-05b3496f4976"
      },
      "source": [
        "result"
      ],
      "execution_count": 44,
      "outputs": [
        {
          "output_type": "execute_result",
          "data": {
            "text/html": [
              "<div>\n",
              "<style scoped>\n",
              "    .dataframe tbody tr th:only-of-type {\n",
              "        vertical-align: middle;\n",
              "    }\n",
              "\n",
              "    .dataframe tbody tr th {\n",
              "        vertical-align: top;\n",
              "    }\n",
              "\n",
              "    .dataframe thead th {\n",
              "        text-align: right;\n",
              "    }\n",
              "</style>\n",
              "<table border=\"1\" class=\"dataframe\">\n",
              "  <thead>\n",
              "    <tr style=\"text-align: right;\">\n",
              "      <th></th>\n",
              "      <th>name_model</th>\n",
              "      <th>f1_val_nltk</th>\n",
              "      <th>f1_val_bert</th>\n",
              "      <th>f1_test_nltk</th>\n",
              "      <th>f1_test_bert</th>\n",
              "    </tr>\n",
              "  </thead>\n",
              "  <tbody>\n",
              "    <tr>\n",
              "      <th>0</th>\n",
              "      <td>LogReg</td>\n",
              "      <td>0.765</td>\n",
              "      <td>NaN</td>\n",
              "      <td>0.764</td>\n",
              "      <td>NaN</td>\n",
              "    </tr>\n",
              "    <tr>\n",
              "      <th>1</th>\n",
              "      <td>LinSVM</td>\n",
              "      <td>0.767</td>\n",
              "      <td>NaN</td>\n",
              "      <td>0.769</td>\n",
              "      <td>NaN</td>\n",
              "    </tr>\n",
              "    <tr>\n",
              "      <th>2</th>\n",
              "      <td>SGD</td>\n",
              "      <td>0.771</td>\n",
              "      <td>NaN</td>\n",
              "      <td>0.791</td>\n",
              "      <td>NaN</td>\n",
              "    </tr>\n",
              "  </tbody>\n",
              "</table>\n",
              "</div>"
            ],
            "text/plain": [
              "  name_model  f1_val_nltk  f1_val_bert  f1_test_nltk  f1_test_bert\n",
              "0     LogReg        0.765          NaN         0.764           NaN\n",
              "1     LinSVM        0.767          NaN         0.769           NaN\n",
              "2        SGD        0.771          NaN         0.791           NaN"
            ]
          },
          "metadata": {
            "tags": []
          },
          "execution_count": 44
        }
      ]
    },
    {
      "cell_type": "code",
      "metadata": {
        "id": "yoM9seRTdkKt"
      },
      "source": [
        "temp = result[['name_model','f1_test_nltk']].sort_values(by='f1_test_nltk')"
      ],
      "execution_count": 46,
      "outputs": []
    },
    {
      "cell_type": "code",
      "metadata": {
        "id": "wnHWpDIndkDV",
        "colab": {
          "base_uri": "https://localhost:8080/",
          "height": 387
        },
        "outputId": "a920cfe4-62c0-48f6-8948-e0c53034f3eb"
      },
      "source": [
        "sns.set_style('whitegrid')\n",
        "\n",
        "sns.catplot(x='name_model', y='f1_test_nltk', data=temp, kind=\"bar\", color='darkgrey')\n",
        "plt.xlabel('')\n",
        "plt.ylabel('f1_score on a test subset')\n",
        "plt.ylim(0.74,0.78)\n",
        "plt.title('Сравнение работы моделей на тестовой выборке', size=15);"
      ],
      "execution_count": 47,
      "outputs": [
        {
          "output_type": "display_data",
          "data": {
            "image/png": "[encoded data removed]",
            "text/plain": [
              "<Figure size 360x360 with 1 Axes>"
            ]
          },
          "metadata": {
            "tags": []
          }
        }
      ]
    },
    {
      "cell_type": "markdown",
      "metadata": {
        "id": "FQFDpOrodpoR"
      },
      "source": [
        "Из результатов исследования можно заключить, что модель SGD продемонстрировала лучший результат, преодолев отметку f1 = 0,777 на тестовой выборке. Это средний результат, однако он подходит под нижний предел задания.\n",
        "\n",
        "Необходимо только разобраться с БЕРТОМ, уверен, что лучшая предобработка данных позволить получить лучшие показатели."
      ]
    },
    {
      "cell_type": "markdown",
      "metadata": {
        "id": "WuT87O333fAi"
      },
      "source": [
        "## Вывод\n",
        "На втором этапе исследования происходило сравнение работы моделей на предобработанных данных. Основной стак составляли линейные модели, обладающие высокой скоростью работы и достаточно высокой степенью качества прогноза. Дополнительно был протестирован градиентный ансамбль catboost.\n",
        "Лучший показатель f1 принадлежит модели SGDClassifier: 0,771 и 0,777 на проверочной и тестовой выборках, соотвественно.\n",
        "\n",
        "## Общий вывод\n",
        "В первом работе по работе с текстом перед нами стояла задача создать модель, способную отличать токсичные комментарии от обычных, и делать это с показателем метрики f1 >= 0.75.\n",
        "\n",
        "На первом этапе было произведено знакомство с даннымы, указано отсутсвие пропусков и выявлена общая информация о датасете.\n",
        "Далее последовала предобработка с лемматизацией, удалением ненужных символов и переводом комментариев в матрицы tf-idf.\n",
        "\n",
        "На втором шаге были протестированы 4 модели - три представителя линейных классификаторов и ансамбль градиентного спуска. На тестовой выборке все модели показали допустимый результат. Лучший показатель у SGDClassifier - 0.79 на тестовой выборке.\n",
        "\n",
        "Несмотря на \"проходимость\" результата, продолжаю искать новые пути и методы для улучшения качества предсказания."
      ]
    }
  ]
}
