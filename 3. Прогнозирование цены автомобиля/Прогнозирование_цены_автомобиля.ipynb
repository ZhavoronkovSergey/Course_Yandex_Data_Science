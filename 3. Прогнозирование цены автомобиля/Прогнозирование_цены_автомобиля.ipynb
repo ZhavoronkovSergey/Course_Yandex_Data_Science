{
  "nbformat": 4,
  "nbformat_minor": 0,
  "metadata": {
    "colab": {
      "name": "Прогнозирование цены автомобиля.ipynb",
      "provenance": [],
      "toc_visible": true
    },
    "kernelspec": {
      "name": "python3",
      "display_name": "Python 3"
    }
  },
  "cells": [
    {
      "cell_type": "markdown",
      "metadata": {
        "id": "KPk5W1_WaaRB"
      },
      "source": [
        "## Описание проекта\n",
        "\n",
        "Сервис по продаже автомобилей с пробегом «Не бит, не крашен» разрабатывает приложение для привлечения новых клиентов. В нём можно быстро узнать рыночную стоимость своего автомобиля. В вашем распоряжении исторические данные: технические характеристики, комплектации и цены автомобилей. Вам нужно построить модель для определения стоимости.\n",
        "\n",
        "**Заказчику важны:**\n",
        "* качество предсказания;\n",
        "* скорость предсказания;\n",
        "* время обучения.\n",
        "\n",
        "*Инструкция по выполнению проекта*\n",
        "\n",
        "* Загрузите и подготовьте данные.\n",
        "* Обучите разные модели с различными гиперпараметрами.\n",
        "* Проанализируйте скорость работы и качество моделей.\n",
        "\n",
        "*Примечания:*\n",
        "\n",
        "* Для оценки качества моделей применяйте метрику RMSE.\n",
        "* Самостоятельно освойте библиотеку LightGBM и её средствами постройте модели градиентного бустинга.\n",
        "* Время выполнения ячейки кода Jupyter Notebook можно получить специальной командой. Найдите её.\n",
        "* Поскольку модель градиентного бустинга может обучаться долго, измените у неё только два-три параметра.\n",
        "* Если перестанет работать Jupyter Notebook, удалите лишние переменные оператором del:\n",
        "del features_train\n",
        "\n",
        "**Описание данных**\n",
        "\n",
        "*Признаки*\n",
        "\n",
        "* DateCrawled — дата скачивания анкеты из базы\n",
        "* VehicleType — тип автомобильного кузова\n",
        "* RegistrationYear — год регистрации автомобиля\n",
        "* Gearbox — тип коробки передач\n",
        "* Power — мощность (л. с.)\n",
        "* Model — модель автомобиля\n",
        "* Kilometer — пробег (км)\n",
        "* RegistrationMonth — месяц регистрации автомобиля\n",
        "* FuelType — тип топлива\n",
        "* Brand — марка автомобиля\n",
        "* NotRepaired — была машина в ремонте или нет\n",
        "* DateCreated — дата создания анкеты\n",
        "* NumberOfPictures — количество фотографий автомобиля\n",
        "* PostalCode — почтовый индекс владельца анкеты (пользователя)\n",
        "* LastSeen — дата последней активности пользователя\n",
        "\n",
        "**Целевой признак**\n",
        "\n",
        "* Price — цена (евро)"
      ]
    },
    {
      "cell_type": "code",
      "metadata": {
        "colab": {
          "base_uri": "https://localhost:8080/"
        },
        "id": "lR9K1qwXcomz",
        "outputId": "7b5867b1-bb3b-4561-b988-3c2e5b8cddba"
      },
      "source": [
        "!pip install catboost"
      ],
      "execution_count": 229,
      "outputs": [
        {
          "output_type": "stream",
          "text": [
            "Requirement already satisfied: catboost in /usr/local/lib/python3.7/dist-packages (0.24.4)\n",
            "Requirement already satisfied: plotly in /usr/local/lib/python3.7/dist-packages (from catboost) (4.4.1)\n",
            "Requirement already satisfied: matplotlib in /usr/local/lib/python3.7/dist-packages (from catboost) (3.2.2)\n",
            "Requirement already satisfied: six in /usr/local/lib/python3.7/dist-packages (from catboost) (1.15.0)\n",
            "Requirement already satisfied: numpy>=1.16.0 in /usr/local/lib/python3.7/dist-packages (from catboost) (1.19.5)\n",
            "Requirement already satisfied: scipy in /usr/local/lib/python3.7/dist-packages (from catboost) (1.4.1)\n",
            "Requirement already satisfied: graphviz in /usr/local/lib/python3.7/dist-packages (from catboost) (0.10.1)\n",
            "Requirement already satisfied: pandas>=0.24.0 in /usr/local/lib/python3.7/dist-packages (from catboost) (1.1.5)\n",
            "Requirement already satisfied: retrying>=1.3.3 in /usr/local/lib/python3.7/dist-packages (from plotly->catboost) (1.3.3)\n",
            "Requirement already satisfied: pyparsing!=2.0.4,!=2.1.2,!=2.1.6,>=2.0.1 in /usr/local/lib/python3.7/dist-packages (from matplotlib->catboost) (2.4.7)\n",
            "Requirement already satisfied: kiwisolver>=1.0.1 in /usr/local/lib/python3.7/dist-packages (from matplotlib->catboost) (1.3.1)\n",
            "Requirement already satisfied: python-dateutil>=2.1 in /usr/local/lib/python3.7/dist-packages (from matplotlib->catboost) (2.8.1)\n",
            "Requirement already satisfied: cycler>=0.10 in /usr/local/lib/python3.7/dist-packages (from matplotlib->catboost) (0.10.0)\n",
            "Requirement already satisfied: pytz>=2017.2 in /usr/local/lib/python3.7/dist-packages (from pandas>=0.24.0->catboost) (2018.9)\n"
          ],
          "name": "stdout"
        }
      ]
    },
    {
      "cell_type": "code",
      "metadata": {
        "id": "n8ndYs1qZeiL"
      },
      "source": [
        "#common\n",
        "import numpy as np\n",
        "import pandas as pd \n",
        "import IPython\n",
        "from IPython.display import display\n",
        "import re\n",
        "import random\n",
        "import warnings\n",
        "warnings.simplefilter('ignore')\n",
        "import calendar\n",
        "\n",
        "#visualisation\n",
        "import seaborn as sns\n",
        "import matplotlib.pyplot as plt\n",
        "import plotly.graph_objects as go\n",
        "import plotly.express as px\n",
        "\n",
        "#ml\n",
        "from sklearn.metrics import SCORERS\n",
        "from sklearn.metrics import mean_squared_error, r2_score, mean_absolute_error, make_scorer\n",
        "from sklearn.model_selection import train_test_split, cross_val_score, GridSearchCV, RandomizedSearchCV, KFold\n",
        "from sklearn.pipeline import Pipeline, make_pipeline\n",
        "from sklearn.preprocessing import StandardScaler, MinMaxScaler, OneHotEncoder, PolynomialFeatures\n",
        "from sklearn.utils import shuffle, resample\n",
        "\n",
        "#regressors\n",
        "from sklearn.linear_model import LinearRegression\n",
        "from sklearn.ensemble import GradientBoostingRegressor\n",
        "from catboost import CatBoostRegressor, Pool\n",
        "import xgboost as xgb\n",
        "import lightgbm as lgb"
      ],
      "execution_count": 230,
      "outputs": []
    },
    {
      "cell_type": "code",
      "metadata": {
        "id": "kHeRQlgbbUHk"
      },
      "source": [
        "cars = pd.read_csv('autos.csv')\n",
        "cars.drop(['Unnamed: 0'], axis=1, inplace=True)"
      ],
      "execution_count": 231,
      "outputs": []
    },
    {
      "cell_type": "code",
      "metadata": {
        "id": "uTeduQlNb6Tx"
      },
      "source": [
        "def cars_info(df):\n",
        "  print(df.info())\n",
        "  display(df.head())\n",
        "  display(df.describe())\n",
        "  print(\"Уникальные значения:\")\n",
        "  print(df.nunique())\n",
        "  print('\\nПропущенные значения:')\n",
        "  print(df.isna().sum())\n",
        "  print('Дубликаты', df.duplicated().sum())"
      ],
      "execution_count": 232,
      "outputs": []
    },
    {
      "cell_type": "code",
      "metadata": {
        "colab": {
          "base_uri": "https://localhost:8080/",
          "height": 1000
        },
        "id": "c4Uh5iNGb6Q8",
        "outputId": "82995e06-f5df-42f8-cb30-c3cf76c53549"
      },
      "source": [
        "cars_info(cars)"
      ],
      "execution_count": 233,
      "outputs": [
        {
          "output_type": "stream",
          "text": [
            "<class 'pandas.core.frame.DataFrame'>\n",
            "RangeIndex: 354369 entries, 0 to 354368\n",
            "Data columns (total 16 columns):\n",
            " #   Column             Non-Null Count   Dtype \n",
            "---  ------             --------------   ----- \n",
            " 0   DateCrawled        354369 non-null  object\n",
            " 1   Price              354369 non-null  int64 \n",
            " 2   VehicleType        316879 non-null  object\n",
            " 3   RegistrationYear   354369 non-null  int64 \n",
            " 4   Gearbox            334536 non-null  object\n",
            " 5   Power              354369 non-null  int64 \n",
            " 6   Model              334664 non-null  object\n",
            " 7   Kilometer          354369 non-null  int64 \n",
            " 8   RegistrationMonth  354369 non-null  int64 \n",
            " 9   FuelType           321474 non-null  object\n",
            " 10  Brand              354369 non-null  object\n",
            " 11  NotRepaired        283215 non-null  object\n",
            " 12  DateCreated        354369 non-null  object\n",
            " 13  NumberOfPictures   354369 non-null  int64 \n",
            " 14  PostalCode         354369 non-null  int64 \n",
            " 15  LastSeen           354369 non-null  object\n",
            "dtypes: int64(7), object(9)\n",
            "memory usage: 43.3+ MB\n",
            "None\n"
          ],
          "name": "stdout"
        },
        {
          "output_type": "display_data",
          "data": {
            "text/html": [
              "<div>\n",
              "<style scoped>\n",
              "    .dataframe tbody tr th:only-of-type {\n",
              "        vertical-align: middle;\n",
              "    }\n",
              "\n",
              "    .dataframe tbody tr th {\n",
              "        vertical-align: top;\n",
              "    }\n",
              "\n",
              "    .dataframe thead th {\n",
              "        text-align: right;\n",
              "    }\n",
              "</style>\n",
              "<table border=\"1\" class=\"dataframe\">\n",
              "  <thead>\n",
              "    <tr style=\"text-align: right;\">\n",
              "      <th></th>\n",
              "      <th>DateCrawled</th>\n",
              "      <th>Price</th>\n",
              "      <th>VehicleType</th>\n",
              "      <th>RegistrationYear</th>\n",
              "      <th>Gearbox</th>\n",
              "      <th>Power</th>\n",
              "      <th>Model</th>\n",
              "      <th>Kilometer</th>\n",
              "      <th>RegistrationMonth</th>\n",
              "      <th>FuelType</th>\n",
              "      <th>Brand</th>\n",
              "      <th>NotRepaired</th>\n",
              "      <th>DateCreated</th>\n",
              "      <th>NumberOfPictures</th>\n",
              "      <th>PostalCode</th>\n",
              "      <th>LastSeen</th>\n",
              "    </tr>\n",
              "  </thead>\n",
              "  <tbody>\n",
              "    <tr>\n",
              "      <th>0</th>\n",
              "      <td>2016-03-24 11:52:17</td>\n",
              "      <td>480</td>\n",
              "      <td>NaN</td>\n",
              "      <td>1993</td>\n",
              "      <td>manual</td>\n",
              "      <td>0</td>\n",
              "      <td>golf</td>\n",
              "      <td>150000</td>\n",
              "      <td>0</td>\n",
              "      <td>petrol</td>\n",
              "      <td>volkswagen</td>\n",
              "      <td>NaN</td>\n",
              "      <td>2016-03-24 00:00:00</td>\n",
              "      <td>0</td>\n",
              "      <td>70435</td>\n",
              "      <td>2016-04-07 03:16:57</td>\n",
              "    </tr>\n",
              "    <tr>\n",
              "      <th>1</th>\n",
              "      <td>2016-03-24 10:58:45</td>\n",
              "      <td>18300</td>\n",
              "      <td>coupe</td>\n",
              "      <td>2011</td>\n",
              "      <td>manual</td>\n",
              "      <td>190</td>\n",
              "      <td>NaN</td>\n",
              "      <td>125000</td>\n",
              "      <td>5</td>\n",
              "      <td>gasoline</td>\n",
              "      <td>audi</td>\n",
              "      <td>yes</td>\n",
              "      <td>2016-03-24 00:00:00</td>\n",
              "      <td>0</td>\n",
              "      <td>66954</td>\n",
              "      <td>2016-04-07 01:46:50</td>\n",
              "    </tr>\n",
              "    <tr>\n",
              "      <th>2</th>\n",
              "      <td>2016-03-14 12:52:21</td>\n",
              "      <td>9800</td>\n",
              "      <td>suv</td>\n",
              "      <td>2004</td>\n",
              "      <td>auto</td>\n",
              "      <td>163</td>\n",
              "      <td>grand</td>\n",
              "      <td>125000</td>\n",
              "      <td>8</td>\n",
              "      <td>gasoline</td>\n",
              "      <td>jeep</td>\n",
              "      <td>NaN</td>\n",
              "      <td>2016-03-14 00:00:00</td>\n",
              "      <td>0</td>\n",
              "      <td>90480</td>\n",
              "      <td>2016-04-05 12:47:46</td>\n",
              "    </tr>\n",
              "    <tr>\n",
              "      <th>3</th>\n",
              "      <td>2016-03-17 16:54:04</td>\n",
              "      <td>1500</td>\n",
              "      <td>small</td>\n",
              "      <td>2001</td>\n",
              "      <td>manual</td>\n",
              "      <td>75</td>\n",
              "      <td>golf</td>\n",
              "      <td>150000</td>\n",
              "      <td>6</td>\n",
              "      <td>petrol</td>\n",
              "      <td>volkswagen</td>\n",
              "      <td>no</td>\n",
              "      <td>2016-03-17 00:00:00</td>\n",
              "      <td>0</td>\n",
              "      <td>91074</td>\n",
              "      <td>2016-03-17 17:40:17</td>\n",
              "    </tr>\n",
              "    <tr>\n",
              "      <th>4</th>\n",
              "      <td>2016-03-31 17:25:20</td>\n",
              "      <td>3600</td>\n",
              "      <td>small</td>\n",
              "      <td>2008</td>\n",
              "      <td>manual</td>\n",
              "      <td>69</td>\n",
              "      <td>fabia</td>\n",
              "      <td>90000</td>\n",
              "      <td>7</td>\n",
              "      <td>gasoline</td>\n",
              "      <td>skoda</td>\n",
              "      <td>no</td>\n",
              "      <td>2016-03-31 00:00:00</td>\n",
              "      <td>0</td>\n",
              "      <td>60437</td>\n",
              "      <td>2016-04-06 10:17:21</td>\n",
              "    </tr>\n",
              "  </tbody>\n",
              "</table>\n",
              "</div>"
            ],
            "text/plain": [
              "           DateCrawled  Price  ... PostalCode             LastSeen\n",
              "0  2016-03-24 11:52:17    480  ...      70435  2016-04-07 03:16:57\n",
              "1  2016-03-24 10:58:45  18300  ...      66954  2016-04-07 01:46:50\n",
              "2  2016-03-14 12:52:21   9800  ...      90480  2016-04-05 12:47:46\n",
              "3  2016-03-17 16:54:04   1500  ...      91074  2016-03-17 17:40:17\n",
              "4  2016-03-31 17:25:20   3600  ...      60437  2016-04-06 10:17:21\n",
              "\n",
              "[5 rows x 16 columns]"
            ]
          },
          "metadata": {
            "tags": []
          }
        },
        {
          "output_type": "display_data",
          "data": {
            "text/html": [
              "<div>\n",
              "<style scoped>\n",
              "    .dataframe tbody tr th:only-of-type {\n",
              "        vertical-align: middle;\n",
              "    }\n",
              "\n",
              "    .dataframe tbody tr th {\n",
              "        vertical-align: top;\n",
              "    }\n",
              "\n",
              "    .dataframe thead th {\n",
              "        text-align: right;\n",
              "    }\n",
              "</style>\n",
              "<table border=\"1\" class=\"dataframe\">\n",
              "  <thead>\n",
              "    <tr style=\"text-align: right;\">\n",
              "      <th></th>\n",
              "      <th>Price</th>\n",
              "      <th>RegistrationYear</th>\n",
              "      <th>Power</th>\n",
              "      <th>Kilometer</th>\n",
              "      <th>RegistrationMonth</th>\n",
              "      <th>NumberOfPictures</th>\n",
              "      <th>PostalCode</th>\n",
              "    </tr>\n",
              "  </thead>\n",
              "  <tbody>\n",
              "    <tr>\n",
              "      <th>count</th>\n",
              "      <td>354369.000000</td>\n",
              "      <td>354369.000000</td>\n",
              "      <td>354369.000000</td>\n",
              "      <td>354369.000000</td>\n",
              "      <td>354369.000000</td>\n",
              "      <td>354369.0</td>\n",
              "      <td>354369.000000</td>\n",
              "    </tr>\n",
              "    <tr>\n",
              "      <th>mean</th>\n",
              "      <td>4416.656776</td>\n",
              "      <td>2004.234448</td>\n",
              "      <td>110.094337</td>\n",
              "      <td>128211.172535</td>\n",
              "      <td>5.714645</td>\n",
              "      <td>0.0</td>\n",
              "      <td>50508.689087</td>\n",
              "    </tr>\n",
              "    <tr>\n",
              "      <th>std</th>\n",
              "      <td>4514.158514</td>\n",
              "      <td>90.227958</td>\n",
              "      <td>189.850405</td>\n",
              "      <td>37905.341530</td>\n",
              "      <td>3.726421</td>\n",
              "      <td>0.0</td>\n",
              "      <td>25783.096248</td>\n",
              "    </tr>\n",
              "    <tr>\n",
              "      <th>min</th>\n",
              "      <td>0.000000</td>\n",
              "      <td>1000.000000</td>\n",
              "      <td>0.000000</td>\n",
              "      <td>5000.000000</td>\n",
              "      <td>0.000000</td>\n",
              "      <td>0.0</td>\n",
              "      <td>1067.000000</td>\n",
              "    </tr>\n",
              "    <tr>\n",
              "      <th>25%</th>\n",
              "      <td>1050.000000</td>\n",
              "      <td>1999.000000</td>\n",
              "      <td>69.000000</td>\n",
              "      <td>125000.000000</td>\n",
              "      <td>3.000000</td>\n",
              "      <td>0.0</td>\n",
              "      <td>30165.000000</td>\n",
              "    </tr>\n",
              "    <tr>\n",
              "      <th>50%</th>\n",
              "      <td>2700.000000</td>\n",
              "      <td>2003.000000</td>\n",
              "      <td>105.000000</td>\n",
              "      <td>150000.000000</td>\n",
              "      <td>6.000000</td>\n",
              "      <td>0.0</td>\n",
              "      <td>49413.000000</td>\n",
              "    </tr>\n",
              "    <tr>\n",
              "      <th>75%</th>\n",
              "      <td>6400.000000</td>\n",
              "      <td>2008.000000</td>\n",
              "      <td>143.000000</td>\n",
              "      <td>150000.000000</td>\n",
              "      <td>9.000000</td>\n",
              "      <td>0.0</td>\n",
              "      <td>71083.000000</td>\n",
              "    </tr>\n",
              "    <tr>\n",
              "      <th>max</th>\n",
              "      <td>20000.000000</td>\n",
              "      <td>9999.000000</td>\n",
              "      <td>20000.000000</td>\n",
              "      <td>150000.000000</td>\n",
              "      <td>12.000000</td>\n",
              "      <td>0.0</td>\n",
              "      <td>99998.000000</td>\n",
              "    </tr>\n",
              "  </tbody>\n",
              "</table>\n",
              "</div>"
            ],
            "text/plain": [
              "               Price  RegistrationYear  ...  NumberOfPictures     PostalCode\n",
              "count  354369.000000     354369.000000  ...          354369.0  354369.000000\n",
              "mean     4416.656776       2004.234448  ...               0.0   50508.689087\n",
              "std      4514.158514         90.227958  ...               0.0   25783.096248\n",
              "min         0.000000       1000.000000  ...               0.0    1067.000000\n",
              "25%      1050.000000       1999.000000  ...               0.0   30165.000000\n",
              "50%      2700.000000       2003.000000  ...               0.0   49413.000000\n",
              "75%      6400.000000       2008.000000  ...               0.0   71083.000000\n",
              "max     20000.000000       9999.000000  ...               0.0   99998.000000\n",
              "\n",
              "[8 rows x 7 columns]"
            ]
          },
          "metadata": {
            "tags": []
          }
        },
        {
          "output_type": "stream",
          "text": [
            "Уникальные значения:\n",
            "DateCrawled          271174\n",
            "Price                  3731\n",
            "VehicleType               8\n",
            "RegistrationYear        151\n",
            "Gearbox                   2\n",
            "Power                   712\n",
            "Model                   250\n",
            "Kilometer                13\n",
            "RegistrationMonth        13\n",
            "FuelType                  7\n",
            "Brand                    40\n",
            "NotRepaired               2\n",
            "DateCreated             109\n",
            "NumberOfPictures          1\n",
            "PostalCode             8143\n",
            "LastSeen             179150\n",
            "dtype: int64\n",
            "\n",
            "Пропущенные значения:\n",
            "DateCrawled              0\n",
            "Price                    0\n",
            "VehicleType          37490\n",
            "RegistrationYear         0\n",
            "Gearbox              19833\n",
            "Power                    0\n",
            "Model                19705\n",
            "Kilometer                0\n",
            "RegistrationMonth        0\n",
            "FuelType             32895\n",
            "Brand                    0\n",
            "NotRepaired          71154\n",
            "DateCreated              0\n",
            "NumberOfPictures         0\n",
            "PostalCode               0\n",
            "LastSeen                 0\n",
            "dtype: int64\n",
            "Дубликаты 4\n"
          ],
          "name": "stdout"
        }
      ]
    },
    {
      "cell_type": "markdown",
      "metadata": {
        "id": "ycLWDOa3kvo7"
      },
      "source": [
        "Перед нами задача регрессии.\n",
        "Датасет содержит: 354369 наблюдений, 15 признаков и 1 целевой признак.\n",
        "\n",
        "Первично обнаруженные проблемы:\n",
        "\n",
        "* Пропущенные значения - требуется обработка.\n",
        "* Вполне вероятно, что дата создания и скачивания объявления, дата последнего визита пользователя, месяц регистрации и почтовый индекс не помогут нам в процессе предсказания цен.\n",
        "* Большая часть признаков - категориальные. Из количественных - пройденный километраж (150 тысяч на машине 1993 года - охотно верится=), мощность двигателя. Так же, наверное, сюда можно отнести год регистрации."
      ]
    },
    {
      "cell_type": "markdown",
      "metadata": {
        "id": "7ADe-wY8lEVV"
      },
      "source": [
        "1. Нет никакой информации о фотографиях.  отбросить данный столбец.\n",
        "2. В нашем датасете достаточно дешевые автомобили - средняя стоимость = 2700 EUR.\n",
        "3. Кто-то зарегистрировал автомобиль в 1000м году (сразу после Крещения Руси, там, вероятно, правила постановки на учет обновили), а кто-то подаст документы о регистрации через 8 тысяч лет.\n",
        "4. Странный максимальный пробег в 150000 километров - встерчается у подавляющего большинства автомобилей. возможно, это особенность сайта - максимальное значение, которое можно выставить = 150000?\n",
        "5. Сбита кодировка месяцов регистрации. Если максимальный (последний) месяц - декабрь=12, то месяца 0 быть не должно (или наоборот)"
      ]
    },
    {
      "cell_type": "code",
      "metadata": {
        "colab": {
          "base_uri": "https://localhost:8080/"
        },
        "id": "PejReh6Yb6OF",
        "outputId": "4494b18e-6d16-4e34-c57a-b4d3f969acbc"
      },
      "source": [
        "# самая часто встречающаяся машина\n",
        "temp = (cars.groupby(['Brand', 'Model', 'VehicleType'])['Power'].count().sort_values(ascending=False))\n",
        "temp.head()"
      ],
      "execution_count": 234,
      "outputs": [
        {
          "output_type": "execute_result",
          "data": {
            "text/plain": [
              "Brand       Model   VehicleType\n",
              "volkswagen  golf    sedan          14744\n",
              "opel        corsa   small          10499\n",
              "volkswagen  polo    small          10267\n",
              "bmw         3er     sedan           8087\n",
              "volkswagen  passat  wagon           7134\n",
              "Name: Power, dtype: int64"
            ]
          },
          "metadata": {
            "tags": []
          },
          "execution_count": 234
        }
      ]
    },
    {
      "cell_type": "markdown",
      "metadata": {
        "id": "UaKWreMqlnBH"
      },
      "source": [
        "гольф седан - самый частый автомобиль в анкетах продаж."
      ]
    },
    {
      "cell_type": "code",
      "metadata": {
        "colab": {
          "base_uri": "https://localhost:8080/",
          "height": 320
        },
        "id": "IigWkorzb6Ld",
        "outputId": "a7d5cbf2-381f-4efe-98bd-c271046b7d6b"
      },
      "source": [
        "# процентные соотношения пропущенных значений\n",
        "total = cars.isnull().sum().sort_values(ascending = False)\n",
        "percent = round(cars.isnull().sum().sort_values(ascending = False)/len(cars)*100,2)\n",
        "\n",
        "pd.concat([total, percent], axis=1, keys=['Total','Percent']).style.background_gradient(cmap='Reds')"
      ],
      "execution_count": 235,
      "outputs": [
        {
          "output_type": "execute_result",
          "data": {
            "text/html": [
              "<style  type=\"text/css\" >\n",
              "#T_9eb0e728_8b19_11eb_8fa9_0242ac1c0002row0_col0,#T_9eb0e728_8b19_11eb_8fa9_0242ac1c0002row0_col1{\n",
              "            background-color:  #67000d;\n",
              "            color:  #f1f1f1;\n",
              "        }#T_9eb0e728_8b19_11eb_8fa9_0242ac1c0002row1_col0,#T_9eb0e728_8b19_11eb_8fa9_0242ac1c0002row1_col1{\n",
              "            background-color:  #f96044;\n",
              "            color:  #000000;\n",
              "        }#T_9eb0e728_8b19_11eb_8fa9_0242ac1c0002row2_col0,#T_9eb0e728_8b19_11eb_8fa9_0242ac1c0002row2_col1{\n",
              "            background-color:  #fb7656;\n",
              "            color:  #000000;\n",
              "        }#T_9eb0e728_8b19_11eb_8fa9_0242ac1c0002row3_col0,#T_9eb0e728_8b19_11eb_8fa9_0242ac1c0002row3_col1{\n",
              "            background-color:  #fcb296;\n",
              "            color:  #000000;\n",
              "        }#T_9eb0e728_8b19_11eb_8fa9_0242ac1c0002row4_col0,#T_9eb0e728_8b19_11eb_8fa9_0242ac1c0002row4_col1{\n",
              "            background-color:  #fcb398;\n",
              "            color:  #000000;\n",
              "        }#T_9eb0e728_8b19_11eb_8fa9_0242ac1c0002row5_col0,#T_9eb0e728_8b19_11eb_8fa9_0242ac1c0002row5_col1,#T_9eb0e728_8b19_11eb_8fa9_0242ac1c0002row6_col0,#T_9eb0e728_8b19_11eb_8fa9_0242ac1c0002row6_col1,#T_9eb0e728_8b19_11eb_8fa9_0242ac1c0002row7_col0,#T_9eb0e728_8b19_11eb_8fa9_0242ac1c0002row7_col1,#T_9eb0e728_8b19_11eb_8fa9_0242ac1c0002row8_col0,#T_9eb0e728_8b19_11eb_8fa9_0242ac1c0002row8_col1,#T_9eb0e728_8b19_11eb_8fa9_0242ac1c0002row9_col0,#T_9eb0e728_8b19_11eb_8fa9_0242ac1c0002row9_col1,#T_9eb0e728_8b19_11eb_8fa9_0242ac1c0002row10_col0,#T_9eb0e728_8b19_11eb_8fa9_0242ac1c0002row10_col1,#T_9eb0e728_8b19_11eb_8fa9_0242ac1c0002row11_col0,#T_9eb0e728_8b19_11eb_8fa9_0242ac1c0002row11_col1,#T_9eb0e728_8b19_11eb_8fa9_0242ac1c0002row12_col0,#T_9eb0e728_8b19_11eb_8fa9_0242ac1c0002row12_col1,#T_9eb0e728_8b19_11eb_8fa9_0242ac1c0002row13_col0,#T_9eb0e728_8b19_11eb_8fa9_0242ac1c0002row13_col1,#T_9eb0e728_8b19_11eb_8fa9_0242ac1c0002row14_col0,#T_9eb0e728_8b19_11eb_8fa9_0242ac1c0002row14_col1,#T_9eb0e728_8b19_11eb_8fa9_0242ac1c0002row15_col0,#T_9eb0e728_8b19_11eb_8fa9_0242ac1c0002row15_col1{\n",
              "            background-color:  #fff5f0;\n",
              "            color:  #000000;\n",
              "        }</style><table id=\"T_9eb0e728_8b19_11eb_8fa9_0242ac1c0002\" ><thead>    <tr>        <th class=\"blank level0\" ></th>        <th class=\"col_heading level0 col0\" >Total</th>        <th class=\"col_heading level0 col1\" >Percent</th>    </tr></thead><tbody>\n",
              "                <tr>\n",
              "                        <th id=\"T_9eb0e728_8b19_11eb_8fa9_0242ac1c0002level0_row0\" class=\"row_heading level0 row0\" >NotRepaired</th>\n",
              "                        <td id=\"T_9eb0e728_8b19_11eb_8fa9_0242ac1c0002row0_col0\" class=\"data row0 col0\" >71154</td>\n",
              "                        <td id=\"T_9eb0e728_8b19_11eb_8fa9_0242ac1c0002row0_col1\" class=\"data row0 col1\" >20.080000</td>\n",
              "            </tr>\n",
              "            <tr>\n",
              "                        <th id=\"T_9eb0e728_8b19_11eb_8fa9_0242ac1c0002level0_row1\" class=\"row_heading level0 row1\" >VehicleType</th>\n",
              "                        <td id=\"T_9eb0e728_8b19_11eb_8fa9_0242ac1c0002row1_col0\" class=\"data row1 col0\" >37490</td>\n",
              "                        <td id=\"T_9eb0e728_8b19_11eb_8fa9_0242ac1c0002row1_col1\" class=\"data row1 col1\" >10.580000</td>\n",
              "            </tr>\n",
              "            <tr>\n",
              "                        <th id=\"T_9eb0e728_8b19_11eb_8fa9_0242ac1c0002level0_row2\" class=\"row_heading level0 row2\" >FuelType</th>\n",
              "                        <td id=\"T_9eb0e728_8b19_11eb_8fa9_0242ac1c0002row2_col0\" class=\"data row2 col0\" >32895</td>\n",
              "                        <td id=\"T_9eb0e728_8b19_11eb_8fa9_0242ac1c0002row2_col1\" class=\"data row2 col1\" >9.280000</td>\n",
              "            </tr>\n",
              "            <tr>\n",
              "                        <th id=\"T_9eb0e728_8b19_11eb_8fa9_0242ac1c0002level0_row3\" class=\"row_heading level0 row3\" >Gearbox</th>\n",
              "                        <td id=\"T_9eb0e728_8b19_11eb_8fa9_0242ac1c0002row3_col0\" class=\"data row3 col0\" >19833</td>\n",
              "                        <td id=\"T_9eb0e728_8b19_11eb_8fa9_0242ac1c0002row3_col1\" class=\"data row3 col1\" >5.600000</td>\n",
              "            </tr>\n",
              "            <tr>\n",
              "                        <th id=\"T_9eb0e728_8b19_11eb_8fa9_0242ac1c0002level0_row4\" class=\"row_heading level0 row4\" >Model</th>\n",
              "                        <td id=\"T_9eb0e728_8b19_11eb_8fa9_0242ac1c0002row4_col0\" class=\"data row4 col0\" >19705</td>\n",
              "                        <td id=\"T_9eb0e728_8b19_11eb_8fa9_0242ac1c0002row4_col1\" class=\"data row4 col1\" >5.560000</td>\n",
              "            </tr>\n",
              "            <tr>\n",
              "                        <th id=\"T_9eb0e728_8b19_11eb_8fa9_0242ac1c0002level0_row5\" class=\"row_heading level0 row5\" >LastSeen</th>\n",
              "                        <td id=\"T_9eb0e728_8b19_11eb_8fa9_0242ac1c0002row5_col0\" class=\"data row5 col0\" >0</td>\n",
              "                        <td id=\"T_9eb0e728_8b19_11eb_8fa9_0242ac1c0002row5_col1\" class=\"data row5 col1\" >0.000000</td>\n",
              "            </tr>\n",
              "            <tr>\n",
              "                        <th id=\"T_9eb0e728_8b19_11eb_8fa9_0242ac1c0002level0_row6\" class=\"row_heading level0 row6\" >PostalCode</th>\n",
              "                        <td id=\"T_9eb0e728_8b19_11eb_8fa9_0242ac1c0002row6_col0\" class=\"data row6 col0\" >0</td>\n",
              "                        <td id=\"T_9eb0e728_8b19_11eb_8fa9_0242ac1c0002row6_col1\" class=\"data row6 col1\" >0.000000</td>\n",
              "            </tr>\n",
              "            <tr>\n",
              "                        <th id=\"T_9eb0e728_8b19_11eb_8fa9_0242ac1c0002level0_row7\" class=\"row_heading level0 row7\" >NumberOfPictures</th>\n",
              "                        <td id=\"T_9eb0e728_8b19_11eb_8fa9_0242ac1c0002row7_col0\" class=\"data row7 col0\" >0</td>\n",
              "                        <td id=\"T_9eb0e728_8b19_11eb_8fa9_0242ac1c0002row7_col1\" class=\"data row7 col1\" >0.000000</td>\n",
              "            </tr>\n",
              "            <tr>\n",
              "                        <th id=\"T_9eb0e728_8b19_11eb_8fa9_0242ac1c0002level0_row8\" class=\"row_heading level0 row8\" >DateCreated</th>\n",
              "                        <td id=\"T_9eb0e728_8b19_11eb_8fa9_0242ac1c0002row8_col0\" class=\"data row8 col0\" >0</td>\n",
              "                        <td id=\"T_9eb0e728_8b19_11eb_8fa9_0242ac1c0002row8_col1\" class=\"data row8 col1\" >0.000000</td>\n",
              "            </tr>\n",
              "            <tr>\n",
              "                        <th id=\"T_9eb0e728_8b19_11eb_8fa9_0242ac1c0002level0_row9\" class=\"row_heading level0 row9\" >Brand</th>\n",
              "                        <td id=\"T_9eb0e728_8b19_11eb_8fa9_0242ac1c0002row9_col0\" class=\"data row9 col0\" >0</td>\n",
              "                        <td id=\"T_9eb0e728_8b19_11eb_8fa9_0242ac1c0002row9_col1\" class=\"data row9 col1\" >0.000000</td>\n",
              "            </tr>\n",
              "            <tr>\n",
              "                        <th id=\"T_9eb0e728_8b19_11eb_8fa9_0242ac1c0002level0_row10\" class=\"row_heading level0 row10\" >RegistrationMonth</th>\n",
              "                        <td id=\"T_9eb0e728_8b19_11eb_8fa9_0242ac1c0002row10_col0\" class=\"data row10 col0\" >0</td>\n",
              "                        <td id=\"T_9eb0e728_8b19_11eb_8fa9_0242ac1c0002row10_col1\" class=\"data row10 col1\" >0.000000</td>\n",
              "            </tr>\n",
              "            <tr>\n",
              "                        <th id=\"T_9eb0e728_8b19_11eb_8fa9_0242ac1c0002level0_row11\" class=\"row_heading level0 row11\" >Kilometer</th>\n",
              "                        <td id=\"T_9eb0e728_8b19_11eb_8fa9_0242ac1c0002row11_col0\" class=\"data row11 col0\" >0</td>\n",
              "                        <td id=\"T_9eb0e728_8b19_11eb_8fa9_0242ac1c0002row11_col1\" class=\"data row11 col1\" >0.000000</td>\n",
              "            </tr>\n",
              "            <tr>\n",
              "                        <th id=\"T_9eb0e728_8b19_11eb_8fa9_0242ac1c0002level0_row12\" class=\"row_heading level0 row12\" >Power</th>\n",
              "                        <td id=\"T_9eb0e728_8b19_11eb_8fa9_0242ac1c0002row12_col0\" class=\"data row12 col0\" >0</td>\n",
              "                        <td id=\"T_9eb0e728_8b19_11eb_8fa9_0242ac1c0002row12_col1\" class=\"data row12 col1\" >0.000000</td>\n",
              "            </tr>\n",
              "            <tr>\n",
              "                        <th id=\"T_9eb0e728_8b19_11eb_8fa9_0242ac1c0002level0_row13\" class=\"row_heading level0 row13\" >RegistrationYear</th>\n",
              "                        <td id=\"T_9eb0e728_8b19_11eb_8fa9_0242ac1c0002row13_col0\" class=\"data row13 col0\" >0</td>\n",
              "                        <td id=\"T_9eb0e728_8b19_11eb_8fa9_0242ac1c0002row13_col1\" class=\"data row13 col1\" >0.000000</td>\n",
              "            </tr>\n",
              "            <tr>\n",
              "                        <th id=\"T_9eb0e728_8b19_11eb_8fa9_0242ac1c0002level0_row14\" class=\"row_heading level0 row14\" >Price</th>\n",
              "                        <td id=\"T_9eb0e728_8b19_11eb_8fa9_0242ac1c0002row14_col0\" class=\"data row14 col0\" >0</td>\n",
              "                        <td id=\"T_9eb0e728_8b19_11eb_8fa9_0242ac1c0002row14_col1\" class=\"data row14 col1\" >0.000000</td>\n",
              "            </tr>\n",
              "            <tr>\n",
              "                        <th id=\"T_9eb0e728_8b19_11eb_8fa9_0242ac1c0002level0_row15\" class=\"row_heading level0 row15\" >DateCrawled</th>\n",
              "                        <td id=\"T_9eb0e728_8b19_11eb_8fa9_0242ac1c0002row15_col0\" class=\"data row15 col0\" >0</td>\n",
              "                        <td id=\"T_9eb0e728_8b19_11eb_8fa9_0242ac1c0002row15_col1\" class=\"data row15 col1\" >0.000000</td>\n",
              "            </tr>\n",
              "    </tbody></table>"
            ],
            "text/plain": [
              "<pandas.io.formats.style.Styler at 0x7f2d4776f5d0>"
            ]
          },
          "metadata": {
            "tags": []
          },
          "execution_count": 235
        }
      ]
    },
    {
      "cell_type": "markdown",
      "metadata": {
        "id": "2Ja8QjGnl_cM"
      },
      "source": [
        "* Была ли машина в ремонте? 20% респондентов не смогли ответить на данный вопрос!\n",
        "Предлагаю заполнить эти пропуски значением 'No', предположу, что данные машины не подвергались ремонту и владельцы просто оставили эту строку пустой в анкете (но лучше сказать об этом тимлиду или посоветоваться с коллегами)\n",
        "* Тип автомобиля попробуем заполнить по марке и модели. Модель - по марке.\n",
        "* Тип коробки - по году выпуска.\n",
        "* Тип топлива - возможно, по модели."
      ]
    },
    {
      "cell_type": "code",
      "metadata": {
        "colab": {
          "base_uri": "https://localhost:8080/",
          "height": 410
        },
        "id": "uYxv60eJb6Ir",
        "outputId": "72353279-7932-4ea3-8bf5-ced7d683b5cb"
      },
      "source": [
        "plt.figure(figsize=(12,6))\n",
        "sns.distplot(cars['Price'], kde=False)\n",
        "\n",
        "plt.xlabel('Цена автомобиля, EUR', size=12)\n",
        "plt.title('Распределение цен автомобилей в выборке', size=15);"
      ],
      "execution_count": 236,
      "outputs": [
        {
          "output_type": "display_data",
          "data": {
            "image/png": "[encoded data removed]",
            "text/plain": [
              "<Figure size 864x432 with 1 Axes>"
            ]
          },
          "metadata": {
            "tags": [],
            "needs_background": "light"
          }
        }
      ]
    },
    {
      "cell_type": "code",
      "metadata": {
        "colab": {
          "base_uri": "https://localhost:8080/",
          "height": 294
        },
        "id": "Wsd-j-ypb6Fh",
        "outputId": "16d29aeb-9677-457d-fa3a-8bf8e052d534"
      },
      "source": [
        "sns.boxplot(cars['Price'])\n",
        "plt.title('Распределение стоимости авто');"
      ],
      "execution_count": 237,
      "outputs": [
        {
          "output_type": "display_data",
          "data": {
            "image/png": "[encoded data removed]",
            "text/plain": [
              "<Figure size 432x288 with 1 Axes>"
            ]
          },
          "metadata": {
            "tags": [],
            "needs_background": "light"
          }
        }
      ]
    },
    {
      "cell_type": "code",
      "metadata": {
        "id": "L9WknWhOb6Cy"
      },
      "source": [
        "# Удаляю выбросы по цене. Убаляю все что меньше первого квантиля\n",
        "cars=cars.loc[(cars['Price']>1000) &(cars['Price']<20000)]"
      ],
      "execution_count": 238,
      "outputs": []
    },
    {
      "cell_type": "code",
      "metadata": {
        "id": "8k-5gwQAnFHy"
      },
      "source": [
        "# Удаляю выбросы по году регистрации все что < 1980 года\n",
        "cars=cars.loc[(cars['RegistrationYear']>1980)]"
      ],
      "execution_count": 239,
      "outputs": []
    },
    {
      "cell_type": "code",
      "metadata": {
        "colab": {
          "base_uri": "https://localhost:8080/",
          "height": 296
        },
        "id": "y-PjJUzUn25M",
        "outputId": "38d852c9-dc75-4555-ea89-b2d5e380d7cb"
      },
      "source": [
        "plt.figure(figsize=(8,4))\n",
        "sns.distplot(cars['Power'])\n",
        "plt.xlabel('Мощность двигателя, л.с.')"
      ],
      "execution_count": 240,
      "outputs": [
        {
          "output_type": "execute_result",
          "data": {
            "text/plain": [
              "Text(0.5, 0, 'Мощность двигателя, л.с.')"
            ]
          },
          "metadata": {
            "tags": []
          },
          "execution_count": 240
        },
        {
          "output_type": "display_data",
          "data": {
            "image/png": "[encoded data removed]",
            "text/plain": [
              "<Figure size 576x288 with 1 Axes>"
            ]
          },
          "metadata": {
            "tags": [],
            "needs_background": "light"
          }
        }
      ]
    },
    {
      "cell_type": "code",
      "metadata": {
        "colab": {
          "base_uri": "https://localhost:8080/",
          "height": 294
        },
        "id": "M8DSEJ3LnZbo",
        "outputId": "d2c24f92-8437-4c2b-912c-3cf14d2a5b07"
      },
      "source": [
        "sns.boxplot(cars['Power'], showfliers=False, whis=3)\n",
        "plt.title('Распределение мощности двигателя без выбросов');"
      ],
      "execution_count": 241,
      "outputs": [
        {
          "output_type": "display_data",
          "data": {
            "image/png": "[encoded data removed]",
            "text/plain": [
              "<Figure size 432x288 with 1 Axes>"
            ]
          },
          "metadata": {
            "tags": [],
            "needs_background": "light"
          }
        }
      ]
    },
    {
      "cell_type": "code",
      "metadata": {
        "id": "9m77AF6XnFA-"
      },
      "source": [
        "# Удаляю выбросы по мощности\n",
        "cars=cars.loc[(cars['Power']>70)&(cars['Power']<350)]"
      ],
      "execution_count": 242,
      "outputs": []
    },
    {
      "cell_type": "markdown",
      "metadata": {
        "id": "KvUgGGaoo_qn"
      },
      "source": [
        "## Заполнение пропусков\n",
        "**Был ли автомобиль в ремонте**\n",
        "\n",
        "Как указывалось выше, предлагаю все пропущенные значения здесь заполнить строкой 'No'.\n",
        "Хотя можно предположить, что автомобили без указанного ремонта - очень старые автомобили, тогда можно, в принципе, задуматься о значениях 'yes' в данном столбце.\n",
        "\n",
        "Проверим гипотезу о том, что \"не бита и не крашена\" - это все старинные автомобили."
      ]
    },
    {
      "cell_type": "code",
      "metadata": {
        "colab": {
          "base_uri": "https://localhost:8080/"
        },
        "id": "dz5dUc-yVYye",
        "outputId": "8dbc618a-0ece-4711-b666-8aeaef4b5af9"
      },
      "source": [
        "print('\\nПропущенные значения:')\n",
        "print(cars.isna().sum())"
      ],
      "execution_count": 243,
      "outputs": [
        {
          "output_type": "stream",
          "text": [
            "\n",
            "Пропущенные значения:\n",
            "DateCrawled              0\n",
            "Price                    0\n",
            "VehicleType          11891\n",
            "RegistrationYear         0\n",
            "Gearbox               2898\n",
            "Power                    0\n",
            "Model                 6993\n",
            "Kilometer                0\n",
            "RegistrationMonth        0\n",
            "FuelType             10616\n",
            "Brand                    0\n",
            "NotRepaired          26626\n",
            "DateCreated              0\n",
            "NumberOfPictures         0\n",
            "PostalCode               0\n",
            "LastSeen                 0\n",
            "dtype: int64\n"
          ],
          "name": "stdout"
        }
      ]
    },
    {
      "cell_type": "code",
      "metadata": {
        "colab": {
          "base_uri": "https://localhost:8080/"
        },
        "id": "VyoR90AQnE-t",
        "outputId": "8aacfc81-d42a-4029-bfda-1e5efdb5cce5"
      },
      "source": [
        "not_rep = cars.loc[cars['NotRepaired'].isna()]['RegistrationYear'].value_counts()\n",
        "not_rep_perc = not_rep.head(10).sum() / cars.loc[cars['NotRepaired'].isna(), 'Price'].count()\n",
        "\n",
        "print(not_rep.head(10))\n",
        "print()\n",
        "print('\"Новые\" автомобили без указания ремонта, составляют {:.2%} от общего количества'.format((not_rep_perc)))"
      ],
      "execution_count": 244,
      "outputs": [
        {
          "output_type": "stream",
          "text": [
            "2005    2046\n",
            "2017    1898\n",
            "2004    1811\n",
            "2003    1758\n",
            "2002    1666\n",
            "2000    1645\n",
            "1999    1590\n",
            "2001    1586\n",
            "2006    1498\n",
            "2007    1268\n",
            "Name: RegistrationYear, dtype: int64\n",
            "\n",
            "\"Новые\" автомобили без указания ремонта, составляют 62.97% от общего количества\n"
          ],
          "name": "stdout"
        }
      ]
    },
    {
      "cell_type": "markdown",
      "metadata": {
        "id": "nyaWF0SqpPeE"
      },
      "source": [
        "\n",
        "Гипотеза не подтверждена - большинство автомобилей относительно новые.\n",
        "Заменяем пропуски значениями 'no'"
      ]
    },
    {
      "cell_type": "code",
      "metadata": {
        "id": "dtS0Hve-nE8H"
      },
      "source": [
        "cars['NotRepaired'] = cars['NotRepaired'].fillna(value='no')"
      ],
      "execution_count": 245,
      "outputs": []
    },
    {
      "cell_type": "markdown",
      "metadata": {
        "id": "RygfK637D-_k"
      },
      "source": [
        "**Коробка передач**"
      ]
    },
    {
      "cell_type": "code",
      "metadata": {
        "id": "CXdJ8RHvpaHg",
        "colab": {
          "base_uri": "https://localhost:8080/",
          "height": 0
        },
        "outputId": "2806f588-e7de-4103-fb28-f7cbd7e28fed"
      },
      "source": [
        "plt.figure()\n",
        "cars['Gearbox'].value_counts().plot(kind='bar', color='grey')\n",
        "plt.xticks(rotation=0)\n",
        "plt.title('Распределение коробок передач');"
      ],
      "execution_count": 246,
      "outputs": [
        {
          "output_type": "display_data",
          "data": {
            "image/png": "[encoded data removed]",
            "text/plain": [
              "<Figure size 432x288 with 1 Axes>"
            ]
          },
          "metadata": {
            "tags": [],
            "needs_background": "light"
          }
        }
      ]
    },
    {
      "cell_type": "markdown",
      "metadata": {
        "id": "gPGSC3YYEMTs"
      },
      "source": [
        "есть предположение, что тип коропки несильно влияет на цену, и, возможно, его можно будет вообще не учитывать при построении моделей."
      ]
    },
    {
      "cell_type": "code",
      "metadata": {
        "id": "jPHk5d_dpaFX"
      },
      "source": [
        "cars['GearboxUnsorted'] = cars['Gearbox'].fillna(value='unsorted')\n",
        "cars['Gearbox'] = cars['Gearbox'].fillna('manual')"
      ],
      "execution_count": 247,
      "outputs": []
    },
    {
      "cell_type": "markdown",
      "metadata": {
        "id": "A_FPADVoEmsP"
      },
      "source": [
        "**Модель автомобиля**"
      ]
    },
    {
      "cell_type": "code",
      "metadata": {
        "id": "8-gnKg3bpZ_W",
        "colab": {
          "base_uri": "https://localhost:8080/",
          "height": 0
        },
        "outputId": "7b0a4b11-94ce-45a9-ca01-df1585f7389a"
      },
      "source": [
        "temp = pd.DataFrame(cars.groupby(['Brand'])['Model'].count()).reset_index()\n",
        "temp.sort_values(by='Model', ascending=False).tail()"
      ],
      "execution_count": 248,
      "outputs": [
        {
          "output_type": "execute_result",
          "data": {
            "text/html": [
              "<div>\n",
              "<style scoped>\n",
              "    .dataframe tbody tr th:only-of-type {\n",
              "        vertical-align: middle;\n",
              "    }\n",
              "\n",
              "    .dataframe tbody tr th {\n",
              "        vertical-align: top;\n",
              "    }\n",
              "\n",
              "    .dataframe thead th {\n",
              "        text-align: right;\n",
              "    }\n",
              "</style>\n",
              "<table border=\"1\" class=\"dataframe\">\n",
              "  <thead>\n",
              "    <tr style=\"text-align: right;\">\n",
              "      <th></th>\n",
              "      <th>Brand</th>\n",
              "      <th>Model</th>\n",
              "    </tr>\n",
              "  </thead>\n",
              "  <tbody>\n",
              "    <tr>\n",
              "      <th>8</th>\n",
              "      <td>daihatsu</td>\n",
              "      <td>146</td>\n",
              "    </tr>\n",
              "    <tr>\n",
              "      <th>17</th>\n",
              "      <td>lancia</td>\n",
              "      <td>140</td>\n",
              "    </tr>\n",
              "    <tr>\n",
              "      <th>7</th>\n",
              "      <td>daewoo</td>\n",
              "      <td>130</td>\n",
              "    </tr>\n",
              "    <tr>\n",
              "      <th>16</th>\n",
              "      <td>lada</td>\n",
              "      <td>110</td>\n",
              "    </tr>\n",
              "    <tr>\n",
              "      <th>33</th>\n",
              "      <td>sonstige_autos</td>\n",
              "      <td>0</td>\n",
              "    </tr>\n",
              "  </tbody>\n",
              "</table>\n",
              "</div>"
            ],
            "text/plain": [
              "             Brand  Model\n",
              "8         daihatsu    146\n",
              "17          lancia    140\n",
              "7           daewoo    130\n",
              "16            lada    110\n",
              "33  sonstige_autos      0"
            ]
          },
          "metadata": {
            "tags": []
          },
          "execution_count": 248
        }
      ]
    },
    {
      "cell_type": "markdown",
      "metadata": {
        "id": "xvUZlBuoHhaj"
      },
      "source": [
        "Первое, что мы видим - странная марка sontige_autos - вообще не имеет моделей.\n",
        "Яндекс подсказал нам - что это словосочетание переводится с немецкого, как \"другой автомобиль\". Вероятно, марки такого автомобиля не было в базе сайта."
      ]
    },
    {
      "cell_type": "code",
      "metadata": {
        "id": "dVW0A1m2pZ5l",
        "colab": {
          "base_uri": "https://localhost:8080/"
        },
        "outputId": "9045be54-05b1-41f3-8fbb-ee1fc73a43f9"
      },
      "source": [
        "len(cars.query('Brand == \"sonstige_autos\"'))"
      ],
      "execution_count": 249,
      "outputs": [
        {
          "output_type": "execute_result",
          "data": {
            "text/plain": [
              "1069"
            ]
          },
          "metadata": {
            "tags": []
          },
          "execution_count": 249
        }
      ]
    },
    {
      "cell_type": "code",
      "metadata": {
        "colab": {
          "base_uri": "https://localhost:8080/"
        },
        "id": "49yo04VOHhDl",
        "outputId": "9ff4339f-eac8-4483-c92d-993deb274ef2"
      },
      "source": [
        "len(cars.loc[cars['Model']==\"other\"])\n"
      ],
      "execution_count": 250,
      "outputs": [
        {
          "output_type": "execute_result",
          "data": {
            "text/plain": [
              "13789"
            ]
          },
          "metadata": {
            "tags": []
          },
          "execution_count": 250
        }
      ]
    },
    {
      "cell_type": "markdown",
      "metadata": {
        "id": "Wx5y2lLQH9yb"
      },
      "source": [
        "Предлагаю модели \"других автомобилей\" заполнить значениями \"оther\", так как мы никак больше не восстановим данные пропуски."
      ]
    },
    {
      "cell_type": "code",
      "metadata": {
        "id": "r6yfFyXnHhA0"
      },
      "source": [
        "cars.loc[cars['Brand']=='sonstige_autos', 'Model'] = cars.loc[cars['Brand']=='sonstige_autos', 'Model'].fillna('other')"
      ],
      "execution_count": 251,
      "outputs": []
    },
    {
      "cell_type": "markdown",
      "metadata": {
        "id": "X8v2XzsEILcj"
      },
      "source": [
        "В данном случае - залью пропуски модели самыми частыми представителями по брендам."
      ]
    },
    {
      "cell_type": "code",
      "metadata": {
        "id": "1eBg5JecHg-S"
      },
      "source": [
        "mod_dict = cars.groupby(['Brand'])['Model'].apply(lambda x: x.mode()[0])\n",
        "cars['Model'] = cars['Model'].fillna(cars['Brand'].map(mod_dict))"
      ],
      "execution_count": 252,
      "outputs": []
    },
    {
      "cell_type": "code",
      "metadata": {
        "colab": {
          "base_uri": "https://localhost:8080/"
        },
        "id": "TKHA46JBHg7w",
        "outputId": "e63c0dec-3809-48ba-b412-ab5f5d6bb94d"
      },
      "source": [
        "cars['Model'].isna().sum()"
      ],
      "execution_count": 253,
      "outputs": [
        {
          "output_type": "execute_result",
          "data": {
            "text/plain": [
              "0"
            ]
          },
          "metadata": {
            "tags": []
          },
          "execution_count": 253
        }
      ]
    },
    {
      "cell_type": "markdown",
      "metadata": {
        "id": "AoZSCgdpR-4g"
      },
      "source": [
        "**Тип кузова**\n",
        "\n",
        "Вполне вероятно, что тип кузова автомобиля не влияет на цену. Однако, все равно заполним пропущенные значения.\n",
        "\n",
        "Создаем словарь с наиболее часто встречающими значениями типа кузова, сгруппированных по моделям автомобилей. Заполняем этими значениями пропуски."
      ]
    },
    {
      "cell_type": "code",
      "metadata": {
        "id": "GshZYJwXHg58"
      },
      "source": [
        "vt_dict = dict(cars.groupby(['Model'])['VehicleType'].apply(lambda x: x.mode()[0]))\n",
        "cars['VehicleType'] = cars['VehicleType'].fillna(cars['Model'].map(vt_dict))"
      ],
      "execution_count": 254,
      "outputs": []
    },
    {
      "cell_type": "markdown",
      "metadata": {
        "id": "Nv-hIX4UTxov"
      },
      "source": [
        "**Тип топлива**\n",
        "Посмотрим, на все доступные типы топлива (вдруг, там есть уголь)."
      ]
    },
    {
      "cell_type": "code",
      "metadata": {
        "colab": {
          "base_uri": "https://localhost:8080/"
        },
        "id": "Rw62e2ctHg2Q",
        "outputId": "3db1a5c7-7d6c-4d38-c51a-a6e3e05f5b13"
      },
      "source": [
        "cars['FuelType'].value_counts()"
      ],
      "execution_count": 255,
      "outputs": [
        {
          "output_type": "execute_result",
          "data": {
            "text/plain": [
              "petrol      118536\n",
              "gasoline     81137\n",
              "lpg           3936\n",
              "cng            398\n",
              "hybrid         192\n",
              "other           35\n",
              "electric        18\n",
              "Name: FuelType, dtype: int64"
            ]
          },
          "metadata": {
            "tags": []
          },
          "execution_count": 255
        }
      ]
    },
    {
      "cell_type": "markdown",
      "metadata": {
        "id": "c45sw7AJT6CG"
      },
      "source": [
        "\n",
        "есть электрокары, гибриды, сжиженные углеводороды и газ.\n",
        "\n",
        "В данном случае забьем пропуски по марке автомобиля."
      ]
    },
    {
      "cell_type": "code",
      "metadata": {
        "id": "5ld-udxbHg0T"
      },
      "source": [
        "fuel_dict = cars.groupby(['Model'])['FuelType'].apply(lambda x: x.mode()[0])\n",
        "cars['FuelType'] = cars['FuelType'].fillna(cars['Model'].map(fuel_dict))"
      ],
      "execution_count": 256,
      "outputs": []
    },
    {
      "cell_type": "code",
      "metadata": {
        "id": "JAKixve9HgyT",
        "colab": {
          "base_uri": "https://localhost:8080/"
        },
        "outputId": "4ef57182-727a-490d-818d-796a468d8c5e"
      },
      "source": [
        "cars.isna().sum()"
      ],
      "execution_count": 257,
      "outputs": [
        {
          "output_type": "execute_result",
          "data": {
            "text/plain": [
              "DateCrawled          0\n",
              "Price                0\n",
              "VehicleType          0\n",
              "RegistrationYear     0\n",
              "Gearbox              0\n",
              "Power                0\n",
              "Model                0\n",
              "Kilometer            0\n",
              "RegistrationMonth    0\n",
              "FuelType             0\n",
              "Brand                0\n",
              "NotRepaired          0\n",
              "DateCreated          0\n",
              "NumberOfPictures     0\n",
              "PostalCode           0\n",
              "LastSeen             0\n",
              "GearboxUnsorted      0\n",
              "dtype: int64"
            ]
          },
          "metadata": {
            "tags": []
          },
          "execution_count": 257
        }
      ]
    },
    {
      "cell_type": "markdown",
      "metadata": {
        "id": "bkndmQgAnnBD"
      },
      "source": [
        "**Вывод** \n",
        "\n",
        "На данном этапе был произведен анализ данных и предобработка пропущенных значений.\n",
        "* В первую очередь было выдвинуто предположение об исключении фич с датами регистрации анкеты, последнего визита пользователя, количества фотографий и даты снятия анкеты, поскольку они имеют корреляцию с ценой автомобиля (напомню, что фотографий вообше не было, все значения = 0).\n",
        "* В ходе анализа установлено, что бОльшая часть автомобилей лежит в ценовой категории 1,5 тыс Евро, встречаются образцы и за 20 тысяч. Несколько тысяч автомобилей не попали под имеющиеся категории марок и были оставлены в сете, как 'sonstige_autos\".\n",
        "* Так же в ходе данного шага были обработаны все пропуенные значения, в основном, на основании группировки сета по модели, году регистрации и марке автомобиля.\n",
        "\n",
        "Предобработка и анализ данных завершен, переходим к обучению и тестированию моделей.\n",
        "\n"
      ]
    },
    {
      "cell_type": "markdown",
      "metadata": {
        "id": "9XApPYTin2vK"
      },
      "source": [
        "\n",
        "# 2. Обучение моделей\n"
      ]
    },
    {
      "cell_type": "markdown",
      "metadata": {
        "id": "sOCB34wVoDlr"
      },
      "source": [
        "* Изучим две модели Градиентного бустинга : CatBoost, LightGBM и Линейную регрессию\n",
        "* Проверим все три модели на дефолтных параметрах без какого-либо тюнинга модели и посмотрим какие результаты они нам покажут.\n",
        "сохраним все результаты для дальнейшего анализа"
      ]
    },
    {
      "cell_type": "code",
      "metadata": {
        "id": "bp8Mjx5yrzZb"
      },
      "source": [
        "RND_ST = 1234"
      ],
      "execution_count": 258,
      "outputs": []
    },
    {
      "cell_type": "code",
      "metadata": {
        "colab": {
          "base_uri": "https://localhost:8080/",
          "height": 281
        },
        "id": "4UP7eCYVQqzm",
        "outputId": "f15deccf-aeb9-4e29-83c9-056f287273a0"
      },
      "source": [
        "cars.head()"
      ],
      "execution_count": 259,
      "outputs": [
        {
          "output_type": "execute_result",
          "data": {
            "text/html": [
              "<div>\n",
              "<style scoped>\n",
              "    .dataframe tbody tr th:only-of-type {\n",
              "        vertical-align: middle;\n",
              "    }\n",
              "\n",
              "    .dataframe tbody tr th {\n",
              "        vertical-align: top;\n",
              "    }\n",
              "\n",
              "    .dataframe thead th {\n",
              "        text-align: right;\n",
              "    }\n",
              "</style>\n",
              "<table border=\"1\" class=\"dataframe\">\n",
              "  <thead>\n",
              "    <tr style=\"text-align: right;\">\n",
              "      <th></th>\n",
              "      <th>DateCrawled</th>\n",
              "      <th>Price</th>\n",
              "      <th>VehicleType</th>\n",
              "      <th>RegistrationYear</th>\n",
              "      <th>Gearbox</th>\n",
              "      <th>Power</th>\n",
              "      <th>Model</th>\n",
              "      <th>Kilometer</th>\n",
              "      <th>RegistrationMonth</th>\n",
              "      <th>FuelType</th>\n",
              "      <th>Brand</th>\n",
              "      <th>NotRepaired</th>\n",
              "      <th>DateCreated</th>\n",
              "      <th>NumberOfPictures</th>\n",
              "      <th>PostalCode</th>\n",
              "      <th>LastSeen</th>\n",
              "      <th>GearboxUnsorted</th>\n",
              "    </tr>\n",
              "  </thead>\n",
              "  <tbody>\n",
              "    <tr>\n",
              "      <th>1</th>\n",
              "      <td>2016-03-24 10:58:45</td>\n",
              "      <td>18300</td>\n",
              "      <td>coupe</td>\n",
              "      <td>2011</td>\n",
              "      <td>manual</td>\n",
              "      <td>190</td>\n",
              "      <td>a4</td>\n",
              "      <td>125000</td>\n",
              "      <td>5</td>\n",
              "      <td>gasoline</td>\n",
              "      <td>audi</td>\n",
              "      <td>yes</td>\n",
              "      <td>2016-03-24 00:00:00</td>\n",
              "      <td>0</td>\n",
              "      <td>66954</td>\n",
              "      <td>2016-04-07 01:46:50</td>\n",
              "      <td>manual</td>\n",
              "    </tr>\n",
              "    <tr>\n",
              "      <th>2</th>\n",
              "      <td>2016-03-14 12:52:21</td>\n",
              "      <td>9800</td>\n",
              "      <td>suv</td>\n",
              "      <td>2004</td>\n",
              "      <td>auto</td>\n",
              "      <td>163</td>\n",
              "      <td>grand</td>\n",
              "      <td>125000</td>\n",
              "      <td>8</td>\n",
              "      <td>gasoline</td>\n",
              "      <td>jeep</td>\n",
              "      <td>no</td>\n",
              "      <td>2016-03-14 00:00:00</td>\n",
              "      <td>0</td>\n",
              "      <td>90480</td>\n",
              "      <td>2016-04-05 12:47:46</td>\n",
              "      <td>auto</td>\n",
              "    </tr>\n",
              "    <tr>\n",
              "      <th>3</th>\n",
              "      <td>2016-03-17 16:54:04</td>\n",
              "      <td>1500</td>\n",
              "      <td>small</td>\n",
              "      <td>2001</td>\n",
              "      <td>manual</td>\n",
              "      <td>75</td>\n",
              "      <td>golf</td>\n",
              "      <td>150000</td>\n",
              "      <td>6</td>\n",
              "      <td>petrol</td>\n",
              "      <td>volkswagen</td>\n",
              "      <td>no</td>\n",
              "      <td>2016-03-17 00:00:00</td>\n",
              "      <td>0</td>\n",
              "      <td>91074</td>\n",
              "      <td>2016-03-17 17:40:17</td>\n",
              "      <td>manual</td>\n",
              "    </tr>\n",
              "    <tr>\n",
              "      <th>6</th>\n",
              "      <td>2016-04-01 20:48:51</td>\n",
              "      <td>2200</td>\n",
              "      <td>convertible</td>\n",
              "      <td>2004</td>\n",
              "      <td>manual</td>\n",
              "      <td>109</td>\n",
              "      <td>2_reihe</td>\n",
              "      <td>150000</td>\n",
              "      <td>8</td>\n",
              "      <td>petrol</td>\n",
              "      <td>peugeot</td>\n",
              "      <td>no</td>\n",
              "      <td>2016-04-01 00:00:00</td>\n",
              "      <td>0</td>\n",
              "      <td>67112</td>\n",
              "      <td>2016-04-05 18:18:39</td>\n",
              "      <td>manual</td>\n",
              "    </tr>\n",
              "    <tr>\n",
              "      <th>8</th>\n",
              "      <td>2016-04-04 23:42:13</td>\n",
              "      <td>14500</td>\n",
              "      <td>bus</td>\n",
              "      <td>2014</td>\n",
              "      <td>manual</td>\n",
              "      <td>125</td>\n",
              "      <td>c_max</td>\n",
              "      <td>30000</td>\n",
              "      <td>8</td>\n",
              "      <td>petrol</td>\n",
              "      <td>ford</td>\n",
              "      <td>no</td>\n",
              "      <td>2016-04-04 00:00:00</td>\n",
              "      <td>0</td>\n",
              "      <td>94505</td>\n",
              "      <td>2016-04-04 23:42:13</td>\n",
              "      <td>manual</td>\n",
              "    </tr>\n",
              "  </tbody>\n",
              "</table>\n",
              "</div>"
            ],
            "text/plain": [
              "           DateCrawled  Price  ...             LastSeen  GearboxUnsorted\n",
              "1  2016-03-24 10:58:45  18300  ...  2016-04-07 01:46:50           manual\n",
              "2  2016-03-14 12:52:21   9800  ...  2016-04-05 12:47:46             auto\n",
              "3  2016-03-17 16:54:04   1500  ...  2016-03-17 17:40:17           manual\n",
              "6  2016-04-01 20:48:51   2200  ...  2016-04-05 18:18:39           manual\n",
              "8  2016-04-04 23:42:13  14500  ...  2016-04-04 23:42:13           manual\n",
              "\n",
              "[5 rows x 17 columns]"
            ]
          },
          "metadata": {
            "tags": []
          },
          "execution_count": 259
        }
      ]
    },
    {
      "cell_type": "code",
      "metadata": {
        "id": "-RSBuhQNQwhX"
      },
      "source": [
        "unnec_col = ['Price', 'DateCrawled', 'RegistrationMonth', 'DateCreated', 'NumberOfPictures', 'PostalCode',\n",
        "       'LastSeen', 'GearboxUnsorted']"
      ],
      "execution_count": 260,
      "outputs": []
    },
    {
      "cell_type": "code",
      "metadata": {
        "id": "h6bXNBpBHguF",
        "colab": {
          "base_uri": "https://localhost:8080/"
        },
        "outputId": "c5e3297c-69be-47c2-fe0f-0c096cf642fa"
      },
      "source": [
        "# Опредлим признаки и целевой признак \n",
        "X = cars.drop(unnec_col, axis=1)\n",
        "y = cars['Price']\n",
        "\n",
        "#разделим датасет на обучающую и тестовую выборку размеров 80 на 20\n",
        "X_train_val, X_test, y_train_val, y_test = train_test_split(X, y, test_size=0.2, random_state=RND_ST)\n",
        "\n",
        "#Из обучающей выборки вытянем валидационную.\n",
        "X_train, X_valid, y_train, y_valid = train_test_split(X_train_val, y_train_val, test_size=0.25, random_state=RND_ST)\n",
        "\n",
        "#Размеры обучающей и тестовой выборки\n",
        "print('Размер обучающей выборки: {} объектов, {} признаков'.format(X_train.shape[0], X_train.shape[1]))\n",
        "print('Размер валидационной выборки: {} объектов, {} признаков'.format(X_valid.shape[0], X_valid.shape[1]))\n",
        "print('Размер тестовой выборки: {} объектов, {} признаков'.format(X_test.shape[0], X_test.shape[1]))\n",
        "\n",
        "\n"
      ],
      "execution_count": 261,
      "outputs": [
        {
          "output_type": "stream",
          "text": [
            "Размер обучающей выборки: 128920 объектов, 9 признаков\n",
            "Размер валидационной выборки: 42974 объектов, 9 признаков\n",
            "Размер тестовой выборки: 42974 объектов, 9 признаков\n"
          ],
          "name": "stdout"
        }
      ]
    },
    {
      "cell_type": "code",
      "metadata": {
        "colab": {
          "base_uri": "https://localhost:8080/",
          "height": 197
        },
        "id": "C4ICZriMu79k",
        "outputId": "b046d73b-29e9-40ba-f4bf-776113209c35"
      },
      "source": [
        "X.head()"
      ],
      "execution_count": 262,
      "outputs": [
        {
          "output_type": "execute_result",
          "data": {
            "text/html": [
              "<div>\n",
              "<style scoped>\n",
              "    .dataframe tbody tr th:only-of-type {\n",
              "        vertical-align: middle;\n",
              "    }\n",
              "\n",
              "    .dataframe tbody tr th {\n",
              "        vertical-align: top;\n",
              "    }\n",
              "\n",
              "    .dataframe thead th {\n",
              "        text-align: right;\n",
              "    }\n",
              "</style>\n",
              "<table border=\"1\" class=\"dataframe\">\n",
              "  <thead>\n",
              "    <tr style=\"text-align: right;\">\n",
              "      <th></th>\n",
              "      <th>VehicleType</th>\n",
              "      <th>RegistrationYear</th>\n",
              "      <th>Gearbox</th>\n",
              "      <th>Power</th>\n",
              "      <th>Model</th>\n",
              "      <th>Kilometer</th>\n",
              "      <th>FuelType</th>\n",
              "      <th>Brand</th>\n",
              "      <th>NotRepaired</th>\n",
              "    </tr>\n",
              "  </thead>\n",
              "  <tbody>\n",
              "    <tr>\n",
              "      <th>1</th>\n",
              "      <td>coupe</td>\n",
              "      <td>2011</td>\n",
              "      <td>manual</td>\n",
              "      <td>190</td>\n",
              "      <td>a4</td>\n",
              "      <td>125000</td>\n",
              "      <td>gasoline</td>\n",
              "      <td>audi</td>\n",
              "      <td>yes</td>\n",
              "    </tr>\n",
              "    <tr>\n",
              "      <th>2</th>\n",
              "      <td>suv</td>\n",
              "      <td>2004</td>\n",
              "      <td>auto</td>\n",
              "      <td>163</td>\n",
              "      <td>grand</td>\n",
              "      <td>125000</td>\n",
              "      <td>gasoline</td>\n",
              "      <td>jeep</td>\n",
              "      <td>no</td>\n",
              "    </tr>\n",
              "    <tr>\n",
              "      <th>3</th>\n",
              "      <td>small</td>\n",
              "      <td>2001</td>\n",
              "      <td>manual</td>\n",
              "      <td>75</td>\n",
              "      <td>golf</td>\n",
              "      <td>150000</td>\n",
              "      <td>petrol</td>\n",
              "      <td>volkswagen</td>\n",
              "      <td>no</td>\n",
              "    </tr>\n",
              "    <tr>\n",
              "      <th>6</th>\n",
              "      <td>convertible</td>\n",
              "      <td>2004</td>\n",
              "      <td>manual</td>\n",
              "      <td>109</td>\n",
              "      <td>2_reihe</td>\n",
              "      <td>150000</td>\n",
              "      <td>petrol</td>\n",
              "      <td>peugeot</td>\n",
              "      <td>no</td>\n",
              "    </tr>\n",
              "    <tr>\n",
              "      <th>8</th>\n",
              "      <td>bus</td>\n",
              "      <td>2014</td>\n",
              "      <td>manual</td>\n",
              "      <td>125</td>\n",
              "      <td>c_max</td>\n",
              "      <td>30000</td>\n",
              "      <td>petrol</td>\n",
              "      <td>ford</td>\n",
              "      <td>no</td>\n",
              "    </tr>\n",
              "  </tbody>\n",
              "</table>\n",
              "</div>"
            ],
            "text/plain": [
              "   VehicleType  RegistrationYear Gearbox  ...  FuelType       Brand  NotRepaired\n",
              "1        coupe              2011  manual  ...  gasoline        audi          yes\n",
              "2          suv              2004    auto  ...  gasoline        jeep           no\n",
              "3        small              2001  manual  ...    petrol  volkswagen           no\n",
              "6  convertible              2004  manual  ...    petrol     peugeot           no\n",
              "8          bus              2014  manual  ...    petrol        ford           no\n",
              "\n",
              "[5 rows x 9 columns]"
            ]
          },
          "metadata": {
            "tags": []
          },
          "execution_count": 262
        }
      ]
    },
    {
      "cell_type": "code",
      "metadata": {
        "id": "EeagQTa1HgrT",
        "colab": {
          "base_uri": "https://localhost:8080/"
        },
        "outputId": "c2705c6b-31d8-4aad-fc1d-18e06dc6b803"
      },
      "source": [
        "#Определяю индексы для столбцов не типа int. Те нахожу категориальные столбцы\n",
        "cat_feat=np.where(X.dtypes!= np.int64)[0]\n",
        "cat_feat"
      ],
      "execution_count": 263,
      "outputs": [
        {
          "output_type": "execute_result",
          "data": {
            "text/plain": [
              "array([0, 2, 4, 6, 7, 8])"
            ]
          },
          "metadata": {
            "tags": []
          },
          "execution_count": 263
        }
      ]
    },
    {
      "cell_type": "markdown",
      "metadata": {
        "id": "Ma_D5_IEvdlc"
      },
      "source": [
        "**CatBoost**"
      ]
    },
    {
      "cell_type": "code",
      "metadata": {
        "colab": {
          "base_uri": "https://localhost:8080/"
        },
        "id": "VpHKjUuKwbiN",
        "outputId": "281e0b34-43f3-483f-87c6-806afd781dec"
      },
      "source": [
        "X_train_val_c, X_test_c, y_train_val_c, y_test_c = train_test_split(\n",
        "    X, y, test_size=0.2, random_state=RND_ST)\n",
        "\n",
        " \n",
        "X_train_c, X_valid_c, y_train_c, y_valid_c = train_test_split(\n",
        "    X_train_val_c, y_train_val_c, test_size=0.25, random_state=RND_ST)\n",
        "\n",
        "\n",
        "print(X_train_c.shape[0], X_valid_c.shape[0], X_test_c.shape[0])"
      ],
      "execution_count": 264,
      "outputs": [
        {
          "output_type": "stream",
          "text": [
            "128920 42974 42974\n"
          ],
          "name": "stdout"
        }
      ]
    },
    {
      "cell_type": "code",
      "metadata": {
        "id": "bRK6mMEUwa0E"
      },
      "source": [
        "train_pool = Pool(X_train_c, \n",
        "                  y_train_c, \n",
        "                  cat_features=cat_feat)\n",
        "\n",
        "valid_pool = Pool(X_valid_c, \n",
        "                  y_valid_c, \n",
        "                  cat_features=cat_feat)\n",
        "\n",
        "test_pool = Pool(X_test_c, \n",
        "                 cat_features=cat_feat)"
      ],
      "execution_count": 265,
      "outputs": []
    },
    {
      "cell_type": "code",
      "metadata": {
        "id": "SVlGalcmvczi"
      },
      "source": [
        "# Задаем модель с параметрами\n",
        "cbr = CatBoostRegressor(depth=7, \n",
        "                        learning_rate=1, \n",
        "                        loss_function='RMSE', \n",
        "                        verbose=50, \n",
        "                        random_state=RND_ST, \n",
        "                        iterations=500)"
      ],
      "execution_count": 266,
      "outputs": []
    },
    {
      "cell_type": "code",
      "metadata": {
        "colab": {
          "base_uri": "https://localhost:8080/"
        },
        "id": "4Wcb1EsmvcxF",
        "outputId": "6b729708-07cc-4015-97c5-5572b81b9842"
      },
      "source": [
        "%%time\n",
        "cbr.fit(train_pool)"
      ],
      "execution_count": 267,
      "outputs": [
        {
          "output_type": "stream",
          "text": [
            "0:\tlearn: 2690.1667178\ttotal: 161ms\tremaining: 1m 20s\n",
            "50:\tlearn: 1734.8189930\ttotal: 5.49s\tremaining: 48.4s\n",
            "100:\tlearn: 1665.4299411\ttotal: 10.7s\tremaining: 42.2s\n",
            "150:\tlearn: 1617.8286816\ttotal: 15.9s\tremaining: 36.8s\n",
            "200:\tlearn: 1585.6109503\ttotal: 21.1s\tremaining: 31.3s\n",
            "250:\tlearn: 1555.5287549\ttotal: 26.2s\tremaining: 26s\n",
            "300:\tlearn: 1528.0351087\ttotal: 31.5s\tremaining: 20.8s\n",
            "350:\tlearn: 1508.9829257\ttotal: 36.5s\tremaining: 15.5s\n",
            "400:\tlearn: 1492.2211634\ttotal: 41.2s\tremaining: 10.2s\n",
            "450:\tlearn: 1475.9678288\ttotal: 46.2s\tremaining: 5.02s\n",
            "499:\tlearn: 1459.3296271\ttotal: 51.2s\tremaining: 0us\n",
            "CPU times: user 1min 35s, sys: 4.82 s, total: 1min 40s\n",
            "Wall time: 51.8 s\n"
          ],
          "name": "stdout"
        },
        {
          "output_type": "execute_result",
          "data": {
            "text/plain": [
              "<catboost.core.CatBoostRegressor at 0x7f2d45158dd0>"
            ]
          },
          "metadata": {
            "tags": []
          },
          "execution_count": 267
        }
      ]
    },
    {
      "cell_type": "code",
      "metadata": {
        "colab": {
          "base_uri": "https://localhost:8080/"
        },
        "id": "dYPvh7EnvcvE",
        "outputId": "a6ae9341-8640-4231-abfd-31b0a0b38789"
      },
      "source": [
        "predict=cbr.predict(X_train_c)\n",
        "rmse=mean_squared_error(predict, y_train_c)\n",
        "print('RMSE на обучающей выборке', np.sqrt(rmse))\n",
        "print()"
      ],
      "execution_count": 268,
      "outputs": [
        {
          "output_type": "stream",
          "text": [
            "RMSE на обучающей выборке 1518.7928347873585\n",
            "\n"
          ],
          "name": "stdout"
        }
      ]
    },
    {
      "cell_type": "code",
      "metadata": {
        "id": "mVw3xD-7vcri",
        "colab": {
          "base_uri": "https://localhost:8080/"
        },
        "outputId": "25fa6889-c551-4763-af26-f1b453e9db23"
      },
      "source": [
        "predict=cbr.predict(X_valid_c)\n",
        "rmse=mean_squared_error(predict,y_valid_c)\n",
        "print('RMSE на валидационной выборке', np.sqrt(rmse))\n",
        "print()"
      ],
      "execution_count": 269,
      "outputs": [
        {
          "output_type": "stream",
          "text": [
            "RMSE на валидационной выборке 1746.897164342371\n",
            "\n"
          ],
          "name": "stdout"
        }
      ]
    },
    {
      "cell_type": "markdown",
      "metadata": {
        "id": "MEnFFOyUK2-T"
      },
      "source": [
        "**LightGBM**"
      ]
    },
    {
      "cell_type": "code",
      "metadata": {
        "id": "Cb99rZrgOB3s"
      },
      "source": [
        "features_light = X.copy()"
      ],
      "execution_count": 270,
      "outputs": []
    },
    {
      "cell_type": "code",
      "metadata": {
        "id": "0h3Ke35RvcpP",
        "colab": {
          "base_uri": "https://localhost:8080/"
        },
        "outputId": "7868de66-d835-4099-b19c-2f0e792012e0"
      },
      "source": [
        "# Нахожу категориальные признаки\n",
        "cat_features_index=np.where(features_light.dtypes==np.object)\n",
        "cat_features_index"
      ],
      "execution_count": 271,
      "outputs": [
        {
          "output_type": "execute_result",
          "data": {
            "text/plain": [
              "(array([0, 2, 4, 6, 7, 8]),)"
            ]
          },
          "metadata": {
            "tags": []
          },
          "execution_count": 271
        }
      ]
    },
    {
      "cell_type": "code",
      "metadata": {
        "id": "fJOjegQ-vcnS"
      },
      "source": [
        "from sklearn.preprocessing import OrdinalEncoder\n",
        "enc = OrdinalEncoder()"
      ],
      "execution_count": 272,
      "outputs": []
    },
    {
      "cell_type": "code",
      "metadata": {
        "colab": {
          "base_uri": "https://localhost:8080/",
          "height": 197
        },
        "id": "rNts4fK_QL8n",
        "outputId": "7fb163e6-6427-4fd3-fa66-c93f5b1dc52e"
      },
      "source": [
        "X.head()"
      ],
      "execution_count": 273,
      "outputs": [
        {
          "output_type": "execute_result",
          "data": {
            "text/html": [
              "<div>\n",
              "<style scoped>\n",
              "    .dataframe tbody tr th:only-of-type {\n",
              "        vertical-align: middle;\n",
              "    }\n",
              "\n",
              "    .dataframe tbody tr th {\n",
              "        vertical-align: top;\n",
              "    }\n",
              "\n",
              "    .dataframe thead th {\n",
              "        text-align: right;\n",
              "    }\n",
              "</style>\n",
              "<table border=\"1\" class=\"dataframe\">\n",
              "  <thead>\n",
              "    <tr style=\"text-align: right;\">\n",
              "      <th></th>\n",
              "      <th>VehicleType</th>\n",
              "      <th>RegistrationYear</th>\n",
              "      <th>Gearbox</th>\n",
              "      <th>Power</th>\n",
              "      <th>Model</th>\n",
              "      <th>Kilometer</th>\n",
              "      <th>FuelType</th>\n",
              "      <th>Brand</th>\n",
              "      <th>NotRepaired</th>\n",
              "    </tr>\n",
              "  </thead>\n",
              "  <tbody>\n",
              "    <tr>\n",
              "      <th>1</th>\n",
              "      <td>coupe</td>\n",
              "      <td>2011</td>\n",
              "      <td>manual</td>\n",
              "      <td>190</td>\n",
              "      <td>a4</td>\n",
              "      <td>125000</td>\n",
              "      <td>gasoline</td>\n",
              "      <td>audi</td>\n",
              "      <td>yes</td>\n",
              "    </tr>\n",
              "    <tr>\n",
              "      <th>2</th>\n",
              "      <td>suv</td>\n",
              "      <td>2004</td>\n",
              "      <td>auto</td>\n",
              "      <td>163</td>\n",
              "      <td>grand</td>\n",
              "      <td>125000</td>\n",
              "      <td>gasoline</td>\n",
              "      <td>jeep</td>\n",
              "      <td>no</td>\n",
              "    </tr>\n",
              "    <tr>\n",
              "      <th>3</th>\n",
              "      <td>small</td>\n",
              "      <td>2001</td>\n",
              "      <td>manual</td>\n",
              "      <td>75</td>\n",
              "      <td>golf</td>\n",
              "      <td>150000</td>\n",
              "      <td>petrol</td>\n",
              "      <td>volkswagen</td>\n",
              "      <td>no</td>\n",
              "    </tr>\n",
              "    <tr>\n",
              "      <th>6</th>\n",
              "      <td>convertible</td>\n",
              "      <td>2004</td>\n",
              "      <td>manual</td>\n",
              "      <td>109</td>\n",
              "      <td>2_reihe</td>\n",
              "      <td>150000</td>\n",
              "      <td>petrol</td>\n",
              "      <td>peugeot</td>\n",
              "      <td>no</td>\n",
              "    </tr>\n",
              "    <tr>\n",
              "      <th>8</th>\n",
              "      <td>bus</td>\n",
              "      <td>2014</td>\n",
              "      <td>manual</td>\n",
              "      <td>125</td>\n",
              "      <td>c_max</td>\n",
              "      <td>30000</td>\n",
              "      <td>petrol</td>\n",
              "      <td>ford</td>\n",
              "      <td>no</td>\n",
              "    </tr>\n",
              "  </tbody>\n",
              "</table>\n",
              "</div>"
            ],
            "text/plain": [
              "   VehicleType  RegistrationYear Gearbox  ...  FuelType       Brand  NotRepaired\n",
              "1        coupe              2011  manual  ...  gasoline        audi          yes\n",
              "2          suv              2004    auto  ...  gasoline        jeep           no\n",
              "3        small              2001  manual  ...    petrol  volkswagen           no\n",
              "6  convertible              2004  manual  ...    petrol     peugeot           no\n",
              "8          bus              2014  manual  ...    petrol        ford           no\n",
              "\n",
              "[5 rows x 9 columns]"
            ]
          },
          "metadata": {
            "tags": []
          },
          "execution_count": 273
        }
      ]
    },
    {
      "cell_type": "code",
      "metadata": {
        "id": "rbjcEVeyvci7"
      },
      "source": [
        "cat_feat = ['VehicleType', 'Gearbox', 'Model', 'FuelType', 'Brand', 'NotRepaired']\n",
        "features_light[cat_feat] = enc.fit_transform(features_light[cat_feat]).astype('int')"
      ],
      "execution_count": 274,
      "outputs": []
    },
    {
      "cell_type": "code",
      "metadata": {
        "id": "9q8aUTnPvchE",
        "colab": {
          "base_uri": "https://localhost:8080/",
          "height": 197
        },
        "outputId": "41651948-b68f-41c3-bb7c-597d02fce5a8"
      },
      "source": [
        "features_light.head()"
      ],
      "execution_count": 275,
      "outputs": [
        {
          "output_type": "execute_result",
          "data": {
            "text/html": [
              "<div>\n",
              "<style scoped>\n",
              "    .dataframe tbody tr th:only-of-type {\n",
              "        vertical-align: middle;\n",
              "    }\n",
              "\n",
              "    .dataframe tbody tr th {\n",
              "        vertical-align: top;\n",
              "    }\n",
              "\n",
              "    .dataframe thead th {\n",
              "        text-align: right;\n",
              "    }\n",
              "</style>\n",
              "<table border=\"1\" class=\"dataframe\">\n",
              "  <thead>\n",
              "    <tr style=\"text-align: right;\">\n",
              "      <th></th>\n",
              "      <th>VehicleType</th>\n",
              "      <th>RegistrationYear</th>\n",
              "      <th>Gearbox</th>\n",
              "      <th>Power</th>\n",
              "      <th>Model</th>\n",
              "      <th>Kilometer</th>\n",
              "      <th>FuelType</th>\n",
              "      <th>Brand</th>\n",
              "      <th>NotRepaired</th>\n",
              "    </tr>\n",
              "  </thead>\n",
              "  <tbody>\n",
              "    <tr>\n",
              "      <th>1</th>\n",
              "      <td>2</td>\n",
              "      <td>2011</td>\n",
              "      <td>1</td>\n",
              "      <td>190</td>\n",
              "      <td>28</td>\n",
              "      <td>125000</td>\n",
              "      <td>2</td>\n",
              "      <td>1</td>\n",
              "      <td>1</td>\n",
              "    </tr>\n",
              "    <tr>\n",
              "      <th>2</th>\n",
              "      <td>6</td>\n",
              "      <td>2004</td>\n",
              "      <td>0</td>\n",
              "      <td>163</td>\n",
              "      <td>115</td>\n",
              "      <td>125000</td>\n",
              "      <td>2</td>\n",
              "      <td>14</td>\n",
              "      <td>0</td>\n",
              "    </tr>\n",
              "    <tr>\n",
              "      <th>3</th>\n",
              "      <td>5</td>\n",
              "      <td>2001</td>\n",
              "      <td>1</td>\n",
              "      <td>75</td>\n",
              "      <td>114</td>\n",
              "      <td>150000</td>\n",
              "      <td>6</td>\n",
              "      <td>37</td>\n",
              "      <td>0</td>\n",
              "    </tr>\n",
              "    <tr>\n",
              "      <th>6</th>\n",
              "      <td>1</td>\n",
              "      <td>2004</td>\n",
              "      <td>1</td>\n",
              "      <td>109</td>\n",
              "      <td>8</td>\n",
              "      <td>150000</td>\n",
              "      <td>6</td>\n",
              "      <td>25</td>\n",
              "      <td>0</td>\n",
              "    </tr>\n",
              "    <tr>\n",
              "      <th>8</th>\n",
              "      <td>0</td>\n",
              "      <td>2014</td>\n",
              "      <td>1</td>\n",
              "      <td>125</td>\n",
              "      <td>59</td>\n",
              "      <td>30000</td>\n",
              "      <td>6</td>\n",
              "      <td>10</td>\n",
              "      <td>0</td>\n",
              "    </tr>\n",
              "  </tbody>\n",
              "</table>\n",
              "</div>"
            ],
            "text/plain": [
              "   VehicleType  RegistrationYear  Gearbox  ...  FuelType  Brand  NotRepaired\n",
              "1            2              2011        1  ...         2      1            1\n",
              "2            6              2004        0  ...         2     14            0\n",
              "3            5              2001        1  ...         6     37            0\n",
              "6            1              2004        1  ...         6     25            0\n",
              "8            0              2014        1  ...         6     10            0\n",
              "\n",
              "[5 rows x 9 columns]"
            ]
          },
          "metadata": {
            "tags": []
          },
          "execution_count": 275
        }
      ]
    },
    {
      "cell_type": "code",
      "metadata": {
        "id": "dtAaXHftvce8",
        "colab": {
          "base_uri": "https://localhost:8080/"
        },
        "outputId": "6e9c1b63-9f56-43ff-9d74-9638a9f01c1d"
      },
      "source": [
        "X_train_val_l, X_test_l, y_train_val_l, y_test_l = train_test_split(\n",
        "    features_light, y, test_size=0.2, random_state=RND_ST)\n",
        "\n",
        " \n",
        "X_train_l, X_valid_l, y_train_l, y_valid_l = train_test_split(\n",
        "    X_train_val_l, y_train_val_l, test_size=0.25, random_state=RND_ST)\n",
        "\n",
        "\n",
        "print(X_train_l.shape[0], X_valid_l.shape[0], X_test_l.shape[0])"
      ],
      "execution_count": 276,
      "outputs": [
        {
          "output_type": "stream",
          "text": [
            "128920 42974 42974\n"
          ],
          "name": "stdout"
        }
      ]
    },
    {
      "cell_type": "code",
      "metadata": {
        "id": "L_fdOYDnvcdR"
      },
      "source": [
        "train_data = lgb.Dataset(X_train_l, y_train_l)\n",
        "valid_data = lgb.Dataset(X_valid_l, y_valid_l) \n",
        "test_data = lgb.Dataset(X_test_l)"
      ],
      "execution_count": 277,
      "outputs": []
    },
    {
      "cell_type": "code",
      "metadata": {
        "id": "LnMA-1olvcYm"
      },
      "source": [
        "params = {\n",
        "    'boosting_type': 'gbdt',\n",
        "    'tree_learner':'feature',\n",
        "    'objective': 'regression',\n",
        "    'max_depth':12,\n",
        "    'num_leaves': 300,\n",
        "    'min_data_in_leaf':300,\n",
        "    'max_bin':100,\n",
        "    'learning_rate': 0.35,\n",
        "    'num_iteration':150,\n",
        "    'metric':'rmse',\n",
        "    'verbose': 1\n",
        "}\n",
        "n_estimators = 2000\n"
      ],
      "execution_count": 278,
      "outputs": []
    },
    {
      "cell_type": "code",
      "metadata": {
        "id": "73PkKbLivcWB",
        "colab": {
          "base_uri": "https://localhost:8080/"
        },
        "outputId": "068aacc4-b932-430f-f1c4-e5cde8193ece"
      },
      "source": [
        "%%time\n",
        "lgb = lgb.train(params, train_data, n_estimators)"
      ],
      "execution_count": 279,
      "outputs": [
        {
          "output_type": "stream",
          "text": [
            "CPU times: user 3.87 s, sys: 104 ms, total: 3.98 s\n",
            "Wall time: 2.19 s\n"
          ],
          "name": "stdout"
        }
      ]
    },
    {
      "cell_type": "code",
      "metadata": {
        "id": "tK5bOIZivcTc",
        "colab": {
          "base_uri": "https://localhost:8080/"
        },
        "outputId": "629498ec-8693-4234-f7ec-8d46ef4d0671"
      },
      "source": [
        "predict=lgb.predict(X_train_l)\n",
        "rmse=mean_squared_error(predict, y_train_l)\n",
        "print('RMSE на обучающей выборке', np.sqrt(rmse))\n",
        "print()"
      ],
      "execution_count": 280,
      "outputs": [
        {
          "output_type": "stream",
          "text": [
            "RMSE на обучающей выборке 1582.7318944276176\n",
            "\n"
          ],
          "name": "stdout"
        }
      ]
    },
    {
      "cell_type": "code",
      "metadata": {
        "colab": {
          "base_uri": "https://localhost:8080/"
        },
        "id": "dymJCShvVA7N",
        "outputId": "3f5525cc-7a32-4a0b-a87f-60bc901fe9b0"
      },
      "source": [
        "predict=lgb.predict(X_valid_l)\n",
        "rmse=mean_squared_error(predict,y_valid_l)\n",
        "print('RMSE на валидационной выборке', np.sqrt(rmse))\n",
        "print()"
      ],
      "execution_count": 281,
      "outputs": [
        {
          "output_type": "stream",
          "text": [
            "RMSE на валидационной выборке 1713.494927496638\n",
            "\n"
          ],
          "name": "stdout"
        }
      ]
    },
    {
      "cell_type": "markdown",
      "metadata": {
        "id": "F1BagquskaDS"
      },
      "source": [
        "**XGboost**"
      ]
    },
    {
      "cell_type": "code",
      "metadata": {
        "id": "30XTsqOlgCmL"
      },
      "source": [
        "X_train_val, X_test_, y_train_val, y_test_ = train_test_split(\n",
        "    features_light, y, test_size=0.2, random_state=RND_ST)\n",
        "X_train_, X_valid_, y_train_, y_valid_ = train_test_split(\n",
        "    X_train_val, y_train_val, test_size=0.25, random_state=RND_ST)\n"
      ],
      "execution_count": 282,
      "outputs": []
    },
    {
      "cell_type": "code",
      "metadata": {
        "id": "zAzJeBVAgCkD"
      },
      "source": [
        "dtrain = xgb.DMatrix(X_train_, y_train_)\n",
        "dval = xgb.DMatrix(X_valid_, y_valid_)\n",
        "dtest = xgb.DMatrix(X_test_)"
      ],
      "execution_count": 283,
      "outputs": []
    },
    {
      "cell_type": "code",
      "metadata": {
        "colab": {
          "base_uri": "https://localhost:8080/"
        },
        "id": "0VzTIht3gCh6",
        "outputId": "b1cc3f45-ed77-4a85-8c5d-06e900170b4b"
      },
      "source": [
        "%%time\n",
        "param = {'max_depth':6, \n",
        "         'eta':0.5, \n",
        "         'min_child_weight':4,\n",
        "         'sampling_method':'gradient_based', \n",
        "         'verbosity':1,  \n",
        "         'seed':RND_ST}\n",
        "\n",
        "num_round = 45\n",
        "\n",
        "bst = xgb.train(param, dtrain, num_round)"
      ],
      "execution_count": 284,
      "outputs": [
        {
          "output_type": "stream",
          "text": [
            "CPU times: user 7.97 s, sys: 18.9 ms, total: 7.99 s\n",
            "Wall time: 4.08 s\n"
          ],
          "name": "stdout"
        }
      ]
    },
    {
      "cell_type": "code",
      "metadata": {
        "colab": {
          "base_uri": "https://localhost:8080/"
        },
        "id": "q8DF0_FagCeK",
        "outputId": "16a442f2-42f2-4762-dafc-9c7c66820fda"
      },
      "source": [
        "predict=bst.predict(xgb.DMatrix(X_train_))\n",
        "rmse=mean_squared_error(predict, y_train_)\n",
        "print('RMSE на обучающей выборке', np.sqrt(rmse))\n",
        "print()"
      ],
      "execution_count": 285,
      "outputs": [
        {
          "output_type": "stream",
          "text": [
            "RMSE на обучающей выборке 1682.5314685683172\n",
            "\n"
          ],
          "name": "stdout"
        }
      ]
    },
    {
      "cell_type": "code",
      "metadata": {
        "colab": {
          "base_uri": "https://localhost:8080/"
        },
        "id": "62VOuB96gCbn",
        "outputId": "7788c7ef-6e29-47c9-d983-039775a76a36"
      },
      "source": [
        "predict=bst.predict(xgb.DMatrix(X_valid_))\n",
        "rmse=mean_squared_error(predict,y_valid_)\n",
        "print('RMSE на валидационной выборке', np.sqrt(rmse))\n",
        "print()"
      ],
      "execution_count": 286,
      "outputs": [
        {
          "output_type": "stream",
          "text": [
            "RMSE на валидационной выборке 1793.7504386764404\n",
            "\n"
          ],
          "name": "stdout"
        }
      ]
    },
    {
      "cell_type": "markdown",
      "metadata": {
        "id": "P9eyqhD105VK"
      },
      "source": [
        "**LinearRegression**"
      ]
    },
    {
      "cell_type": "code",
      "metadata": {
        "id": "PZ8c4ny25-yx"
      },
      "source": [
        "lr = LinearRegression()"
      ],
      "execution_count": 287,
      "outputs": []
    },
    {
      "cell_type": "code",
      "metadata": {
        "id": "cDT7z3oa3PGZ"
      },
      "source": [
        "X_train_val_lr, X_test_lr, y_train_val_lr, y_test_lr = train_test_split(\n",
        "    features_light, y, test_size=0.2, random_state=RND_ST)\n",
        "X_train_lr, X_valid_lr, y_train_lr, y_valid_lr = train_test_split(\n",
        "    X_train_val_lr, y_train_val_lr, test_size=0.25, random_state=RND_ST)"
      ],
      "execution_count": 288,
      "outputs": []
    },
    {
      "cell_type": "code",
      "metadata": {
        "id": "am3UhdisgCV3",
        "colab": {
          "base_uri": "https://localhost:8080/"
        },
        "outputId": "95e868c6-f0ed-4bc2-9664-9c54f3a43ebe"
      },
      "source": [
        "%%time\n",
        "lr.fit(X_train_lr, y_train_lr)"
      ],
      "execution_count": 289,
      "outputs": [
        {
          "output_type": "stream",
          "text": [
            "CPU times: user 28 ms, sys: 10.1 ms, total: 38.2 ms\n",
            "Wall time: 35.3 ms\n"
          ],
          "name": "stdout"
        },
        {
          "output_type": "execute_result",
          "data": {
            "text/plain": [
              "LinearRegression(copy_X=True, fit_intercept=True, n_jobs=None, normalize=False)"
            ]
          },
          "metadata": {
            "tags": []
          },
          "execution_count": 289
        }
      ]
    },
    {
      "cell_type": "code",
      "metadata": {
        "id": "p9_n0E17gCTa",
        "colab": {
          "base_uri": "https://localhost:8080/"
        },
        "outputId": "2bec2c57-7a4c-4299-f8f9-aac5ae5f443d"
      },
      "source": [
        "predict=lr.predict(X_train_lr)\n",
        "rmse=mean_squared_error(predict, y_train_lr)\n",
        "print('RMSE на обучающей выборке', np.sqrt(rmse))\n",
        "print()"
      ],
      "execution_count": 290,
      "outputs": [
        {
          "output_type": "stream",
          "text": [
            "RMSE на обучающей выборке 3270.053661067683\n",
            "\n"
          ],
          "name": "stdout"
        }
      ]
    },
    {
      "cell_type": "code",
      "metadata": {
        "colab": {
          "base_uri": "https://localhost:8080/"
        },
        "id": "v-MUlUfB5NRB",
        "outputId": "780136e5-74e1-42f2-d42b-d4935d420d0e"
      },
      "source": [
        "predict=lr.predict(X_valid_lr)\n",
        "rmse=mean_squared_error(predict,y_valid_lr)\n",
        "print('RMSE на валидационной выборке', np.sqrt(rmse))\n",
        "print()"
      ],
      "execution_count": 291,
      "outputs": [
        {
          "output_type": "stream",
          "text": [
            "RMSE на валидационной выборке 3314.946883443201\n",
            "\n"
          ],
          "name": "stdout"
        }
      ]
    },
    {
      "cell_type": "markdown",
      "metadata": {
        "id": "5NxLX2By8r6K"
      },
      "source": [
        "## Вывод\n",
        "На данном шаге было проведено тестирование четыре модели:\n",
        "\n",
        "* CatBoost\n",
        "* LightGBM\n",
        "* xgboost\n",
        "* LinearRegression\n",
        "\n",
        "Быстрее всех учится и предсказывает xgboost, занимая при этом второе место по качеству предсказаний. Наилучшую метрику rmse на валидационной выборке показал LightGBM.\n",
        "\n",
        "В целом, сейчас уже можно выбросить из конкурса LinearRegression, однако, произведем замеры rmse всех моделей на тестовой выборке."
      ]
    },
    {
      "cell_type": "markdown",
      "metadata": {
        "id": "1FDxvAE3ERbT"
      },
      "source": [
        "# 3 Анализ моделей"
      ]
    },
    {
      "cell_type": "markdown",
      "metadata": {
        "id": "9dYmrz_4MUpg"
      },
      "source": [
        "**На данном этапе определим метрику rmse всех моделей на оставшейся тестовой выборке.**"
      ]
    },
    {
      "cell_type": "code",
      "metadata": {
        "colab": {
          "base_uri": "https://localhost:8080/"
        },
        "id": "CFBHOqujELjk",
        "outputId": "85b38682-2900-48f0-cfff-6e0c6bf3a858"
      },
      "source": [
        "%%time\n",
        "predict=cbr.predict(X_test_c)\n",
        "rmse=mean_squared_error(predict, y_test_c)\n",
        "print('RMSE CATBOOST на обучающей выборке', np.sqrt(rmse))\n",
        "print()"
      ],
      "execution_count": 292,
      "outputs": [
        {
          "output_type": "stream",
          "text": [
            "RMSE CATBOOST на обучающей выборке 1749.6345998570405\n",
            "\n",
            "CPU times: user 402 ms, sys: 64.4 ms, total: 466 ms\n",
            "Wall time: 256 ms\n"
          ],
          "name": "stdout"
        }
      ]
    },
    {
      "cell_type": "code",
      "metadata": {
        "colab": {
          "base_uri": "https://localhost:8080/"
        },
        "id": "QvAnwNuqEL8R",
        "outputId": "eafbcde6-531a-4906-8882-ef588eb3f553"
      },
      "source": [
        "%%time\n",
        "predict=lgb.predict(X_test_l)\n",
        "rmse=mean_squared_error(predict, y_test_l)\n",
        "print('RMSE LIGHTGBM на обучающей выборке', np.sqrt(rmse))\n",
        "print()"
      ],
      "execution_count": 293,
      "outputs": [
        {
          "output_type": "stream",
          "text": [
            "RMSE LIGHTGBM на обучающей выборке 1700.8397500286212\n",
            "\n",
            "CPU times: user 1.14 s, sys: 4.72 ms, total: 1.14 s\n",
            "Wall time: 598 ms\n"
          ],
          "name": "stdout"
        }
      ]
    },
    {
      "cell_type": "code",
      "metadata": {
        "colab": {
          "base_uri": "https://localhost:8080/"
        },
        "id": "jDKeWEWrEL6D",
        "outputId": "42d83f8d-7688-413e-a314-75414245e7f6"
      },
      "source": [
        "%%time\n",
        "predict=bst.predict(xgb.DMatrix(X_test_))\n",
        "rmse=mean_squared_error(predict, y_test_)\n",
        "print('RMSE XGBOOST на обучающей выборке', np.sqrt(rmse))\n",
        "print()"
      ],
      "execution_count": 294,
      "outputs": [
        {
          "output_type": "stream",
          "text": [
            "RMSE XGBOOST на обучающей выборке 1780.5374082786464\n",
            "\n",
            "CPU times: user 184 ms, sys: 847 µs, total: 185 ms\n",
            "Wall time: 112 ms\n"
          ],
          "name": "stdout"
        }
      ]
    },
    {
      "cell_type": "code",
      "metadata": {
        "colab": {
          "base_uri": "https://localhost:8080/"
        },
        "id": "AYlJ1GCKEL2g",
        "outputId": "538aaa94-b3ae-4c26-d272-6e9431b2f253"
      },
      "source": [
        "%%time\n",
        "predict=lr.predict(X_test_lr)\n",
        "rmse=mean_squared_error(predict, y_test_lr)\n",
        "print('RMSE LINEAR на обучающей выборке', np.sqrt(rmse))\n",
        "print()"
      ],
      "execution_count": 302,
      "outputs": [
        {
          "output_type": "stream",
          "text": [
            "RMSE LINEAR на обучающей выборке 3286.149464493565\n",
            "\n",
            "CPU times: user 2.98 ms, sys: 1.95 ms, total: 4.93 ms\n",
            "Wall time: 3.39 ms\n"
          ],
          "name": "stdout"
        }
      ]
    },
    {
      "cell_type": "code",
      "metadata": {
        "id": "ub8HbtvsELzz"
      },
      "source": [
        "res = {\n",
        "    'model_name':pd.Series(['CatBoost', 'lightGBM', 'xgboost', 'LinearRegression']),\n",
        "    'training_time':pd.Series([51.8,2.14,4.22,0.35]),\n",
        "    'prediction_test_time':pd.Series([0,0,0,0]), \n",
        "    'rmse_test':pd.Series([0,0,0,0])}"
      ],
      "execution_count": 296,
      "outputs": []
    },
    {
      "cell_type": "code",
      "metadata": {
        "colab": {
          "base_uri": "https://localhost:8080/",
          "height": 167
        },
        "id": "isdtYi3UELxH",
        "outputId": "5952cb49-b827-4319-d942-dc8eb97319f7"
      },
      "source": [
        "results = pd.DataFrame(res)\n",
        "results"
      ],
      "execution_count": 297,
      "outputs": [
        {
          "output_type": "execute_result",
          "data": {
            "text/html": [
              "<div>\n",
              "<style scoped>\n",
              "    .dataframe tbody tr th:only-of-type {\n",
              "        vertical-align: middle;\n",
              "    }\n",
              "\n",
              "    .dataframe tbody tr th {\n",
              "        vertical-align: top;\n",
              "    }\n",
              "\n",
              "    .dataframe thead th {\n",
              "        text-align: right;\n",
              "    }\n",
              "</style>\n",
              "<table border=\"1\" class=\"dataframe\">\n",
              "  <thead>\n",
              "    <tr style=\"text-align: right;\">\n",
              "      <th></th>\n",
              "      <th>model_name</th>\n",
              "      <th>training_time</th>\n",
              "      <th>prediction_test_time</th>\n",
              "      <th>rmse_test</th>\n",
              "    </tr>\n",
              "  </thead>\n",
              "  <tbody>\n",
              "    <tr>\n",
              "      <th>0</th>\n",
              "      <td>CatBoost</td>\n",
              "      <td>51.80</td>\n",
              "      <td>0</td>\n",
              "      <td>0</td>\n",
              "    </tr>\n",
              "    <tr>\n",
              "      <th>1</th>\n",
              "      <td>lightGBM</td>\n",
              "      <td>2.14</td>\n",
              "      <td>0</td>\n",
              "      <td>0</td>\n",
              "    </tr>\n",
              "    <tr>\n",
              "      <th>2</th>\n",
              "      <td>xgboost</td>\n",
              "      <td>4.22</td>\n",
              "      <td>0</td>\n",
              "      <td>0</td>\n",
              "    </tr>\n",
              "    <tr>\n",
              "      <th>3</th>\n",
              "      <td>LinearRegression</td>\n",
              "      <td>0.30</td>\n",
              "      <td>0</td>\n",
              "      <td>0</td>\n",
              "    </tr>\n",
              "  </tbody>\n",
              "</table>\n",
              "</div>"
            ],
            "text/plain": [
              "         model_name  training_time  prediction_test_time  rmse_test\n",
              "0          CatBoost          51.80                     0          0\n",
              "1          lightGBM           2.14                     0          0\n",
              "2           xgboost           4.22                     0          0\n",
              "3  LinearRegression           0.30                     0          0"
            ]
          },
          "metadata": {
            "tags": []
          },
          "execution_count": 297
        }
      ]
    },
    {
      "cell_type": "markdown",
      "metadata": {
        "id": "oiAVXMxxMSNd"
      },
      "source": [
        "Соберем все данные в таблицу результатов."
      ]
    },
    {
      "cell_type": "code",
      "metadata": {
        "id": "pzGWXoXYELvY"
      },
      "source": [
        "results.loc[0,'prediction_test_time'] = 466\n",
        "results.loc[0,'rmse_test'] = 1749.6\n",
        "\n",
        "results.loc[1,'prediction_test_time'] = 1140\n",
        "results.loc[1,'rmse_test'] = 1700.8\n",
        "\n",
        "results.loc[2,'prediction_test_time'] = 185\n",
        "results.loc[2,'rmse_test'] = 1780.3\n",
        "\n",
        "results.loc[3,'prediction_test_time'] = 4930\n",
        "results.loc[3,'rmse_test'] = 3286.1"
      ],
      "execution_count": 307,
      "outputs": []
    },
    {
      "cell_type": "code",
      "metadata": {
        "colab": {
          "base_uri": "https://localhost:8080/",
          "height": 167
        },
        "id": "a__6czCIELrs",
        "outputId": "a9487715-c97b-4391-ac8d-ec6d9c26f3db"
      },
      "source": [
        "results"
      ],
      "execution_count": 308,
      "outputs": [
        {
          "output_type": "execute_result",
          "data": {
            "text/html": [
              "<div>\n",
              "<style scoped>\n",
              "    .dataframe tbody tr th:only-of-type {\n",
              "        vertical-align: middle;\n",
              "    }\n",
              "\n",
              "    .dataframe tbody tr th {\n",
              "        vertical-align: top;\n",
              "    }\n",
              "\n",
              "    .dataframe thead th {\n",
              "        text-align: right;\n",
              "    }\n",
              "</style>\n",
              "<table border=\"1\" class=\"dataframe\">\n",
              "  <thead>\n",
              "    <tr style=\"text-align: right;\">\n",
              "      <th></th>\n",
              "      <th>model_name</th>\n",
              "      <th>training_time</th>\n",
              "      <th>prediction_test_time</th>\n",
              "      <th>rmse_test</th>\n",
              "    </tr>\n",
              "  </thead>\n",
              "  <tbody>\n",
              "    <tr>\n",
              "      <th>0</th>\n",
              "      <td>CatBoost</td>\n",
              "      <td>51.80</td>\n",
              "      <td>466</td>\n",
              "      <td>1749.6</td>\n",
              "    </tr>\n",
              "    <tr>\n",
              "      <th>1</th>\n",
              "      <td>lightGBM</td>\n",
              "      <td>2.14</td>\n",
              "      <td>1140</td>\n",
              "      <td>1700.8</td>\n",
              "    </tr>\n",
              "    <tr>\n",
              "      <th>2</th>\n",
              "      <td>xgboost</td>\n",
              "      <td>4.22</td>\n",
              "      <td>185</td>\n",
              "      <td>1780.3</td>\n",
              "    </tr>\n",
              "    <tr>\n",
              "      <th>3</th>\n",
              "      <td>LinearRegression</td>\n",
              "      <td>0.30</td>\n",
              "      <td>4930</td>\n",
              "      <td>3286.1</td>\n",
              "    </tr>\n",
              "  </tbody>\n",
              "</table>\n",
              "</div>"
            ],
            "text/plain": [
              "         model_name  training_time  prediction_test_time  rmse_test\n",
              "0          CatBoost          51.80                   466     1749.6\n",
              "1          lightGBM           2.14                  1140     1700.8\n",
              "2           xgboost           4.22                   185     1780.3\n",
              "3  LinearRegression           0.30                  4930     3286.1"
            ]
          },
          "metadata": {
            "tags": []
          },
          "execution_count": 308
        }
      ]
    },
    {
      "cell_type": "code",
      "metadata": {
        "colab": {
          "base_uri": "https://localhost:8080/",
          "height": 167
        },
        "id": "57Q5HHiyELo2",
        "outputId": "fc6adb10-e83d-44e0-dd64-70e3cc9d78dd"
      },
      "source": [
        "temp = results.copy().sort_values(by=['rmse_test'])\n",
        "temp"
      ],
      "execution_count": 309,
      "outputs": [
        {
          "output_type": "execute_result",
          "data": {
            "text/html": [
              "<div>\n",
              "<style scoped>\n",
              "    .dataframe tbody tr th:only-of-type {\n",
              "        vertical-align: middle;\n",
              "    }\n",
              "\n",
              "    .dataframe tbody tr th {\n",
              "        vertical-align: top;\n",
              "    }\n",
              "\n",
              "    .dataframe thead th {\n",
              "        text-align: right;\n",
              "    }\n",
              "</style>\n",
              "<table border=\"1\" class=\"dataframe\">\n",
              "  <thead>\n",
              "    <tr style=\"text-align: right;\">\n",
              "      <th></th>\n",
              "      <th>model_name</th>\n",
              "      <th>training_time</th>\n",
              "      <th>prediction_test_time</th>\n",
              "      <th>rmse_test</th>\n",
              "    </tr>\n",
              "  </thead>\n",
              "  <tbody>\n",
              "    <tr>\n",
              "      <th>1</th>\n",
              "      <td>lightGBM</td>\n",
              "      <td>2.14</td>\n",
              "      <td>1140</td>\n",
              "      <td>1700.8</td>\n",
              "    </tr>\n",
              "    <tr>\n",
              "      <th>0</th>\n",
              "      <td>CatBoost</td>\n",
              "      <td>51.80</td>\n",
              "      <td>466</td>\n",
              "      <td>1749.6</td>\n",
              "    </tr>\n",
              "    <tr>\n",
              "      <th>2</th>\n",
              "      <td>xgboost</td>\n",
              "      <td>4.22</td>\n",
              "      <td>185</td>\n",
              "      <td>1780.3</td>\n",
              "    </tr>\n",
              "    <tr>\n",
              "      <th>3</th>\n",
              "      <td>LinearRegression</td>\n",
              "      <td>0.30</td>\n",
              "      <td>4930</td>\n",
              "      <td>3286.1</td>\n",
              "    </tr>\n",
              "  </tbody>\n",
              "</table>\n",
              "</div>"
            ],
            "text/plain": [
              "         model_name  training_time  prediction_test_time  rmse_test\n",
              "1          lightGBM           2.14                  1140     1700.8\n",
              "0          CatBoost          51.80                   466     1749.6\n",
              "2           xgboost           4.22                   185     1780.3\n",
              "3  LinearRegression           0.30                  4930     3286.1"
            ]
          },
          "metadata": {
            "tags": []
          },
          "execution_count": 309
        }
      ]
    },
    {
      "cell_type": "code",
      "metadata": {
        "colab": {
          "base_uri": "https://localhost:8080/",
          "height": 1000
        },
        "id": "Oq_Fl-d_N1Xe",
        "outputId": "409d59a1-1469-4564-d002-62cbefb68c3b"
      },
      "source": [
        "fig, axes = plt.subplots(3,1 , figsize=(8,20))\n",
        "\n",
        "sns.barplot(y=temp['model_name'], x=temp['rmse_test'], color='gray', ax=axes[0], orient='h')\n",
        "sns.barplot(y=temp['model_name'], x=temp['training_time'], color='gray', ax=axes[1], orient='h')\n",
        "sns.barplot(y=temp['model_name'], x=temp['prediction_test_time'], color='gray', ax=axes[2], orient='h')\n",
        "\n",
        "axes[0].set_ylabel('')\n",
        "axes[1].set_ylabel('')\n",
        "axes[2].set_ylabel('')\n",
        "\n",
        "axes[0].set_xlabel('RMSE')\n",
        "axes[1].set_xlabel('Время, сек')\n",
        "axes[2].set_xlabel('Время, мсек')\n",
        "\n",
        "axes[0].set_title('RMSE на тренировочной выборке', size=14)\n",
        "axes[1].set_title('Время обучения моделей на тренировочной выборке', size=14)\n",
        "axes[2].set_title('Время предсказания тестовой выборки', size=14)\n",
        "\n",
        "plt.suptitle('Сравнение работы моделей градиентного бустинга', size=20, y=(0.915));"
      ],
      "execution_count": 310,
      "outputs": [
        {
          "output_type": "display_data",
          "data": {
            "image/png": "[encoded data removed]",
            "text/plain": [
              "<Figure size 576x1440 with 3 Axes>"
            ]
          },
          "metadata": {
            "tags": [],
            "needs_background": "light"
          }
        }
      ]
    },
    {
      "cell_type": "markdown",
      "metadata": {
        "id": "7f8PVXPrUt3X"
      },
      "source": [
        "Все модели показали \"средние\" результаты.\n",
        "Можно лучше настроить гиперпараметры, а так же заняться более глубоким features engeneering.\n",
        "\n",
        "Лидером по качеству предсказаний становится LightGBM, самая быстрая модель обучения и предсказания - xgboost.\n",
        "\n",
        "**Итог - наилучшее решение - модель LightGBM - средняя скорость работы и лучшее качество**"
      ]
    },
    {
      "cell_type": "markdown",
      "metadata": {
        "id": "AhCeSRH7U7DY"
      },
      "source": [
        "## Вывод\n",
        "\n",
        "На данном этапе были проанализированны 4 модели. Приемлемой моделью признана LightGBM, с наилучшими показателями RMSE и достаточно хорошим временем работы, относительно других моделей."
      ]
    },
    {
      "cell_type": "markdown",
      "metadata": {
        "id": "ixB2UnfcVEZm"
      },
      "source": [
        "\n",
        "# Общий вывод\n",
        "\n",
        "Целью настоящего исследования ставилось тестирование и подбор наилучшей модели для имеющихся данных.\n",
        "\n",
        "В исследовании приняли участие 4 модели : 'LightGBM', 'CatBoost', 'LinearRegression', 'XgBoost'\n",
        "Основной метрикой тестрирования стал корень среднеквадратичной ошибки.\n",
        "\n",
        "На первом этапе исследования был произведен анализ данных и заполнены пропущенные значения.\n",
        "\n",
        "На втором этапе кейса было протестировано, в общей сложности, 4 модели (3 модели градиентного бустинга и 1 линейная модель)\n",
        "\n",
        "\n",
        "Наилучшей и рекомендованной к использованию моделью признана LightGBM - со значением RMSE на тестовой выборке = 1700.8 и временем обучения = 1,5 минуты.\n",
        "\n",
        "Несмотря на достаточно хороший показатель, считаю, что можно достичь лучшей метрики, но уже на локальной машине с лучшим подбором гиперпараметров.\n",
        "\n",
        "В целом - исследование можно считать завершенным. Основные задачи - изучение и тестирование моделей градиентного бустинга - успешно выполнены.\n",
        "\n"
      ]
    }
  ]
}