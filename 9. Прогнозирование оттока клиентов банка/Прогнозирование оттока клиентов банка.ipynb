{
  "nbformat": 4,
  "nbformat_minor": 0,
  "metadata": {
    "colab": {
      "name": "Untitled62.ipynb",
      "provenance": [],
      "toc_visible": true
    },
    "kernelspec": {
      "name": "python3",
      "display_name": "Python 3"
    },
    "language_info": {
      "name": "python"
    }
  },
  "cells": [
    {
      "cell_type": "markdown",
      "metadata": {
        "id": "F2R2jVpDz98j"
      },
      "source": [
        "# Отток клиентов из банка\n",
        "\n",
        "Увеличилось ежемесячное количество клиентов, ушедших из банка. Сохранить существующих клиентов дешевле, чем привлекать новых.\n",
        "\n",
        "**Цели и задачи:**\n",
        "\n",
        "Проанализировать исторические данные о поведении клиентов банка, расторжении договоров. Спрогнозировать уход клиента из банка.\n",
        "Построить модель классификации, метрика качества f1 (минимальное значение 0.59)\n",
        "Измерить AUC-ROC, сравнить её значение с f1-мерой.\n",
        "\n",
        "**Источник данных:** https://www.kaggle.com/barelydedicated/bank-customer-churn-modeling\n",
        "\n",
        "**Признаки**\n",
        "\n",
        "- RowNumber — индекс строки в данных\n",
        "- CustomerId — уникальный идентификатор клиента\n",
        "- Surname — фамилия\n",
        "- CreditScore — кредитный рейтинг\n",
        "- Geography — страна проживания\n",
        "- Gender — пол\n",
        "- Age — возраст\n",
        "- Tenure — количество недвижимости у клиента\n",
        "- Balance — баланс на счёте\n",
        "- NumOfProducts — количество продуктов банка, используемых клиентом\n",
        "- HasCrCard — наличие кредитной карты\n",
        "- IsActiveMember — активность клиента\n",
        "- stimatedSalary — предполагаемая зарплата\n",
        "\n",
        "**Целевой признак**\n",
        "\n",
        "- Exited — факт ухода клиента"
      ]
    },
    {
      "cell_type": "markdown",
      "metadata": {
        "id": "2pypUNvr1I9n"
      },
      "source": [
        "# 1. Подготовка данных"
      ]
    },
    {
      "cell_type": "code",
      "metadata": {
        "id": "TnyIBOalwLNK"
      },
      "source": [
        "import pandas as pd\n",
        "import numpy as np\n",
        "import matplotlib.pyplot as plt\n",
        "import seaborn as sns\n",
        "from IPython.display import display\n",
        "\n",
        "from sklearn.preprocessing import StandardScaler\n",
        "from sklearn.model_selection import train_test_split\n",
        "from sklearn.tree import DecisionTreeClassifier\n",
        "from sklearn.linear_model import LogisticRegression\n",
        "from sklearn.ensemble import RandomForestClassifier, RandomForestRegressor\n",
        "from sklearn.linear_model import LinearRegression\n",
        "from sklearn.neighbors import KNeighborsClassifier\n",
        "from sklearn.svm import SVC\n",
        "from sklearn.metrics import accuracy_score, f1_score, roc_auc_score, r2_score\n",
        "from sklearn.utils import shuffle"
      ],
      "execution_count": 24,
      "outputs": []
    },
    {
      "cell_type": "code",
      "metadata": {
        "colab": {
          "base_uri": "https://localhost:8080/",
          "height": 733
        },
        "id": "JfeW2rtM1QD6",
        "outputId": "6590ec1a-3be9-4897-eb74-e910268540ec"
      },
      "source": [
        "df = pd.read_csv('Churn.csv')\n",
        "print(df.info())\n",
        "df.head(10)"
      ],
      "execution_count": 25,
      "outputs": [
        {
          "output_type": "stream",
          "text": [
            "<class 'pandas.core.frame.DataFrame'>\n",
            "RangeIndex: 10000 entries, 0 to 9999\n",
            "Data columns (total 14 columns):\n",
            " #   Column           Non-Null Count  Dtype  \n",
            "---  ------           --------------  -----  \n",
            " 0   RowNumber        10000 non-null  int64  \n",
            " 1   CustomerId       10000 non-null  int64  \n",
            " 2   Surname          10000 non-null  object \n",
            " 3   CreditScore      10000 non-null  int64  \n",
            " 4   Geography        10000 non-null  object \n",
            " 5   Gender           10000 non-null  object \n",
            " 6   Age              10000 non-null  int64  \n",
            " 7   Tenure           10000 non-null  int64  \n",
            " 8   Balance          10000 non-null  float64\n",
            " 9   NumOfProducts    10000 non-null  int64  \n",
            " 10  HasCrCard        10000 non-null  int64  \n",
            " 11  IsActiveMember   10000 non-null  int64  \n",
            " 12  EstimatedSalary  10000 non-null  float64\n",
            " 13  Exited           10000 non-null  int64  \n",
            "dtypes: float64(2), int64(9), object(3)\n",
            "memory usage: 1.1+ MB\n",
            "None\n"
          ],
          "name": "stdout"
        },
        {
          "output_type": "execute_result",
          "data": {
            "text/html": [
              "<div>\n",
              "<style scoped>\n",
              "    .dataframe tbody tr th:only-of-type {\n",
              "        vertical-align: middle;\n",
              "    }\n",
              "\n",
              "    .dataframe tbody tr th {\n",
              "        vertical-align: top;\n",
              "    }\n",
              "\n",
              "    .dataframe thead th {\n",
              "        text-align: right;\n",
              "    }\n",
              "</style>\n",
              "<table border=\"1\" class=\"dataframe\">\n",
              "  <thead>\n",
              "    <tr style=\"text-align: right;\">\n",
              "      <th></th>\n",
              "      <th>RowNumber</th>\n",
              "      <th>CustomerId</th>\n",
              "      <th>Surname</th>\n",
              "      <th>CreditScore</th>\n",
              "      <th>Geography</th>\n",
              "      <th>Gender</th>\n",
              "      <th>Age</th>\n",
              "      <th>Tenure</th>\n",
              "      <th>Balance</th>\n",
              "      <th>NumOfProducts</th>\n",
              "      <th>HasCrCard</th>\n",
              "      <th>IsActiveMember</th>\n",
              "      <th>EstimatedSalary</th>\n",
              "      <th>Exited</th>\n",
              "    </tr>\n",
              "  </thead>\n",
              "  <tbody>\n",
              "    <tr>\n",
              "      <th>0</th>\n",
              "      <td>1</td>\n",
              "      <td>15634602</td>\n",
              "      <td>Hargrave</td>\n",
              "      <td>619</td>\n",
              "      <td>France</td>\n",
              "      <td>Female</td>\n",
              "      <td>42</td>\n",
              "      <td>2</td>\n",
              "      <td>0.00</td>\n",
              "      <td>1</td>\n",
              "      <td>1</td>\n",
              "      <td>1</td>\n",
              "      <td>101348.88</td>\n",
              "      <td>1</td>\n",
              "    </tr>\n",
              "    <tr>\n",
              "      <th>1</th>\n",
              "      <td>2</td>\n",
              "      <td>15647311</td>\n",
              "      <td>Hill</td>\n",
              "      <td>608</td>\n",
              "      <td>Spain</td>\n",
              "      <td>Female</td>\n",
              "      <td>41</td>\n",
              "      <td>1</td>\n",
              "      <td>83807.86</td>\n",
              "      <td>1</td>\n",
              "      <td>0</td>\n",
              "      <td>1</td>\n",
              "      <td>112542.58</td>\n",
              "      <td>0</td>\n",
              "    </tr>\n",
              "    <tr>\n",
              "      <th>2</th>\n",
              "      <td>3</td>\n",
              "      <td>15619304</td>\n",
              "      <td>Onio</td>\n",
              "      <td>502</td>\n",
              "      <td>France</td>\n",
              "      <td>Female</td>\n",
              "      <td>42</td>\n",
              "      <td>8</td>\n",
              "      <td>159660.80</td>\n",
              "      <td>3</td>\n",
              "      <td>1</td>\n",
              "      <td>0</td>\n",
              "      <td>113931.57</td>\n",
              "      <td>1</td>\n",
              "    </tr>\n",
              "    <tr>\n",
              "      <th>3</th>\n",
              "      <td>4</td>\n",
              "      <td>15701354</td>\n",
              "      <td>Boni</td>\n",
              "      <td>699</td>\n",
              "      <td>France</td>\n",
              "      <td>Female</td>\n",
              "      <td>39</td>\n",
              "      <td>1</td>\n",
              "      <td>0.00</td>\n",
              "      <td>2</td>\n",
              "      <td>0</td>\n",
              "      <td>0</td>\n",
              "      <td>93826.63</td>\n",
              "      <td>0</td>\n",
              "    </tr>\n",
              "    <tr>\n",
              "      <th>4</th>\n",
              "      <td>5</td>\n",
              "      <td>15737888</td>\n",
              "      <td>Mitchell</td>\n",
              "      <td>850</td>\n",
              "      <td>Spain</td>\n",
              "      <td>Female</td>\n",
              "      <td>43</td>\n",
              "      <td>2</td>\n",
              "      <td>125510.82</td>\n",
              "      <td>1</td>\n",
              "      <td>1</td>\n",
              "      <td>1</td>\n",
              "      <td>79084.10</td>\n",
              "      <td>0</td>\n",
              "    </tr>\n",
              "    <tr>\n",
              "      <th>5</th>\n",
              "      <td>6</td>\n",
              "      <td>15574012</td>\n",
              "      <td>Chu</td>\n",
              "      <td>645</td>\n",
              "      <td>Spain</td>\n",
              "      <td>Male</td>\n",
              "      <td>44</td>\n",
              "      <td>8</td>\n",
              "      <td>113755.78</td>\n",
              "      <td>2</td>\n",
              "      <td>1</td>\n",
              "      <td>0</td>\n",
              "      <td>149756.71</td>\n",
              "      <td>1</td>\n",
              "    </tr>\n",
              "    <tr>\n",
              "      <th>6</th>\n",
              "      <td>7</td>\n",
              "      <td>15592531</td>\n",
              "      <td>Bartlett</td>\n",
              "      <td>822</td>\n",
              "      <td>France</td>\n",
              "      <td>Male</td>\n",
              "      <td>50</td>\n",
              "      <td>7</td>\n",
              "      <td>0.00</td>\n",
              "      <td>2</td>\n",
              "      <td>1</td>\n",
              "      <td>1</td>\n",
              "      <td>10062.80</td>\n",
              "      <td>0</td>\n",
              "    </tr>\n",
              "    <tr>\n",
              "      <th>7</th>\n",
              "      <td>8</td>\n",
              "      <td>15656148</td>\n",
              "      <td>Obinna</td>\n",
              "      <td>376</td>\n",
              "      <td>Germany</td>\n",
              "      <td>Female</td>\n",
              "      <td>29</td>\n",
              "      <td>4</td>\n",
              "      <td>115046.74</td>\n",
              "      <td>4</td>\n",
              "      <td>1</td>\n",
              "      <td>0</td>\n",
              "      <td>119346.88</td>\n",
              "      <td>1</td>\n",
              "    </tr>\n",
              "    <tr>\n",
              "      <th>8</th>\n",
              "      <td>9</td>\n",
              "      <td>15792365</td>\n",
              "      <td>He</td>\n",
              "      <td>501</td>\n",
              "      <td>France</td>\n",
              "      <td>Male</td>\n",
              "      <td>44</td>\n",
              "      <td>4</td>\n",
              "      <td>142051.07</td>\n",
              "      <td>2</td>\n",
              "      <td>0</td>\n",
              "      <td>1</td>\n",
              "      <td>74940.50</td>\n",
              "      <td>0</td>\n",
              "    </tr>\n",
              "    <tr>\n",
              "      <th>9</th>\n",
              "      <td>10</td>\n",
              "      <td>15592389</td>\n",
              "      <td>H?</td>\n",
              "      <td>684</td>\n",
              "      <td>France</td>\n",
              "      <td>Male</td>\n",
              "      <td>27</td>\n",
              "      <td>2</td>\n",
              "      <td>134603.88</td>\n",
              "      <td>1</td>\n",
              "      <td>1</td>\n",
              "      <td>1</td>\n",
              "      <td>71725.73</td>\n",
              "      <td>0</td>\n",
              "    </tr>\n",
              "  </tbody>\n",
              "</table>\n",
              "</div>"
            ],
            "text/plain": [
              "   RowNumber  CustomerId   Surname  ...  IsActiveMember EstimatedSalary Exited\n",
              "0          1    15634602  Hargrave  ...               1       101348.88      1\n",
              "1          2    15647311      Hill  ...               1       112542.58      0\n",
              "2          3    15619304      Onio  ...               0       113931.57      1\n",
              "3          4    15701354      Boni  ...               0        93826.63      0\n",
              "4          5    15737888  Mitchell  ...               1        79084.10      0\n",
              "5          6    15574012       Chu  ...               0       149756.71      1\n",
              "6          7    15592531  Bartlett  ...               1        10062.80      0\n",
              "7          8    15656148    Obinna  ...               0       119346.88      1\n",
              "8          9    15792365        He  ...               1        74940.50      0\n",
              "9         10    15592389        H?  ...               1        71725.73      0\n",
              "\n",
              "[10 rows x 14 columns]"
            ]
          },
          "metadata": {
            "tags": []
          },
          "execution_count": 25
        }
      ]
    },
    {
      "cell_type": "markdown",
      "metadata": {
        "id": "DQ5cBjEN7nwG"
      },
      "source": [
        "Присутствуют 909 пропусков в колонке Tenure, 3 колонки строкового формата"
      ]
    },
    {
      "cell_type": "code",
      "metadata": {
        "colab": {
          "base_uri": "https://localhost:8080/",
          "height": 297
        },
        "id": "wqvSGE-E7ycH",
        "outputId": "4815f3dc-db70-4f7f-b9ae-dd56f5ba3751"
      },
      "source": [
        "df.describe()"
      ],
      "execution_count": 26,
      "outputs": [
        {
          "output_type": "execute_result",
          "data": {
            "text/html": [
              "<div>\n",
              "<style scoped>\n",
              "    .dataframe tbody tr th:only-of-type {\n",
              "        vertical-align: middle;\n",
              "    }\n",
              "\n",
              "    .dataframe tbody tr th {\n",
              "        vertical-align: top;\n",
              "    }\n",
              "\n",
              "    .dataframe thead th {\n",
              "        text-align: right;\n",
              "    }\n",
              "</style>\n",
              "<table border=\"1\" class=\"dataframe\">\n",
              "  <thead>\n",
              "    <tr style=\"text-align: right;\">\n",
              "      <th></th>\n",
              "      <th>RowNumber</th>\n",
              "      <th>CustomerId</th>\n",
              "      <th>CreditScore</th>\n",
              "      <th>Age</th>\n",
              "      <th>Tenure</th>\n",
              "      <th>Balance</th>\n",
              "      <th>NumOfProducts</th>\n",
              "      <th>HasCrCard</th>\n",
              "      <th>IsActiveMember</th>\n",
              "      <th>EstimatedSalary</th>\n",
              "      <th>Exited</th>\n",
              "    </tr>\n",
              "  </thead>\n",
              "  <tbody>\n",
              "    <tr>\n",
              "      <th>count</th>\n",
              "      <td>10000.00000</td>\n",
              "      <td>1.000000e+04</td>\n",
              "      <td>10000.000000</td>\n",
              "      <td>10000.000000</td>\n",
              "      <td>10000.000000</td>\n",
              "      <td>10000.000000</td>\n",
              "      <td>10000.000000</td>\n",
              "      <td>10000.00000</td>\n",
              "      <td>10000.000000</td>\n",
              "      <td>10000.000000</td>\n",
              "      <td>10000.000000</td>\n",
              "    </tr>\n",
              "    <tr>\n",
              "      <th>mean</th>\n",
              "      <td>5000.50000</td>\n",
              "      <td>1.569094e+07</td>\n",
              "      <td>650.528800</td>\n",
              "      <td>38.921800</td>\n",
              "      <td>5.012800</td>\n",
              "      <td>76485.889288</td>\n",
              "      <td>1.530200</td>\n",
              "      <td>0.70550</td>\n",
              "      <td>0.515100</td>\n",
              "      <td>100090.239881</td>\n",
              "      <td>0.203700</td>\n",
              "    </tr>\n",
              "    <tr>\n",
              "      <th>std</th>\n",
              "      <td>2886.89568</td>\n",
              "      <td>7.193619e+04</td>\n",
              "      <td>96.653299</td>\n",
              "      <td>10.487806</td>\n",
              "      <td>2.892174</td>\n",
              "      <td>62397.405202</td>\n",
              "      <td>0.581654</td>\n",
              "      <td>0.45584</td>\n",
              "      <td>0.499797</td>\n",
              "      <td>57510.492818</td>\n",
              "      <td>0.402769</td>\n",
              "    </tr>\n",
              "    <tr>\n",
              "      <th>min</th>\n",
              "      <td>1.00000</td>\n",
              "      <td>1.556570e+07</td>\n",
              "      <td>350.000000</td>\n",
              "      <td>18.000000</td>\n",
              "      <td>0.000000</td>\n",
              "      <td>0.000000</td>\n",
              "      <td>1.000000</td>\n",
              "      <td>0.00000</td>\n",
              "      <td>0.000000</td>\n",
              "      <td>11.580000</td>\n",
              "      <td>0.000000</td>\n",
              "    </tr>\n",
              "    <tr>\n",
              "      <th>25%</th>\n",
              "      <td>2500.75000</td>\n",
              "      <td>1.562853e+07</td>\n",
              "      <td>584.000000</td>\n",
              "      <td>32.000000</td>\n",
              "      <td>3.000000</td>\n",
              "      <td>0.000000</td>\n",
              "      <td>1.000000</td>\n",
              "      <td>0.00000</td>\n",
              "      <td>0.000000</td>\n",
              "      <td>51002.110000</td>\n",
              "      <td>0.000000</td>\n",
              "    </tr>\n",
              "    <tr>\n",
              "      <th>50%</th>\n",
              "      <td>5000.50000</td>\n",
              "      <td>1.569074e+07</td>\n",
              "      <td>652.000000</td>\n",
              "      <td>37.000000</td>\n",
              "      <td>5.000000</td>\n",
              "      <td>97198.540000</td>\n",
              "      <td>1.000000</td>\n",
              "      <td>1.00000</td>\n",
              "      <td>1.000000</td>\n",
              "      <td>100193.915000</td>\n",
              "      <td>0.000000</td>\n",
              "    </tr>\n",
              "    <tr>\n",
              "      <th>75%</th>\n",
              "      <td>7500.25000</td>\n",
              "      <td>1.575323e+07</td>\n",
              "      <td>718.000000</td>\n",
              "      <td>44.000000</td>\n",
              "      <td>7.000000</td>\n",
              "      <td>127644.240000</td>\n",
              "      <td>2.000000</td>\n",
              "      <td>1.00000</td>\n",
              "      <td>1.000000</td>\n",
              "      <td>149388.247500</td>\n",
              "      <td>0.000000</td>\n",
              "    </tr>\n",
              "    <tr>\n",
              "      <th>max</th>\n",
              "      <td>10000.00000</td>\n",
              "      <td>1.581569e+07</td>\n",
              "      <td>850.000000</td>\n",
              "      <td>92.000000</td>\n",
              "      <td>10.000000</td>\n",
              "      <td>250898.090000</td>\n",
              "      <td>4.000000</td>\n",
              "      <td>1.00000</td>\n",
              "      <td>1.000000</td>\n",
              "      <td>199992.480000</td>\n",
              "      <td>1.000000</td>\n",
              "    </tr>\n",
              "  </tbody>\n",
              "</table>\n",
              "</div>"
            ],
            "text/plain": [
              "         RowNumber    CustomerId  ...  EstimatedSalary        Exited\n",
              "count  10000.00000  1.000000e+04  ...     10000.000000  10000.000000\n",
              "mean    5000.50000  1.569094e+07  ...    100090.239881      0.203700\n",
              "std     2886.89568  7.193619e+04  ...     57510.492818      0.402769\n",
              "min        1.00000  1.556570e+07  ...        11.580000      0.000000\n",
              "25%     2500.75000  1.562853e+07  ...     51002.110000      0.000000\n",
              "50%     5000.50000  1.569074e+07  ...    100193.915000      0.000000\n",
              "75%     7500.25000  1.575323e+07  ...    149388.247500      0.000000\n",
              "max    10000.00000  1.581569e+07  ...    199992.480000      1.000000\n",
              "\n",
              "[8 rows x 11 columns]"
            ]
          },
          "metadata": {
            "tags": []
          },
          "execution_count": 26
        }
      ]
    },
    {
      "cell_type": "code",
      "metadata": {
        "colab": {
          "base_uri": "https://localhost:8080/"
        },
        "id": "I5Y72Fya1Q39",
        "outputId": "acf4c4c4-34ca-45a9-babb-6c23044c8163"
      },
      "source": [
        "df.nunique()"
      ],
      "execution_count": 27,
      "outputs": [
        {
          "output_type": "execute_result",
          "data": {
            "text/plain": [
              "RowNumber          10000\n",
              "CustomerId         10000\n",
              "Surname             2932\n",
              "CreditScore          460\n",
              "Geography              3\n",
              "Gender                 2\n",
              "Age                   70\n",
              "Tenure                11\n",
              "Balance             6382\n",
              "NumOfProducts          4\n",
              "HasCrCard              2\n",
              "IsActiveMember         2\n",
              "EstimatedSalary     9999\n",
              "Exited                 2\n",
              "dtype: int64"
            ]
          },
          "metadata": {
            "tags": []
          },
          "execution_count": 27
        }
      ]
    },
    {
      "cell_type": "markdown",
      "metadata": {
        "id": "j7ZJ_ecg7hJK"
      },
      "source": [
        "Признаки RowNumber, CustomerId и Surname не несут в себе информации, необходимой для дальнейшей классификации. Удалим их."
      ]
    },
    {
      "cell_type": "code",
      "metadata": {
        "id": "ddh1gtrF1Q2d"
      },
      "source": [
        "df = df.drop(['RowNumber', 'CustomerId', 'Surname'], axis=1)"
      ],
      "execution_count": 28,
      "outputs": []
    },
    {
      "cell_type": "code",
      "metadata": {
        "id": "nCX1J2qM1QyF"
      },
      "source": [
        "def show_hists(data, data_label, num_bins, rug=False, log_scale=False):\n",
        "   \n",
        "    sns.set()\n",
        "    f, axes = plt.subplots(1, 2, figsize=(16, 4))\n",
        "    axes[0].set_title(data_label + \". Плотность распределения\", fontsize=18)\n",
        "    axes[0].set_ylabel('плотность', fontsize=15)\n",
        "    sns.distplot(data, bins=num_bins, rug=rug, ax=axes[0])\n",
        "    axes[1].set_title(data_label + \". Boxplot\", fontsize=18)\n",
        "    sns.boxplot(data=df, x=data_label, ax=axes[1])\n",
        "    plt.show()"
      ],
      "execution_count": 29,
      "outputs": []
    },
    {
      "cell_type": "code",
      "metadata": {
        "colab": {
          "base_uri": "https://localhost:8080/",
          "height": 1000
        },
        "id": "pLGVncWJ1Qve",
        "outputId": "7d440395-0002-48eb-93f2-82236aa9208a"
      },
      "source": [
        "numerics = ['CreditScore', 'Age', 'Balance', 'EstimatedSalary']\n",
        "for column in numerics:\n",
        "    show_hists(df[column], column, num_bins=30)"
      ],
      "execution_count": 30,
      "outputs": [
        {
          "output_type": "stream",
          "text": [
            "/usr/local/lib/python3.7/dist-packages/seaborn/distributions.py:2557: FutureWarning: `distplot` is a deprecated function and will be removed in a future version. Please adapt your code to use either `displot` (a figure-level function with similar flexibility) or `histplot` (an axes-level function for histograms).\n",
            "  warnings.warn(msg, FutureWarning)\n"
          ],
          "name": "stderr"
        },
        {
          "output_type": "display_data",
          "data": {
            "image/png": "[encoded data removed]",
            "text/plain": [
              "<Figure size 1152x288 with 2 Axes>"
            ]
          },
          "metadata": {
            "tags": []
          }
        },
        {
          "output_type": "stream",
          "text": [
            "/usr/local/lib/python3.7/dist-packages/seaborn/distributions.py:2557: FutureWarning: `distplot` is a deprecated function and will be removed in a future version. Please adapt your code to use either `displot` (a figure-level function with similar flexibility) or `histplot` (an axes-level function for histograms).\n",
            "  warnings.warn(msg, FutureWarning)\n"
          ],
          "name": "stderr"
        },
        {
          "output_type": "display_data",
          "data": {
            "image/png": "[encoded data removed]",
            "text/plain": [
              "<Figure size 1152x288 with 2 Axes>"
            ]
          },
          "metadata": {
            "tags": []
          }
        },
        {
          "output_type": "stream",
          "text": [
            "/usr/local/lib/python3.7/dist-packages/seaborn/distributions.py:2557: FutureWarning: `distplot` is a deprecated function and will be removed in a future version. Please adapt your code to use either `displot` (a figure-level function with similar flexibility) or `histplot` (an axes-level function for histograms).\n",
            "  warnings.warn(msg, FutureWarning)\n"
          ],
          "name": "stderr"
        },
        {
          "output_type": "display_data",
          "data": {
            "image/png": "[encoded data removed]",
            "text/plain": [
              "<Figure size 1152x288 with 2 Axes>"
            ]
          },
          "metadata": {
            "tags": []
          }
        },
        {
          "output_type": "stream",
          "text": [
            "/usr/local/lib/python3.7/dist-packages/seaborn/distributions.py:2557: FutureWarning: `distplot` is a deprecated function and will be removed in a future version. Please adapt your code to use either `displot` (a figure-level function with similar flexibility) or `histplot` (an axes-level function for histograms).\n",
            "  warnings.warn(msg, FutureWarning)\n"
          ],
          "name": "stderr"
        },
        {
          "output_type": "display_data",
          "data": {
            "image/png": "[encoded data removed]",
            "text/plain": [
              "<Figure size 1152x288 with 2 Axes>"
            ]
          },
          "metadata": {
            "tags": []
          }
        }
      ]
    },
    {
      "cell_type": "markdown",
      "metadata": {
        "id": "iOWjJt5P_fP9"
      },
      "source": [
        "В признаках CreditScore, Age есть выбросы. Найдём их долю от общего количества данных."
      ]
    },
    {
      "cell_type": "code",
      "metadata": {
        "colab": {
          "base_uri": "https://localhost:8080/"
        },
        "id": "br8_-R1R1QBX",
        "outputId": "a5003b05-77cd-4b22-d392-2bed34b8b539"
      },
      "source": [
        "# квантили считаем методом quantile()\n",
        "# граница выбросов считается по формуле  [ q.75 + (q.75 - q.25)*1.5 ]\n",
        "max_age = (df['Age'].quantile(0.75) - df['Age'].quantile(0.25))*1.5 + df['Age'].quantile(0.75)\n",
        "rate = round(len(df.loc[df['Age'] > max_age]) / len(df) * 100, 2)\n",
        "print('Доля выбросов в параметре {}: {} %'.format('Age', rate))"
      ],
      "execution_count": 31,
      "outputs": [
        {
          "output_type": "stream",
          "text": [
            "Доля выбросов в параметре Age: 3.59 %\n"
          ],
          "name": "stdout"
        }
      ]
    },
    {
      "cell_type": "code",
      "metadata": {
        "colab": {
          "base_uri": "https://localhost:8080/"
        },
        "id": "fCxodZzw1P-Z",
        "outputId": "4d5d9753-bfec-4ade-d87a-77777f43c697"
      },
      "source": [
        "# граница выбросов считается по формуле  [ q.25 - (q.75 - q.25)*1.5 ]\n",
        "min_score = df['CreditScore'].quantile(0.25) - \\\n",
        "            (df['CreditScore'].quantile(0.75) - df['CreditScore'].quantile(0.25))*1.5\n",
        "rate = round(len(df.loc[df['CreditScore'] < min_score]) / len(df) * 100, 2)\n",
        "print('Доля выбросов в параметре {}: {} %'.format('CreditScore', rate))"
      ],
      "execution_count": 32,
      "outputs": [
        {
          "output_type": "stream",
          "text": [
            "Доля выбросов в параметре CreditScore: 0.15 %\n"
          ],
          "name": "stdout"
        }
      ]
    },
    {
      "cell_type": "markdown",
      "metadata": {
        "id": "ghgp4cmu_xKv"
      },
      "source": [
        "\n",
        "Общая доля выбросов небольшая (меньше 4%). Не будем пока их удалять."
      ]
    },
    {
      "cell_type": "markdown",
      "metadata": {
        "id": "Sr48mjafBW_F"
      },
      "source": [
        "\n",
        "Чтобы не терять данные и не вносить дисбаланс, заполняю пропущенные значения колонки Tenure случайным числом, которое уже есть в этой колонке (от 0 до 10)."
      ]
    },
    {
      "cell_type": "code",
      "metadata": {
        "id": "Ut1HARlYBYFd"
      },
      "source": [
        "def random_digit(row):\n",
        "    tenure = row['Tenure']\n",
        "    if tenure >= 0:\n",
        "        return tenure\n",
        "    else:\n",
        "        return random.randint(0,10)"
      ],
      "execution_count": 33,
      "outputs": []
    },
    {
      "cell_type": "code",
      "metadata": {
        "colab": {
          "base_uri": "https://localhost:8080/",
          "height": 268
        },
        "id": "eTTrhcd6Bede",
        "outputId": "4512d42c-9e1b-452b-8e54-b84accf5c104"
      },
      "source": [
        "df['Tenure'].hist(alpha=0.8);\n",
        "df['Tenure'] = df.apply(random_digit, axis=1)\n",
        "df['Tenure'].hist(alpha=0.7);"
      ],
      "execution_count": 34,
      "outputs": [
        {
          "output_type": "display_data",
          "data": {
            "image/png": "[encoded data removed]",
            "text/plain": [
              "<Figure size 432x288 with 1 Axes>"
            ]
          },
          "metadata": {
            "tags": []
          }
        }
      ]
    },
    {
      "cell_type": "markdown",
      "metadata": {
        "id": "98XV2mnp_0z9"
      },
      "source": [
        "К числовым признакам CreditScore, Age, Balance, EstimatedSalary применим масштабирование с помощью StandardScaler библиотеки sklearn"
      ]
    },
    {
      "cell_type": "code",
      "metadata": {
        "id": "cEBtmDam1P74"
      },
      "source": [
        "scaler = StandardScaler()\n",
        "df[numerics] = scaler.fit_transform(df[numerics])"
      ],
      "execution_count": 35,
      "outputs": []
    },
    {
      "cell_type": "code",
      "metadata": {
        "id": "LCPw317UCFWZ"
      },
      "source": [
        "def show_hists(data, data_label1, data_label2=''):\n",
        "   \n",
        "    sns.set()\n",
        "    f, axes = plt.subplots(1, 2, figsize=(16, 4))\n",
        "    axes[0].set_title(data_label1 + \". CountPlot\", fontsize=18)\n",
        "    sns.countplot(data=df, x=data_label1, ax=axes[0])\n",
        "    if data_label2 != '':\n",
        "        axes[1].set_title(data_label2 + \". CountPlot\", fontsize=18)\n",
        "        sns.countplot(data=df, x=data_label2, ax=axes[1])\n",
        "    plt.show()"
      ],
      "execution_count": 36,
      "outputs": []
    },
    {
      "cell_type": "code",
      "metadata": {
        "colab": {
          "base_uri": "https://localhost:8080/",
          "height": 1000
        },
        "id": "88Y8xH0qCFUf",
        "outputId": "01ba9534-2672-4976-fa86-382bfc0e7052"
      },
      "source": [
        "categoricals = ['Geography', 'Gender', 'Tenure', 'NumOfProducts', 'HasCrCard', 'IsActiveMember', 'Exited', '']\n",
        "for i in range(len(categoricals)//2):\n",
        "    show_hists(df, categoricals[2*i], categoricals[2*i+1])"
      ],
      "execution_count": 37,
      "outputs": [
        {
          "output_type": "display_data",
          "data": {
            "image/png": "[encoded data removed]",
            "text/plain": [
              "<Figure size 1152x288 with 2 Axes>"
            ]
          },
          "metadata": {
            "tags": []
          }
        },
        {
          "output_type": "display_data",
          "data": {
            "image/png": "[encoded data removed]",
            "text/plain": [
              "<Figure size 1152x288 with 2 Axes>"
            ]
          },
          "metadata": {
            "tags": []
          }
        },
        {
          "output_type": "display_data",
          "data": {
            "image/png": "[encoded data removed]",
            "text/plain": [
              "<Figure size 1152x288 with 2 Axes>"
            ]
          },
          "metadata": {
            "tags": []
          }
        },
        {
          "output_type": "display_data",
          "data": {
            "image/png": "[encoded data removed]",
            "text/plain": [
              "<Figure size 1152x288 with 2 Axes>"
            ]
          },
          "metadata": {
            "tags": []
          }
        }
      ]
    },
    {
      "cell_type": "markdown",
      "metadata": {
        "id": "LLF2kaGiCv-g"
      },
      "source": [
        "* Целевой признак Exited распределён примерно 4:1.\n",
        "* Количество категорий в признаках Geography, Gender небольшое. Преобразуем их методом One-Hot Encoding."
      ]
    },
    {
      "cell_type": "code",
      "metadata": {
        "id": "aahXF_xmCFPc"
      },
      "source": [
        "# для преобразования воспользуемся методом pd.get_dummies\n",
        "# параметр drop_first=True для удаления избыточного столбца данных\n",
        "df = pd.get_dummies(df, drop_first=True)"
      ],
      "execution_count": 38,
      "outputs": []
    },
    {
      "cell_type": "markdown",
      "metadata": {
        "id": "y_DFL-TeC9FA"
      },
      "source": [
        "Преобразуем типы данных признаков NumOfProducts, HasCrCard, IsActiveMember, Exited в int8 для экономии места."
      ]
    },
    {
      "cell_type": "code",
      "metadata": {
        "id": "9E-HDo1GCFNF"
      },
      "source": [
        "for column in ['NumOfProducts', 'HasCrCard', 'IsActiveMember', 'Exited']:\n",
        "    df[column] = df[column].astype('int8')"
      ],
      "execution_count": 39,
      "outputs": []
    },
    {
      "cell_type": "markdown",
      "metadata": {
        "id": "remMT3qWDOXm"
      },
      "source": [
        "##Выводы\n",
        "\n",
        "* Данные успешно загружены и проверены на соответствие описанию. Дубликатов нет. Типы данных преобразованы в соответствии с хранимой информацией\n",
        "* Признаки RowNumber, CustomerId и Surname удалены, так как целевой признак от них никак не зависит.\n",
        "* Были рассмотрены распределения признаков. В CreditScore, Age найдено около 4% выбросов. Пока оставлены как есть.\n",
        "* Числовые признаки приведены к стандартному виду (среднее = 0, стандартное отклонение = 1)\n",
        "* Категориальные признаки преобразованы методом One-Hot Encoder.\n",
        "* Целевой признак распределён в сооотношении 4:1\n",
        "* В признаке Tenure обнаружено около 10% пропусков. Чтобы не терять данные и не вносить дисбаланс, заполняю пропущенные значения колонки Tenure случайным числом, которое уже есть в этой колонке (от 0 до 10)."
      ]
    },
    {
      "cell_type": "code",
      "metadata": {
        "colab": {
          "base_uri": "https://localhost:8080/",
          "height": 204
        },
        "id": "IOjMXZXnCFKg",
        "outputId": "d726f0ff-baaa-4bfd-9ca0-0d9c25ec9bd8"
      },
      "source": [
        "df.head()"
      ],
      "execution_count": 40,
      "outputs": [
        {
          "output_type": "execute_result",
          "data": {
            "text/html": [
              "<div>\n",
              "<style scoped>\n",
              "    .dataframe tbody tr th:only-of-type {\n",
              "        vertical-align: middle;\n",
              "    }\n",
              "\n",
              "    .dataframe tbody tr th {\n",
              "        vertical-align: top;\n",
              "    }\n",
              "\n",
              "    .dataframe thead th {\n",
              "        text-align: right;\n",
              "    }\n",
              "</style>\n",
              "<table border=\"1\" class=\"dataframe\">\n",
              "  <thead>\n",
              "    <tr style=\"text-align: right;\">\n",
              "      <th></th>\n",
              "      <th>CreditScore</th>\n",
              "      <th>Age</th>\n",
              "      <th>Tenure</th>\n",
              "      <th>Balance</th>\n",
              "      <th>NumOfProducts</th>\n",
              "      <th>HasCrCard</th>\n",
              "      <th>IsActiveMember</th>\n",
              "      <th>EstimatedSalary</th>\n",
              "      <th>Exited</th>\n",
              "      <th>Geography_Germany</th>\n",
              "      <th>Geography_Spain</th>\n",
              "      <th>Gender_Male</th>\n",
              "    </tr>\n",
              "  </thead>\n",
              "  <tbody>\n",
              "    <tr>\n",
              "      <th>0</th>\n",
              "      <td>-0.326221</td>\n",
              "      <td>0.293517</td>\n",
              "      <td>2</td>\n",
              "      <td>-1.225848</td>\n",
              "      <td>1</td>\n",
              "      <td>1</td>\n",
              "      <td>1</td>\n",
              "      <td>0.021886</td>\n",
              "      <td>1</td>\n",
              "      <td>0</td>\n",
              "      <td>0</td>\n",
              "      <td>0</td>\n",
              "    </tr>\n",
              "    <tr>\n",
              "      <th>1</th>\n",
              "      <td>-0.440036</td>\n",
              "      <td>0.198164</td>\n",
              "      <td>1</td>\n",
              "      <td>0.117350</td>\n",
              "      <td>1</td>\n",
              "      <td>0</td>\n",
              "      <td>1</td>\n",
              "      <td>0.216534</td>\n",
              "      <td>0</td>\n",
              "      <td>0</td>\n",
              "      <td>1</td>\n",
              "      <td>0</td>\n",
              "    </tr>\n",
              "    <tr>\n",
              "      <th>2</th>\n",
              "      <td>-1.536794</td>\n",
              "      <td>0.293517</td>\n",
              "      <td>8</td>\n",
              "      <td>1.333053</td>\n",
              "      <td>3</td>\n",
              "      <td>1</td>\n",
              "      <td>0</td>\n",
              "      <td>0.240687</td>\n",
              "      <td>1</td>\n",
              "      <td>0</td>\n",
              "      <td>0</td>\n",
              "      <td>0</td>\n",
              "    </tr>\n",
              "    <tr>\n",
              "      <th>3</th>\n",
              "      <td>0.501521</td>\n",
              "      <td>0.007457</td>\n",
              "      <td>1</td>\n",
              "      <td>-1.225848</td>\n",
              "      <td>2</td>\n",
              "      <td>0</td>\n",
              "      <td>0</td>\n",
              "      <td>-0.108918</td>\n",
              "      <td>0</td>\n",
              "      <td>0</td>\n",
              "      <td>0</td>\n",
              "      <td>0</td>\n",
              "    </tr>\n",
              "    <tr>\n",
              "      <th>4</th>\n",
              "      <td>2.063884</td>\n",
              "      <td>0.388871</td>\n",
              "      <td>2</td>\n",
              "      <td>0.785728</td>\n",
              "      <td>1</td>\n",
              "      <td>1</td>\n",
              "      <td>1</td>\n",
              "      <td>-0.365276</td>\n",
              "      <td>0</td>\n",
              "      <td>0</td>\n",
              "      <td>1</td>\n",
              "      <td>0</td>\n",
              "    </tr>\n",
              "  </tbody>\n",
              "</table>\n",
              "</div>"
            ],
            "text/plain": [
              "   CreditScore       Age  ...  Geography_Spain  Gender_Male\n",
              "0    -0.326221  0.293517  ...                0            0\n",
              "1    -0.440036  0.198164  ...                1            0\n",
              "2    -1.536794  0.293517  ...                0            0\n",
              "3     0.501521  0.007457  ...                0            0\n",
              "4     2.063884  0.388871  ...                1            0\n",
              "\n",
              "[5 rows x 12 columns]"
            ]
          },
          "metadata": {
            "tags": []
          },
          "execution_count": 40
        }
      ]
    },
    {
      "cell_type": "markdown",
      "metadata": {
        "id": "Hcwj-PP_IXTc"
      },
      "source": [
        "# 2. Исследование задачи"
      ]
    },
    {
      "cell_type": "code",
      "metadata": {
        "id": "OfnUgNwA1P2N"
      },
      "source": [
        " # Разделим данные\n",
        " features = df.drop('Exited', axis=1)\n",
        " target = df['Exited']"
      ],
      "execution_count": 41,
      "outputs": []
    },
    {
      "cell_type": "code",
      "metadata": {
        "id": "MKmkn0Wi1Pz8"
      },
      "source": [
        "# Разделим данные на обучающую, валидационную и тестовую выборки в пропорции 3:1:1 соответственно (60% на обучающию и по 20% данных на валидационную и тестовую выборки).\n",
        "X, X_test, y, y_test = train_test_split(features, target, test_size=0.2, random_state=123)\n",
        "X_train, X_valid, y_train, y_valid = train_test_split(X, y, test_size=0.25, random_state=123)"
      ],
      "execution_count": 42,
      "outputs": []
    },
    {
      "cell_type": "code",
      "metadata": {
        "id": "mDeMzJ6f1Pwx",
        "colab": {
          "base_uri": "https://localhost:8080/"
        },
        "outputId": "d6d88b3a-a35c-4f70-ed87-62dcd9a5d13a"
      },
      "source": [
        "# выведем размеры получившихся выборок\n",
        "print('Размеры наборов данных:')\n",
        "print('X_train: ', X_train.shape)\n",
        "print('X_valid: ', X_valid.shape)\n",
        "print('X_test:  ', X_test.shape)"
      ],
      "execution_count": 43,
      "outputs": [
        {
          "output_type": "stream",
          "text": [
            "Размеры наборов данных:\n",
            "X_train:  (6000, 11)\n",
            "X_valid:  (2000, 11)\n",
            "X_test:   (2000, 11)\n"
          ],
          "name": "stdout"
        }
      ]
    },
    {
      "cell_type": "markdown",
      "metadata": {
        "id": "JUB8lcixI6o3"
      },
      "source": [
        "Попробуем обучить различные классификационные модели без учёта дисбаланса классов."
      ]
    },
    {
      "cell_type": "markdown",
      "metadata": {
        "id": "u0UlpnbZJNJy"
      },
      "source": [
        "## 2.1 Решающее дерево\n",
        "**Инициируем модель решающего дерева DecisionTreeClassifier**\n",
        "\n",
        "Выделим гиперпараметры для настройки модели:\n",
        "* max_depth - максимальная глубина древа\n",
        "* min_samples_split - минимальное количество объектов в узле\n",
        "* min_samples_leaf - минимальное количество объектов в листе\n",
        "* criterion (\"gini\" или \"entropy\") - функция измерения качества разделения\n",
        "* Критерием проверки качества модели будет f1 и roc_auc."
      ]
    },
    {
      "cell_type": "code",
      "metadata": {
        "id": "iBn8kCy71Pun"
      },
      "source": [
        "def decision_tree(X_train, X_valid, y_train, y_valid, cw=None):\n",
        "    \"\"\"\n",
        "    input: X_train, X_valid, y_train, y_valid - обучающие и валидационные выборки признаков и целевого признака\n",
        "            cw - параметр class_weight для модели решающего дерева\n",
        "    output: None\n",
        "    description: функция обучает модель решающего дерева DecisionTreeClassifier с различными сочетаниями гиперпараметров;\n",
        "                 метрики качества модели: f1 и roc_auc;\n",
        "                 функция выводит наилучшие значения метрик и значения гиперпараметров наилучшей модели.\n",
        "    \"\"\"\n",
        "    # в параметрах best_params_f1 и best_f1 будем хранить наилучшие параметры для модели и наивысшую f1 метрику соответственно\n",
        "    best_params_f1 = []\n",
        "    best_f1 = 0\n",
        "    # аналогично для roc_auc метрики.\n",
        "    best_params_roc_auc = []\n",
        "    best_roc_auc = 0.5\n",
        "    # проходим в циклах по всем выбранным гиперпараметрам\n",
        "    for max_depth in range(2,10):\n",
        "        for min_samples_split in range(2,6):\n",
        "            for min_samples_leaf in range(1,10):\n",
        "                for criterion in ['gini', 'entropy']:\n",
        "                    # инициация модели с текущими гиперпараметрами\n",
        "                    model_dt_clf = DecisionTreeClassifier(random_state=123,\n",
        "                                                          max_depth=max_depth,\n",
        "                                                          min_samples_split=min_samples_split,\n",
        "                                                          min_samples_leaf=min_samples_leaf,\n",
        "                                                          criterion=criterion,\n",
        "                                                          class_weight=cw)\n",
        "                    # обучение модели на тренировочной выборке\n",
        "                    model_dt_clf.fit(X_train, y_train)\n",
        "                    # поиск предсказаний модели на валидационной выбоке\n",
        "                    predictions = model_dt_clf.predict(X_valid)\n",
        "                    # вычисление f1 модели методом f1_score\n",
        "                    f1 = f1_score(y_valid, predictions)\n",
        "                    # если текущее значение метрики f1 выше предыдущего лучшего значения, \n",
        "                    # сохраняем параметры модели и текущую метрику f1\n",
        "                    if f1 > best_f1:\n",
        "                        best_params_f1 = [max_depth, min_samples_split, min_samples_leaf, criterion]\n",
        "                        best_f1 = f1\n",
        "                    # аналогично для метрики roc_auc\n",
        "                    roc_auc = roc_auc_score(y_valid, predictions)\n",
        "                    if roc_auc > best_roc_auc:\n",
        "                        best_params_roc_auc = [max_depth, min_samples_split, min_samples_leaf, criterion]\n",
        "                        best_roc_auc = roc_auc\n",
        "    \n",
        "    # вывод наилучшей метрики f1 и параметров модели.\n",
        "    print('''Наилучшая метрика f1: {}\n",
        "    Парамтеры модели:\n",
        "       max_depth = {}\n",
        "       min_samples_split = {}\n",
        "       min_samples_leaf = {}\n",
        "       criterion = {} \\n'''.format(round(best_f1, 3),\n",
        "                                 best_params_f1[0],\n",
        "                                 best_params_f1[1],\n",
        "                                 best_params_f1[2],\n",
        "                                 best_params_f1[3]\n",
        "                                ))\n",
        "    \n",
        "    # вывод наилучшей метрики roc_auc и параметров модели.\n",
        "    print('''Наилучшая метрика roc_auc: {}\n",
        "    Парамтеры модели:\n",
        "       max_depth = {}\n",
        "       min_samples_split = {}\n",
        "       min_samples_leaf = {}\n",
        "       criterion = {} '''.format(round(best_roc_auc, 3),\n",
        "                                 best_params_roc_auc[0],\n",
        "                                 best_params_roc_auc[1],\n",
        "                                 best_params_roc_auc[2],\n",
        "                                 best_params_roc_auc[3]\n",
        "                                ))"
      ],
      "execution_count": 44,
      "outputs": []
    },
    {
      "cell_type": "code",
      "metadata": {
        "id": "WV-VmBoC1Ptg",
        "colab": {
          "base_uri": "https://localhost:8080/"
        },
        "outputId": "61d77e60-3421-46a9-fc82-bed7f8ecef5e"
      },
      "source": [
        "decision_tree(X_train, X_valid, y_train, y_valid)"
      ],
      "execution_count": 45,
      "outputs": [
        {
          "output_type": "stream",
          "text": [
            "Наилучшая метрика f1: 0.569\n",
            "    Парамтеры модели:\n",
            "       max_depth = 5\n",
            "       min_samples_split = 2\n",
            "       min_samples_leaf = 2\n",
            "       criterion = gini \n",
            "\n",
            "Наилучшая метрика roc_auc: 0.71\n",
            "    Парамтеры модели:\n",
            "       max_depth = 5\n",
            "       min_samples_split = 2\n",
            "       min_samples_leaf = 2\n",
            "       criterion = gini \n"
          ],
          "name": "stdout"
        }
      ]
    },
    {
      "cell_type": "markdown",
      "metadata": {
        "id": "LXA3CN9JUPuM"
      },
      "source": [
        "* Наилучшая метрика f1 для решающего дерева 0.57 (не достаточно по техническому заданию).\n",
        "* Наилучший результат по метрикам f1 и roc_auc достигается при одинаковой настройке гиперпараметров.\n",
        "* Попробуем улучшить результат на других моделях"
      ]
    },
    {
      "cell_type": "markdown",
      "metadata": {
        "id": "HOvznhBdUXbK"
      },
      "source": [
        "## 2.2 Случайный лес\n",
        "**Инициируем модель случайного леса RandomForestClassifier**\n",
        "\n",
        "Выделим гиперпараметры для настройки модели:\n",
        "* n_estimators - количество деревьев\n",
        "* max_depth - максимальная глубина древа\n",
        "* min_samples_split - минимальное количество объектов в узле\n",
        "* min_samples_leaf - минимальное количество объектов в листе\n",
        "* Критерием проверки качества модели будет f1 и roc_auc."
      ]
    },
    {
      "cell_type": "code",
      "metadata": {
        "id": "1AKr_TSY1Pqz"
      },
      "source": [
        "def random_forest(X_train, X_valid, y_train, y_valid, cw=None):\n",
        "    \"\"\"\n",
        "    input: X_train, X_valid, y_train, y_valid - обучающие и валидационные выборки признаков и целевого признака\n",
        "            cw - параметр class_weight для модели случайного леса\n",
        "    output: None\n",
        "    description: функция обучает модель решающего дерева RandomForestClassifier с различными сочетаниями гиперпараметров;\n",
        "                 метрики качества модели: f1 и roc_auc;\n",
        "                 функция выводит наилучшие значения метрик и значения гиперпараметров наилучшей модели.\n",
        "    \"\"\"\n",
        "    # в параметрах best_params_f1 и best_f1 будем хранить наилучшие параметры для модели и наивысшую f1 метрику соответственно\n",
        "    best_params_f1 = []\n",
        "    best_f1 = 0\n",
        "    # аналогично для roc_auc метрики.\n",
        "    best_params_roc_auc = []\n",
        "    best_roc_auc = 0.5\n",
        "    # проходим в циклах по всем выбранным гиперпараметрам\n",
        "    for n_estimators in range(30,40):\n",
        "        for max_depth in range(10,17,2):\n",
        "            for min_samples_split in range(2,5):\n",
        "                for min_samples_leaf in range(1,4):\n",
        "                    # инициация модели с текущими гиперпараметрами\n",
        "                    model_rf_clf = RandomForestClassifier(random_state=123,\n",
        "                                                          n_estimators=n_estimators,\n",
        "                                                          max_depth=max_depth,\n",
        "                                                          min_samples_split=min_samples_split,\n",
        "                                                          min_samples_leaf=min_samples_leaf)\n",
        "                    # обучение модели на тренировочной выборке\n",
        "                    model_rf_clf.fit(X_train, y_train)\n",
        "                    # поиск предсказаний модели на валидационной выбоке\n",
        "                    predictions = model_rf_clf.predict(X_valid)\n",
        "\n",
        "                    # вычисление f1 модели методом f1_score\n",
        "                    f1 = f1_score(y_valid, predictions)\n",
        "                    # если текущее значение метрики f1 выше предыдущего лучшего значения, \n",
        "                    # сохраняем параметры модели и текущую метрику f1\n",
        "                    if f1 > best_f1:\n",
        "                        best_params_f1 = [n_estimators, max_depth, min_samples_split, min_samples_leaf]\n",
        "                        best_f1 = f1\n",
        "                    # аналогично для метрики roc_auc\n",
        "                    roc_auc = roc_auc_score(y_valid, predictions)\n",
        "                    if roc_auc > best_roc_auc:\n",
        "                        best_params_roc_auc = [n_estimators, max_depth, min_samples_split, min_samples_leaf]\n",
        "                        best_roc_auc = roc_auc\n",
        "\n",
        "    # вывод наилучшей метрики f1 и параметров модели.\n",
        "    print('''Наилучшая метрика f1: {}\n",
        "    Парамтеры модели:\n",
        "       n_estimators = {}\n",
        "       max_depth = {}\n",
        "       min_samples_split = {}\n",
        "       min_samples_leaf = {} \\n'''.format(round(best_f1, 3),\n",
        "                                 best_params_f1[0],\n",
        "                                 best_params_f1[1],\n",
        "                                 best_params_f1[2],\n",
        "                                 best_params_f1[3]\n",
        "                                ))\n",
        "\n",
        "    # вывод наилучшей метрики roc_auc и параметров модели.\n",
        "    print('''Наилучшая метрика roc_auc: {}\n",
        "    Парамтеры модели:\n",
        "       n_estimators = {}\n",
        "       max_depth = {}\n",
        "       min_samples_split = {}\n",
        "       min_samples_leaf = {} '''.format(round(best_roc_auc, 3),\n",
        "                                 best_params_roc_auc[0],\n",
        "                                 best_params_roc_auc[1],\n",
        "                                 best_params_roc_auc[2],\n",
        "                                 best_params_roc_auc[3]\n",
        "                                ))"
      ],
      "execution_count": 46,
      "outputs": []
    },
    {
      "cell_type": "code",
      "metadata": {
        "id": "cWq656Ld1Pl6",
        "colab": {
          "base_uri": "https://localhost:8080/"
        },
        "outputId": "acf93e93-e6da-4df9-d863-a2808598bd7b"
      },
      "source": [
        "random_forest(X_train, X_valid, y_train, y_valid)"
      ],
      "execution_count": 47,
      "outputs": [
        {
          "output_type": "stream",
          "text": [
            "Наилучшая метрика f1: 0.574\n",
            "    Парамтеры модели:\n",
            "       n_estimators = 30\n",
            "       max_depth = 16\n",
            "       min_samples_split = 3\n",
            "       min_samples_leaf = 1 \n",
            "\n",
            "Наилучшая метрика roc_auc: 0.709\n",
            "    Парамтеры модели:\n",
            "       n_estimators = 30\n",
            "       max_depth = 16\n",
            "       min_samples_split = 3\n",
            "       min_samples_leaf = 1 \n"
          ],
          "name": "stdout"
        }
      ]
    },
    {
      "cell_type": "markdown",
      "metadata": {
        "id": "3kZ92cRUUp1j"
      },
      "source": [
        "* Наилучшая метрика f1 для случайного леса 0.574 (не достаточно по техническому заданию).\n",
        "* Наилучший результат по метрикам f1 и roc_auc достигается при одинаковой настройке гиперпараметров.\n",
        "* Попробуем улучшить результат на других моделях."
      ]
    },
    {
      "cell_type": "markdown",
      "metadata": {
        "id": "keprpzmBVFR8"
      },
      "source": [
        "\n",
        "## 2.3 Логистическая регрессия\n",
        "**Инициируем модель логистической регрессии LogisticRegression**\n",
        "\n",
        "Выделим гиперпараметры для настройки модели:\n",
        "* С - инверсия силы регуляризации\n",
        "* Критерием проверки качества модели будет f1 и roc_auc."
      ]
    },
    {
      "cell_type": "code",
      "metadata": {
        "id": "vLGcntmj1PiA"
      },
      "source": [
        "# в параметрах best_params_f1 и best_f1 будем хранить наилучшие параметры для модели и наивысшую f1 метрику соответственно\n",
        "best_params_f1 = []\n",
        "best_f1 = 0\n",
        "# аналогично для roc_auc метрики.\n",
        "best_params_roc_auc = []\n",
        "best_roc_auc = 0.5\n",
        "\n",
        "#cs = np.linspace(0.01, 100, 1000, endpoint=True)\n",
        "cs = range(1, 100)\n",
        "# проходим в циклах по всем выбранным гиперпараметрам\n",
        "for C in cs:\n",
        "    # инициация модели с текущими гиперпараметрами\n",
        "    model_lr_clf = LogisticRegression(random_state=123,\n",
        "                                      C=C,\n",
        "                                      max_iter=1000)\n",
        "    # обучение модели на тренировочной выборке\n",
        "    model_lr_clf.fit(X_train, y_train)\n",
        "    # поиск предсказаний модели на валидационной выбоке\n",
        "    predictions = model_lr_clf.predict(X_valid)\n",
        "\n",
        "    # вычисление f1 модели методом f1_score\n",
        "    f1 = f1_score(y_valid, predictions)\n",
        "    # если текущее значение метрики f1 выше предыдущего лучшего значения, \n",
        "    # сохраняем параметры модели и текущую метрику f1\n",
        "    if f1 > best_f1:\n",
        "        best_params_f1 = [C]\n",
        "        best_f1 = f1\n",
        "    # аналогично для метрики roc_auc\n",
        "    roc_auc = roc_auc_score(y_valid, predictions)\n",
        "    if roc_auc > best_roc_auc:\n",
        "        best_params_roc_auc = [C]\n",
        "        best_roc_auc = roc_auc"
      ],
      "execution_count": 48,
      "outputs": []
    },
    {
      "cell_type": "code",
      "metadata": {
        "id": "doQt83RH1PfN",
        "colab": {
          "base_uri": "https://localhost:8080/"
        },
        "outputId": "46ca7f98-3d1b-4a19-e36b-8e87fe4b1bcc"
      },
      "source": [
        "# вывод наилучшей метрики f1 и параметров модели.\n",
        "print('''Наилучшая метрика f1: {}\n",
        "Парамтеры модели:\n",
        "   C = {} '''.format(round(best_f1, 3),\n",
        "                             best_params_f1[0]\n",
        "                            ))"
      ],
      "execution_count": 49,
      "outputs": [
        {
          "output_type": "stream",
          "text": [
            "Наилучшая метрика f1: 0.272\n",
            "Парамтеры модели:\n",
            "   C = 1 \n"
          ],
          "name": "stdout"
        }
      ]
    },
    {
      "cell_type": "code",
      "metadata": {
        "id": "Jx-hZIwQ1PcV",
        "colab": {
          "base_uri": "https://localhost:8080/"
        },
        "outputId": "b45757fa-aa39-45f1-d965-7b825c7fe7aa"
      },
      "source": [
        "# вывод наилучшей метрики roc_auc и параметров модели.\n",
        "print('''Наилучшая метрика roc_auc: {}\n",
        "Парамтеры модели:\n",
        "   C = {} '''.format(round(best_roc_auc, 3),\n",
        "                             best_params_roc_auc[0]\n",
        "                            ))"
      ],
      "execution_count": 50,
      "outputs": [
        {
          "output_type": "stream",
          "text": [
            "Наилучшая метрика roc_auc: 0.572\n",
            "Парамтеры модели:\n",
            "   C = 1 \n"
          ],
          "name": "stdout"
        }
      ]
    },
    {
      "cell_type": "markdown",
      "metadata": {
        "id": "K0_2tadIVZGY"
      },
      "source": [
        "* Наилучшая метрика f1 для логистической регрессии 0.27 (хуже, чем на остальных моделях).\n",
        "* Наилучший результат по метрикам f1 и roc_auc достигается при одинаковой настройке гиперпараметров.\n",
        "* Попробуем улучшить результат, разобравшись с дисбалансом классов."
      ]
    },
    {
      "cell_type": "markdown",
      "metadata": {
        "id": "JRgvR54tVeKM"
      },
      "source": [
        "## Выводы\n",
        "* Исходные данные разделены на обучающую, валидационную и тестовую выборки в соотношении 3:1:1 соответственно\n",
        "* Обучены модели \"Решающее Дерево\", \"Случайный лес\", \"Логистическая Регрессия\" без учёта дисбаланса классов. Максимальное значение метрики f1 = 0.58 получено при обучении модели случайного леса. Качество модели не удовлетворяет условию технического задания.\n",
        "* Качество моделей также оценено по метрике roc_auc. Максимальное значение метрики roc_auc = 0.71 достигнуто при обучении модели случайного леса.\n",
        "* Метрики f1 и roc_auc достигли максимальных значений при одинаковых настройках гиперпараметров (но такой результат получается не всегда)."
      ]
    },
    {
      "cell_type": "markdown",
      "metadata": {
        "id": "XJJZOSl3WATX"
      },
      "source": [
        "# 3. Борьба с дисбалансом\n",
        "* Соотношение значений целевого признака 4:1 (для классов 0 и 1 соответственно)\n",
        "* Для борьбы с дисбалансом классов попробуем:\n",
        "взвешивание классов (class_weight='balanced')\n",
        "* увеличение выборки положительного класса (копирование объектов)\n",
        "* уменьшение выборки отрицательного класса (sampling)\n",
        "* перемешивание объектов методом shuffle"
      ]
    },
    {
      "cell_type": "markdown",
      "metadata": {
        "id": "QxGNmbspXB3j"
      },
      "source": [
        "## 3.1 Взвешивание классов"
      ]
    },
    {
      "cell_type": "code",
      "metadata": {
        "id": "EmcJP_3f1PZ_",
        "colab": {
          "base_uri": "https://localhost:8080/"
        },
        "outputId": "9b6290a8-ac7d-4f43-dcaa-9e3e467f81e9"
      },
      "source": [
        "decision_tree(X_train, X_valid, y_train, y_valid, cw='balanced')"
      ],
      "execution_count": 51,
      "outputs": [
        {
          "output_type": "stream",
          "text": [
            "Наилучшая метрика f1: 0.568\n",
            "    Парамтеры модели:\n",
            "       max_depth = 8\n",
            "       min_samples_split = 2\n",
            "       min_samples_leaf = 7\n",
            "       criterion = gini \n",
            "\n",
            "Наилучшая метрика roc_auc: 0.751\n",
            "    Парамтеры модели:\n",
            "       max_depth = 6\n",
            "       min_samples_split = 2\n",
            "       min_samples_leaf = 6\n",
            "       criterion = gini \n"
          ],
          "name": "stdout"
        }
      ]
    },
    {
      "cell_type": "markdown",
      "metadata": {
        "id": "aAzssd27XQVb"
      },
      "source": [
        "* Взвешивание классов почти не дало прироста в метрике f1 на решающем дереве.\n",
        "* Отметим, что в данном случае наилучшие значения метрик f1 и roc_auc достигаются при различных настройках гиперпараметров.\n",
        "* Применим upsampling и downsampling. Проверим результаты на модели случайного леса (она дала наилучший результат при начальном исследовании)"
      ]
    },
    {
      "cell_type": "markdown",
      "metadata": {
        "id": "AXReeG6SY1ot"
      },
      "source": [
        "## 3.2 Upsampling и downsampling\n",
        "* Напишем функции для увеличения и уменьшения выборок."
      ]
    },
    {
      "cell_type": "code",
      "metadata": {
        "id": "UanjjhUMVSRU"
      },
      "source": [
        "def upsample(features, target, repeat):\n",
        "    \"\"\"\n",
        "    input:        features - признаки \n",
        "                  target - целево признак\n",
        "                  repeat (int) - множитель для повторения признаков\n",
        "    output:       features_upsampled - увеличенная выборка признаков\n",
        "                  target_upsampled - увеличенная выборка целевого признака\n",
        "    description:  функция разделяет признаки по классам целевого признака (0, 1),\n",
        "                  повторяет признаки целевого положительного класса repeat раз,\n",
        "                  объединяет объекты с разными целевыми признаками методом concat,\n",
        "                  перемешивает объекты методом shuffle\n",
        "    \"\"\"\n",
        "    features_zeros = features[target == 0]\n",
        "    features_ones = features[target == 1]\n",
        "    target_zeros = target[target == 0]\n",
        "    target_ones = target[target == 1]\n",
        "    \n",
        "    features_upsampled = pd.concat([features_zeros] + [features_ones] * repeat)\n",
        "    target_upsampled = pd.concat([target_zeros] + [target_ones] * repeat)\n",
        "    \n",
        "    features_upsampled, target_upsampled = shuffle(\n",
        "        features_upsampled, target_upsampled, random_state=12345)\n",
        "    return features_upsampled, target_upsampled"
      ],
      "execution_count": 52,
      "outputs": []
    },
    {
      "cell_type": "code",
      "metadata": {
        "id": "7K7YyVg9VSQF"
      },
      "source": [
        "def downsample(features, target, fraction):\n",
        "    \"\"\"\n",
        "    input:        features - признаки \n",
        "                  target - целево признак\n",
        "                  fraction (float) - доля объектов для сэмплирования\n",
        "    output:       features_downsampled - уменьшенная выборка признаков\n",
        "                  target_downsampled - уменьшенная выборка целевого признака\n",
        "    description:  функция разделяет признаки по классам целевого признака (0, 1), \n",
        "                  сэмплирует признаки целевого класса 0 (с коэффициентом fraction),\n",
        "                  объединяет объекты с разными целевыми признаками методом concat,\n",
        "                  перемешивает объекты методом shuffle\n",
        "    \"\"\"\n",
        "    features_zeros = features[target == 0]\n",
        "    features_ones = features[target == 1]\n",
        "    target_zeros = target[target == 0]\n",
        "    target_ones = target[target == 1]\n",
        "    \n",
        "    features_downsampled = pd.concat(\n",
        "        [features_zeros.sample(frac=fraction, random_state=12345)] + [features_ones])\n",
        "    target_downsampled = pd.concat(\n",
        "        [target_zeros.sample(frac=fraction, random_state=12345)] + [target_ones])\n",
        "    \n",
        "    features_downsampled, target_downsampled = shuffle(\n",
        "        features_downsampled, target_downsampled, random_state=12345)\n",
        "    return features_downsampled, target_downsampled"
      ],
      "execution_count": 53,
      "outputs": []
    },
    {
      "cell_type": "markdown",
      "metadata": {
        "id": "geklC5r0ZFAU"
      },
      "source": [
        "* Для обучающей выборки увеличим количество объектов класса 1 в 2 раза, уменьшим количество объектов класса 0 в 1.5 раза."
      ]
    },
    {
      "cell_type": "code",
      "metadata": {
        "id": "Ux_FeETpVSL8"
      },
      "source": [
        "X_train_upsampled, y_train_upsampled = upsample(X_train, y_train, 2)\n",
        "X_train_balanced, y_train_balanced = downsample(X_train_upsampled, y_train_upsampled, 0.75)"
      ],
      "execution_count": 54,
      "outputs": []
    },
    {
      "cell_type": "markdown",
      "metadata": {
        "id": "PjzbZQfoZ0Er"
      },
      "source": [
        "* Обучим модели случайного леса и решающего дерева на сбалансированных обучающих выборках."
      ]
    },
    {
      "cell_type": "code",
      "metadata": {
        "colab": {
          "base_uri": "https://localhost:8080/"
        },
        "id": "Rx3U_k8PVSJN",
        "outputId": "d68d0ca1-3fae-4ee4-9730-87dc29276a0c"
      },
      "source": [
        "random_forest(X_train_balanced, X_valid, y_train_balanced, y_valid)"
      ],
      "execution_count": 55,
      "outputs": [
        {
          "output_type": "stream",
          "text": [
            "Наилучшая метрика f1: 0.611\n",
            "    Парамтеры модели:\n",
            "       n_estimators = 35\n",
            "       max_depth = 10\n",
            "       min_samples_split = 2\n",
            "       min_samples_leaf = 2 \n",
            "\n",
            "Наилучшая метрика roc_auc: 0.748\n",
            "    Парамтеры модели:\n",
            "       n_estimators = 35\n",
            "       max_depth = 10\n",
            "       min_samples_split = 2\n",
            "       min_samples_leaf = 2 \n"
          ],
          "name": "stdout"
        }
      ]
    },
    {
      "cell_type": "code",
      "metadata": {
        "colab": {
          "base_uri": "https://localhost:8080/"
        },
        "id": "ciJYNFj-VSG3",
        "outputId": "be99359b-4e8b-4b53-9f39-414548480922"
      },
      "source": [
        "decision_tree(X_train_balanced, X_valid, y_train_balanced, y_valid)"
      ],
      "execution_count": 56,
      "outputs": [
        {
          "output_type": "stream",
          "text": [
            "Наилучшая метрика f1: 0.579\n",
            "    Парамтеры модели:\n",
            "       max_depth = 7\n",
            "       min_samples_split = 2\n",
            "       min_samples_leaf = 2\n",
            "       criterion = gini \n",
            "\n",
            "Наилучшая метрика roc_auc: 0.747\n",
            "    Парамтеры модели:\n",
            "       max_depth = 6\n",
            "       min_samples_split = 2\n",
            "       min_samples_leaf = 1\n",
            "       criterion = gini \n"
          ],
          "name": "stdout"
        }
      ]
    },
    {
      "cell_type": "markdown",
      "metadata": {
        "id": "35Ip_LZNZ_U0"
      },
      "source": [
        "* Метрика f1 для модели \"Случайный лес\" достигла значения 0.61 на сбалансированной выборке, что удовлетворяет условию технического задания (>0.59).\n",
        "* Для модели \"Решающее дерево\" метрика f1 также практически достигла минимально допустимого значения 0.59 (за меньшее время обучения).\n",
        "* Наилучшие значения метрик f1 и roc_auc достигли на случайном лесе при одинаковых значениях гиперпараметров. Для решающего дерева оптимальные значения гиперпараметров различаются.\n",
        "* Стоит отметить, что максимальное значение метрики roc_auc для решающего дерева 0.75 немного выше, чем для случайного леса 0.748.\n",
        "* Для модели случайного леса попробуем применить различные варианты upsampling и downsampling (изменять параметры repeat и fraction)."
      ]
    },
    {
      "cell_type": "code",
      "metadata": {
        "colab": {
          "base_uri": "https://localhost:8080/"
        },
        "id": "uOS4WZSuaTtJ",
        "outputId": "f35f13c0-c55a-4006-8020-67f42ee42619"
      },
      "source": [
        "for rep in range(2,4):\n",
        "    for frac in np.arange(0.5, 0.8, 0.05):\n",
        "        print('=============================================================')\n",
        "        print('repeat = {};   fraction = {}'.format(rep, round(frac,2)))\n",
        "        X_train_upsampled, y_train_upsampled = upsample(X_train, y_train, rep)\n",
        "        X_train_balanced, y_train_balanced = downsample(X_train_upsampled, y_train_upsampled, frac)\n",
        "        decision_tree(X_train_balanced, X_valid, y_train_balanced, y_valid)"
      ],
      "execution_count": 57,
      "outputs": [
        {
          "output_type": "stream",
          "text": [
            "=============================================================\n",
            "repeat = 2;   fraction = 0.5\n",
            "Наилучшая метрика f1: 0.567\n",
            "    Парамтеры модели:\n",
            "       max_depth = 8\n",
            "       min_samples_split = 2\n",
            "       min_samples_leaf = 4\n",
            "       criterion = gini \n",
            "\n",
            "Наилучшая метрика roc_auc: 0.752\n",
            "    Парамтеры модели:\n",
            "       max_depth = 7\n",
            "       min_samples_split = 2\n",
            "       min_samples_leaf = 5\n",
            "       criterion = gini \n",
            "=============================================================\n",
            "repeat = 2;   fraction = 0.55\n",
            "Наилучшая метрика f1: 0.595\n",
            "    Парамтеры модели:\n",
            "       max_depth = 8\n",
            "       min_samples_split = 5\n",
            "       min_samples_leaf = 2\n",
            "       criterion = gini \n",
            "\n",
            "Наилучшая метрика roc_auc: 0.766\n",
            "    Парамтеры модели:\n",
            "       max_depth = 8\n",
            "       min_samples_split = 5\n",
            "       min_samples_leaf = 2\n",
            "       criterion = gini \n",
            "=============================================================\n",
            "repeat = 2;   fraction = 0.6\n",
            "Наилучшая метрика f1: 0.587\n",
            "    Парамтеры модели:\n",
            "       max_depth = 7\n",
            "       min_samples_split = 5\n",
            "       min_samples_leaf = 2\n",
            "       criterion = gini \n",
            "\n",
            "Наилучшая метрика roc_auc: 0.76\n",
            "    Парамтеры модели:\n",
            "       max_depth = 7\n",
            "       min_samples_split = 5\n",
            "       min_samples_leaf = 2\n",
            "       criterion = gini \n",
            "=============================================================\n",
            "repeat = 2;   fraction = 0.65\n",
            "Наилучшая метрика f1: 0.585\n",
            "    Парамтеры модели:\n",
            "       max_depth = 8\n",
            "       min_samples_split = 2\n",
            "       min_samples_leaf = 3\n",
            "       criterion = gini \n",
            "\n",
            "Наилучшая метрика roc_auc: 0.758\n",
            "    Парамтеры модели:\n",
            "       max_depth = 7\n",
            "       min_samples_split = 2\n",
            "       min_samples_leaf = 9\n",
            "       criterion = gini \n",
            "=============================================================\n",
            "repeat = 2;   fraction = 0.7\n",
            "Наилучшая метрика f1: 0.583\n",
            "    Парамтеры модели:\n",
            "       max_depth = 6\n",
            "       min_samples_split = 2\n",
            "       min_samples_leaf = 6\n",
            "       criterion = entropy \n",
            "\n",
            "Наилучшая метрика roc_auc: 0.745\n",
            "    Парамтеры модели:\n",
            "       max_depth = 6\n",
            "       min_samples_split = 2\n",
            "       min_samples_leaf = 6\n",
            "       criterion = entropy \n",
            "=============================================================\n",
            "repeat = 2;   fraction = 0.75\n",
            "Наилучшая метрика f1: 0.579\n",
            "    Парамтеры модели:\n",
            "       max_depth = 7\n",
            "       min_samples_split = 2\n",
            "       min_samples_leaf = 2\n",
            "       criterion = gini \n",
            "\n",
            "Наилучшая метрика roc_auc: 0.747\n",
            "    Парамтеры модели:\n",
            "       max_depth = 6\n",
            "       min_samples_split = 2\n",
            "       min_samples_leaf = 1\n",
            "       criterion = gini \n",
            "=============================================================\n",
            "repeat = 2;   fraction = 0.8\n",
            "Наилучшая метрика f1: 0.575\n",
            "    Парамтеры модели:\n",
            "       max_depth = 9\n",
            "       min_samples_split = 2\n",
            "       min_samples_leaf = 9\n",
            "       criterion = entropy \n",
            "\n",
            "Наилучшая метрика roc_auc: 0.736\n",
            "    Парамтеры модели:\n",
            "       max_depth = 9\n",
            "       min_samples_split = 2\n",
            "       min_samples_leaf = 9\n",
            "       criterion = entropy \n",
            "=============================================================\n",
            "repeat = 3;   fraction = 0.5\n",
            "Наилучшая метрика f1: 0.553\n",
            "    Парамтеры модели:\n",
            "       max_depth = 5\n",
            "       min_samples_split = 2\n",
            "       min_samples_leaf = 1\n",
            "       criterion = gini \n",
            "\n",
            "Наилучшая метрика roc_auc: 0.749\n",
            "    Парамтеры модели:\n",
            "       max_depth = 5\n",
            "       min_samples_split = 2\n",
            "       min_samples_leaf = 1\n",
            "       criterion = gini \n",
            "=============================================================\n",
            "repeat = 3;   fraction = 0.55\n",
            "Наилучшая метрика f1: 0.553\n",
            "    Парамтеры модели:\n",
            "       max_depth = 5\n",
            "       min_samples_split = 2\n",
            "       min_samples_leaf = 1\n",
            "       criterion = gini \n",
            "\n",
            "Наилучшая метрика roc_auc: 0.75\n",
            "    Парамтеры модели:\n",
            "       max_depth = 5\n",
            "       min_samples_split = 2\n",
            "       min_samples_leaf = 1\n",
            "       criterion = gini \n",
            "=============================================================\n",
            "repeat = 3;   fraction = 0.6\n",
            "Наилучшая метрика f1: 0.553\n",
            "    Парамтеры модели:\n",
            "       max_depth = 5\n",
            "       min_samples_split = 2\n",
            "       min_samples_leaf = 1\n",
            "       criterion = gini \n",
            "\n",
            "Наилучшая метрика roc_auc: 0.749\n",
            "    Парамтеры модели:\n",
            "       max_depth = 5\n",
            "       min_samples_split = 2\n",
            "       min_samples_leaf = 1\n",
            "       criterion = gini \n",
            "=============================================================\n",
            "repeat = 3;   fraction = 0.65\n",
            "Наилучшая метрика f1: 0.547\n",
            "    Парамтеры модели:\n",
            "       max_depth = 9\n",
            "       min_samples_split = 2\n",
            "       min_samples_leaf = 4\n",
            "       criterion = entropy \n",
            "\n",
            "Наилучшая метрика roc_auc: 0.747\n",
            "    Парамтеры модели:\n",
            "       max_depth = 5\n",
            "       min_samples_split = 2\n",
            "       min_samples_leaf = 1\n",
            "       criterion = entropy \n",
            "=============================================================\n",
            "repeat = 3;   fraction = 0.7\n",
            "Наилучшая метрика f1: 0.568\n",
            "    Парамтеры модели:\n",
            "       max_depth = 9\n",
            "       min_samples_split = 2\n",
            "       min_samples_leaf = 6\n",
            "       criterion = gini \n",
            "\n",
            "Наилучшая метрика roc_auc: 0.756\n",
            "    Парамтеры модели:\n",
            "       max_depth = 7\n",
            "       min_samples_split = 2\n",
            "       min_samples_leaf = 6\n",
            "       criterion = gini \n",
            "=============================================================\n",
            "repeat = 3;   fraction = 0.75\n",
            "Наилучшая метрика f1: 0.568\n",
            "    Парамтеры модели:\n",
            "       max_depth = 8\n",
            "       min_samples_split = 2\n",
            "       min_samples_leaf = 6\n",
            "       criterion = gini \n",
            "\n",
            "Наилучшая метрика roc_auc: 0.755\n",
            "    Парамтеры модели:\n",
            "       max_depth = 6\n",
            "       min_samples_split = 2\n",
            "       min_samples_leaf = 6\n",
            "       criterion = gini \n",
            "=============================================================\n",
            "repeat = 3;   fraction = 0.8\n",
            "Наилучшая метрика f1: 0.569\n",
            "    Парамтеры модели:\n",
            "       max_depth = 7\n",
            "       min_samples_split = 2\n",
            "       min_samples_leaf = 5\n",
            "       criterion = gini \n",
            "\n",
            "Наилучшая метрика roc_auc: 0.755\n",
            "    Парамтеры модели:\n",
            "       max_depth = 6\n",
            "       min_samples_split = 2\n",
            "       min_samples_leaf = 4\n",
            "       criterion = gini \n"
          ],
          "name": "stdout"
        }
      ]
    },
    {
      "cell_type": "markdown",
      "metadata": {
        "id": "EbE81zmpbRyl"
      },
      "source": [
        "* Наилучший результат для решающего дерева достигнут при увеличении положительного класса тренировочной выборки в 2 раза и сэмплировании отрицательного класса с коэффициентом 0.55. При этом метрика f1 = 0.604 а roc_auc = 0.769, что удовлетворяет условиям технического задания."
      ]
    },
    {
      "cell_type": "markdown",
      "metadata": {
        "id": "sLtDoBS-bm9f"
      },
      "source": [
        "## Выводы\n",
        "* Взвешивание классов с помощью параметра class_weight не дало значительного увеличения метрики f1.\n",
        "* Upsampling положительного класса и downsampling отрицательного класса дали необходимый прирост точности моделей.\n",
        "**Необходимое качество на валидационной выборке получили модели:**\n",
        "* Случайный лес:\n",
        "  * f1 = 0.608\n",
        "  * roc_auc = 0.748\n",
        "  * repeat = 2 - повторение объектов класса 1\n",
        "  * fraction = 0.75 - коэффициент сэмплирования объектов класса 0\n",
        "* Решающее дерево:\n",
        "  * f1 = 0.604\n",
        "  * roc_auc = 0.769\n",
        "  * repeat = 2\n",
        "  * fraction = 0.55"
      ]
    },
    {
      "cell_type": "markdown",
      "metadata": {
        "id": "R08Hse_gdmFt"
      },
      "source": [
        "# 4. Тестирование модели\n",
        "* Проведём обучение полученных моделей на всех доступных данных (обучающие + валидационные), предварительно сбалансировав классы с найденными ранее коэффициентами repeat и fraction.\n",
        "* Вычислим метрики f1 и roc_auc на тестовой выборке."
      ]
    },
    {
      "cell_type": "markdown",
      "metadata": {
        "id": "i-cp2eMWdsPc"
      },
      "source": [
        "**Модель \"Случайный лес\"**"
      ]
    },
    {
      "cell_type": "code",
      "metadata": {
        "colab": {
          "base_uri": "https://localhost:8080/"
        },
        "id": "Bpndxdn9aUKe",
        "outputId": "11b8dad4-1ce9-48f6-cc28-8bc0496d7e91"
      },
      "source": [
        "X_upsampled, y_upsampled = upsample(X, y, 2)\n",
        "X_balanced, y_balanced = downsample(X_upsampled, y_upsampled, 0.75)\n",
        "model_rfc_final = RandomForestClassifier(random_state=123,\n",
        "                                         n_estimators=33,\n",
        "                                         max_depth=12,\n",
        "                                         min_samples_split=3,\n",
        "                                         min_samples_leaf=1)\n",
        "model_rfc_final.fit(X_balanced, y_balanced)\n",
        "predictions = model_rfc_final.predict(X_test)\n",
        "f1 = f1_score(y_test, predictions)\n",
        "roc_auc = roc_auc_score(y_test, predictions)\n",
        "print(' f1 = {}, \\n roc_auc = {}'.format(round(f1,2), round(roc_auc,2)))"
      ],
      "execution_count": 61,
      "outputs": [
        {
          "output_type": "stream",
          "text": [
            " f1 = 0.62, \n",
            " roc_auc = 0.76\n"
          ],
          "name": "stdout"
        }
      ]
    },
    {
      "cell_type": "markdown",
      "metadata": {
        "id": "_uIs503ud3j9"
      },
      "source": [
        "**Модель \"Решающее дерево\"**"
      ]
    },
    {
      "cell_type": "code",
      "metadata": {
        "colab": {
          "base_uri": "https://localhost:8080/"
        },
        "id": "MPnbVbj7dr0N",
        "outputId": "a47a6c40-799b-4989-d25a-08c285d80afb"
      },
      "source": [
        "X_upsampled, y_upsampled = upsample(X, y, 2)\n",
        "X_balanced, y_balanced = downsample(X_upsampled, y_upsampled, 0.55)\n",
        "model_dtc_final = DecisionTreeClassifier(random_state=123,\n",
        "                                         max_depth=8,\n",
        "                                         min_samples_split=2,\n",
        "                                         min_samples_leaf=4)\n",
        "model_dtc_final.fit(X_balanced, y_balanced)\n",
        "predictions = model_dtc_final.predict(X_test)\n",
        "f1 = f1_score(y_test, predictions)\n",
        "roc_auc = roc_auc_score(y_test, predictions)\n",
        "print(' f1 = {}, \\n roc_auc = {}'.format(round(f1,2), round(roc_auc,2)))"
      ],
      "execution_count": 59,
      "outputs": [
        {
          "output_type": "stream",
          "text": [
            " f1 = 0.62, \n",
            " roc_auc = 0.79\n"
          ],
          "name": "stdout"
        }
      ]
    },
    {
      "cell_type": "markdown",
      "metadata": {
        "id": "Nh4C_Mu0d-HH"
      },
      "source": [
        "## Выводы\n",
        "* Удовлетворяющее техническому заданию значение метрики f1 (на тестовой выборке) удалось получить на двух моделях:\n",
        "  * Случайный лес f1 = 0.62 roc_auc = 0.76\n",
        "  * Решающее дерево f1 = 0.62 roc_auc = 0.79\n",
        "* При этом метрика f1 выше у модели Случайный лес, а roc_auc выше у Решающего дерева."
      ]
    },
    {
      "cell_type": "markdown",
      "metadata": {
        "id": "3Je4WWlUgiZB"
      },
      "source": [
        "# 5. Общий вывод\n",
        "* Произведена предобработка данных.\n",
        "  * Числовые признаки приведены к стандартному виду (среднее = 0, стандартное отклонение = 1). Категориальные признаки преобразованы методом One-Hot Encoder.\n",
        "  * Целевой признак распределён в сооотношении 4:1\n",
        "  * В признаке Tenure обнаружено около 10% пропусков. Попытка построить классификационную модель для заполнения пропусков не принесла существенных результатов (качество модели 12%, при случайном заполнении 9%). Данный признак преобразован прямым кодированием One-Hot Encoder.\n",
        "* Проведён анализ моделей без учёта дисбаланса классов.\n",
        "  * Исходные данные разделены на обучающую, валидационную и тестовую выборки в соотношении 3:1:1 соответственно\n",
        "  * Обучены модели \"Решающее Дерево\", \"Случайный лес\", \"Логистическая Регрессия\" без учёта дисбаланса классов. Максимальное значение метрики f1 = 0.58 получено при обучении модели случайного леса.\n",
        "  * Качество моделей также оценено по метрике roc_auc. Максимальное значение метрики roc_auc = 0.71 достигнуто при обучении модели случайного леса.\n",
        "Метрики f1 и roc_auc достигли максимальных значений при одинаковых настройках гиперпараметров.\n",
        "* Проведён анализ дисбаланса классов\n",
        "  * Взвешивание классов с помощью параметра class_weight не дало значительного увеличения метрики f1.\n",
        "  * Upsampling положительного класса и downsampling отрицательного класса дали необходимый прирост точности моделей.\n",
        "  * Необходимое значение **f1 на валидационной выборке** получили модели:\n",
        "    * **Случайный лес:**\n",
        "      * f1 = 0.608\n",
        "      * roc_auc = 0.748\n",
        "    * **Решающее дерево:**\n",
        "      * f1 = 0.604\n",
        "      * roc_auc = 0.769\n",
        "* Проведено тестирование полученных моделей на тестовой выборке:\n",
        "  * Значение метрики f1 на тестовой выборке:\n",
        "    * **Случайный лес:**\n",
        "      * f1 = 0.62\n",
        "      * roc_auc = 0.76\n",
        "    * **Решающее дерево:**\n",
        "      * f1 = 0.62\n",
        "      * roc_auc = 0.79\n",
        "\n",
        "**Метрика f1 выше у модели Случайный лес, а roc_auc выше у Решающего дерева.**"
      ]
    },
    {
      "cell_type": "code",
      "metadata": {
        "id": "Y_2aLl1zh9mq"
      },
      "source": [
        ""
      ],
      "execution_count": 59,
      "outputs": []
    }
  ]
}