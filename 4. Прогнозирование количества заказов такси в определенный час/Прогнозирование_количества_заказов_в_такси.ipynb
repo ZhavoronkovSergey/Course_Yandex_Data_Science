{
  "nbformat": 4,
  "nbformat_minor": 0,
  "metadata": {
    "colab": {
      "name": "Прогнозирование количества заказов в такси.ipynb",
      "provenance": [],
      "collapsed_sections": [],
      "toc_visible": true
    },
    "kernelspec": {
      "name": "python3",
      "display_name": "Python 3"
    },
    "language_info": {
      "name": "python"
    }
  },
  "cells": [
    {
      "cell_type": "markdown",
      "metadata": {
        "id": "mBn0r535_Hzn"
      },
      "source": [
        "\n",
        "# Описание проекта\n",
        "\n",
        "Компания собрала исторические данные о заказах такси в аэропортах. Чтобы привлекать больше водителей в период пиковой нагрузки, нужно спрогнозировать количество заказов такси на следующий час. Постройте модель для такого предсказания.\n",
        "\n",
        "**Инструкция по выполнению проекта**\n",
        "\n",
        "* Загрузите данные и выполните их ресемплирование по одному часу.\n",
        "* Проанализируйте данные.\n",
        "* Обучите разные модели с различными гиперпараметрами. Сделайте тестовую выборку размером 10% от исходных данных.\n",
        "* Проверьте данные на тестовой выборке и сделайте выводы.\n",
        "\n",
        "**Описание данных**\n",
        "\n",
        "Данные лежат в файле taxi.csv. Количество заказов находится в столбце 'num_orders' (от англ. number of orders, «число заказов»).\n",
        "\n"
      ]
    },
    {
      "cell_type": "code",
      "metadata": {
        "colab": {
          "base_uri": "https://localhost:8080/"
        },
        "id": "XO6AaRbHDkbg",
        "outputId": "3df6b996-2738-4c95-aec2-3e652d475b6a"
      },
      "source": [
        "!pip install catboost\n",
        "!pip install xgboost"
      ],
      "execution_count": 175,
      "outputs": [
        {
          "output_type": "stream",
          "text": [
            "Requirement already satisfied: catboost in /usr/local/lib/python3.7/dist-packages (0.25)\n",
            "Requirement already satisfied: plotly in /usr/local/lib/python3.7/dist-packages (from catboost) (4.4.1)\n",
            "Requirement already satisfied: matplotlib in /usr/local/lib/python3.7/dist-packages (from catboost) (3.2.2)\n",
            "Requirement already satisfied: graphviz in /usr/local/lib/python3.7/dist-packages (from catboost) (0.10.1)\n",
            "Requirement already satisfied: six in /usr/local/lib/python3.7/dist-packages (from catboost) (1.15.0)\n",
            "Requirement already satisfied: pandas>=0.24.0 in /usr/local/lib/python3.7/dist-packages (from catboost) (1.1.5)\n",
            "Requirement already satisfied: numpy>=1.16.0 in /usr/local/lib/python3.7/dist-packages (from catboost) (1.19.5)\n",
            "Requirement already satisfied: scipy in /usr/local/lib/python3.7/dist-packages (from catboost) (1.4.1)\n",
            "Requirement already satisfied: retrying>=1.3.3 in /usr/local/lib/python3.7/dist-packages (from plotly->catboost) (1.3.3)\n",
            "Requirement already satisfied: cycler>=0.10 in /usr/local/lib/python3.7/dist-packages (from matplotlib->catboost) (0.10.0)\n",
            "Requirement already satisfied: python-dateutil>=2.1 in /usr/local/lib/python3.7/dist-packages (from matplotlib->catboost) (2.8.1)\n",
            "Requirement already satisfied: kiwisolver>=1.0.1 in /usr/local/lib/python3.7/dist-packages (from matplotlib->catboost) (1.3.1)\n",
            "Requirement already satisfied: pyparsing!=2.0.4,!=2.1.2,!=2.1.6,>=2.0.1 in /usr/local/lib/python3.7/dist-packages (from matplotlib->catboost) (2.4.7)\n",
            "Requirement already satisfied: pytz>=2017.2 in /usr/local/lib/python3.7/dist-packages (from pandas>=0.24.0->catboost) (2018.9)\n",
            "Requirement already satisfied: xgboost in /usr/local/lib/python3.7/dist-packages (0.90)\n",
            "Requirement already satisfied: scipy in /usr/local/lib/python3.7/dist-packages (from xgboost) (1.4.1)\n",
            "Requirement already satisfied: numpy in /usr/local/lib/python3.7/dist-packages (from xgboost) (1.19.5)\n"
          ],
          "name": "stdout"
        }
      ]
    },
    {
      "cell_type": "code",
      "metadata": {
        "id": "yY0i6bw7FEOu"
      },
      "source": [
        "#common\n",
        "import numpy as np\n",
        "import pandas as pd \n",
        "import IPython\n",
        "from IPython.display import display\n",
        "import warnings\n",
        "warnings.simplefilter('ignore')\n",
        "warnings.filterwarnings(\"ignore\")\n",
        "\n",
        "#visualisation\n",
        "import seaborn as sns\n",
        "import matplotlib.pyplot as plt\n",
        "import matplotlib.style as style\n",
        "\n",
        "from statsmodels.tsa.seasonal import seasonal_decompose\n",
        "\n",
        "# ML\n",
        "from sklearn.metrics import mean_squared_error, mean_absolute_error\n",
        "from sklearn.model_selection import train_test_split, cross_validate, cross_val_score, GridSearchCV, RandomizedSearchCV\n",
        "from sklearn.preprocessing import StandardScaler, MinMaxScaler\n",
        "#\n",
        "from sklearn.dummy import DummyRegressor\n",
        "from sklearn.linear_model import LinearRegression\n",
        "from sklearn.ensemble import GradientBoostingRegressor\n",
        "from sklearn.neighbors import KNeighborsRegressor\n",
        "from sklearn.svm import LinearSVR\n",
        "from catboost import CatBoostRegressor, Pool\n",
        "import xgboost as xgb\n"
      ],
      "execution_count": 176,
      "outputs": []
    },
    {
      "cell_type": "code",
      "metadata": {
        "id": "GngyLszk_iNH"
      },
      "source": [
        "taxi = pd.read_csv('taxi.csv', index_col=[0], parse_dates=[0])"
      ],
      "execution_count": 177,
      "outputs": []
    },
    {
      "cell_type": "code",
      "metadata": {
        "id": "BaQjjQQ0_iJQ",
        "colab": {
          "base_uri": "https://localhost:8080/",
          "height": 235
        },
        "outputId": "18ca58f0-59bb-481d-b0f2-99c6fc5046df"
      },
      "source": [
        "taxi.head()"
      ],
      "execution_count": 178,
      "outputs": [
        {
          "output_type": "execute_result",
          "data": {
            "text/html": [
              "<div>\n",
              "<style scoped>\n",
              "    .dataframe tbody tr th:only-of-type {\n",
              "        vertical-align: middle;\n",
              "    }\n",
              "\n",
              "    .dataframe tbody tr th {\n",
              "        vertical-align: top;\n",
              "    }\n",
              "\n",
              "    .dataframe thead th {\n",
              "        text-align: right;\n",
              "    }\n",
              "</style>\n",
              "<table border=\"1\" class=\"dataframe\">\n",
              "  <thead>\n",
              "    <tr style=\"text-align: right;\">\n",
              "      <th></th>\n",
              "      <th>num_orders</th>\n",
              "    </tr>\n",
              "    <tr>\n",
              "      <th>datetime</th>\n",
              "      <th></th>\n",
              "    </tr>\n",
              "  </thead>\n",
              "  <tbody>\n",
              "    <tr>\n",
              "      <th>2018-03-01 00:00:00</th>\n",
              "      <td>9</td>\n",
              "    </tr>\n",
              "    <tr>\n",
              "      <th>2018-03-01 00:10:00</th>\n",
              "      <td>14</td>\n",
              "    </tr>\n",
              "    <tr>\n",
              "      <th>2018-03-01 00:20:00</th>\n",
              "      <td>28</td>\n",
              "    </tr>\n",
              "    <tr>\n",
              "      <th>2018-03-01 00:30:00</th>\n",
              "      <td>20</td>\n",
              "    </tr>\n",
              "    <tr>\n",
              "      <th>2018-03-01 00:40:00</th>\n",
              "      <td>32</td>\n",
              "    </tr>\n",
              "  </tbody>\n",
              "</table>\n",
              "</div>"
            ],
            "text/plain": [
              "                     num_orders\n",
              "datetime                       \n",
              "2018-03-01 00:00:00           9\n",
              "2018-03-01 00:10:00          14\n",
              "2018-03-01 00:20:00          28\n",
              "2018-03-01 00:30:00          20\n",
              "2018-03-01 00:40:00          32"
            ]
          },
          "metadata": {
            "tags": []
          },
          "execution_count": 178
        }
      ]
    },
    {
      "cell_type": "code",
      "metadata": {
        "id": "U4Oo5gGJ_iHZ",
        "colab": {
          "base_uri": "https://localhost:8080/"
        },
        "outputId": "e33bbc3b-2f1b-46d9-f83a-a2af6d5eb949"
      },
      "source": [
        "taxi.info()"
      ],
      "execution_count": 179,
      "outputs": [
        {
          "output_type": "stream",
          "text": [
            "<class 'pandas.core.frame.DataFrame'>\n",
            "DatetimeIndex: 26496 entries, 2018-03-01 00:00:00 to 2018-08-31 23:50:00\n",
            "Data columns (total 1 columns):\n",
            " #   Column      Non-Null Count  Dtype\n",
            "---  ------      --------------  -----\n",
            " 0   num_orders  26496 non-null  int64\n",
            "dtypes: int64(1)\n",
            "memory usage: 414.0 KB\n"
          ],
          "name": "stdout"
        }
      ]
    },
    {
      "cell_type": "markdown",
      "metadata": {
        "id": "mli2jQcu_-8M"
      },
      "source": [
        "Исходный датасет содержит 26496 наблюдений, временной интревал наблюдений составляет 10 минут.\n",
        "Пропущенных значений нет.\n",
        "При первичном анализе установлено, что временной промежуток данных длится с 1 марта 2018 года по 31 августа 2018 года. Проверим монотонность даты (индекса)."
      ]
    },
    {
      "cell_type": "code",
      "metadata": {
        "id": "0VAClvgA_iD3",
        "colab": {
          "base_uri": "https://localhost:8080/"
        },
        "outputId": "e8a5675b-b990-4047-975a-d9b2d26e8173"
      },
      "source": [
        "if taxi.index.is_monotonic == True :\n",
        "    print('Даты расположены в хронологическом порядке')\n",
        "else:\n",
        "    print('Требуется предобработка')"
      ],
      "execution_count": 180,
      "outputs": [
        {
          "output_type": "stream",
          "text": [
            "Даты расположены в хронологическом порядке\n"
          ],
          "name": "stdout"
        }
      ]
    },
    {
      "cell_type": "code",
      "metadata": {
        "id": "liOxbu4p_iA6",
        "colab": {
          "base_uri": "https://localhost:8080/",
          "height": 235
        },
        "outputId": "4c63c711-a802-4c07-808c-fce677a41f28"
      },
      "source": [
        "taxi = taxi.resample('1H').sum()\n",
        "taxi.head()"
      ],
      "execution_count": 181,
      "outputs": [
        {
          "output_type": "execute_result",
          "data": {
            "text/html": [
              "<div>\n",
              "<style scoped>\n",
              "    .dataframe tbody tr th:only-of-type {\n",
              "        vertical-align: middle;\n",
              "    }\n",
              "\n",
              "    .dataframe tbody tr th {\n",
              "        vertical-align: top;\n",
              "    }\n",
              "\n",
              "    .dataframe thead th {\n",
              "        text-align: right;\n",
              "    }\n",
              "</style>\n",
              "<table border=\"1\" class=\"dataframe\">\n",
              "  <thead>\n",
              "    <tr style=\"text-align: right;\">\n",
              "      <th></th>\n",
              "      <th>num_orders</th>\n",
              "    </tr>\n",
              "    <tr>\n",
              "      <th>datetime</th>\n",
              "      <th></th>\n",
              "    </tr>\n",
              "  </thead>\n",
              "  <tbody>\n",
              "    <tr>\n",
              "      <th>2018-03-01 00:00:00</th>\n",
              "      <td>124</td>\n",
              "    </tr>\n",
              "    <tr>\n",
              "      <th>2018-03-01 01:00:00</th>\n",
              "      <td>85</td>\n",
              "    </tr>\n",
              "    <tr>\n",
              "      <th>2018-03-01 02:00:00</th>\n",
              "      <td>71</td>\n",
              "    </tr>\n",
              "    <tr>\n",
              "      <th>2018-03-01 03:00:00</th>\n",
              "      <td>66</td>\n",
              "    </tr>\n",
              "    <tr>\n",
              "      <th>2018-03-01 04:00:00</th>\n",
              "      <td>43</td>\n",
              "    </tr>\n",
              "  </tbody>\n",
              "</table>\n",
              "</div>"
            ],
            "text/plain": [
              "                     num_orders\n",
              "datetime                       \n",
              "2018-03-01 00:00:00         124\n",
              "2018-03-01 01:00:00          85\n",
              "2018-03-01 02:00:00          71\n",
              "2018-03-01 03:00:00          66\n",
              "2018-03-01 04:00:00          43"
            ]
          },
          "metadata": {
            "tags": []
          },
          "execution_count": 181
        }
      ]
    },
    {
      "cell_type": "markdown",
      "metadata": {
        "id": "PqcsSl7uAUTF"
      },
      "source": [
        "**Вывод**\n",
        "\n",
        "На данном шаге были загружены данные и требуемые библиотеки.\n",
        "Первичный анализ временных рядов не выявил аномалий и пропущенных значений. Данные о числе заказов также не содержат пропусков."
      ]
    },
    {
      "cell_type": "markdown",
      "metadata": {
        "id": "qRfxWAHBCHjW"
      },
      "source": [
        "# 2 Анализ данных\n"
      ]
    },
    {
      "cell_type": "code",
      "metadata": {
        "id": "p4eLUHvZ_h-Z",
        "colab": {
          "base_uri": "https://localhost:8080/",
          "height": 450
        },
        "outputId": "44b3bc71-259e-42d0-97cf-b92c7278296f"
      },
      "source": [
        "taxi.sort_values(by='num_orders')"
      ],
      "execution_count": 182,
      "outputs": [
        {
          "output_type": "execute_result",
          "data": {
            "text/html": [
              "<div>\n",
              "<style scoped>\n",
              "    .dataframe tbody tr th:only-of-type {\n",
              "        vertical-align: middle;\n",
              "    }\n",
              "\n",
              "    .dataframe tbody tr th {\n",
              "        vertical-align: top;\n",
              "    }\n",
              "\n",
              "    .dataframe thead th {\n",
              "        text-align: right;\n",
              "    }\n",
              "</style>\n",
              "<table border=\"1\" class=\"dataframe\">\n",
              "  <thead>\n",
              "    <tr style=\"text-align: right;\">\n",
              "      <th></th>\n",
              "      <th>num_orders</th>\n",
              "    </tr>\n",
              "    <tr>\n",
              "      <th>datetime</th>\n",
              "      <th></th>\n",
              "    </tr>\n",
              "  </thead>\n",
              "  <tbody>\n",
              "    <tr>\n",
              "      <th>2018-04-06 06:00:00</th>\n",
              "      <td>0</td>\n",
              "    </tr>\n",
              "    <tr>\n",
              "      <th>2018-04-05 06:00:00</th>\n",
              "      <td>1</td>\n",
              "    </tr>\n",
              "    <tr>\n",
              "      <th>2018-03-09 05:00:00</th>\n",
              "      <td>1</td>\n",
              "    </tr>\n",
              "    <tr>\n",
              "      <th>2018-04-03 06:00:00</th>\n",
              "      <td>1</td>\n",
              "    </tr>\n",
              "    <tr>\n",
              "      <th>2018-04-24 06:00:00</th>\n",
              "      <td>2</td>\n",
              "    </tr>\n",
              "    <tr>\n",
              "      <th>...</th>\n",
              "      <td>...</td>\n",
              "    </tr>\n",
              "    <tr>\n",
              "      <th>2018-08-27 04:00:00</th>\n",
              "      <td>295</td>\n",
              "    </tr>\n",
              "    <tr>\n",
              "      <th>2018-08-30 17:00:00</th>\n",
              "      <td>342</td>\n",
              "    </tr>\n",
              "    <tr>\n",
              "      <th>2018-08-27 02:00:00</th>\n",
              "      <td>408</td>\n",
              "    </tr>\n",
              "    <tr>\n",
              "      <th>2018-08-13 02:00:00</th>\n",
              "      <td>437</td>\n",
              "    </tr>\n",
              "    <tr>\n",
              "      <th>2018-08-20 02:00:00</th>\n",
              "      <td>462</td>\n",
              "    </tr>\n",
              "  </tbody>\n",
              "</table>\n",
              "<p>4416 rows × 1 columns</p>\n",
              "</div>"
            ],
            "text/plain": [
              "                     num_orders\n",
              "datetime                       \n",
              "2018-04-06 06:00:00           0\n",
              "2018-04-05 06:00:00           1\n",
              "2018-03-09 05:00:00           1\n",
              "2018-04-03 06:00:00           1\n",
              "2018-04-24 06:00:00           2\n",
              "...                         ...\n",
              "2018-08-27 04:00:00         295\n",
              "2018-08-30 17:00:00         342\n",
              "2018-08-27 02:00:00         408\n",
              "2018-08-13 02:00:00         437\n",
              "2018-08-20 02:00:00         462\n",
              "\n",
              "[4416 rows x 1 columns]"
            ]
          },
          "metadata": {
            "tags": []
          },
          "execution_count": 182
        }
      ]
    },
    {
      "cell_type": "markdown",
      "metadata": {
        "id": "CTNMKdcyCYbN"
      },
      "source": [
        "\n",
        "462 заказа в 2 часа ночи 20 августа - люди прилетают с отпусков. И полное отсутсвие в 6 утра 6 апреля - никому никуда не нужно. В целом - отрицательных и сверх-огромных значений не замечено.\n",
        "Посмотрим на диаграмму распределения."
      ]
    },
    {
      "cell_type": "code",
      "metadata": {
        "id": "AltJMcqR_h7J",
        "colab": {
          "base_uri": "https://localhost:8080/",
          "height": 441
        },
        "outputId": "275209bc-2bd6-4b06-a143-fe15acdaa898"
      },
      "source": [
        "sns.set_style('whitegrid')\n",
        "\n",
        "fig, axes = plt.subplots(2,1,sharex=True, figsize=(8,6))\n",
        "\n",
        "sns.kdeplot(taxi['num_orders'], color='blue', shade=True, label='Количество заказов', ax=axes[0])\n",
        "sns.boxplot(taxi['num_orders'], orient='h', color='red')\n",
        "\n",
        "plt.suptitle('Распределениe количества заказов в час', size=15, y=(0.96));\n",
        "\n",
        "print('Медианное значение заказов = ', taxi['num_orders'].median())"
      ],
      "execution_count": 183,
      "outputs": [
        {
          "output_type": "stream",
          "text": [
            "Медианное значение заказов =  78.0\n"
          ],
          "name": "stdout"
        },
        {
          "output_type": "display_data",
          "data": {
            "image/png": "[encoded data removed]",
            "text/plain": [
              "<Figure size 576x432 with 2 Axes>"
            ]
          },
          "metadata": {
            "tags": []
          }
        }
      ]
    },
    {
      "cell_type": "markdown",
      "metadata": {
        "id": "RjASCJM8HyaP"
      },
      "source": [
        "Чаще всего в час поступает в районе 78 заказов.\n"
      ]
    },
    {
      "cell_type": "code",
      "metadata": {
        "id": "Wk7sFKYA_h5b",
        "colab": {
          "base_uri": "https://localhost:8080/",
          "height": 378
        },
        "outputId": "6878c39a-c8e9-45eb-92c4-5a6fa2c37ccd"
      },
      "source": [
        "plt.figure(figsize=(13,5))\n",
        "plt.title('Количество заказов по дням')\n",
        "taxi['num_orders'].plot()"
      ],
      "execution_count": 184,
      "outputs": [
        {
          "output_type": "execute_result",
          "data": {
            "text/plain": [
              "<matplotlib.axes._subplots.AxesSubplot at 0x7faa516fb550>"
            ]
          },
          "metadata": {
            "tags": []
          },
          "execution_count": 184
        },
        {
          "output_type": "display_data",
          "data": {
            "image/png": "[encoded data removed]",
            "text/plain": [
              "<Figure size 936x360 with 1 Axes>"
            ]
          },
          "metadata": {
            "tags": []
          }
        }
      ]
    },
    {
      "cell_type": "markdown",
      "metadata": {
        "id": "0PfMiP9XX1-T"
      },
      "source": [
        "**Анализ временных рядов**\n",
        "\n",
        "Проверим, к какому типу принадлежит наш временной ряд."
      ]
    },
    {
      "cell_type": "code",
      "metadata": {
        "id": "9ktHAN0C_h3f",
        "colab": {
          "base_uri": "https://localhost:8080/",
          "height": 508
        },
        "outputId": "40dbda48-c111-47e9-89ca-34c1bd0d8837"
      },
      "source": [
        "taxi['mean'] = taxi['num_orders'].rolling(15).mean()\n",
        "taxi['std'] = taxi['num_orders'].rolling(15).std()\n",
        "\n",
        "taxi.plot(figsize=(8,8));"
      ],
      "execution_count": 185,
      "outputs": [
        {
          "output_type": "display_data",
          "data": {
            "image/png": "[encoded data removed]",
            "text/plain": [
              "<Figure size 576x576 with 1 Axes>"
            ]
          },
          "metadata": {
            "tags": []
          }
        }
      ]
    },
    {
      "cell_type": "markdown",
      "metadata": {
        "id": "GxUXdIQFYBhS"
      },
      "source": [
        "\n",
        "Скользящее среднее отклонение со временем изменяеся не слишком сильно. При этом среднее значение - достаточно высоко поднимется в августе. Из этого следует, что перед нами - нестационарный временной ряд.\n",
        "\n",
        "Изучим тренд и сезонность."
      ]
    },
    {
      "cell_type": "code",
      "metadata": {
        "id": "Ut5XjHke_hy_"
      },
      "source": [
        "taxi = taxi.drop(['mean','std'], axis=1)"
      ],
      "execution_count": 186,
      "outputs": []
    },
    {
      "cell_type": "code",
      "metadata": {
        "colab": {
          "base_uri": "https://localhost:8080/",
          "height": 729
        },
        "id": "JnMXypPEbOSy",
        "outputId": "10b2846d-ebe6-475f-fd50-16d29d294ab6"
      },
      "source": [
        "# Произвожу декомпозицию временного ряда, что увидеть тренд, сезонность и белый шум\n",
        "decomposed = seasonal_decompose(taxi['num_orders'])\n",
        "\n",
        "plt.figure(figsize=(12, 10))\n",
        "\n",
        "plt.subplot(311)\n",
        "decomposed.trend.plot(ax=plt.gca())\n",
        "plt.title('Trend')\n",
        "plt.subplot(312)\n",
        "decomposed.seasonal.plot(ax=plt.gca())\n",
        "plt.title('Seasonality')\n",
        "plt.subplot(313)\n",
        "decomposed.resid.plot(ax=plt.gca())\n",
        "plt.title('Residuals')\n",
        "plt.tight_layout()"
      ],
      "execution_count": 187,
      "outputs": [
        {
          "output_type": "display_data",
          "data": {
            "image/png": "[encoded data removed]",
            "text/plain": [
              "<Figure size 864x720 with 3 Axes>"
            ]
          },
          "metadata": {
            "tags": []
          }
        }
      ]
    },
    {
      "cell_type": "markdown",
      "metadata": {
        "id": "5FHipxYYbieb"
      },
      "source": [
        "На данном графике заметен глобальный тренд увеличения числа заказов такси на протяжении всего изучаемого периода.\n",
        "Колебяния сезонности на данном графике изучить невозможно, попробуем увеличить масштаб.\n",
        "Посмотрим на два разных месяца - апрель и август и первые трое суток."
      ]
    },
    {
      "cell_type": "code",
      "metadata": {
        "colab": {
          "base_uri": "https://localhost:8080/",
          "height": 645
        },
        "id": "v4W7faOSbOLz",
        "outputId": "6f2e43db-0b01-4365-8c9f-0d447ce40690"
      },
      "source": [
        "plt.figure(figsize=(12, 10))\n",
        "\n",
        "plt.subplot(211)\n",
        "decomposed.seasonal['2018-04-01':'2018-04-03'].plot(ax=plt.gca())\n",
        "plt.title('Сезонность в апреле')\n",
        "plt.subplot(212)\n",
        "decomposed.seasonal['2018-08-01':'2018-08-03'].plot(ax=plt.gca())\n",
        "plt.title('Сезонность в августе');"
      ],
      "execution_count": 188,
      "outputs": [
        {
          "output_type": "display_data",
          "data": {
            "image/png": "[encoded data removed]",
            "text/plain": [
              "<Figure size 864x720 with 2 Axes>"
            ]
          },
          "metadata": {
            "tags": []
          }
        }
      ]
    },
    {
      "cell_type": "markdown",
      "metadata": {
        "id": "XoifP-p0bwBS"
      },
      "source": [
        "\n",
        "Больше всего заказов такси приходится на 00 часов. Выскажу предположение о том, что в этот момент прилетает много самолетов и отсустствует дополнительный наземный транспорт, которым можно добраться из аэропорта.\n",
        "Минимальное количество заказов в районе 6-7 часов утра.\n",
        "Так же заметен второй по величине пик заказов в районе 16-17 дня.\n",
        "\n",
        "Выдвину гипотезу о том, что на основании текущих данных, именно в эти моменты компании \"Четенькое такси\" необходимо увеличивать количество водителей на маршрутах.\n",
        "\n",
        "Текущий анализ данных завершен, переходим к выводам."
      ]
    },
    {
      "cell_type": "markdown",
      "metadata": {
        "id": "w72WebZCb5HU"
      },
      "source": [
        "# Вывод\n",
        "\n",
        "На данном этапе был произведен анализ исходных данных. За время исследования обнаружены следующие особенности:\n",
        "\n",
        "1. Чаще всего за час в службу такси поступают 78 заказов,\n",
        "2. На протяжении всего года заметен тренд к увеличению количество заказов,\n",
        "4. Обнаружена \"сезонность\" загруженности: пиковые часы приходятся на 00 и 16-17 часов вечера,\n",
        "4. Минимальная загрузка наблюдается в течение часа, с 6 до 7 утра, так же две небольшие просадки количества заказов заметны в 12 и 18 часов.\n",
        "\n",
        "На основании первичных полученных данных можно предположить о необходимости усиления рабочих смен таксистов именно указанные выше часы.\n",
        "\n",
        "Переходим к более точному прогнозированию и обучению моделей."
      ]
    },
    {
      "cell_type": "code",
      "metadata": {
        "id": "5NJd51KPbOHG"
      },
      "source": [
        "def new_features(data, max_lag, rolling_mean_size):\n",
        "    \n",
        "    data['month'] = data.index.month\n",
        "    data['day'] = data.index.day\n",
        "    data['dayofweek'] = data.index.dayofweek\n",
        "    data['hour'] = data.index.hour\n",
        "    \n",
        "    for lag in range(1, max_lag + 1):\n",
        "        data['lag_{}'.format(lag)] = data['num_orders'].shift(lag)\n",
        "\n",
        "    data['rolling_mean'] = data['num_orders'].shift().rolling(rolling_mean_size).mean()"
      ],
      "execution_count": 189,
      "outputs": []
    },
    {
      "cell_type": "code",
      "metadata": {
        "id": "YdL939bMbOEr"
      },
      "source": [
        "new_features(taxi, 10, 10)"
      ],
      "execution_count": 190,
      "outputs": []
    },
    {
      "cell_type": "code",
      "metadata": {
        "id": "YOyD3rzcbOB6",
        "colab": {
          "base_uri": "https://localhost:8080/",
          "height": 235
        },
        "outputId": "700d2389-a554-456a-cee0-e403778604dd"
      },
      "source": [
        "taxi.head()"
      ],
      "execution_count": 191,
      "outputs": [
        {
          "output_type": "execute_result",
          "data": {
            "text/html": [
              "<div>\n",
              "<style scoped>\n",
              "    .dataframe tbody tr th:only-of-type {\n",
              "        vertical-align: middle;\n",
              "    }\n",
              "\n",
              "    .dataframe tbody tr th {\n",
              "        vertical-align: top;\n",
              "    }\n",
              "\n",
              "    .dataframe thead th {\n",
              "        text-align: right;\n",
              "    }\n",
              "</style>\n",
              "<table border=\"1\" class=\"dataframe\">\n",
              "  <thead>\n",
              "    <tr style=\"text-align: right;\">\n",
              "      <th></th>\n",
              "      <th>num_orders</th>\n",
              "      <th>month</th>\n",
              "      <th>day</th>\n",
              "      <th>dayofweek</th>\n",
              "      <th>hour</th>\n",
              "      <th>lag_1</th>\n",
              "      <th>lag_2</th>\n",
              "      <th>lag_3</th>\n",
              "      <th>lag_4</th>\n",
              "      <th>lag_5</th>\n",
              "      <th>lag_6</th>\n",
              "      <th>lag_7</th>\n",
              "      <th>lag_8</th>\n",
              "      <th>lag_9</th>\n",
              "      <th>lag_10</th>\n",
              "      <th>rolling_mean</th>\n",
              "    </tr>\n",
              "    <tr>\n",
              "      <th>datetime</th>\n",
              "      <th></th>\n",
              "      <th></th>\n",
              "      <th></th>\n",
              "      <th></th>\n",
              "      <th></th>\n",
              "      <th></th>\n",
              "      <th></th>\n",
              "      <th></th>\n",
              "      <th></th>\n",
              "      <th></th>\n",
              "      <th></th>\n",
              "      <th></th>\n",
              "      <th></th>\n",
              "      <th></th>\n",
              "      <th></th>\n",
              "      <th></th>\n",
              "    </tr>\n",
              "  </thead>\n",
              "  <tbody>\n",
              "    <tr>\n",
              "      <th>2018-03-01 00:00:00</th>\n",
              "      <td>124</td>\n",
              "      <td>3</td>\n",
              "      <td>1</td>\n",
              "      <td>3</td>\n",
              "      <td>0</td>\n",
              "      <td>NaN</td>\n",
              "      <td>NaN</td>\n",
              "      <td>NaN</td>\n",
              "      <td>NaN</td>\n",
              "      <td>NaN</td>\n",
              "      <td>NaN</td>\n",
              "      <td>NaN</td>\n",
              "      <td>NaN</td>\n",
              "      <td>NaN</td>\n",
              "      <td>NaN</td>\n",
              "      <td>NaN</td>\n",
              "    </tr>\n",
              "    <tr>\n",
              "      <th>2018-03-01 01:00:00</th>\n",
              "      <td>85</td>\n",
              "      <td>3</td>\n",
              "      <td>1</td>\n",
              "      <td>3</td>\n",
              "      <td>1</td>\n",
              "      <td>124.0</td>\n",
              "      <td>NaN</td>\n",
              "      <td>NaN</td>\n",
              "      <td>NaN</td>\n",
              "      <td>NaN</td>\n",
              "      <td>NaN</td>\n",
              "      <td>NaN</td>\n",
              "      <td>NaN</td>\n",
              "      <td>NaN</td>\n",
              "      <td>NaN</td>\n",
              "      <td>NaN</td>\n",
              "    </tr>\n",
              "    <tr>\n",
              "      <th>2018-03-01 02:00:00</th>\n",
              "      <td>71</td>\n",
              "      <td>3</td>\n",
              "      <td>1</td>\n",
              "      <td>3</td>\n",
              "      <td>2</td>\n",
              "      <td>85.0</td>\n",
              "      <td>124.0</td>\n",
              "      <td>NaN</td>\n",
              "      <td>NaN</td>\n",
              "      <td>NaN</td>\n",
              "      <td>NaN</td>\n",
              "      <td>NaN</td>\n",
              "      <td>NaN</td>\n",
              "      <td>NaN</td>\n",
              "      <td>NaN</td>\n",
              "      <td>NaN</td>\n",
              "    </tr>\n",
              "    <tr>\n",
              "      <th>2018-03-01 03:00:00</th>\n",
              "      <td>66</td>\n",
              "      <td>3</td>\n",
              "      <td>1</td>\n",
              "      <td>3</td>\n",
              "      <td>3</td>\n",
              "      <td>71.0</td>\n",
              "      <td>85.0</td>\n",
              "      <td>124.0</td>\n",
              "      <td>NaN</td>\n",
              "      <td>NaN</td>\n",
              "      <td>NaN</td>\n",
              "      <td>NaN</td>\n",
              "      <td>NaN</td>\n",
              "      <td>NaN</td>\n",
              "      <td>NaN</td>\n",
              "      <td>NaN</td>\n",
              "    </tr>\n",
              "    <tr>\n",
              "      <th>2018-03-01 04:00:00</th>\n",
              "      <td>43</td>\n",
              "      <td>3</td>\n",
              "      <td>1</td>\n",
              "      <td>3</td>\n",
              "      <td>4</td>\n",
              "      <td>66.0</td>\n",
              "      <td>71.0</td>\n",
              "      <td>85.0</td>\n",
              "      <td>124.0</td>\n",
              "      <td>NaN</td>\n",
              "      <td>NaN</td>\n",
              "      <td>NaN</td>\n",
              "      <td>NaN</td>\n",
              "      <td>NaN</td>\n",
              "      <td>NaN</td>\n",
              "      <td>NaN</td>\n",
              "    </tr>\n",
              "  </tbody>\n",
              "</table>\n",
              "</div>"
            ],
            "text/plain": [
              "                     num_orders  month  day  ...  lag_9  lag_10  rolling_mean\n",
              "datetime                                     ...                             \n",
              "2018-03-01 00:00:00         124      3    1  ...    NaN     NaN           NaN\n",
              "2018-03-01 01:00:00          85      3    1  ...    NaN     NaN           NaN\n",
              "2018-03-01 02:00:00          71      3    1  ...    NaN     NaN           NaN\n",
              "2018-03-01 03:00:00          66      3    1  ...    NaN     NaN           NaN\n",
              "2018-03-01 04:00:00          43      3    1  ...    NaN     NaN           NaN\n",
              "\n",
              "[5 rows x 16 columns]"
            ]
          },
          "metadata": {
            "tags": []
          },
          "execution_count": 191
        }
      ]
    },
    {
      "cell_type": "markdown",
      "metadata": {
        "id": "RSj2kbSxEDm7"
      },
      "source": [
        "\n",
        "У нас остаются пропущенные значения, но их не так много и они будут удалены после разбития на выборки.\n",
        "\n"
      ]
    },
    {
      "cell_type": "markdown",
      "metadata": {
        "id": "mh-gC5mYEIaP"
      },
      "source": [
        "**Создание подвыборок**\n",
        "\n",
        "Разобьем датасет на обучающую, валидационную и тестовую выборку."
      ]
    },
    {
      "cell_type": "code",
      "metadata": {
        "id": "orijxSP5bN_d"
      },
      "source": [
        "sub, test = train_test_split(taxi, test_size=.1, shuffle=False)\n",
        "train, valid = train_test_split(sub, test_size=.1, shuffle=False)"
      ],
      "execution_count": 192,
      "outputs": []
    },
    {
      "cell_type": "code",
      "metadata": {
        "id": "8v52UfYB6JmT"
      },
      "source": [
        "train.dropna(inplace=True)"
      ],
      "execution_count": 193,
      "outputs": []
    },
    {
      "cell_type": "code",
      "metadata": {
        "colab": {
          "base_uri": "https://localhost:8080/"
        },
        "id": "eKg2l_yP6Jhm",
        "outputId": "75e95a1a-26f0-453f-96f6-bb5527134f23"
      },
      "source": [
        "train.shape[0], valid.shape[0], test.shape[0]"
      ],
      "execution_count": 194,
      "outputs": [
        {
          "output_type": "execute_result",
          "data": {
            "text/plain": [
              "(3566, 398, 442)"
            ]
          },
          "metadata": {
            "tags": []
          },
          "execution_count": 194
        }
      ]
    },
    {
      "cell_type": "code",
      "metadata": {
        "id": "YjA6oHnI6Jep"
      },
      "source": [
        "X_train = train.drop(['num_orders'], axis=1)\n",
        "X_valid = valid.drop(['num_orders'], axis=1)\n",
        "X_test = test.drop(['num_orders'], axis=1)\n",
        "\n",
        "y_train = train['num_orders']\n",
        "y_valid = valid['num_orders']\n",
        "y_test = test['num_orders']"
      ],
      "execution_count": 195,
      "outputs": []
    },
    {
      "cell_type": "markdown",
      "metadata": {
        "id": "I_3mUQk7EfjP"
      },
      "source": [
        "**Подбор и тестирование моделей**\n",
        "\n",
        "**Логистическая регрессия**\n",
        "\n",
        "Попробуем применить простенькую логистическую регрессию."
      ]
    },
    {
      "cell_type": "code",
      "metadata": {
        "colab": {
          "base_uri": "https://localhost:8080/"
        },
        "id": "0maY1QNp6JcN",
        "outputId": "853de88f-a1de-4ca8-ee44-b9051772a750"
      },
      "source": [
        "%%time\n",
        "lr = LinearRegression().fit(X_train, y_train)"
      ],
      "execution_count": 196,
      "outputs": [
        {
          "output_type": "stream",
          "text": [
            "CPU times: user 3.27 ms, sys: 6.19 ms, total: 9.45 ms\n",
            "Wall time: 10.2 ms\n"
          ],
          "name": "stdout"
        }
      ]
    },
    {
      "cell_type": "code",
      "metadata": {
        "id": "4tTfkid26JYo"
      },
      "source": [
        "def prediction(model, feat, targ):\n",
        "    \n",
        "    pred = model.predict(feat)\n",
        "    rmse = mean_squared_error(pred, targ)**0.5\n",
        "    \n",
        "    return(rmse)"
      ],
      "execution_count": 197,
      "outputs": []
    },
    {
      "cell_type": "code",
      "metadata": {
        "colab": {
          "base_uri": "https://localhost:8080/"
        },
        "id": "L5caU4J76JV1",
        "outputId": "e30bdcc7-1897-4299-e255-1122bb507d53"
      },
      "source": [
        "%%time\n",
        "prediction(lr, X_valid, y_valid)"
      ],
      "execution_count": 198,
      "outputs": [
        {
          "output_type": "stream",
          "text": [
            "CPU times: user 1.87 ms, sys: 0 ns, total: 1.87 ms\n",
            "Wall time: 1.88 ms\n"
          ],
          "name": "stdout"
        },
        {
          "output_type": "execute_result",
          "data": {
            "text/plain": [
              "40.570413007041196"
            ]
          },
          "metadata": {
            "tags": []
          },
          "execution_count": 198
        }
      ]
    },
    {
      "cell_type": "markdown",
      "metadata": {
        "id": "oMw-WihoGw2F"
      },
      "source": [
        "Сразу создадим табличку, в которую будем вносить полученые данные"
      ]
    },
    {
      "cell_type": "code",
      "metadata": {
        "colab": {
          "base_uri": "https://localhost:8080/",
          "height": 204
        },
        "id": "odx0eRl5Gg3_",
        "outputId": "c793d699-d794-405a-cabf-ac743e0de214"
      },
      "source": [
        "res = {\n",
        "    'model_name':pd.Series(['LogReg','KNN','LinSVM','GradBoost','CatBoost']),\n",
        "    'training_time':pd.Series([11.1]),\n",
        "    'prediction_valid_time':pd.Series([8.51]), \n",
        "    'rmse_valid':pd.Series([40.57]), \n",
        "    'prediction_test_time':pd.Series([]), \n",
        "    'rmse_test':pd.Series([])}\n",
        "\n",
        "results = pd.DataFrame(res)\n",
        "results"
      ],
      "execution_count": 199,
      "outputs": [
        {
          "output_type": "execute_result",
          "data": {
            "text/html": [
              "<div>\n",
              "<style scoped>\n",
              "    .dataframe tbody tr th:only-of-type {\n",
              "        vertical-align: middle;\n",
              "    }\n",
              "\n",
              "    .dataframe tbody tr th {\n",
              "        vertical-align: top;\n",
              "    }\n",
              "\n",
              "    .dataframe thead th {\n",
              "        text-align: right;\n",
              "    }\n",
              "</style>\n",
              "<table border=\"1\" class=\"dataframe\">\n",
              "  <thead>\n",
              "    <tr style=\"text-align: right;\">\n",
              "      <th></th>\n",
              "      <th>model_name</th>\n",
              "      <th>training_time</th>\n",
              "      <th>prediction_valid_time</th>\n",
              "      <th>rmse_valid</th>\n",
              "      <th>prediction_test_time</th>\n",
              "      <th>rmse_test</th>\n",
              "    </tr>\n",
              "  </thead>\n",
              "  <tbody>\n",
              "    <tr>\n",
              "      <th>0</th>\n",
              "      <td>LogReg</td>\n",
              "      <td>11.1</td>\n",
              "      <td>8.51</td>\n",
              "      <td>40.57</td>\n",
              "      <td>NaN</td>\n",
              "      <td>NaN</td>\n",
              "    </tr>\n",
              "    <tr>\n",
              "      <th>1</th>\n",
              "      <td>KNN</td>\n",
              "      <td>NaN</td>\n",
              "      <td>NaN</td>\n",
              "      <td>NaN</td>\n",
              "      <td>NaN</td>\n",
              "      <td>NaN</td>\n",
              "    </tr>\n",
              "    <tr>\n",
              "      <th>2</th>\n",
              "      <td>LinSVM</td>\n",
              "      <td>NaN</td>\n",
              "      <td>NaN</td>\n",
              "      <td>NaN</td>\n",
              "      <td>NaN</td>\n",
              "      <td>NaN</td>\n",
              "    </tr>\n",
              "    <tr>\n",
              "      <th>3</th>\n",
              "      <td>GradBoost</td>\n",
              "      <td>NaN</td>\n",
              "      <td>NaN</td>\n",
              "      <td>NaN</td>\n",
              "      <td>NaN</td>\n",
              "      <td>NaN</td>\n",
              "    </tr>\n",
              "    <tr>\n",
              "      <th>4</th>\n",
              "      <td>CatBoost</td>\n",
              "      <td>NaN</td>\n",
              "      <td>NaN</td>\n",
              "      <td>NaN</td>\n",
              "      <td>NaN</td>\n",
              "      <td>NaN</td>\n",
              "    </tr>\n",
              "  </tbody>\n",
              "</table>\n",
              "</div>"
            ],
            "text/plain": [
              "  model_name  training_time  ...  prediction_test_time  rmse_test\n",
              "0     LogReg           11.1  ...                   NaN        NaN\n",
              "1        KNN            NaN  ...                   NaN        NaN\n",
              "2     LinSVM            NaN  ...                   NaN        NaN\n",
              "3  GradBoost            NaN  ...                   NaN        NaN\n",
              "4   CatBoost            NaN  ...                   NaN        NaN\n",
              "\n",
              "[5 rows x 6 columns]"
            ]
          },
          "metadata": {
            "tags": []
          },
          "execution_count": 199
        }
      ]
    },
    {
      "cell_type": "markdown",
      "metadata": {
        "id": "gry7C1QwIds3"
      },
      "source": [
        "**Метод ближайших соседей**\n",
        "\n",
        "Вспомним по класс моделей, которые мы не использовали достаточно давно. Для применения данной и следующей модели нам необходимо скалировать данные. К работе с соседями применим MinMax преобразование."
      ]
    },
    {
      "cell_type": "code",
      "metadata": {
        "id": "r6Y-mq-IGg1l"
      },
      "source": [
        "min_max = MinMaxScaler()\n",
        "\n",
        "min_max.fit(X_train)\n",
        "\n",
        "X_train_mm = min_max.transform(X_train)\n",
        "X_valid_mm = min_max.transform(X_valid)\n",
        "X_test_mm = min_max.transform(X_test)"
      ],
      "execution_count": 200,
      "outputs": []
    },
    {
      "cell_type": "markdown",
      "metadata": {
        "id": "nbpohCtkPt4v"
      },
      "source": [
        "Напишем функцию серча гиперпараметров."
      ]
    },
    {
      "cell_type": "code",
      "metadata": {
        "id": "_EES18IlGgze"
      },
      "source": [
        "def grid(model, params, feat, targ):\n",
        "  search = GridSearchCV(model, params, cv=5, n_jobs=-1, scoring='neg_mean_squared_error')\n",
        "  search.fit(feat, targ)\n",
        "    \n",
        "  print('Best score = ', search.best_score_)\n",
        "  print(search.best_params_)"
      ],
      "execution_count": 201,
      "outputs": []
    },
    {
      "cell_type": "code",
      "metadata": {
        "id": "ztc0JzgdGgxZ"
      },
      "source": [
        "knn = KNeighborsRegressor()\n",
        "\n",
        "knn_params = dict(n_neighbors=range(3,10),\n",
        "                   metric=['minkowski', 'manhattan'],\n",
        "                   leaf_size=[20,25,30,35],\n",
        "                   algorithm=['auto','ball_tree','kd_tree'])"
      ],
      "execution_count": 202,
      "outputs": []
    },
    {
      "cell_type": "code",
      "metadata": {
        "colab": {
          "base_uri": "https://localhost:8080/"
        },
        "id": "EnlducLXGgsw",
        "outputId": "30a49fa2-3843-4b38-9477-b9b9ec3abf4a"
      },
      "source": [
        "grid(knn, knn_params, X_train_mm, y_train)"
      ],
      "execution_count": 203,
      "outputs": [
        {
          "output_type": "stream",
          "text": [
            "Best score =  -603.305166739007\n",
            "{'algorithm': 'auto', 'leaf_size': 20, 'metric': 'manhattan', 'n_neighbors': 9}\n"
          ],
          "name": "stdout"
        }
      ]
    },
    {
      "cell_type": "code",
      "metadata": {
        "id": "Nd1HVbHOGgqE"
      },
      "source": [
        "knn = KNeighborsRegressor(algorithm='auto', leaf_size=20, metric='manhattan', n_neighbors=9)"
      ],
      "execution_count": 204,
      "outputs": []
    },
    {
      "cell_type": "code",
      "metadata": {
        "colab": {
          "base_uri": "https://localhost:8080/"
        },
        "id": "NQUhxGChQ4Vm",
        "outputId": "0f2dcabb-5e82-4592-ed88-1832ebb01d7a"
      },
      "source": [
        "%%time\n",
        "knn.fit(X_train_mm, y_train)"
      ],
      "execution_count": 205,
      "outputs": [
        {
          "output_type": "stream",
          "text": [
            "CPU times: user 8.16 ms, sys: 0 ns, total: 8.16 ms\n",
            "Wall time: 7.86 ms\n"
          ],
          "name": "stdout"
        },
        {
          "output_type": "execute_result",
          "data": {
            "text/plain": [
              "KNeighborsRegressor(algorithm='auto', leaf_size=20, metric='manhattan',\n",
              "                    metric_params=None, n_jobs=None, n_neighbors=9, p=2,\n",
              "                    weights='uniform')"
            ]
          },
          "metadata": {
            "tags": []
          },
          "execution_count": 205
        }
      ]
    },
    {
      "cell_type": "code",
      "metadata": {
        "colab": {
          "base_uri": "https://localhost:8080/"
        },
        "id": "SdoVETezQ4QQ",
        "outputId": "e819037f-9510-4e4d-f280-95d94d1ce689"
      },
      "source": [
        "%%time\n",
        "prediction(knn, X_valid_mm, y_valid)"
      ],
      "execution_count": 206,
      "outputs": [
        {
          "output_type": "stream",
          "text": [
            "CPU times: user 44.9 ms, sys: 0 ns, total: 44.9 ms\n",
            "Wall time: 44.5 ms\n"
          ],
          "name": "stdout"
        },
        {
          "output_type": "execute_result",
          "data": {
            "text/plain": [
              "35.61568713080818"
            ]
          },
          "metadata": {
            "tags": []
          },
          "execution_count": 206
        }
      ]
    },
    {
      "cell_type": "code",
      "metadata": {
        "colab": {
          "base_uri": "https://localhost:8080/",
          "height": 204
        },
        "id": "rTiXxMp3Q4OA",
        "outputId": "6604d7e7-0e3a-45e5-95d0-340c63efc6ad"
      },
      "source": [
        "results.loc[1, 'training_time'] = 8\n",
        "results.loc[1, 'prediction_valid_time'] = 44.1\n",
        "results.loc[1, 'rmse_valid'] = 35.61\n",
        "results.head()"
      ],
      "execution_count": 207,
      "outputs": [
        {
          "output_type": "execute_result",
          "data": {
            "text/html": [
              "<div>\n",
              "<style scoped>\n",
              "    .dataframe tbody tr th:only-of-type {\n",
              "        vertical-align: middle;\n",
              "    }\n",
              "\n",
              "    .dataframe tbody tr th {\n",
              "        vertical-align: top;\n",
              "    }\n",
              "\n",
              "    .dataframe thead th {\n",
              "        text-align: right;\n",
              "    }\n",
              "</style>\n",
              "<table border=\"1\" class=\"dataframe\">\n",
              "  <thead>\n",
              "    <tr style=\"text-align: right;\">\n",
              "      <th></th>\n",
              "      <th>model_name</th>\n",
              "      <th>training_time</th>\n",
              "      <th>prediction_valid_time</th>\n",
              "      <th>rmse_valid</th>\n",
              "      <th>prediction_test_time</th>\n",
              "      <th>rmse_test</th>\n",
              "    </tr>\n",
              "  </thead>\n",
              "  <tbody>\n",
              "    <tr>\n",
              "      <th>0</th>\n",
              "      <td>LogReg</td>\n",
              "      <td>11.1</td>\n",
              "      <td>8.51</td>\n",
              "      <td>40.57</td>\n",
              "      <td>NaN</td>\n",
              "      <td>NaN</td>\n",
              "    </tr>\n",
              "    <tr>\n",
              "      <th>1</th>\n",
              "      <td>KNN</td>\n",
              "      <td>8.0</td>\n",
              "      <td>44.10</td>\n",
              "      <td>35.61</td>\n",
              "      <td>NaN</td>\n",
              "      <td>NaN</td>\n",
              "    </tr>\n",
              "    <tr>\n",
              "      <th>2</th>\n",
              "      <td>LinSVM</td>\n",
              "      <td>NaN</td>\n",
              "      <td>NaN</td>\n",
              "      <td>NaN</td>\n",
              "      <td>NaN</td>\n",
              "      <td>NaN</td>\n",
              "    </tr>\n",
              "    <tr>\n",
              "      <th>3</th>\n",
              "      <td>GradBoost</td>\n",
              "      <td>NaN</td>\n",
              "      <td>NaN</td>\n",
              "      <td>NaN</td>\n",
              "      <td>NaN</td>\n",
              "      <td>NaN</td>\n",
              "    </tr>\n",
              "    <tr>\n",
              "      <th>4</th>\n",
              "      <td>CatBoost</td>\n",
              "      <td>NaN</td>\n",
              "      <td>NaN</td>\n",
              "      <td>NaN</td>\n",
              "      <td>NaN</td>\n",
              "      <td>NaN</td>\n",
              "    </tr>\n",
              "  </tbody>\n",
              "</table>\n",
              "</div>"
            ],
            "text/plain": [
              "  model_name  training_time  ...  prediction_test_time  rmse_test\n",
              "0     LogReg           11.1  ...                   NaN        NaN\n",
              "1        KNN            8.0  ...                   NaN        NaN\n",
              "2     LinSVM            NaN  ...                   NaN        NaN\n",
              "3  GradBoost            NaN  ...                   NaN        NaN\n",
              "4   CatBoost            NaN  ...                   NaN        NaN\n",
              "\n",
              "[5 rows x 6 columns]"
            ]
          },
          "metadata": {
            "tags": []
          },
          "execution_count": 207
        }
      ]
    },
    {
      "cell_type": "markdown",
      "metadata": {
        "id": "P2MrADqQSlra"
      },
      "source": [
        "**Linear Support Vector Regressor**\n",
        "\n",
        "Еще один класс линейных моделей. Как оказалось, достаточно мощно и быстро может обрабатывать большие массивы данных. Однако, у нас есть слишком сильно отклоняющие значения и прогноз на тестовой выборке может быть не слишком точным.\n",
        "\n",
        "В данном случае скалируем данные с помощью StandardScaler"
      ]
    },
    {
      "cell_type": "code",
      "metadata": {
        "id": "WwiLVp1GQ4Hw"
      },
      "source": [
        "st_sc = StandardScaler()\n",
        "\n",
        "st_sc.fit(X_train)\n",
        "\n",
        "X_train_ss = st_sc.transform(X_train)\n",
        "X_valid_ss = st_sc.transform(X_valid)\n",
        "X_test_ss = st_sc.transform(X_test)"
      ],
      "execution_count": 208,
      "outputs": []
    },
    {
      "cell_type": "code",
      "metadata": {
        "id": "FuWscjHMQ4FG"
      },
      "source": [
        "svm = LinearSVR(random_state=42)\n",
        "\n",
        "svm_params = dict(max_iter=[100,500,1000,1200,1500],\n",
        "                  C=[0.1,0.5,1],\n",
        "                  tol=[1e-3, 1e-4, 1e-5])"
      ],
      "execution_count": 209,
      "outputs": []
    },
    {
      "cell_type": "code",
      "metadata": {
        "colab": {
          "base_uri": "https://localhost:8080/"
        },
        "id": "-4avGEQDQ4CQ",
        "outputId": "67b7f4ee-738d-4a71-94cc-601a2018d1b8"
      },
      "source": [
        "grid(svm, svm_params, X_train_ss, y_train)"
      ],
      "execution_count": 210,
      "outputs": [
        {
          "output_type": "stream",
          "text": [
            "Best score =  -886.1159748027234\n",
            "{'C': 1, 'max_iter': 100, 'tol': 1e-05}\n"
          ],
          "name": "stdout"
        }
      ]
    },
    {
      "cell_type": "code",
      "metadata": {
        "id": "KZjdiDvSUqhv"
      },
      "source": [
        "svm = LinearSVR(random_state=42, C=1, max_iter=100, tol=0.0001)"
      ],
      "execution_count": 211,
      "outputs": []
    },
    {
      "cell_type": "code",
      "metadata": {
        "colab": {
          "base_uri": "https://localhost:8080/"
        },
        "id": "D5QmUwI5Uqf6",
        "outputId": "aebf228f-7ac6-4ca9-b045-e680d8bdb8e8"
      },
      "source": [
        "%%time\n",
        "svm.fit(X_train_ss, y_train)"
      ],
      "execution_count": 212,
      "outputs": [
        {
          "output_type": "stream",
          "text": [
            "CPU times: user 6.99 ms, sys: 0 ns, total: 6.99 ms\n",
            "Wall time: 7.8 ms\n"
          ],
          "name": "stdout"
        },
        {
          "output_type": "execute_result",
          "data": {
            "text/plain": [
              "LinearSVR(C=1, dual=True, epsilon=0.0, fit_intercept=True,\n",
              "          intercept_scaling=1.0, loss='epsilon_insensitive', max_iter=100,\n",
              "          random_state=42, tol=0.0001, verbose=0)"
            ]
          },
          "metadata": {
            "tags": []
          },
          "execution_count": 212
        }
      ]
    },
    {
      "cell_type": "code",
      "metadata": {
        "colab": {
          "base_uri": "https://localhost:8080/"
        },
        "id": "X56H1-oMUqab",
        "outputId": "773b5622-2ce4-464c-cab5-da826b0d2b56"
      },
      "source": [
        "%%time\n",
        "prediction(svm, X_valid_ss, y_valid)"
      ],
      "execution_count": 213,
      "outputs": [
        {
          "output_type": "stream",
          "text": [
            "CPU times: user 968 µs, sys: 0 ns, total: 968 µs\n",
            "Wall time: 1.71 ms\n"
          ],
          "name": "stdout"
        },
        {
          "output_type": "execute_result",
          "data": {
            "text/plain": [
              "41.31250816813142"
            ]
          },
          "metadata": {
            "tags": []
          },
          "execution_count": 213
        }
      ]
    },
    {
      "cell_type": "code",
      "metadata": {
        "colab": {
          "base_uri": "https://localhost:8080/",
          "height": 204
        },
        "id": "Qg6-2FLQUqX9",
        "outputId": "e2423a6f-8e03-44bb-9107-475f6bbb0357"
      },
      "source": [
        "results.loc[2, 'training_time'] = 13.6\n",
        "results.loc[2, 'prediction_valid_time'] =1.4\n",
        "results.loc[2,'rmse_valid'] = 41.31\n",
        "results"
      ],
      "execution_count": 234,
      "outputs": [
        {
          "output_type": "execute_result",
          "data": {
            "text/html": [
              "<div>\n",
              "<style scoped>\n",
              "    .dataframe tbody tr th:only-of-type {\n",
              "        vertical-align: middle;\n",
              "    }\n",
              "\n",
              "    .dataframe tbody tr th {\n",
              "        vertical-align: top;\n",
              "    }\n",
              "\n",
              "    .dataframe thead th {\n",
              "        text-align: right;\n",
              "    }\n",
              "</style>\n",
              "<table border=\"1\" class=\"dataframe\">\n",
              "  <thead>\n",
              "    <tr style=\"text-align: right;\">\n",
              "      <th></th>\n",
              "      <th>model_name</th>\n",
              "      <th>training_time</th>\n",
              "      <th>prediction_valid_time</th>\n",
              "      <th>rmse_valid</th>\n",
              "      <th>prediction_test_time</th>\n",
              "      <th>rmse_test</th>\n",
              "    </tr>\n",
              "  </thead>\n",
              "  <tbody>\n",
              "    <tr>\n",
              "      <th>0</th>\n",
              "      <td>LogReg</td>\n",
              "      <td>11.1</td>\n",
              "      <td>8.51</td>\n",
              "      <td>40.57</td>\n",
              "      <td>NaN</td>\n",
              "      <td>NaN</td>\n",
              "    </tr>\n",
              "    <tr>\n",
              "      <th>1</th>\n",
              "      <td>KNN</td>\n",
              "      <td>8.0</td>\n",
              "      <td>44.10</td>\n",
              "      <td>35.61</td>\n",
              "      <td>NaN</td>\n",
              "      <td>NaN</td>\n",
              "    </tr>\n",
              "    <tr>\n",
              "      <th>2</th>\n",
              "      <td>LinSVM</td>\n",
              "      <td>13.6</td>\n",
              "      <td>1.40</td>\n",
              "      <td>41.31</td>\n",
              "      <td>NaN</td>\n",
              "      <td>NaN</td>\n",
              "    </tr>\n",
              "    <tr>\n",
              "      <th>3</th>\n",
              "      <td>GradBoost</td>\n",
              "      <td>2230.0</td>\n",
              "      <td>7.99</td>\n",
              "      <td>32.88</td>\n",
              "      <td>NaN</td>\n",
              "      <td>NaN</td>\n",
              "    </tr>\n",
              "    <tr>\n",
              "      <th>4</th>\n",
              "      <td>CatBoost</td>\n",
              "      <td>227.0</td>\n",
              "      <td>6.20</td>\n",
              "      <td>38.68</td>\n",
              "      <td>NaN</td>\n",
              "      <td>NaN</td>\n",
              "    </tr>\n",
              "  </tbody>\n",
              "</table>\n",
              "</div>"
            ],
            "text/plain": [
              "  model_name  training_time  ...  prediction_test_time  rmse_test\n",
              "0     LogReg           11.1  ...                   NaN        NaN\n",
              "1        KNN            8.0  ...                   NaN        NaN\n",
              "2     LinSVM           13.6  ...                   NaN        NaN\n",
              "3  GradBoost         2230.0  ...                   NaN        NaN\n",
              "4   CatBoost          227.0  ...                   NaN        NaN\n",
              "\n",
              "[5 rows x 6 columns]"
            ]
          },
          "metadata": {
            "tags": []
          },
          "execution_count": 234
        }
      ]
    },
    {
      "cell_type": "markdown",
      "metadata": {
        "id": "bVeXWoCBVyLZ"
      },
      "source": [
        "**Gradient Boosting Regressor**\n",
        "\n",
        "Данный класс модели не требует у нас скалирования данных. Переходим сразу к подбору гиперпараметров и обучению.\n",
        "\n",
        "Поиск параметров проводим в 2 этапа - сначала подбираем лучшее количество деревьев, затем - остальные параметры."
      ]
    },
    {
      "cell_type": "code",
      "metadata": {
        "id": "atcNDFopUqR5"
      },
      "source": [
        "gbr = GradientBoostingRegressor(random_state=42)\n",
        "\n",
        "gbr_params_est = dict(n_estimators=range(100,1000,10))\n",
        "\n",
        "gbr_params_other = dict(learning_rate=[0.1,1],\n",
        "                        max_depth=[2,3,4,5],\n",
        "                        min_samples_split=[2,3,4], \n",
        "                        tol=[1e-3, 1e-4, 1e-5])"
      ],
      "execution_count": 215,
      "outputs": []
    },
    {
      "cell_type": "code",
      "metadata": {
        "id": "YgesSrAaV4S2"
      },
      "source": [
        "#grid(gbr, gbr_params_est, X_train, y_train)"
      ],
      "execution_count": 216,
      "outputs": []
    },
    {
      "cell_type": "code",
      "metadata": {
        "id": "l4UeO_kfV4P9"
      },
      "source": [
        "gbr = GradientBoostingRegressor(random_state=42, n_estimators=200)"
      ],
      "execution_count": 217,
      "outputs": []
    },
    {
      "cell_type": "code",
      "metadata": {
        "id": "XXKSwBnCV4Mj"
      },
      "source": [
        "#grid(gbr, gbr_params_other, X_train, y_train)"
      ],
      "execution_count": 218,
      "outputs": []
    },
    {
      "cell_type": "code",
      "metadata": {
        "id": "U9DpGmMFV4J_"
      },
      "source": [
        "gbr = GradientBoostingRegressor(random_state=42, \n",
        "                                n_estimators=200, learning_rate=0.15, max_depth=4, min_samples_split=4, tol=0.001)"
      ],
      "execution_count": 219,
      "outputs": []
    },
    {
      "cell_type": "code",
      "metadata": {
        "colab": {
          "base_uri": "https://localhost:8080/"
        },
        "id": "E-HBSQFYV4H0",
        "outputId": "609a203a-ad78-4132-d88a-1b444b69bafc"
      },
      "source": [
        "%%time\n",
        "gbr.fit(X_train, y_train)"
      ],
      "execution_count": 220,
      "outputs": [
        {
          "output_type": "stream",
          "text": [
            "CPU times: user 2.51 s, sys: 2.09 ms, total: 2.51 s\n",
            "Wall time: 2.53 s\n"
          ],
          "name": "stdout"
        },
        {
          "output_type": "execute_result",
          "data": {
            "text/plain": [
              "GradientBoostingRegressor(alpha=0.9, ccp_alpha=0.0, criterion='friedman_mse',\n",
              "                          init=None, learning_rate=0.15, loss='ls', max_depth=4,\n",
              "                          max_features=None, max_leaf_nodes=None,\n",
              "                          min_impurity_decrease=0.0, min_impurity_split=None,\n",
              "                          min_samples_leaf=1, min_samples_split=4,\n",
              "                          min_weight_fraction_leaf=0.0, n_estimators=200,\n",
              "                          n_iter_no_change=None, presort='deprecated',\n",
              "                          random_state=42, subsample=1.0, tol=0.001,\n",
              "                          validation_fraction=0.1, verbose=0, warm_start=False)"
            ]
          },
          "metadata": {
            "tags": []
          },
          "execution_count": 220
        }
      ]
    },
    {
      "cell_type": "code",
      "metadata": {
        "colab": {
          "base_uri": "https://localhost:8080/"
        },
        "id": "vWccYtOAV4E2",
        "outputId": "226a123b-e6b9-4f6f-dac5-fd7f12499357"
      },
      "source": [
        "%%time\n",
        "prediction(gbr, X_valid, y_valid)"
      ],
      "execution_count": 221,
      "outputs": [
        {
          "output_type": "stream",
          "text": [
            "CPU times: user 4.37 ms, sys: 0 ns, total: 4.37 ms\n",
            "Wall time: 4.38 ms\n"
          ],
          "name": "stdout"
        },
        {
          "output_type": "execute_result",
          "data": {
            "text/plain": [
              "32.179551401061325"
            ]
          },
          "metadata": {
            "tags": []
          },
          "execution_count": 221
        }
      ]
    },
    {
      "cell_type": "code",
      "metadata": {
        "colab": {
          "base_uri": "https://localhost:8080/",
          "height": 204
        },
        "id": "wEKJdTTqV4CD",
        "outputId": "58c46b1e-08a8-4598-c87c-32d72513d7ac"
      },
      "source": [
        "results.loc[3, 'training_time'] = 2.51\n",
        "results.loc[3, 'prediction_valid_time'] = 4.38\n",
        "results.loc[3,'rmse_valid'] = 32.88\n",
        "\n",
        "results"
      ],
      "execution_count": 235,
      "outputs": [
        {
          "output_type": "execute_result",
          "data": {
            "text/html": [
              "<div>\n",
              "<style scoped>\n",
              "    .dataframe tbody tr th:only-of-type {\n",
              "        vertical-align: middle;\n",
              "    }\n",
              "\n",
              "    .dataframe tbody tr th {\n",
              "        vertical-align: top;\n",
              "    }\n",
              "\n",
              "    .dataframe thead th {\n",
              "        text-align: right;\n",
              "    }\n",
              "</style>\n",
              "<table border=\"1\" class=\"dataframe\">\n",
              "  <thead>\n",
              "    <tr style=\"text-align: right;\">\n",
              "      <th></th>\n",
              "      <th>model_name</th>\n",
              "      <th>training_time</th>\n",
              "      <th>prediction_valid_time</th>\n",
              "      <th>rmse_valid</th>\n",
              "      <th>prediction_test_time</th>\n",
              "      <th>rmse_test</th>\n",
              "    </tr>\n",
              "  </thead>\n",
              "  <tbody>\n",
              "    <tr>\n",
              "      <th>0</th>\n",
              "      <td>LogReg</td>\n",
              "      <td>11.1</td>\n",
              "      <td>8.51</td>\n",
              "      <td>40.57</td>\n",
              "      <td>NaN</td>\n",
              "      <td>NaN</td>\n",
              "    </tr>\n",
              "    <tr>\n",
              "      <th>1</th>\n",
              "      <td>KNN</td>\n",
              "      <td>8.0</td>\n",
              "      <td>44.10</td>\n",
              "      <td>35.61</td>\n",
              "      <td>NaN</td>\n",
              "      <td>NaN</td>\n",
              "    </tr>\n",
              "    <tr>\n",
              "      <th>2</th>\n",
              "      <td>LinSVM</td>\n",
              "      <td>13.6</td>\n",
              "      <td>1.40</td>\n",
              "      <td>41.31</td>\n",
              "      <td>NaN</td>\n",
              "      <td>NaN</td>\n",
              "    </tr>\n",
              "    <tr>\n",
              "      <th>3</th>\n",
              "      <td>GradBoost</td>\n",
              "      <td>253.0</td>\n",
              "      <td>4.38</td>\n",
              "      <td>32.88</td>\n",
              "      <td>NaN</td>\n",
              "      <td>NaN</td>\n",
              "    </tr>\n",
              "    <tr>\n",
              "      <th>4</th>\n",
              "      <td>CatBoost</td>\n",
              "      <td>227.0</td>\n",
              "      <td>6.20</td>\n",
              "      <td>38.68</td>\n",
              "      <td>NaN</td>\n",
              "      <td>NaN</td>\n",
              "    </tr>\n",
              "  </tbody>\n",
              "</table>\n",
              "</div>"
            ],
            "text/plain": [
              "  model_name  training_time  ...  prediction_test_time  rmse_test\n",
              "0     LogReg           11.1  ...                   NaN        NaN\n",
              "1        KNN            8.0  ...                   NaN        NaN\n",
              "2     LinSVM           13.6  ...                   NaN        NaN\n",
              "3  GradBoost          253.0  ...                   NaN        NaN\n",
              "4   CatBoost          227.0  ...                   NaN        NaN\n",
              "\n",
              "[5 rows x 6 columns]"
            ]
          },
          "metadata": {
            "tags": []
          },
          "execution_count": 235
        }
      ]
    },
    {
      "cell_type": "markdown",
      "metadata": {
        "id": "cKi3pXVnolAO"
      },
      "source": [
        "**CatBoost Regressor**\n",
        "\n",
        "Создадим список категориальных фичей."
      ]
    },
    {
      "cell_type": "code",
      "metadata": {
        "colab": {
          "base_uri": "https://localhost:8080/"
        },
        "id": "QIalarWSdn1D",
        "outputId": "63898916-04e0-4c63-9bdd-b45d3d6f308d"
      },
      "source": [
        "taxi.columns"
      ],
      "execution_count": 226,
      "outputs": [
        {
          "output_type": "execute_result",
          "data": {
            "text/plain": [
              "Index(['num_orders', 'month', 'day', 'dayofweek', 'hour', 'lag_1', 'lag_2',\n",
              "       'lag_3', 'lag_4', 'lag_5', 'lag_6', 'lag_7', 'lag_8', 'lag_9', 'lag_10',\n",
              "       'rolling_mean'],\n",
              "      dtype='object')"
            ]
          },
          "metadata": {
            "tags": []
          },
          "execution_count": 226
        }
      ]
    },
    {
      "cell_type": "code",
      "metadata": {
        "id": "v6N_qPnJXaDP"
      },
      "source": [
        "cat_features = ['month', 'day', 'dayofweek', 'hour']"
      ],
      "execution_count": 227,
      "outputs": []
    },
    {
      "cell_type": "code",
      "metadata": {
        "id": "_3dbl_GOocct"
      },
      "source": [
        "catboost_train = Pool(X_train, y_train, cat_features=cat_features)"
      ],
      "execution_count": 228,
      "outputs": []
    },
    {
      "cell_type": "code",
      "metadata": {
        "id": "Oy4JG3T7XZ9A"
      },
      "source": [
        "catboost = CatBoostRegressor(\n",
        "                          iterations=300, \n",
        "                          depth=4, \n",
        "                          learning_rate=0.3, \n",
        "                          loss_function='RMSE', \n",
        "                          subsample=0.9,\n",
        "                          #grow_policy='Depthwise',\n",
        "                          ###\n",
        "                          verbose=0, \n",
        "                          random_seed=42)"
      ],
      "execution_count": 229,
      "outputs": []
    },
    {
      "cell_type": "code",
      "metadata": {
        "colab": {
          "base_uri": "https://localhost:8080/"
        },
        "id": "9Xzp0aXAXZ6U",
        "outputId": "c277005e-192f-4624-adb4-39d3fe53e29a"
      },
      "source": [
        "%%time\n",
        "catboost.fit(catboost_train)"
      ],
      "execution_count": 230,
      "outputs": [
        {
          "output_type": "stream",
          "text": [
            "CPU times: user 2.12 s, sys: 144 ms, total: 2.27 s\n",
            "Wall time: 1.28 s\n"
          ],
          "name": "stdout"
        },
        {
          "output_type": "execute_result",
          "data": {
            "text/plain": [
              "<catboost.core.CatBoostRegressor at 0x7faa51a54b50>"
            ]
          },
          "metadata": {
            "tags": []
          },
          "execution_count": 230
        }
      ]
    },
    {
      "cell_type": "code",
      "metadata": {
        "colab": {
          "base_uri": "https://localhost:8080/"
        },
        "id": "5fc8HMMTXZ3d",
        "outputId": "fe48f7ec-d505-40e6-aa7c-258793dda0e9"
      },
      "source": [
        "%time\n",
        "prediction(catboost, X_valid, y_valid)"
      ],
      "execution_count": 231,
      "outputs": [
        {
          "output_type": "stream",
          "text": [
            "CPU times: user 3 µs, sys: 0 ns, total: 3 µs\n",
            "Wall time: 6.2 µs\n"
          ],
          "name": "stdout"
        },
        {
          "output_type": "execute_result",
          "data": {
            "text/plain": [
              "38.688653487595495"
            ]
          },
          "metadata": {
            "tags": []
          },
          "execution_count": 231
        }
      ]
    },
    {
      "cell_type": "code",
      "metadata": {
        "colab": {
          "base_uri": "https://localhost:8080/",
          "height": 204
        },
        "id": "6o1KYou6XZ0i",
        "outputId": "b12a2576-1982-4d94-d142-fc90da24ead5"
      },
      "source": [
        "results.loc[4, 'training_time'] = 2.27\n",
        "results.loc[4, 'prediction_valid_time'] = 0.62\n",
        "results.loc[4,'rmse_valid'] = 38.68\n",
        "\n",
        "results"
      ],
      "execution_count": 263,
      "outputs": [
        {
          "output_type": "execute_result",
          "data": {
            "text/html": [
              "<div>\n",
              "<style scoped>\n",
              "    .dataframe tbody tr th:only-of-type {\n",
              "        vertical-align: middle;\n",
              "    }\n",
              "\n",
              "    .dataframe tbody tr th {\n",
              "        vertical-align: top;\n",
              "    }\n",
              "\n",
              "    .dataframe thead th {\n",
              "        text-align: right;\n",
              "    }\n",
              "</style>\n",
              "<table border=\"1\" class=\"dataframe\">\n",
              "  <thead>\n",
              "    <tr style=\"text-align: right;\">\n",
              "      <th></th>\n",
              "      <th>model_name</th>\n",
              "      <th>training_time</th>\n",
              "      <th>prediction_valid_time</th>\n",
              "      <th>rmse_valid</th>\n",
              "      <th>prediction_test_time</th>\n",
              "      <th>rmse_test</th>\n",
              "    </tr>\n",
              "  </thead>\n",
              "  <tbody>\n",
              "    <tr>\n",
              "      <th>0</th>\n",
              "      <td>LogReg</td>\n",
              "      <td>11.10</td>\n",
              "      <td>8.51</td>\n",
              "      <td>40.57</td>\n",
              "      <td>2.31</td>\n",
              "      <td>53.45</td>\n",
              "    </tr>\n",
              "    <tr>\n",
              "      <th>1</th>\n",
              "      <td>KNN</td>\n",
              "      <td>8.00</td>\n",
              "      <td>44.10</td>\n",
              "      <td>35.61</td>\n",
              "      <td>57.50</td>\n",
              "      <td>52.25</td>\n",
              "    </tr>\n",
              "    <tr>\n",
              "      <th>2</th>\n",
              "      <td>LinSVM</td>\n",
              "      <td>13.60</td>\n",
              "      <td>1.40</td>\n",
              "      <td>41.31</td>\n",
              "      <td>1.00</td>\n",
              "      <td>54.22</td>\n",
              "    </tr>\n",
              "    <tr>\n",
              "      <th>3</th>\n",
              "      <td>GradBoost</td>\n",
              "      <td>253.00</td>\n",
              "      <td>4.38</td>\n",
              "      <td>32.88</td>\n",
              "      <td>4.43</td>\n",
              "      <td>45.61</td>\n",
              "    </tr>\n",
              "    <tr>\n",
              "      <th>4</th>\n",
              "      <td>CatBoost</td>\n",
              "      <td>2.27</td>\n",
              "      <td>0.62</td>\n",
              "      <td>38.68</td>\n",
              "      <td>6.10</td>\n",
              "      <td>43.31</td>\n",
              "    </tr>\n",
              "  </tbody>\n",
              "</table>\n",
              "</div>"
            ],
            "text/plain": [
              "  model_name  training_time  ...  prediction_test_time  rmse_test\n",
              "0     LogReg          11.10  ...                  2.31      53.45\n",
              "1        KNN           8.00  ...                 57.50      52.25\n",
              "2     LinSVM          13.60  ...                  1.00      54.22\n",
              "3  GradBoost         253.00  ...                  4.43      45.61\n",
              "4   CatBoost           2.27  ...                  6.10      43.31\n",
              "\n",
              "[5 rows x 6 columns]"
            ]
          },
          "metadata": {
            "tags": []
          },
          "execution_count": 263
        }
      ]
    },
    {
      "cell_type": "markdown",
      "metadata": {
        "id": "aXJi3yJUpZil"
      },
      "source": [
        "\n",
        "**Вывод**\n",
        "\n",
        "На данном этапе было протестировано 5 моделей. Обучение проводилось на подвыборке train, валидация - на подвыборке valid.\n",
        "Все исследуемые модели продемонстрировали лучший, чем дамми моделька, показатель метрики rmse.\n",
        "На текущий момент лучшей моделью по качеству является градиентный регрессор sklearn, худшей - саппорт вектор. Градиентные ансамбли, в сравнении с обычными моделями обучаются в несколько раз дольше, что, в целом, объяснимо и понятно.\n",
        "Можно отбросить логистическую регрессию и саппорт вектор, однако, для полноты исследования протестируем все представленные модели на следующем шаге.\n",
        "\n"
      ]
    },
    {
      "cell_type": "markdown",
      "metadata": {
        "id": "5RE9BD-ApvdQ"
      },
      "source": [
        "# 4. Тестирование моделей"
      ]
    },
    {
      "cell_type": "code",
      "metadata": {
        "id": "nbtfZ4Hpo13X"
      },
      "source": [
        "sub_upd = sub.dropna()"
      ],
      "execution_count": 237,
      "outputs": []
    },
    {
      "cell_type": "code",
      "metadata": {
        "id": "BLE7QKiNo114"
      },
      "source": [
        "feat = sub_upd.drop(['num_orders'], axis=1)\n",
        "targ = sub_upd['num_orders'] \n",
        "\n",
        "\n",
        "feat_mm = min_max.transform(feat)\n",
        "feat_ss = st_sc.transform(feat)"
      ],
      "execution_count": 238,
      "outputs": []
    },
    {
      "cell_type": "code",
      "metadata": {
        "id": "nKkw_EiRo10D"
      },
      "source": [
        "catboost_full = Pool(feat, targ, cat_features=cat_features)"
      ],
      "execution_count": 239,
      "outputs": []
    },
    {
      "cell_type": "markdown",
      "metadata": {
        "id": "6h8Of0uXr31N"
      },
      "source": [
        "Тестируем модели\n",
        "\n",
        "*LogReg*"
      ]
    },
    {
      "cell_type": "code",
      "metadata": {
        "colab": {
          "base_uri": "https://localhost:8080/"
        },
        "id": "XQm1ZBQdo1t7",
        "outputId": "35924f14-6942-4634-cefb-3fbfc08261ec"
      },
      "source": [
        "%%time\n",
        "lr.fit(feat, targ)"
      ],
      "execution_count": 240,
      "outputs": [
        {
          "output_type": "stream",
          "text": [
            "CPU times: user 5.56 ms, sys: 974 µs, total: 6.53 ms\n",
            "Wall time: 11.3 ms\n"
          ],
          "name": "stdout"
        },
        {
          "output_type": "execute_result",
          "data": {
            "text/plain": [
              "LinearRegression(copy_X=True, fit_intercept=True, n_jobs=None, normalize=False)"
            ]
          },
          "metadata": {
            "tags": []
          },
          "execution_count": 240
        }
      ]
    },
    {
      "cell_type": "code",
      "metadata": {
        "colab": {
          "base_uri": "https://localhost:8080/"
        },
        "id": "rWamUbxqo1rP",
        "outputId": "e252d691-e6bf-4381-b212-c57f844c95dc"
      },
      "source": [
        "%%time\n",
        "prediction(lr, X_test, y_test)"
      ],
      "execution_count": 241,
      "outputs": [
        {
          "output_type": "stream",
          "text": [
            "CPU times: user 1.39 ms, sys: 34 µs, total: 1.43 ms\n",
            "Wall time: 1.43 ms\n"
          ],
          "name": "stdout"
        },
        {
          "output_type": "execute_result",
          "data": {
            "text/plain": [
              "53.454643856732524"
            ]
          },
          "metadata": {
            "tags": []
          },
          "execution_count": 241
        }
      ]
    },
    {
      "cell_type": "code",
      "metadata": {
        "id": "PsI9MqO4o1n1"
      },
      "source": [
        "results.loc[0, 'prediction_test_time'] = 2.31\n",
        "results.loc[0,'rmse_test'] = 53.45"
      ],
      "execution_count": 242,
      "outputs": []
    },
    {
      "cell_type": "markdown",
      "metadata": {
        "id": "wcEy768SsCzt"
      },
      "source": [
        "*knn*"
      ]
    },
    {
      "cell_type": "code",
      "metadata": {
        "colab": {
          "base_uri": "https://localhost:8080/"
        },
        "id": "JC0IIXDSpxhK",
        "outputId": "d1e30f2c-793d-4da3-d666-58c7482fc599"
      },
      "source": [
        "%%time\n",
        "knn.fit(feat_mm, targ)"
      ],
      "execution_count": 243,
      "outputs": [
        {
          "output_type": "stream",
          "text": [
            "CPU times: user 7.95 ms, sys: 0 ns, total: 7.95 ms\n",
            "Wall time: 7.96 ms\n"
          ],
          "name": "stdout"
        },
        {
          "output_type": "execute_result",
          "data": {
            "text/plain": [
              "KNeighborsRegressor(algorithm='auto', leaf_size=20, metric='manhattan',\n",
              "                    metric_params=None, n_jobs=None, n_neighbors=9, p=2,\n",
              "                    weights='uniform')"
            ]
          },
          "metadata": {
            "tags": []
          },
          "execution_count": 243
        }
      ]
    },
    {
      "cell_type": "code",
      "metadata": {
        "colab": {
          "base_uri": "https://localhost:8080/"
        },
        "id": "tYa2okLPpxd-",
        "outputId": "f82e103b-0f02-4be8-9c0c-2cd699821254"
      },
      "source": [
        "%%time\n",
        "prediction(knn, X_test_mm, y_test)"
      ],
      "execution_count": 246,
      "outputs": [
        {
          "output_type": "stream",
          "text": [
            "CPU times: user 57.5 ms, sys: 0 ns, total: 57.5 ms\n",
            "Wall time: 61.4 ms\n"
          ],
          "name": "stdout"
        },
        {
          "output_type": "execute_result",
          "data": {
            "text/plain": [
              "52.25397796826214"
            ]
          },
          "metadata": {
            "tags": []
          },
          "execution_count": 246
        }
      ]
    },
    {
      "cell_type": "code",
      "metadata": {
        "id": "-RGCu7tXpxa4"
      },
      "source": [
        "results.loc[1, 'prediction_test_time'] = 57.5\n",
        "results.loc[1,'rmse_test'] = 52.25"
      ],
      "execution_count": 249,
      "outputs": []
    },
    {
      "cell_type": "markdown",
      "metadata": {
        "id": "dwFUJP84sQdN"
      },
      "source": [
        "*svm*"
      ]
    },
    {
      "cell_type": "code",
      "metadata": {
        "colab": {
          "base_uri": "https://localhost:8080/"
        },
        "id": "B1pFhNmLsNQu",
        "outputId": "f433c425-9fa1-44f0-93fe-0c256333466a"
      },
      "source": [
        "%%time\n",
        "svm.fit(feat_ss, targ)"
      ],
      "execution_count": 250,
      "outputs": [
        {
          "output_type": "stream",
          "text": [
            "CPU times: user 13.5 ms, sys: 12 µs, total: 13.5 ms\n",
            "Wall time: 17.5 ms\n"
          ],
          "name": "stdout"
        },
        {
          "output_type": "execute_result",
          "data": {
            "text/plain": [
              "LinearSVR(C=1, dual=True, epsilon=0.0, fit_intercept=True,\n",
              "          intercept_scaling=1.0, loss='epsilon_insensitive', max_iter=100,\n",
              "          random_state=42, tol=0.0001, verbose=0)"
            ]
          },
          "metadata": {
            "tags": []
          },
          "execution_count": 250
        }
      ]
    },
    {
      "cell_type": "code",
      "metadata": {
        "colab": {
          "base_uri": "https://localhost:8080/"
        },
        "id": "KA6gNVRcsNNs",
        "outputId": "41147086-37d7-4bf5-b84a-d824f34ab0ec"
      },
      "source": [
        "%%time\n",
        "prediction(svm, X_test_ss, y_test)"
      ],
      "execution_count": 251,
      "outputs": [
        {
          "output_type": "stream",
          "text": [
            "CPU times: user 608 µs, sys: 0 ns, total: 608 µs\n",
            "Wall time: 618 µs\n"
          ],
          "name": "stdout"
        },
        {
          "output_type": "execute_result",
          "data": {
            "text/plain": [
              "54.22170516535908"
            ]
          },
          "metadata": {
            "tags": []
          },
          "execution_count": 251
        }
      ]
    },
    {
      "cell_type": "code",
      "metadata": {
        "id": "HM__5e8YsNLx"
      },
      "source": [
        "results.loc[2, 'prediction_test_time'] = 1\n",
        "results.loc[2,'rmse_test'] = 54.22"
      ],
      "execution_count": 253,
      "outputs": []
    },
    {
      "cell_type": "markdown",
      "metadata": {
        "id": "yHby-GHjskD1"
      },
      "source": [
        "*GradBoost*"
      ]
    },
    {
      "cell_type": "code",
      "metadata": {
        "colab": {
          "base_uri": "https://localhost:8080/"
        },
        "id": "n2enO-4ZsNIZ",
        "outputId": "42a12293-6642-47d9-eb8b-5ef115772914"
      },
      "source": [
        "%%time\n",
        "gbr.fit(feat, targ)"
      ],
      "execution_count": 254,
      "outputs": [
        {
          "output_type": "stream",
          "text": [
            "CPU times: user 2.81 s, sys: 1.02 ms, total: 2.81 s\n",
            "Wall time: 2.81 s\n"
          ],
          "name": "stdout"
        },
        {
          "output_type": "execute_result",
          "data": {
            "text/plain": [
              "GradientBoostingRegressor(alpha=0.9, ccp_alpha=0.0, criterion='friedman_mse',\n",
              "                          init=None, learning_rate=0.15, loss='ls', max_depth=4,\n",
              "                          max_features=None, max_leaf_nodes=None,\n",
              "                          min_impurity_decrease=0.0, min_impurity_split=None,\n",
              "                          min_samples_leaf=1, min_samples_split=4,\n",
              "                          min_weight_fraction_leaf=0.0, n_estimators=200,\n",
              "                          n_iter_no_change=None, presort='deprecated',\n",
              "                          random_state=42, subsample=1.0, tol=0.001,\n",
              "                          validation_fraction=0.1, verbose=0, warm_start=False)"
            ]
          },
          "metadata": {
            "tags": []
          },
          "execution_count": 254
        }
      ]
    },
    {
      "cell_type": "code",
      "metadata": {
        "colab": {
          "base_uri": "https://localhost:8080/"
        },
        "id": "PbgACYIhsNGf",
        "outputId": "bdb08485-636f-4d6a-ad6f-445e1c83c9ec"
      },
      "source": [
        "%%time\n",
        "prediction(gbr, X_test, y_test)"
      ],
      "execution_count": 255,
      "outputs": [
        {
          "output_type": "stream",
          "text": [
            "CPU times: user 4.43 ms, sys: 0 ns, total: 4.43 ms\n",
            "Wall time: 4.42 ms\n"
          ],
          "name": "stdout"
        },
        {
          "output_type": "execute_result",
          "data": {
            "text/plain": [
              "45.61792093655578"
            ]
          },
          "metadata": {
            "tags": []
          },
          "execution_count": 255
        }
      ]
    },
    {
      "cell_type": "code",
      "metadata": {
        "id": "S5yiPseAsNEs"
      },
      "source": [
        "results.loc[3, 'prediction_test_time'] = 4.43\n",
        "results.loc[3,'rmse_test'] = 45.61"
      ],
      "execution_count": 256,
      "outputs": []
    },
    {
      "cell_type": "markdown",
      "metadata": {
        "id": "P396Yg1_sv3F"
      },
      "source": [
        "*CatBoost*"
      ]
    },
    {
      "cell_type": "code",
      "metadata": {
        "colab": {
          "base_uri": "https://localhost:8080/"
        },
        "id": "azV7i-uusNC8",
        "outputId": "8aa44268-0cc3-4a8e-bb69-6365ad6ee305"
      },
      "source": [
        "%%time\n",
        "catboost.fit(catboost_full)"
      ],
      "execution_count": 257,
      "outputs": [
        {
          "output_type": "stream",
          "text": [
            "CPU times: user 2.26 s, sys: 146 ms, total: 2.4 s\n",
            "Wall time: 1.3 s\n"
          ],
          "name": "stdout"
        },
        {
          "output_type": "execute_result",
          "data": {
            "text/plain": [
              "<catboost.core.CatBoostRegressor at 0x7faa51a54b50>"
            ]
          },
          "metadata": {
            "tags": []
          },
          "execution_count": 257
        }
      ]
    },
    {
      "cell_type": "code",
      "metadata": {
        "colab": {
          "base_uri": "https://localhost:8080/"
        },
        "id": "x-fYk-5msM8q",
        "outputId": "70aa5e4b-2c5d-4a9c-adcf-a8f62879d012"
      },
      "source": [
        "%%time\n",
        "prediction(catboost, X_test, y_test)"
      ],
      "execution_count": 258,
      "outputs": [
        {
          "output_type": "stream",
          "text": [
            "CPU times: user 6.08 ms, sys: 83 µs, total: 6.16 ms\n",
            "Wall time: 7.7 ms\n"
          ],
          "name": "stdout"
        },
        {
          "output_type": "execute_result",
          "data": {
            "text/plain": [
              "42.31001749741593"
            ]
          },
          "metadata": {
            "tags": []
          },
          "execution_count": 258
        }
      ]
    },
    {
      "cell_type": "code",
      "metadata": {
        "id": "3BHBI_T0sM5o"
      },
      "source": [
        "results.loc[4, 'prediction_test_time'] = 6.1\n",
        "results.loc[4,'rmse_test'] = 43.31"
      ],
      "execution_count": 259,
      "outputs": []
    },
    {
      "cell_type": "markdown",
      "metadata": {
        "id": "wa_OOIIps59j"
      },
      "source": [
        "Посмотрим на общие результаты."
      ]
    },
    {
      "cell_type": "code",
      "metadata": {
        "colab": {
          "base_uri": "https://localhost:8080/",
          "height": 204
        },
        "id": "Gs4vyzjRsM24",
        "outputId": "b0fb0fa5-0752-4830-aa43-ebb36173b37d"
      },
      "source": [
        "results"
      ],
      "execution_count": 260,
      "outputs": [
        {
          "output_type": "execute_result",
          "data": {
            "text/html": [
              "<div>\n",
              "<style scoped>\n",
              "    .dataframe tbody tr th:only-of-type {\n",
              "        vertical-align: middle;\n",
              "    }\n",
              "\n",
              "    .dataframe tbody tr th {\n",
              "        vertical-align: top;\n",
              "    }\n",
              "\n",
              "    .dataframe thead th {\n",
              "        text-align: right;\n",
              "    }\n",
              "</style>\n",
              "<table border=\"1\" class=\"dataframe\">\n",
              "  <thead>\n",
              "    <tr style=\"text-align: right;\">\n",
              "      <th></th>\n",
              "      <th>model_name</th>\n",
              "      <th>training_time</th>\n",
              "      <th>prediction_valid_time</th>\n",
              "      <th>rmse_valid</th>\n",
              "      <th>prediction_test_time</th>\n",
              "      <th>rmse_test</th>\n",
              "    </tr>\n",
              "  </thead>\n",
              "  <tbody>\n",
              "    <tr>\n",
              "      <th>0</th>\n",
              "      <td>LogReg</td>\n",
              "      <td>11.1</td>\n",
              "      <td>8.51</td>\n",
              "      <td>40.57</td>\n",
              "      <td>2.31</td>\n",
              "      <td>53.45</td>\n",
              "    </tr>\n",
              "    <tr>\n",
              "      <th>1</th>\n",
              "      <td>KNN</td>\n",
              "      <td>8.0</td>\n",
              "      <td>44.10</td>\n",
              "      <td>35.61</td>\n",
              "      <td>57.50</td>\n",
              "      <td>52.25</td>\n",
              "    </tr>\n",
              "    <tr>\n",
              "      <th>2</th>\n",
              "      <td>LinSVM</td>\n",
              "      <td>13.6</td>\n",
              "      <td>1.40</td>\n",
              "      <td>41.31</td>\n",
              "      <td>1.00</td>\n",
              "      <td>54.22</td>\n",
              "    </tr>\n",
              "    <tr>\n",
              "      <th>3</th>\n",
              "      <td>GradBoost</td>\n",
              "      <td>253.0</td>\n",
              "      <td>4.38</td>\n",
              "      <td>32.88</td>\n",
              "      <td>4.43</td>\n",
              "      <td>45.61</td>\n",
              "    </tr>\n",
              "    <tr>\n",
              "      <th>4</th>\n",
              "      <td>CatBoost</td>\n",
              "      <td>227.0</td>\n",
              "      <td>6.20</td>\n",
              "      <td>38.68</td>\n",
              "      <td>6.10</td>\n",
              "      <td>43.31</td>\n",
              "    </tr>\n",
              "  </tbody>\n",
              "</table>\n",
              "</div>"
            ],
            "text/plain": [
              "  model_name  training_time  ...  prediction_test_time  rmse_test\n",
              "0     LogReg           11.1  ...                  2.31      53.45\n",
              "1        KNN            8.0  ...                 57.50      52.25\n",
              "2     LinSVM           13.6  ...                  1.00      54.22\n",
              "3  GradBoost          253.0  ...                  4.43      45.61\n",
              "4   CatBoost          227.0  ...                  6.10      43.31\n",
              "\n",
              "[5 rows x 6 columns]"
            ]
          },
          "metadata": {
            "tags": []
          },
          "execution_count": 260
        }
      ]
    },
    {
      "cell_type": "code",
      "metadata": {
        "colab": {
          "base_uri": "https://localhost:8080/",
          "height": 204
        },
        "id": "WrpK6uA-s_Z0",
        "outputId": "ce606a73-495e-4f53-b145-8d339304e2e0"
      },
      "source": [
        "sort = results.sort_values(by='rmse_test')\n",
        "sort"
      ],
      "execution_count": 261,
      "outputs": [
        {
          "output_type": "execute_result",
          "data": {
            "text/html": [
              "<div>\n",
              "<style scoped>\n",
              "    .dataframe tbody tr th:only-of-type {\n",
              "        vertical-align: middle;\n",
              "    }\n",
              "\n",
              "    .dataframe tbody tr th {\n",
              "        vertical-align: top;\n",
              "    }\n",
              "\n",
              "    .dataframe thead th {\n",
              "        text-align: right;\n",
              "    }\n",
              "</style>\n",
              "<table border=\"1\" class=\"dataframe\">\n",
              "  <thead>\n",
              "    <tr style=\"text-align: right;\">\n",
              "      <th></th>\n",
              "      <th>model_name</th>\n",
              "      <th>training_time</th>\n",
              "      <th>prediction_valid_time</th>\n",
              "      <th>rmse_valid</th>\n",
              "      <th>prediction_test_time</th>\n",
              "      <th>rmse_test</th>\n",
              "    </tr>\n",
              "  </thead>\n",
              "  <tbody>\n",
              "    <tr>\n",
              "      <th>4</th>\n",
              "      <td>CatBoost</td>\n",
              "      <td>227.0</td>\n",
              "      <td>6.20</td>\n",
              "      <td>38.68</td>\n",
              "      <td>6.10</td>\n",
              "      <td>43.31</td>\n",
              "    </tr>\n",
              "    <tr>\n",
              "      <th>3</th>\n",
              "      <td>GradBoost</td>\n",
              "      <td>253.0</td>\n",
              "      <td>4.38</td>\n",
              "      <td>32.88</td>\n",
              "      <td>4.43</td>\n",
              "      <td>45.61</td>\n",
              "    </tr>\n",
              "    <tr>\n",
              "      <th>1</th>\n",
              "      <td>KNN</td>\n",
              "      <td>8.0</td>\n",
              "      <td>44.10</td>\n",
              "      <td>35.61</td>\n",
              "      <td>57.50</td>\n",
              "      <td>52.25</td>\n",
              "    </tr>\n",
              "    <tr>\n",
              "      <th>0</th>\n",
              "      <td>LogReg</td>\n",
              "      <td>11.1</td>\n",
              "      <td>8.51</td>\n",
              "      <td>40.57</td>\n",
              "      <td>2.31</td>\n",
              "      <td>53.45</td>\n",
              "    </tr>\n",
              "    <tr>\n",
              "      <th>2</th>\n",
              "      <td>LinSVM</td>\n",
              "      <td>13.6</td>\n",
              "      <td>1.40</td>\n",
              "      <td>41.31</td>\n",
              "      <td>1.00</td>\n",
              "      <td>54.22</td>\n",
              "    </tr>\n",
              "  </tbody>\n",
              "</table>\n",
              "</div>"
            ],
            "text/plain": [
              "  model_name  training_time  ...  prediction_test_time  rmse_test\n",
              "4   CatBoost          227.0  ...                  6.10      43.31\n",
              "3  GradBoost          253.0  ...                  4.43      45.61\n",
              "1        KNN            8.0  ...                 57.50      52.25\n",
              "0     LogReg           11.1  ...                  2.31      53.45\n",
              "2     LinSVM           13.6  ...                  1.00      54.22\n",
              "\n",
              "[5 rows x 6 columns]"
            ]
          },
          "metadata": {
            "tags": []
          },
          "execution_count": 261
        }
      ]
    },
    {
      "cell_type": "code",
      "metadata": {
        "colab": {
          "base_uri": "https://localhost:8080/",
          "height": 400
        },
        "id": "dt3B6YbPs_YD",
        "outputId": "5cf6ebdf-7c01-4324-9692-d6ea5b489e0d"
      },
      "source": [
        "fig, ax = plt.subplots(figsize=(8,6))\n",
        "ax.vlines(x=sort['model_name'], ymin=0, ymax=sort['rmse_test'], color='dimgrey', alpha=0.7, linewidth=2)\n",
        "ax.scatter(x=sort['model_name'], y=sort['rmse_test'], s=75, color='firebrick', alpha=0.85)\n",
        "\n",
        "ax.set_title('Сравнение RMSE на тестовой выборке', size=15, y=(1.02))\n",
        "ax.set_ylabel('RMSE test')\n",
        "ax.set_ylim(0, 70)\n",
        "\n",
        "for row in sort.itertuples():\n",
        "    ax.text(row.model_name, row.rmse_test+1.5, s=row.rmse_test,\n",
        "            horizontalalignment= 'center', verticalalignment='bottom', fontsize=12)\n",
        "  \n",
        "plt.show()"
      ],
      "execution_count": 262,
      "outputs": [
        {
          "output_type": "display_data",
          "data": {
            "image/png": "[encoded data removed]",
            "text/plain": [
              "<Figure size 576x432 with 1 Axes>"
            ]
          },
          "metadata": {
            "tags": []
          }
        }
      ]
    },
    {
      "cell_type": "markdown",
      "metadata": {
        "id": "K55EDXSctIlm"
      },
      "source": [
        "В ходе анализа было установлено, что только 2 модели смогли продемонстрировать показатель, который удовлетворяет требование по размеру RMSE - это CatBoost и GradientBoostingRegressor. Однако стоить заметить, что данные модели требуют гораздо большего времени обучения, по сравнению с остальными представителями регрессоров в настоящем исследовании.\n",
        "\n",
        "Переходим к выводам и финальному выводу."
      ]
    },
    {
      "cell_type": "markdown",
      "metadata": {
        "id": "R52g8gyxtMEl"
      },
      "source": [
        "\n",
        "**Вывод**\n",
        "\n",
        "На данном этапе производилось измерение качества предсказаний на тестовой выборке.\n",
        "По результатам исследования к применению в реальной работе рекомендуются catboost и gradientboosting. Они продемонстрировали rmse на тестовой выборке 43.72 и 45.65 пунктов соответственно. Время обучения предложенных моделей составляет 4 и 1 секунды, что стоит учитывать при работе с гораздо бОльшими источниками данных.\n",
        "В рамках текущей задачи rmse = 43 считается допустимой, однако, для более качественного прогноза стоит поискать более полные данные, с большим, вероятно, количеством признаков.\n",
        "\n"
      ]
    },
    {
      "cell_type": "markdown",
      "metadata": {
        "id": "bMcb4Qi6tQ72"
      },
      "source": [
        "# Общий вывод\n",
        "\n",
        "Целью настоящего исследования ставилось создание модели, способной предсказать спрос на услуги такси с отклонением до 48 заказов в час.\n",
        "\n",
        "Результатом тестовых испытаний стали 2 модели, прошедшие установленный порог - catboost и gradietboosting, c показателями 43,31 и 45,61 соответственно.\n",
        "\n",
        "Также в ходе исследования были протестированы 3 модели - логистическая регрессия, ближайшие соседи и регрессия с опорными векторами, однако ни одна из них не смогла пересечь рубеж в 48 rmse на тестовой выборке.\n",
        "\n",
        "Отчасти это связано с тем, что в тестовом сепле мы можем наблюдать повышенную дисперсию и общий тренд на увеличение заказов, которые сложно прогноризуются в \"начале\" сезона. Отчасти именно с этим и связано решение на шаге 4 - обучать модели на максимально полных данных, соединив обучающую и валидационную выборки.\n",
        "\n",
        "В остальном - данные так же показывают заметную сезонность- пиковые нагрузки приходятся на 00 и 16-17 часов, тогда как минимальное количество заказов поступает ранним утром (6-7 часов) и в 18 часов вечера. На основании этих данных можно создать рекомендацию о дополнительном увеличении количества экипажей такси именно в эти часы.\n",
        "\n",
        "Цели и задачи исследования достигнуты, однако для улучшения метрики стоит взять больший период времени или найти дополнительные фичи (вопрос к тимлиду и более опытным коллегам)."
      ]
    },
    {
      "cell_type": "code",
      "metadata": {
        "id": "lMRC5GtOs_QX"
      },
      "source": [
        ""
      ],
      "execution_count": null,
      "outputs": []
    },
    {
      "cell_type": "code",
      "metadata": {
        "id": "fgF0tD4Ps_OH"
      },
      "source": [
        ""
      ],
      "execution_count": null,
      "outputs": []
    },
    {
      "cell_type": "code",
      "metadata": {
        "id": "-QwkYof9s_LO"
      },
      "source": [
        ""
      ],
      "execution_count": null,
      "outputs": []
    }
  ]
}